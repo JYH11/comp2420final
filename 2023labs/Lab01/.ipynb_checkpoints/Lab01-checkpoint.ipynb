{
 "cells": [
  {
   "cell_type": "markdown",
   "metadata": {},
   "source": [
    "<h1 align='center'> COMP2420/COMP6420 - Introduction to Data Management, Analysis and Security</h1>\n",
    "\n",
    "<h2 align='center'> Lab 01 - Python, Git and other useful tools</h2>\n",
    "\n",
    "*****\n",
    "\n",
    "Congratulations! If you're able to see this and made it this far, you've successfully managed to launch a **Jupyter Lab** from your terminal. "
   ]
  },
  {
   "cell_type": "markdown",
   "metadata": {},
   "source": [
    "## Aim\n",
    "Our aim in this lab is:\n",
    "- Become familar with the Python programming language, which you will be using for the rest of the semester.\n",
    "- Gain some basic knowledge of Git, which will be used for distributing labs and submitting assignments\n",
    "\n",
    "*****"
   ]
  },
  {
   "cell_type": "markdown",
   "metadata": {},
   "source": [
    "## Learning Outcomes\n",
    "There are no distinct linkages to the learning outcomes of the course, as this lab forms the baseline using Python and other tools to acheive the learning outcomes described on [Programs & Courses](https://programsandcourses.anu.edu.au/course/COMP2420#learning-outcomes) in the coming weeks.\n",
    "\n",
    "****"
   ]
  },
  {
   "cell_type": "markdown",
   "metadata": {},
   "source": [
    "## Preparation\n",
    "Before starting this lab, we suggest you complete the following:\n",
    "\n",
    "- Watch the lectures for Week 1. Get an overview of the course structure, assessment content and the like.\n",
    "- Join a Tutorial Group. Make sure you attend it.\n",
    "- Meet your Tutor/s. They will come in handy!\n",
    "\n",
    "Also ensure that you have opened this file in Jupyter Lab. This will allow you to write and run code in the relevant blocks you'll see throughout this lab. We will not be supporting Jupyter Notebook or PyCharm. Especially not PyCharm.\n",
    "\n",
    "The following documents will be useful for this lab:\n",
    "\n",
    "- [Python Cheatsheet](./helpManuals/python_beginners.pdf)\n",
    "- [Git Cheatsheet](./helpManuals/atlassian-git-cheatsheet.pdf)\n",
    "- [Jupyter Cheatsheet](./helpManuals/JupyterLab-Cheatsheet.pdf)\n",
    "\n",
    "You will be provided the Python Cheatsheet in Exams, and you're welcome to keep referring to it through the labs and assignments. Additional Cheatsheets will be provided as we cover more content.\n",
    "\n",
    "****"
   ]
  },
  {
   "cell_type": "markdown",
   "metadata": {},
   "source": [
    "## Topic 1: Git 101\n",
    "The following is designed to give you a brief introduction to using Git. For those who have used Git in the past for other courses or personally, this should be a cakewalk. For the rest of us, this should bring you up to scratch.\n",
    "\n",
    "Hopefully you've already forked and cloned (if you don't know what this means, don't worry!) the [COMP2420 Labs](https://gitlab.cecs.anu.edu.au/comp2420/2023/comp2420-2023-labs) repo, but if not, we will cover that here too.\n",
    "\n",
    "### Detour: A Quick History of Git\n",
    "[Git](https://git-scm.com) was created in 2005 by Linux Kernel development Community (headed up by Linus Torvalds) after a _\"breakdown of the relationship between the development community and BitKeeper\"_ (A Short History of Git, n.d.). To use BitKeeper, a priority, closed-source client software was required, which didn't sit well with all members of the community. To this end, Andrew Tridgell, an ANU alumni and developer of [Samba](https://www.samba.org) and the [rsync](https://en.wikipedia.org/wiki/Rsync) algorithm, was able to develop an open-source tool that could be used as an alternative to the BitKeeper software, known as [SourcePuller](https://en.wikipedia.org/wiki/SourcePuller). This triggered a disagreement between the Linux Community and BitKeeper, which resulted in Linus Torvalds announcing the Git project and moving the Linux Kernal away from BitKeeper.\n",
    "\n",
    "#### Where does the name come from?\n",
    "As extracted from the [original man page](https://github.com/git/git/blob/e83c5163316f89bfbde7d9ab23ca2e25604af290/README) (committed on the 8th of April, 2005):\n",
    "\n",
    "> #### GIT - the stupid content tracker\n",
    "> \"git\" can mean anything, depending on your mood.\n",
    "> - random three-letter combination that is pronounceable, and not\n",
    "   actually used by any common UNIX command.  The fact that it is a\n",
    "   mispronunciation of \"get\" may or may not be relevant.\n",
    "> - stupid. contemptible and despicable. simple. Take your pick from the\n",
    "   dictionary of slang.\n",
    "> - \"global information tracker\": you're in a good mood, and it actually\n",
    "  works for you. Angels sing, and a light suddenly fills the room.\n",
    "> - \"goddamn idiotic truckload of ****\": when it breaks\n",
    ">\n",
    "> This is a stupid (but extremely fast) directory content manager.  It\n",
    "doesn't do a whole lot, but what it _does_ do is track directory\n",
    "contents efficiently.\n",
    "\n",
    "\n",
    "Since then, organisations/hosting platforms have sprung up and made version control a billion dollar business. Most recently, Microsoft brought Github for US$7.5 Billion worth of Microsoft Stocks. Who knew the free and open source software debate was worth so much?\n",
    "\n",
    "*****\n",
    "\n",
    "With that out of the way, let's start playing with git."
   ]
  },
  {
   "cell_type": "markdown",
   "metadata": {},
   "source": [
    "### Task 1.1: Forking, Cloning and Upstream Repositories.\n",
    "Starting from the very beginning. By the end of this task, you will be able to fork and clone git repositories, and set an upstream repository to receive updates from.\n",
    "\n",
    "*****\n",
    "#### Task 1.1.1: Forking\n",
    "\n",
    "When using Git, a directory (or set or directories) that are using Git source control are called a **Repository**, or **repo** for short. An example of a Git repo is the [COMP2420 Labs repo](https://gitlab.cecs.anu.edu.au/comp2420/2023/comp2420-2023-labs), which will hold all the labs for this course. Another separate repo will be used for your assignments.\n",
    "\n",
    "While it can be useful for multiple people to have access to a Git repo for collaborating on a single piece of work or distributing work being performed in parallel, this is not always the case. Imagine having a single repo for the 400 students in this course, when there is only 1 lab document. Either 1 person does the work, and no one else gets the change, or everyone does it and we end up with merge issues (we will cover this later). Either way, it isn't fun.\n",
    "\n",
    "To this end, **Forking** is designed to mitigate this issue. When you fork a repo, you take a copy of what the repo contains at that point in time, and gain ownership over that forked copy of the repo. Note it is a _copy_ of the repo, and not the original. This allows us to distribute lab work to 400 students by getting each student to fork the repo.\n",
    "\n",
    "Now it is time for us to fork the [COMP2420 Labs repo](https://gitlab.cecs.anu.edu.au/comp2420/2023/comp2420-2023-labs).\n",
    "\n",
    "Luckily, this can be performed all on the CECS Gitlab site, all through the web interface.\n",
    "\n",
    "The following steps will guide you through the process:\n",
    "1. Navigate to the [COMP2420 Labs repo](https://gitlab.cecs.anu.edu.au/comp2420/2023/comp2420-2023-labs) on the CECS Gitlab site.\n",
    "\n",
    "2. In the top right hand corner, you will notice a `Fork` Button. Click it.\n",
    "![Fork Example](./img/forkingexamples1.png)\n",
    "\n",
    "3. Select your Gitlab Account as the namespace for the forked repository. This will give you ownership over the forked repo.\n",
    "![Fork Example2](./img/forkingexamples2.png)\n",
    "\n",
    "4. You will now see a `Fork In Progress` notice and eventually, the page will refresh. You now have your own fork of the repo! You can tell it is yours if underneath the title it states `Forked from ....`.\n",
    "\n",
    "![Fork Output](./img/forkedoutput.png)\n",
    "\n",
    "So that's it! You now have your own repo. Unfortunately, you're not finished yet. The next step is getting a copy on your local device.\n",
    "\n",
    "------\n",
    "#### Task 1.1.2: Cloning\n",
    "\n",
    "**Note: If you have not installed Git on your computer yet, you will be unable to do this and the following tasks. Go install Git if you have not done so.**\n",
    "\n",
    "While a repository denotes the directory containing code and other content, there needs to be an ability to grab this content from the hosting server so you can make changes locally. To this end, Git uses **Cloning** to allow you to download the repository.\n",
    "\n",
    "You can clone a single repository onto multiple devices, and synchronise changes between devices using the repo. We will start with cloning the repo onto a local device, and touch base on sending and receiving changes further on within the lab.\n",
    "\n",
    "The following steps will guide you through cloning (downloading) a repository on your local device.\n",
    "1. Open terminal/git bash (depending on your operating system and programs installed) and navigate to a location where you are happy for the repository to be downloaded.\n",
    "\n",
    "2. From your project page (the **forked project**, as above), copy the cloning url into your clipboard. For the sake of the tutorial, we will use the https version.\n",
    "![Clone Example](./img/cloneexamples1.png)\n",
    "\n",
    "3. In your terminal/git bash window, type the following command (where `$GITURL` is the URL from Step 2)\n",
    "\n",
    "```sh\n",
    "# Where $GITURL is the url from Step2\n",
    "\n",
    "git clone $GITURL\n",
    "\n",
    "# An example URL may be:\n",
    "#   https://https://gitlab.cecs.anu.edu.au/u1234567/comp2420-2022-labs\n",
    "# Your URL should have u1234567 replaced with your uni ID.\n",
    "# If it isn't, it probably isn't your repo.\n",
    "# You may be trying to clone the original version.\n",
    "```\n",
    "\n",
    "4. Following this being successful, you will be asked for your gitlab username and password. Enter them (correctly). If you enter in your details incorrectly and it doesn't download, repeat step 3.\n",
    "\n",
    "![Clone Example2](./img/cloneexamples2.png)\n",
    "\n",
    "5. Provided you entered your details correctly, the process will finish and the code will be downloaded and stored. An example output is shown below. You can now enter into the git repo using command-line or GUI.\n",
    "\n",
    "![Clone Example3](./img/cloneexamples3.png)\n",
    "\n",
    "Congratulations! You've been able to clone the repo to your local computer! One more step, and then you can start changing files.\n",
    "\n",
    "------\n",
    "\n",
    "#### Task 1.1.3: Upstream Repositories\n",
    "While you have been able to fork and clone a repo, there is still one more step before we can start going ahead for the semester with changing code. Recall we mentioned above that when you fork a repo, you copy the repo as it is at that _point in time_. Any changes that are made after the fork are not propagated, unless we set up a system to do so. That is what we are going to do here.\n",
    "\n",
    "At this moment, the directory on your computer that is linked to your git repo only knows of your forked repository, with no information about what the true \"origin\" of the code was. We can see this by running the command `git remote -v` in terminal/git bash when in the cloned repo's directory.\n",
    "\n",
    "![Preupstream](./img/upstreambefore.png)\n",
    "\n",
    "The directory considers the forked version as the \"origin\" for the code base, although in reality we know there is another repository above our forked version that we want to receive updates from. We call this the `upstream` repo. Consider the analogy of a river and you are collecting water of a certain quality 100km from the river source. If a change (such as a decrease in water quantity or quality) was to occur at the source of the river, it would (and should) effect you downstream. This is the same idea for upstream repositories in Git.\n",
    "\n",
    "The following will guide you in setting up the original [COMP2420 Labs](https://gitlab.cecs.anu.edu.au/comp2420/2023/comp2420-2023-labs) repo as the upstream source:\n",
    "1. Using terminal/git bash, navigate to the directory in which the git repo resides. You should be able to run `git status` to determine whether you are in the repo.\n",
    "\n",
    "2. Enter the following command:\n",
    "\n",
    "```sh\n",
    "# Where $UPSTREAMURL is the URL from the original repo.\n",
    "\n",
    "git remote add upstream $UPSTREAMURL\n",
    "\n",
    "# An example URL may be:\n",
    "#   https://gitlab.cecs.anu.edu.au/comp2420/2023/comp2420-2023-labs\n",
    "```\n",
    "\n",
    "This will add the upstream URL as a repository to be monitored.\n",
    "\n",
    "3. Confirm the upstream repository has been added by entering the following command:\n",
    "```sh\n",
    "git remote -v\n",
    "```\n",
    "\n",
    "![Postupstream](./img/upstreamafter.png)\n",
    "\n",
    "You should now see a second set of URLs present, with your uni ID replaced with the COMP2420 gitlab user.\n",
    "\n",
    "After all that, your repository is finally set up and you can start to complete labs on your device! Note Task 1.1.2 and Task 1.1.3 will need to be repeated for each new device you use, but after a while it will become second nature.\n",
    "\n",
    "*****"
   ]
  },
  {
   "cell_type": "markdown",
   "metadata": {},
   "source": [
    "### Task 1.2: Pushing and Pulling Changes\n",
    "With a local copy of your forked repo on your device, you will now be able to send and receive changes to the repository from your device. By the end of this task, you should be able to push changes to the repo and pull changes from your (and the upstream) repo.\n",
    "\n",
    "-----\n",
    "### Task 1.2.1: Pushing Changes\n",
    "There will come a time where you have made some changes to the lab files in your repo and you want to make sure you save it on your repo, or you need to send code to your repo for an assignment to be marked. This process of sending content back to your repo on the central server is known as **Pushing** your code. The following will show you how to push your code.\n",
    "\n",
    "1. Firstly, you need to check what files have actually changed. In your terminal/git bash, run the following command when in the directory that holds your git repo:\n",
    "```sh\n",
    "git status\n",
    "```\n",
    "If no changes have been made and everything is up to date, you should see the following:\n",
    "\n",
    "![Status Clean](./img/gitstatusclean.png)\n",
    "\n",
    "  Otherwise, you will see the following:\n",
    "\n",
    "  ![Status Dirty](./img/gitstatusdirty.png)\n",
    "\n",
    "  Notice how the files that have been changed (but aren't ready to push) will come up in <span style=\"color:red\">Red</span>. We want to change this so they are tracked and ready to be pushed.\n",
    "\n",
    "2. To track the previously untracked files (get the files ready for sending back to the repo), run the following command:\n",
    "```sh\n",
    "git add .\n",
    "```\n",
    "\n",
    "  Note the `.` means everything in that directory and below will become tracked changes. You should see something similar to below when you run `git status` again:\n",
    "\n",
    "  ![Status Green](./img/gitstatusgreen.png)\n",
    "\n",
    "  Notice how the files that have been changed (and are almost ready to be pushed) will come up in <span style=\"color:green\">Green</span>. We want to now \"commit\" to these changes to push back to the repo.\n",
    "\n",
    "3. To \"commit\" to these changes going back into the central server, run the following command\n",
    "```sh\n",
    "# Where \"$YOUR $COMMIT $MESSAGE $HERE\" is a short message of the changes made.\n",
    "git commit -m \"$YOUR $COMMIT $MESSAGE $HERE\"\n",
    "# An example message might be \"Finished Lab01\".\n",
    "# Keep the messages professional, we don't want to see \"Ben Smells\" or \"Code is Stupid.\"\n",
    "# Reading it should easily tell us what changes were made.\n",
    "```\n",
    "\n",
    "An example might look like the one below.\n",
    "\n",
    "![Commit Example](./img/gitcommit.png)\n",
    "\n",
    "  **Note: If it is your first time trying to commit or push, you may run into an error saying \"Please tell me who you are\". Follow the instructions given in the error message.**\n",
    "\n",
    "  After this, it is now time to push the committed code back to the repository on the central server.\n",
    "\n",
    "4. Now comes the easy bit, pushing the code back to the server. Enter the following command:\n",
    "```sh\n",
    "git push\n",
    "```\n",
    "\n",
    "You will be asked for your gitlab username (your uni id) and password, and then it will compress and send the code back up. An example output is shown below.\n",
    "\n",
    "![Git Push](./img/gitpush.png)\n",
    "\n",
    "  **Note: If your push is rejected, you may need to pull first since you can only push if you are completely up to date. Follow the steps to pull below.**\n",
    "\n",
    "\n",
    "After this, your code will now reflect as updated when you check the repo on the gitlab website. Tutors and Markers can now also see the pushed code and we won't assume you haven't submitted anything. Yay!\n",
    "\n",
    "Now that you can push code, you will now need to know how to receive it on another computer, or from the upstream repo when additional labs are published.\n",
    "\n",
    "-------\n",
    "### Task 1.2.2: Pulling Changes\n",
    "In the instance of you pushing code on your lab machine and needing to receive the changes on your personal device, or when new content is made available in the upstream repo, a method is required to receive content from these services. In the Git world, this is called **Pulling**. The following will show you two use cases of pulling that you will use in this course: pulling from your own repo, or pulling from the upstream repo.\n",
    "\n",
    "#### Use Case 1: Pulling from your own repo.\n",
    "This use case is in the event of you pushing code on a lab machine and wanting to pull it onto your personal machine, as an example. The following steps will show you how to pull code from your own repo.\n",
    "\n",
    "(Assuming you have already cloned the repo)\n",
    "1. In your terminal/git bash and when in the directory with the git resources, run the following command:\n",
    "```sh\n",
    "git pull\n",
    "```\n",
    "\n",
    "This will pull from your default repository. In this case, this is your forked repo. Don't forget to enter your username and password (correctly)\n",
    "\n",
    "  An example output is shown below.\n",
    "  \n",
    "  ![Pull Example](./img/gitpullu1.png)\n",
    "\n",
    "  That is it! Your code will now be up to date.\n",
    "\n",
    "  **Note: If you pull while you have changes in the repo (pulling before you tried to commit/push), the service may complain. Perform the merge as it guides you through. (If you need to exit vim, use `:wq`)**\n",
    "\n",
    "#### Use Case 2: Pulling from the upstream repo\n",
    "This use case is in the event of new content has been published by COMP2420, and you need to add it to your repo.\n",
    "\n",
    "Assuming you have already cloned the repo and set the upstream repo (check using `git remote -v`)\n",
    "\n",
    "1. In your terminal/git bash and when in the directory with the git resources, run the following commands:\n",
    "```sh\n",
    "git fetch upstream\n",
    "git merge upstream/master\n",
    "```\n",
    "\n",
    "This will fetch the changes in the upstream repository in the first command, and merge the changes with your existing code in the second line. Although unlikely, it may try to force you into vim, exit vim using the `:wq` command and the code will merge automagically.\n",
    "\n",
    "2. Push the changed code back to the central server repo. You can do this by following the steps in Task 1.2.1.\n",
    "\n",
    "Provided this was a success, you should now have the new content in your local repo and the repo held back on the CECS gitlab server. Good work!\n",
    "\n",
    "******"
   ]
  },
  {
   "cell_type": "markdown",
   "metadata": {},
   "source": [
    "## Topic 2: Jupyter (Lab) with Python\n",
    "\n",
    "The following is designed to give you an outline of using Jupyter Lab and Jupyter Notebook files, which will be the interactive tools used over the coming semester. Note: Jupyter Notebook files can be opened using Jupyter Notebook, although we will be using Jupyter Lab. There is a _small-ish_ [cheatsheet provided](./helpManuals/JupyterLab-Cheatsheet.pdf), which we would recommend keeping track of. Hopefully, you already have Anaconda installed by following the [installation notes](https://cs.anu.edu.au/courses/comp2420/labs/lab-1/jl-installstart/).\n",
    "\n",
    "Some super basic keyboard shortcuts that might be useful in the coming weeks - \n",
    "\n",
    "- **Shift + Enter** → Run the current cell and select next one\n",
    "- **TAB** → Toggle auto-complete (automagically)\n",
    "\n",
    "****\n",
    "A cell (the boxes with the `[ ]` symbol next to them, with a number within when run), mimic the terminal entry of a Python interpreter."
   ]
  },
  {
   "cell_type": "code",
   "execution_count": 18,
   "metadata": {},
   "outputs": [],
   "source": [
    "# This is a comment. Any line with a # in front of it will not be read by the interpreter. \n",
    "# It is a good idea to comment your code! It will make it easier for tutors and markers to read your code, and allows you to talk through your logic when writing code.\n",
    "# Also, if you ever forget how/why you did something, comments are a good reminder\n",
    "\n",
    "# Notice when you run this cell, nothing outputs\n",
    "\n",
    "# Run a cell by using `Shift+Enter`, or pressing the  |> (Play) button above"
   ]
  },
  {
   "cell_type": "code",
   "execution_count": 19,
   "metadata": {},
   "outputs": [
    {
     "data": {
      "text/plain": [
       "'\\nThis is another version of a comment!\\n\\nThis is a lot easier than writing # next to each line, although it will output to the console (the outputs) when you run this cell.\\nTest this by running the cell using `Shift+Enter`, or pressing the  |> (Play) button above\\n'"
      ]
     },
     "execution_count": 19,
     "metadata": {},
     "output_type": "execute_result"
    }
   ],
   "source": [
    "\"\"\"\n",
    "This is another version of a comment!\n",
    "\n",
    "This is a lot easier than writing # next to each line, although it will output to the console (the outputs) when you run this cell.\n",
    "Test this by running the cell using `Shift+Enter`, or pressing the  |> (Play) button above\n",
    "\"\"\""
   ]
  },
  {
   "cell_type": "markdown",
   "metadata": {},
   "source": [
    "Now that we have comments and free-text out of the way, we can start getting to the real code side of Jupyter Lab"
   ]
  },
  {
   "cell_type": "code",
   "execution_count": 20,
   "metadata": {},
   "outputs": [
    {
     "data": {
      "text/plain": [
       "22"
      ]
     },
     "execution_count": 20,
     "metadata": {},
     "output_type": "execute_result"
    }
   ],
   "source": [
    "# This cell will mimic the python intepreter (just like it would act if you ran python in your terminal)\n",
    "# Run the cell\n",
    "15 + 7"
   ]
  },
  {
   "cell_type": "code",
   "execution_count": 21,
   "metadata": {},
   "outputs": [
    {
     "name": "stdout",
     "output_type": "stream",
     "text": [
      "Are we having fun yet?\n"
     ]
    }
   ],
   "source": [
    "# To output to the console, use the \"print\" function\n",
    "# Further doco here: https://docs.python.org/3/tutorial/inputoutput.html\n",
    "# Although for now, lets just go with the single function.\n",
    "print(\"Are we having fun yet?\")"
   ]
  },
  {
   "cell_type": "code",
   "execution_count": 22,
   "metadata": {},
   "outputs": [
    {
     "data": {
      "text/plain": [
       "'Are we having fun yet?'"
      ]
     },
     "execution_count": 22,
     "metadata": {},
     "output_type": "execute_result"
    }
   ],
   "source": [
    "# Note that if we don't use the `print()` function, the console will output the result of the last line\n",
    "'Are we having fun yet?'"
   ]
  },
  {
   "cell_type": "markdown",
   "metadata": {},
   "source": [
    "This section is short but sweet. More items of Jupyter Lab will be covered in the next topic, as we start to talk about Python properly.\n",
    "Lets get into the real code!\n",
    "*****"
   ]
  },
  {
   "cell_type": "markdown",
   "metadata": {},
   "source": [
    "## Topic 3: Python (for real)\n",
    "Time to get into the real information here.\n",
    "\n",
    "The following is designed to give you outline of the following items in python:\n",
    "- Types (Strings, Ints, Floats) & Data Structures (lists, arrays, dictionaries)\n",
    "- Control flows (Loops, Condition Statements)\n",
    "- Functions! Writing your own, and using inbuilt ones.\n",
    "- Modules (importing and using)\n",
    "\n",
    "While this should give an introduction to Python, there are **a lot** of online resources for Python. There will be links at the end of this document to point you in other directions. Don't be afraid to look at the documentation, use sites such as [GeeksforGeeks](https://www.geeksforgeeks.org) if you're unsure of certain concepts, and watch videos to learn more than what is here. You'd be surprised how useful Python is!"
   ]
  },
  {
   "cell_type": "markdown",
   "metadata": {},
   "source": [
    "### 3.1: Python Types & Data Structures\n",
    "The following provides a minor introduction into the simplicity of Python types and data structures, broken up into two minor runthroughs. Note, there is an assumption that you understand what a variable is."
   ]
  },
  {
   "cell_type": "markdown",
   "metadata": {},
   "source": [
    "#### Detour: Variables 101\n",
    "Ensuring that everyone is at the same baseline, a variable acts as \"storage locations\" for data in a program. Depending on what **type** a variable is, you may or may not be able to edit it.\n",
    "\n",
    "A number such as `6`, is not a variable because it is a literal, rather the object that is assigned the value `6`, is considered a variable.\n",
    "\n",
    "Simply:"
   ]
  },
  {
   "cell_type": "code",
   "execution_count": 23,
   "metadata": {},
   "outputs": [],
   "source": [
    "# Not a variable\n",
    "6\n",
    "\n",
    "# x is a variable, because it has been assigned data within the program\n",
    "x = 6\n",
    "\n",
    "# not a variable\n",
    "\"Hello!\"\n",
    "\n",
    "# y is a variable, because it has been assigned data\n",
    "y = \"Hello!\""
   ]
  },
  {
   "cell_type": "markdown",
   "metadata": {},
   "source": [
    "With that baseline assigned, we can get started on Python specific types."
   ]
  },
  {
   "cell_type": "markdown",
   "metadata": {},
   "source": [
    "****\n",
    "### 3.1.1 Python Types\n",
    "\n",
    "There are a number of types that are built into Python as a standard. Some of these are:\n",
    "\n",
    "- Booleans - denoted as bool\n",
    "    -  `True` and `False`\n",
    "- Numeric Types - integers, floating points\n",
    "    - ints (whole numbers, no decimal places)\n",
    "    - floats (decimal places)\n",
    "- Text Sequences - Strings\n",
    "    - str\n",
    "\n",
    "While some data structures such as lists, tuples and dictionaries count as types, we will cover those in the next section.\n",
    "This is a nonexhaustive list, and a number of other types (bytes, complex, etc.) exist. More information can be found in the [Python documentation](https://docs.python.org/3/library/stdtypes.html#type-objects).\n",
    "There will also be custom data structures from other packages (such as NumPy and Pandas) that we will use in the coming weeks.\n",
    "*** \n",
    "Some examples are provided below:"
   ]
  },
  {
   "cell_type": "code",
   "execution_count": 24,
   "metadata": {},
   "outputs": [
    {
     "name": "stdout",
     "output_type": "stream",
     "text": [
      "The type of the variable a is: <class 'bool'>\n",
      "The type of the variable b is: <class 'int'>\n",
      "The type of the variable c is: <class 'float'>\n",
      "The type of the variable d is: <class 'str'>\n",
      "\n",
      "The type of the variable z is: <class 'str'>\n",
      "\n",
      "<class 'str'>\n",
      "<class 'str'>\n"
     ]
    }
   ],
   "source": [
    "# You do not need to specify the type of a variable when assigning a value, as the Python intepreter automagically assigns it\n",
    "a = True\n",
    "b = 7\n",
    "c = 7.77\n",
    "d = \"this string\"\n",
    "\n",
    "\n",
    "\n",
    "# You can check the assigned type of a variable using the `type()` function\n",
    "print(\"The type of the variable a is:\", type(a))\n",
    "print(\"The type of the variable b is:\", type(b))\n",
    "print(\"The type of the variable c is:\", type(c))\n",
    "print(\"The type of the variable d is:\", type(d))\n",
    "print(\"\")\n",
    "\n",
    "\n",
    "# Notice however if you encase a number in quotation marks, it will treat the value as a string\n",
    "e = \"7\"\n",
    "\n",
    "print(\"The type of the variable z is:\", type(e))\n",
    "print(\"\")\n",
    "\n",
    "# Important to note, strings can be specified using either \"\" or ''\n",
    "# Try to stick to one of them, for consistency's sake\n",
    "string1 = \"These symbols work\"\n",
    "string2 = 'So do these'\n",
    "print(type(string1));\n",
    "print(type(string2));\n"
   ]
  },
  {
   "cell_type": "markdown",
   "metadata": {},
   "source": [
    "Knowing that you can assign variables with a specific value and determine the type, now we can try move between types."
   ]
  },
  {
   "cell_type": "code",
   "execution_count": 25,
   "metadata": {},
   "outputs": [
    {
     "name": "stdout",
     "output_type": "stream",
     "text": [
      "The change from float 7.77 to int is:  7\n",
      "The change from int 6 to float is: 6.0\n",
      "The change from float 7.77 to string is: 7.77\n",
      "ERROR --  could not convert string to float: 'a'\n"
     ]
    }
   ],
   "source": [
    "# Most types will have a logical way of mapping between them.\n",
    "# For example, an int will remove the decimal points from a float\n",
    "initial_float = 7.77\n",
    "result_int = int(initial_float)\n",
    "print(\"The change from float 7.77 to int is: \", result_int)\n",
    "# Notice the lack of rounding. Something to be careful of!\n",
    "\n",
    "# The opposite also holds for converting integers to float\n",
    "initial_int = 6\n",
    "result_float = float(initial_int)\n",
    "print(\"The change from int 6 to float is:\", result_float)\n",
    "# Logical mapping after all!\n",
    "\n",
    "# It is also possible to convert into a string, as follows:\n",
    "initial_float = 7.77\n",
    "result_string = str(initial_float)\n",
    "print(\"The change from float 7.77 to string is:\", result_string)\n",
    "\n",
    "# However, it may not work all the time going the other way\n",
    "# Normally this looks a lot uglier\n",
    "# making it prettier. You will learn how to sooner.\n",
    "try:\n",
    "    initial_string = \"a\"\n",
    "    result_float = float(initial_string)\n",
    "except Exception as e:\n",
    "    print(\"ERROR -- \", e)\n",
    "    \n",
    "# Make sure you understand what your variable is before trying to apply mappings that won't work!"
   ]
  },
  {
   "cell_type": "markdown",
   "metadata": {},
   "source": [
    "****\n",
    "### 3.1.2 Data Structures\n",
    "\n",
    "There are a number of built-in data structures that are built into Python as a standard. Some of these are:\n",
    "\n",
    "- Sequences - Lists and Tuples\n",
    "- Sets\n",
    "- Mappings - Dictionaries\n",
    "\n",
    "More information can be found in the [Python documentation](https://docs.python.org/3/library/stdtypes.html#type-objects).\n",
    "\n",
    "*** \n",
    "Some examples, including implementations, are provided below:"
   ]
  },
  {
   "cell_type": "markdown",
   "metadata": {},
   "source": [
    "#### Lists"
   ]
  },
  {
   "cell_type": "code",
   "execution_count": 26,
   "metadata": {},
   "outputs": [
    {
     "name": "stdout",
     "output_type": "stream",
     "text": [
      "Multi-type list:\n",
      "['Not possible in', 2, 'Java']\n",
      "\n",
      "Grabbing an item from a list:\n",
      "Not possible in\n",
      "\n",
      "Checking whether an item exists in a list:\n",
      "Yay ' Not possible in ' is there!\n",
      "\n",
      "Appending a single item to the list:\n",
      "['Not possible in', 2, 'Java', 'or C++']\n",
      "\n",
      "Extending a list using another:\n",
      "['If', 'you', 'love', 'something', 'set', 'it', 'free', 'unless', \"it's\", 'a', 'tiger']\n",
      "\n"
     ]
    }
   ],
   "source": [
    "# Lists\n",
    "# Lists are by far the easiest to implement, and are very similar to arrays in other languages\n",
    "# Python lists are unique however, as they are not restricted to a single type of objects in the list\n",
    "valid_list1 = [1, 2, 3]\n",
    "valid_list2 = ['Not possible in', 2, \"Java\"]\n",
    "print(\"Multi-type list:\")\n",
    "print(valid_list2)\n",
    "print(\"\")\n",
    "\n",
    "# Lists can be iterated over using 'for' loops, and use 0-based indexing for collecting items:\n",
    "item = valid_list2[0]\n",
    "print(\"Grabbing an item from a list:\")\n",
    "print(item)\n",
    "print(\"\")\n",
    "\n",
    "# Lists also feature the aspect of checking whether the item exists. eg\n",
    "if item in valid_list2:\n",
    "    print(\"Checking whether an item exists in a list:\")\n",
    "    print(\"Yay '\", item, \"' is there!\")\n",
    "    print(\"\")\n",
    "\n",
    "# functions such as 'append' and 'extend' will allow you to add a single item or another list (respectively) to an existing list\n",
    "valid_list2.append(\"or C++\")\n",
    "print(\"Appending a single item to the list:\")\n",
    "print(valid_list2)\n",
    "print(\"\")\n",
    "\n",
    "your_list = [\"If\", \"you\", \"love\", \"something\", \"set\", \"it\", \"free\"]\n",
    "your_extension = [\"unless\", \"it's\", \"a\", \"tiger\"]\n",
    "your_list.extend(your_extension)\n",
    "print(\"Extending a list using another:\")\n",
    "print(your_list)\n",
    "print(\"\")"
   ]
  },
  {
   "cell_type": "markdown",
   "metadata": {},
   "source": [
    "#### Tuples\n",
    "\n",
    "A tuple is an ordered and unchangeable collection of objects."
   ]
  },
  {
   "cell_type": "code",
   "execution_count": 27,
   "metadata": {},
   "outputs": [
    {
     "name": "stdout",
     "output_type": "stream",
     "text": [
      "Second element:  two\n",
      "Index of 3.0 is:  2\n"
     ]
    }
   ],
   "source": [
    "# Tuples\n",
    "# Tuples can also be multi-type, just like a list\n",
    "\n",
    "my_tuple = (1, \"two\", 3.0, \"four\")\n",
    "# Accessing the second element of tuple\n",
    "print(\"Second element: \", my_tuple[1])\n",
    "\n",
    "# Finding the index of an item of tuple\n",
    "print(\"Index of 3.0 is: \", my_tuple.index(3.0))"
   ]
  },
  {
   "cell_type": "markdown",
   "metadata": {},
   "source": [
    "#### Sets\n",
    "\n",
    "A Set is an unordered collection data type that is iterable, and has no duplicate elements."
   ]
  },
  {
   "cell_type": "code",
   "execution_count": 28,
   "metadata": {},
   "outputs": [
    {
     "name": "stdout",
     "output_type": "stream",
     "text": [
      "Removing Alex and adding another Ben\n",
      "{'Alexei', 'Ben', 'Afzal'}\n",
      "\n",
      "Intersection:  {'Claire'}\n",
      "Union:  {'Phil', 'Jay', 'Mitchell', 'Claire', 'Alex', 'DeeDee', 'Luke', 'Haley'}\n",
      "Difference:  {'Mitchell', 'Jay', 'DeeDee'}\n"
     ]
    }
   ],
   "source": [
    "# Sets\n",
    "# Lets start by declaring a set\n",
    "family_set = {'Afzal', 'Ben', 'Alexei', 'Alex'}\n",
    "\n",
    "# Adding a duplicate element makes no difference to the set\n",
    "family_set.add('Ben')\n",
    "\n",
    "# An element can be deleted using 'delete' function\n",
    "family_set.remove('Alex')\n",
    "\n",
    "print(\"Removing Alex and adding another Ben\")\n",
    "print(family_set)\n",
    "print(\"\")\n",
    "\n",
    "# Besides the usual `add` and `remove` operations, we can also perform set operations like `intersection`, `union` and `difference` to two (or more) sets. \n",
    "family_1 = {'Phil', 'Claire', 'Luke', 'Haley', 'Alex'}\n",
    "family_2 = {'Jay', 'Claire', 'Mitchell', 'DeeDee'}\n",
    "\n",
    "# Intersection\n",
    "print(\"Intersection: \", family_1.intersection(family_2))\n",
    "\n",
    "# Union\n",
    "print(\"Union: \", family_1.union(family_2))\n",
    "\n",
    "# Difference\n",
    "print(\"Difference: \", family_2.difference(family_1))"
   ]
  },
  {
   "cell_type": "markdown",
   "metadata": {},
   "source": [
    "#### Dictionaries\n",
    "\n",
    "A dictionary is a sequence of items where each item consists of a key-value pair. Dictionaries are not sorted. You can access the list of keys or values independently."
   ]
  },
  {
   "cell_type": "code",
   "execution_count": 29,
   "metadata": {},
   "outputs": [
    {
     "name": "stdout",
     "output_type": "stream",
     "text": [
      "Result for key: Study\n",
      "800MB\n",
      "\n",
      "Keys:  dict_keys(['Syllabus', 'Study', 'Retention', 'Regurgitation', 'Result'])\n",
      "Values:  dict_values(['80GB', '800MB', '80KB', '80B', '0b1000'])\n"
     ]
    }
   ],
   "source": [
    "# Dictionaries\n",
    "# Lets start by declaring a dictionary\n",
    "# Notice the use of a key:value system, similar to a JSON format\n",
    "my_dictionary = {\n",
    "    'Syllabus': \"80GB\",\n",
    "    'Study': \"800MB\",\n",
    "    'Retention': \"80KB\",\n",
    "    'Regurgitation': \"80B\",\n",
    "    'Result': \"0b1000\"  \n",
    "}\n",
    "\n",
    "# Accessing the value associated with the key 'Study'\n",
    "print(\"Result for key: Study\")\n",
    "print(my_dictionary['Study'])\n",
    "print(\"\")\n",
    "\n",
    "# Accessing the list of keys\n",
    "print(\"Keys: \", my_dictionary.keys())\n",
    "\n",
    "# Accessing the list of values\n",
    "print(\"Values: \", my_dictionary.values())"
   ]
  },
  {
   "cell_type": "markdown",
   "metadata": {},
   "source": [
    "With a basic rundown of the inbuilt data types and structures out of the way, we can start to cover how to control the flow of your program. This is a basic overview, and there is almost limitless information on how each of these types and structures work. Familiarising yourself with each of this will make your time coding a lot easier!"
   ]
  },
  {
   "cell_type": "markdown",
   "metadata": {},
   "source": [
    "*****\n",
    "### 3.2: Control Flows\n",
    "The following provides an introduction into the simplicity of Python control flow functions, especially using the types and data structures above.\n",
    "\n",
    "The following control flow statements are available in Python:\n",
    "- if (including else and else if)\n",
    "- for\n",
    "- while\n",
    "- try/except (for Exception handling)\n",
    "\n",
    "Note those who have studied Java in the past, no `switch` statements are available. Sorry!\n",
    "\n",
    "Some examples are provided below, while more information can be found in the [Python documentation](https://docs.python.org/3/tutorial/controlflow.html)"
   ]
  },
  {
   "cell_type": "markdown",
   "metadata": {},
   "source": [
    "#### If Statements\n",
    "\n",
    "An if statement checks for whether a user defined condition has been met, and allows entrance into the code block depending on whether the condition has been met. These conditions must be met in a `True | False` manner."
   ]
  },
  {
   "cell_type": "code",
   "execution_count": 30,
   "metadata": {},
   "outputs": [
    {
     "name": "stdout",
     "output_type": "stream",
     "text": [
      "Variable x is 1\n",
      "Variable x is not 2\n",
      "Variable x is still not 2\n",
      "Varible x is in listif\n",
      "7 is not in listif\n"
     ]
    }
   ],
   "source": [
    "# If statements\n",
    "x = 1\n",
    "\n",
    "# An if statement can be used for a number of different purposes\n",
    "# notice the use of `==` to define comparison of the object x being the number 1\n",
    "if x == 1:\n",
    "    print(\"Variable x is 1\")\n",
    "\n",
    "# if the condition does not hold, the program simply moves on\n",
    "if x == 2:\n",
    "    print(\"Variable x is 2\")\n",
    "    \n",
    "# A condition doesn't necessarily have to evaluate to True\n",
    "# We might want to check if it isn't a particular number\n",
    "# notice the use of `!=` for checking they aren't the same\n",
    "if x != 2:\n",
    "    print(\"Variable x is not 2\")\n",
    "    \n",
    "# Alternative to above, you can use logic to negate (not) a statment to allow entrance into the code block.\n",
    "if not x == 2:\n",
    "    print(\"Variable x is still not 2\")\n",
    "    \n",
    "    \n",
    "#####\n",
    "# Not only can conditional statements (less than, more than, equal to) be used, but we can also use presence within a list, tuple of set\n",
    "listif = [1,2,3,4]\n",
    "if x in listif:\n",
    "    print(\"Varible x is in listif\")\n",
    "\n",
    "# a not statement can also be applied to this\n",
    "if 7 not in listif:\n",
    "    print(\"7 is not in listif\")"
   ]
  },
  {
   "cell_type": "markdown",
   "metadata": {},
   "source": [
    "While an `if` statement by itself is useful, they can be chained together and used to create multiple patterns."
   ]
  },
  {
   "cell_type": "code",
   "execution_count": 31,
   "metadata": {},
   "outputs": [
    {
     "name": "stdout",
     "output_type": "stream",
     "text": [
      "x is odd upto 10\n",
      "x is odd upto 10\n",
      "x=7\n"
     ]
    }
   ],
   "source": [
    "# if, else, elif\n",
    "x = 7\n",
    "xlist = [2,4,6,8,10]\n",
    "\n",
    "if x in xlist:\n",
    "    print(\"x is even upto 10\")\n",
    "    \n",
    "# We can tell x is not even, so therefore we know it is an odd number\n",
    "# we can either do two if statements\n",
    "\n",
    "# Two seperate if statements\n",
    "if x in xlist:\n",
    "    print(\"x is even upto 10\")\n",
    "\n",
    "if x not in xlist:\n",
    "    print(\"x is odd upto 10\")\n",
    "\n",
    "# or we can use the \"else\" statement, as it doesn't satisfy the requirement and we know there is only one other option\n",
    "if x in xlist:\n",
    "    print(\"x is even upto 10\")\n",
    "else:\n",
    "    print(\"x is odd upto 10\")\n",
    "    \n",
    "# we can also chain if statements together for multiple cases\n",
    "# while this is normally called \"else if\", in Python it is shortened to \"elif\"\n",
    "if x == 1:\n",
    "    print(\"x=1\")\n",
    "elif x==2:\n",
    "    print(\"x=2\")\n",
    "elif x==7:\n",
    "    print(\"x=7\")\n",
    "else:\n",
    "    print(\"I give up\")"
   ]
  },
  {
   "cell_type": "markdown",
   "metadata": {},
   "source": [
    "Easy right? Lets move on"
   ]
  },
  {
   "cell_type": "markdown",
   "metadata": {},
   "source": [
    "#### For loops\n",
    "\n",
    "A `for` loop iterates over whatever is in the code block _n_ number of times, where _n_ is a user defined number of iterations.\n",
    "For the sake of this course, there will be two major iteration tactics: \n",
    "- iterating over a range of numbers\n",
    "- iterating over list (or list-like data structure) of items"
   ]
  },
  {
   "cell_type": "code",
   "execution_count": 32,
   "metadata": {},
   "outputs": [
    {
     "name": "stdout",
     "output_type": "stream",
     "text": [
      "Sum of all numbers 1-10 inclusive\n",
      "55\n",
      "Sum of even numbers 2-10 inclusive\n",
      "30\n"
     ]
    }
   ],
   "source": [
    "# For Loops\n",
    "# Iterating over a range of numbers\n",
    "\n",
    "# Easiest use case, you can define a range of numbers using the `range()` function: https://docs.python.org/3/library/functions.html#func-range\n",
    "# Here we define a range of the numbers 1-10 inclusive\n",
    "range110 = range(1,11)\n",
    "# Notice the end number being +1 of the final number, as it treats the range as [start,end) (again, zero based indexing)\n",
    "# We can now iterate over this range:\n",
    "summed = 0\n",
    "for x in range110:\n",
    "    summed += x\n",
    "    \n",
    "print(\"Sum of all numbers 1-10 inclusive\")\n",
    "print(summed)\n",
    "\n",
    "# We can also adjust the range to step up in larger instances than 1.\n",
    "# eg if we wanted every even number from 1-10\n",
    "# This would allow us to iterate over larger jumps\n",
    "rangeeven = range(2,11, 2)\n",
    "summedeven = 0\n",
    "for y in rangeeven:\n",
    "    summedeven += y\n",
    "\n",
    "print(\"Sum of even numbers 2-10 inclusive\")\n",
    "print(summedeven)"
   ]
  },
  {
   "cell_type": "markdown",
   "metadata": {},
   "source": [
    "Because a range is a list-like data structure, we can use this same idea to iterate over a list"
   ]
  },
  {
   "cell_type": "code",
   "execution_count": 33,
   "metadata": {},
   "outputs": [
    {
     "name": "stdout",
     "output_type": "stream",
     "text": [
      "Sum of all numbers 1-10 inclusive, using a list\n",
      "55\n",
      "Sum of even numbers 2-10 inclusive, using a list\n",
      "30\n"
     ]
    }
   ],
   "source": [
    "# For Loops\n",
    "# Iterating over a list\n",
    "\n",
    "# Here we define a list of the numbers 1-10 inclusive\n",
    "list110 = [1,2,3,4,5,6,7,8,9,10]\n",
    "# We can now iterate over this list:\n",
    "summed = 0\n",
    "for x in list110:\n",
    "    summed += x\n",
    "    \n",
    "print(\"Sum of all numbers 1-10 inclusive, using a list\")\n",
    "print(summed)\n",
    "\n",
    "# We can also adjust the range to step up in larger instances than 1.\n",
    "# eg if we wanted every even number from 1-10\n",
    "# This would allow us to iterate over larger jumps\n",
    "listeven = [2,4,6,8,10]\n",
    "summedeven = 0\n",
    "for y in listeven:\n",
    "    summedeven += y\n",
    "\n",
    "print(\"Sum of even numbers 2-10 inclusive, using a list\")\n",
    "print(summedeven)"
   ]
  },
  {
   "cell_type": "markdown",
   "metadata": {},
   "source": [
    "With that defined, we can now talk about `while` loops, a combination of if statements and for loops"
   ]
  },
  {
   "cell_type": "markdown",
   "metadata": {},
   "source": [
    "#### While loops\n",
    ".\n",
    "A while statement provides looping through code until a condition has been met. This can be seen as the combination of an if statement (entering a code block if the condition is met), and a for loop. Except in this instance, you cannot exit the code block until the condition has been met. If you meet the condition beforehand, you skip the entire block."
   ]
  },
  {
   "cell_type": "code",
   "execution_count": 34,
   "metadata": {},
   "outputs": [
    {
     "name": "stdout",
     "output_type": "stream",
     "text": [
      "In while loop, x\n",
      "Ensuring x is 1 or more, while loop\n",
      "1\n",
      "\n",
      "Ensuring y is 7 or more, while loop\n",
      "7\n"
     ]
    }
   ],
   "source": [
    "# While Loops\n",
    "# While loops can evaluate any function that is checking whether a condition is true or false. Imagine the combination of an if statement and a for loop.\n",
    "\n",
    "# The following shows the condition evaluating to True upon entering the code block, and evaluating to false to exit the code block\n",
    "x = 0\n",
    "while x < 1:\n",
    "    print(\"In while loop, x\")\n",
    "    x += 1\n",
    "\n",
    "print(\"Ensuring x is 1 or more, while loop\")\n",
    "print(x)\n",
    "print(\"\")\n",
    "\n",
    "# if the condition is false before it even enters, the block will be skipped\n",
    "y = 7\n",
    "while y < 7:\n",
    "    print(\"In while loop, y\")\n",
    "    y += 1\n",
    "\n",
    "print(\"Ensuring y is 7 or more, while loop\")\n",
    "print(y)\n",
    "\n",
    "# The same conditional statements of an if statement apply here, although you cannot stack while loops as you can with 'else if' statements"
   ]
  },
  {
   "cell_type": "markdown",
   "metadata": {},
   "source": [
    "Finally, something you might not be familar with"
   ]
  },
  {
   "cell_type": "markdown",
   "metadata": {},
   "source": [
    "#### Error Handling (Try/Except)\n",
    "\n",
    "As any programmer will tell you, at some point you will end up with errors. While not the end of the world, it can be pesky when you are testing multiple instances of code, or some areas are prone to fail in ways you cannot control. To this end, Error handling exists. Error handling will allow you to continue through the code without necessarily stopping at this point, or provide further information at debugging when you are having trouble identifying the problem.\n",
    "\n",
    "There are a number of ways to do this, although for this course we will use the following (somewhat) standard:\n",
    "```python\n",
    "try:\n",
    "    #Potentially error-prone code here\n",
    "except Exception as e:\n",
    "    # Do something that handles the error or lets you know it happens\n",
    "    # eg: raise e()\n",
    "    # print(\"We have a problem, I think it is this\")\n",
    "else:\n",
    "    # if no error happens, do this to continue\n",
    "finally:\n",
    "    # regardless of whether an error is raised or not, do this\n",
    "```\n",
    "\n",
    "While the `try` and `except` pieces are complusory for a error handling situation, the `else` and `finally` statements are optional and can depend on your use case.\n",
    "Examples are below:"
   ]
  },
  {
   "cell_type": "code",
   "execution_count": 35,
   "metadata": {},
   "outputs": [
    {
     "name": "stdout",
     "output_type": "stream",
     "text": [
      "ERROR --  could not convert string to float: 'a'\n",
      "Yay Code continues!\n",
      "\n",
      "Yay it worked! Initial String was a float after all!\n",
      "\n",
      "ERROR -- could not convert string to float: 'a'\n",
      "Thanks for reading all these examples, error raised\n",
      "\n",
      "Yay it worked! Initial String was a float after all!\n",
      "Thanks for reading all these examples, no error\n"
     ]
    }
   ],
   "source": [
    "# Recall our use in an earlier tutorial.\n",
    "# We know that there is a possibility that the string may not be a number, and so the conversion may not occur. We can therefore let the code continue while printing the error\n",
    "try:\n",
    "    initial_string = \"a\"\n",
    "    result_float = float(initial_string)\n",
    "except Exception as e:\n",
    "    print(\"ERROR -- \", e)\n",
    "\n",
    "print(\"Yay Code continues!\")\n",
    "print(\"\")\n",
    "\n",
    "# We can also include the else statement in the case of success\n",
    "try:\n",
    "    init_str = \"7\"\n",
    "    res_flo = float(init_str)\n",
    "except Exception as e:\n",
    "    print(\"ERROR --\", e)\n",
    "else:\n",
    "    print(\"Yay it worked! Initial String was a float after all!\")\n",
    "    \n",
    "print(\"\")\n",
    "# Now we can include the finally statement\n",
    "try:\n",
    "    init_str = \"a\"\n",
    "    res_flo = float(init_str)\n",
    "except Exception as e:\n",
    "    print(\"ERROR --\", e)\n",
    "else:\n",
    "    print(\"Yay it worked! Initial String was a float after all!\")\n",
    "finally:\n",
    "    print(\"Thanks for reading all these examples, error raised\")\n",
    "    \n",
    "print(\"\")\n",
    "# Now we can include the finally statement\n",
    "try:\n",
    "    init_str = \"9\"\n",
    "    res_flo = float(init_str)\n",
    "except Exception as e:\n",
    "    print(\"ERROR --\", e)\n",
    "else:\n",
    "    print(\"Yay it worked! Initial String was a float after all!\")\n",
    "finally:\n",
    "    print(\"Thanks for reading all these examples, no error\")"
   ]
  },
  {
   "cell_type": "markdown",
   "metadata": {},
   "source": [
    "Finally, we can put everything we have together to write functions and start making a real program"
   ]
  },
  {
   "cell_type": "markdown",
   "metadata": {},
   "source": [
    "*****\n",
    "### 3.3: Functions\n",
    "The following provides an introduction into implementing and using functions.\n",
    "\n",
    "A number of [built-in Python functions](https://docs.python.org/3/library/functions.html) exist, and we will be seeing how some are implemented, and how we can write our own."
   ]
  },
  {
   "cell_type": "markdown",
   "metadata": {},
   "source": [
    "The following outlines some examples of inbuilt Python functions and how we can call them.\n",
    "\n",
    "Functions (especically inbuilt) are customisable for a number of purposes depending on your need for the function. Recall in previous examples the use of the `print()` function. The [Python Documentation](https://docs.python.org/3/library/functions.html#print) shows the structure of the print function in terms of variables that can be passed and defaulted variables.\n",
    "\n",
    "> print(*objects, sep=' ', end='\\n', file=sys.stdout, flush=False)\n",
    ">\n",
    "> Print objects to the text stream _file_, separated by _sep_ and followed by _end_.\n",
    "\n",
    "From this, there are a number of things to take note of:\n",
    "1. A number of objects can be passed to the function\n",
    "2. There are various defaults for the function if the user does not manually define the variables. For example, if you do not apply anything for `sep`, it will default to `' '`\n",
    "3. This function does not return any value back to the system (it returns `None`)\n",
    "\n",
    "This informs us of the use of the function so that we don't need to write extra code to perform the same actions.\n",
    "\n",
    "In short, **Read The Documentation!**\n",
    "****\n",
    "We will now show some examples of how you can define a function"
   ]
  },
  {
   "cell_type": "code",
   "execution_count": 36,
   "metadata": {},
   "outputs": [
    {
     "name": "stdout",
     "output_type": "stream",
     "text": [
      "Result of our squared function\n",
      "36\n",
      "Result of our default squared function\n",
      "49\n"
     ]
    }
   ],
   "source": [
    "# Functions\n",
    "\n",
    "# The following will take in a single argument and return the value squared.\n",
    "# Important to note, that if we provide anything other than a number, the function will fail as it cannot multiply a string, bool, list, etc\n",
    "def squared(x):\n",
    "    return x*x\n",
    "\n",
    "print(\"Result of our squared function\")\n",
    "print(squared(6))\n",
    "\n",
    "# We can also set a default value for the function if the user does not specify the input\n",
    "def square7(x=7):\n",
    "    return x*x\n",
    "\n",
    "print(\"Result of our default squared function\")\n",
    "print(square7())"
   ]
  },
  {
   "cell_type": "markdown",
   "metadata": {},
   "source": [
    "Notice the format of a function being defined as: \n",
    "```python\n",
    "def function_name(variable, another_variable=default_value):\n",
    "    # do stuff\n",
    "    return \n",
    "```\n",
    "\n",
    "Anything can go into a function, as long as you define what to give it and what to take back out.\n",
    "After that, you can call the function as many times as you want without repeating code! Yay!\n",
    "\n",
    "\n",
    "Last but not least, importing non-standard modules"
   ]
  },
  {
   "cell_type": "markdown",
   "metadata": {},
   "source": [
    "### 3.4: Modules\n",
    "When you first start up the Python intepreter, it will have the bare basics of the Python distribution in its scope. In short, it won't know everything. Yet.\n",
    "\n",
    "Importing modules is a standard practice for including extra functionality in the scope for the system. This is one of the main reasons why we use the Anaconda Distribution, because it will install all the modules we want. This allows you to simply import them into a notebook and not have to perform any other overhead. If you want to see the entire list of packages the Anaconda distribution installs, run `conda list` in your terminal/anaconda prompt.\n",
    "\n",
    "Most modules will add extra data types, structures and functions to use. We will explore more of these in the coming weeks.\n",
    "\n",
    "There are a couple of methods for importing a module:\n",
    "1. Importing the entire module (This allows you access to everything as long as you provide the module name before the module specific function/datatype)\n",
    "\n",
    "```python\n",
    "import math\n",
    "print(math.pi)\n",
    "```\n",
    "\n",
    "or\n",
    "\n",
    "```python\n",
    "# set a custom name for the module in this namespace. Can help with shortening larger module names!\n",
    "import math as mt\n",
    "print(mt.pi)\n",
    "```\n",
    "\n",
    "or \n",
    "\n",
    "```python\n",
    "# Not recommended because you will forget which module items come from!\n",
    "from math import *\n",
    "print(pi)\n",
    "```\n",
    "2. Importing specific items from a module (Only gives you access to the specific items you want)\n",
    "\n",
    "```python\n",
    "from math import pi\n",
    "print(pi)\n",
    "```\n",
    "\n",
    "And that's it! Surprisingly simple. With that, lets get onto some exercises\n",
    "*****"
   ]
  },
  {
   "cell_type": "markdown",
   "metadata": {},
   "source": [
    "## Exercises\n",
    "The coming labs will not have that much reading, but it is important to have this baseline down so that we can do some fun stuff going forward. Work through the following exercises, and discuss with your tutor and classmates if you have any questions. Don't be afraid to ask questions!"
   ]
  },
  {
   "cell_type": "markdown",
   "metadata": {},
   "source": [
    "### Exercise 1: Easy Python Problems\n",
    "We are going to start off with going through some practical exercises from what we learnt above and in the lectures. \n",
    "\n",
    "#### 1.1 Hello World\n",
    "Is this too easy? Start with printing out `Hello World!` to the console"
   ]
  },
  {
   "cell_type": "code",
   "execution_count": 38,
   "metadata": {},
   "outputs": [
    {
     "name": "stdout",
     "output_type": "stream",
     "text": [
      "Hello World!\n"
     ]
    }
   ],
   "source": [
    "# YOUR CODE HERE\n",
    "print(\"Hello World!\");"
   ]
  },
  {
   "cell_type": "markdown",
   "metadata": {},
   "source": [
    "#### 1.2 What is 9 + 10?\n",
    "Working on what we know about the intepreter, lets use it to solve some math for us.\n",
    "Calculate 9 + 10, without using variables"
   ]
  },
  {
   "cell_type": "code",
   "execution_count": 39,
   "metadata": {},
   "outputs": [
    {
     "data": {
      "text/plain": [
       "19"
      ]
     },
     "execution_count": 39,
     "metadata": {},
     "output_type": "execute_result"
    }
   ],
   "source": [
    "# YOUR CODE HERE\n",
    "9+10"
   ]
  },
  {
   "cell_type": "markdown",
   "metadata": {},
   "source": [
    "#### 1.3 Don't be a square\n",
    "A little more math before moving on, calulate 6 + 6<sup>2</sup> + 6<sup>3</sup>"
   ]
  },
  {
   "cell_type": "code",
   "execution_count": 43,
   "metadata": {},
   "outputs": [
    {
     "data": {
      "text/plain": [
       "258"
      ]
     },
     "execution_count": 43,
     "metadata": {},
     "output_type": "execute_result"
    }
   ],
   "source": [
    "# YOUR CODE HERE\n",
    "6+6**2+6**3"
   ]
  },
  {
   "cell_type": "markdown",
   "metadata": {},
   "source": [
    "#### 1.4: Armstrong, but not Neil\n",
    "Determine whether the numbers `1634` and `1980` are all Armstrong Numbers. An Armstrong Number is where a number is equal to the sum of the digits to the power of the length of the original number. For example\n",
    "```\n",
    "Number is: 153\n",
    "1*1*1 + 5*5*5 + 3*3*3 = 153\n",
    "Therefore, 153 is an Armstrong number\n",
    "```\n",
    "However\n",
    "```\n",
    "Number is: 1894\n",
    "1*1*1*1 + 8*8*8*8 + 9*9*9*9 + 4*4*4*4 = 10,914\n",
    "1       + 4096    + 6561    + 256     = 10,914\n",
    "Therefore, 1894 is NOT an Armstrong number\n",
    "```\n",
    "\n",
    "**Note**: initially, it is okay to hardcode this while you get used to using python."
   ]
  },
  {
   "cell_type": "code",
   "execution_count": 43,
   "metadata": {},
   "outputs": [
    {
     "name": "stdout",
     "output_type": "stream",
     "text": [
      "Therefore, 1634 is an Armstrong number\n",
      "Therefore, 1980 is NOT Armstrong number\n"
     ]
    }
   ],
   "source": [
    "# YOUR CODE HERE\n",
    "def checkk(x):\n",
    "    b=0\n",
    "    while x>0:\n",
    "        b+=1\n",
    "        x = x // 10\n",
    "    return b\n",
    "def check(x):\n",
    "    q=x\n",
    "    ans=0\n",
    "    y=checkk(x)\n",
    "    while x>0:\n",
    "        n=x%10\n",
    "        x //=10\n",
    "        a= n**y;\n",
    "        ans+=a;\n",
    "    if ans==q:\n",
    "        print(\"Therefore, \" + str(q) + \" is an Armstrong number\")\n",
    "    else:\n",
    "        print(\"Therefore, \" + str(q) + \" is NOT Armstrong number\")\n",
    "\n",
    "check(1634)\n",
    "check(1980)\n",
    "\n",
    "    "
   ]
  },
  {
   "cell_type": "markdown",
   "metadata": {},
   "source": [
    "Feeling okay? Lets up to difficulty a little"
   ]
  },
  {
   "cell_type": "markdown",
   "metadata": {},
   "source": [
    "### Exercise 2: Medium Python Problems\n",
    "We are going to start off with going through some practical exercises from what we learnt above and in the lectures. \n",
    "\n",
    "#### 2.1 Errors? What Errors?\n",
    "Using the Error Handling you learnt above, fix the code below such that the code does not fail \n",
    "(Note: it does not have to provide an answer for all inputs, it just has to not fail)"
   ]
  },
  {
   "cell_type": "code",
   "execution_count": 45,
   "metadata": {},
   "outputs": [
    {
     "name": "stdout",
     "output_type": "stream",
     "text": [
      "[1, 2, 3, [1, 1, 1, 1, 1]]\n",
      "[1, 2, 3, 2]\n",
      "[1, 2, 3, '1234']\n",
      "[1, 2, 3, 1]\n",
      "[1, 2, 3, ['Hi!']]\n"
     ]
    }
   ],
   "source": [
    "# FIX ME\n",
    "\n",
    "# Function called, error prone as it does not account for if values being passed are not lists\n",
    "'''\n",
    "This function takes in a list, extends the newlist defined within the function with the input, and returns the result.\n",
    "INPUT: list\n",
    "OUTPUT: list\n",
    "'''\n",
    "def failingfunc(inputlist):\n",
    "    newlist = [1,2,3]\n",
    "    newlist.append(inputlist)\n",
    "    return newlist\n",
    "\n",
    "totest = [[1,1,1,1,1], 2, \"1234\", 1, [\"Hi!\"]]\n",
    "\n",
    "for x in totest:\n",
    "    print(failingfunc(x))"
   ]
  },
  {
   "cell_type": "markdown",
   "metadata": {},
   "source": [
    "#### 2.2 A better way at combining lists\n",
    "Now that you know the problem with the above function, it is time to fix it properly. Edit the below function such that it can handle **ANY** input type, and add it to the list that is generated within the function. Don't forget to update the comments!"
   ]
  },
  {
   "cell_type": "code",
   "execution_count": 47,
   "metadata": {},
   "outputs": [
    {
     "name": "stdout",
     "output_type": "stream",
     "text": [
      "[1, 2, 3, [1, 1, 1, 1, 1]]\n",
      "[1, 2, 3, 2]\n",
      "[1, 2, 3, '1234']\n",
      "[1, 2, 3, 1]\n",
      "[1, 2, 3, ['Hi!']]\n"
     ]
    }
   ],
   "source": [
    "# FIX ME\n",
    "\n",
    "'''\n",
    "This function takes in a list, extends the newlist defined within the function with the input, and returns the result.\n",
    "INPUT: list\n",
    "OUTPUT: list\n",
    "'''\n",
    "def functofix(inputlist):\n",
    "    newlist = [1,2,3]\n",
    "    newlist.append(inputlist)\n",
    "    return newlist\n",
    "\n",
    "testet = [[1,1,1,1,1], 2, \"1234\", 1, [\"Hi!\"]]\n",
    "\n",
    "for x in testet:\n",
    "    print(functofix(x))"
   ]
  },
  {
   "cell_type": "markdown",
   "metadata": {},
   "source": [
    "#### 2.3 That Sinking Feeling\n",
    "Picture this... You are on board a ship in a storm, and boat will sink unless half the passengers are thrown overboard. How do you decide who should stay and who should go? 30 of you stand in a circle, and it is decided that every 9th person should be tossed overboard until half the passengers are thrown overboard. In what locations can you stand to ensure you aren't tossed overboard?\n",
    "\n",
    "Finish the function below to determine the order in which people are thrown overboard, and use this to determine where you should stand. The program will output the order of people being tossed, and you need to leave a comment below stating where you would stand."
   ]
  },
  {
   "cell_type": "code",
   "execution_count": 1,
   "metadata": {
    "jp-MarkdownHeadingCollapsed": true,
    "tags": []
   },
   "outputs": [
    {
     "data": {
      "text/plain": [
       "[9, 18, 27, 6, 16, 26, 7, 19, 0, 12, 24, 8, 22, 5, 23]"
      ]
     },
     "execution_count": 1,
     "metadata": {},
     "output_type": "execute_result"
    }
   ],
   "source": [
    "### Assume we start counting from position 0, and person in position 0 is the number 1\n",
    "\n",
    "def sinkingfeeling():\n",
    "    people, location, sequence = list(range(0,30)), 1, []\n",
    "    # ranged = range(133,16)\n",
    "    # for x in ranged:\n",
    "    #     ans = x*9-1\n",
    "    #     while ans>len(people):\n",
    "    #         ans-=30\n",
    "    #     y=people.pop(ans)\n",
    "    #     ans -= 1\n",
    "    #     sequence.append(y)\n",
    "    while len(people) >15:\n",
    "        location = (location+8) % len(people)\n",
    "        sequence.append(people.pop(location))\n",
    "    return sequence\n",
    "\n",
    "sinkingfeeling()\n",
    "\n",
    "# Tell us where you would stand! \n",
    "# Would it be different if only the last person survived?"
   ]
  },
  {
   "cell_type": "markdown",
   "metadata": {},
   "source": [
    "### Exercise 3: Hard-ish (Beginner) Python Problems\n",
    "Going okay so far? Lets continue. Don't worry if you can't get these straight away, sometimes it is all about the problem!\n",
    "\n",
    "#### 3.1 Divisible, but not invisible\n",
    "You now get to write a function by yourself. Finish the function below such that you can find all numbers which are divisable by 7 **and** not a multiple of 5 in the range of 700 to 1500.\n",
    "Print the number of numbers you found"
   ]
  },
  {
   "cell_type": "code",
   "execution_count": 100,
   "metadata": {},
   "outputs": [
    {
     "data": {
      "text/plain": [
       "92"
      ]
     },
     "execution_count": 100,
     "metadata": {},
     "output_type": "execute_result"
    }
   ],
   "source": [
    "# FINISH ME\n",
    "\n",
    "def divisable75():\n",
    "    \n",
    "    x = []\n",
    "    \n",
    "    # Do stuff to find numbers here.\n",
    "    # A number is considered divisable if you the remainder is 0 when you divide it.\n",
    "    # To find the remainder, use modulo functionality.\n",
    "    ranged = range(700,1500)\n",
    "    for y in ranged:\n",
    "        if not y%5==0:\n",
    "            if y%7==0:\n",
    "                x.append(str(y))\n",
    "    # hint, the length of a list can be found using the len() function\n",
    "    return len(x)\n",
    "\n",
    "\n",
    "divisable75()"
   ]
  },
  {
   "cell_type": "markdown",
   "metadata": {},
   "source": [
    "#### 3.2 Not even a Ceasar Salad\n",
    "\n",
    "Let's make an encryption system, that can be used to send and receive encrypted messages with our friends. A **cipher** is a type of secret code, where you swap the letters around so that no one can read your messages. Here, we’ll be using one of the oldest and most famous ciphers, the **Caesar Cipher**, which unlike the salad, is named after **Julius Caesar**! \n",
    "\n",
    "Using this cipher, we need a secret key to encrypt a letter. For example, if our secret key is 5, we can encrypt the word **\"hello\"** as -\n",
    "\n",
    "    h + 5 = m\n",
    "    e + 5 = j\n",
    "    l + 5 = q\n",
    "    l + 5 = q \n",
    "    o + 5 = t\n",
    "\n",
    "into an encrypted word **\"mjqqt\"**.\n",
    "\n",
    "For the given sentences (and secret keys) below, generate the \"encrypted\" messages by writing a function to perform the encrpytion, with the inputs being the message and secret key:\n",
    "- \"Pie Charts are the best charts\" | Key = 8\n",
    "- \"Endgame was a bad movie. Change my mind.\" | Key = 3\n",
    "- \"This encrpytion is insecure\" | Key = 4"
   ]
  },
  {
   "cell_type": "code",
   "execution_count": 26,
   "metadata": {},
   "outputs": [
    {
     "name": "stdout",
     "output_type": "stream",
     "text": [
      "Xqm(Kpiz|{(izm(|pm(jm{|(kpiz|{\n",
      "*****\n",
      "Hqgjdph#zdv#d#edg#prylh1#Fkdqjh#p|#plqg1\n",
      "*****\n",
      "Xlmw$irgvt}xmsr$mw$mrwigyvi\n",
      "*****\n",
      "Xqm Kparba arm bpm jmab kparba\n",
      "*****\n",
      "Hqgjaph wav a eag prylh. Fkaqjh pb plqg.\n",
      "*****\n",
      "Xlmw irgvtcxmsr mw mrwigyvi\n",
      "*****\n"
     ]
    }
   ],
   "source": [
    "def CaesarCipher(message, key):\n",
    "    # Do Stuff\n",
    "    new = \"\"\n",
    "    for a in message:\n",
    "        new += chr(ord(a)+key)\n",
    "    return new\n",
    "\n",
    "def CaesarCipher1(message,key):\n",
    "    new = \"\"\n",
    "    for a in message:\n",
    "        if \"A\"<a<chr(ord(\"Z\")-key) or \"a\"<a<chr(ord(\"z\")-key):\n",
    "            #new += chr(ord(a)+key)\n",
    "            a = chr(ord(a)+key)\n",
    "        elif chr(ord(\"Z\")-key)<a<\"Z\" or chr(ord(\"z\")-key)<a<\"z\":\n",
    "            a = chr(ord(a)+key-26)\n",
    "        new += a\n",
    "    return new\n",
    "case1 = CaesarCipher(\"Pie Charts are the best charts\", 8)\n",
    "case2 = CaesarCipher(\"Endgame was a bad movie. Change my mind.\", 3)\n",
    "case3 = CaesarCipher(\"This encrpytion is insecure\", 4)\n",
    "\n",
    "print(case1)\n",
    "print(\"*****\")\n",
    "print(case2)\n",
    "print(\"*****\")\n",
    "print(case3)\n",
    "print(\"*****\")\n",
    "case4 = CaesarCipher1(\"Pie Charts are the best charts\", 8)\n",
    "case5 = CaesarCipher1(\"Endgame was a bad movie. Change my mind.\", 3)\n",
    "case6 = CaesarCipher1(\"This encrpytion is insecure\", 4)\n",
    "\n",
    "print(case4)\n",
    "print(\"*****\")\n",
    "print(case5)\n",
    "print(\"*****\")\n",
    "print(case6)\n",
    "print(\"*****\")"
   ]
  },
  {
   "cell_type": "markdown",
   "metadata": {},
   "source": [
    "#### 3.3 Hit the Road, Dogg\n",
    "\n",
    "Armstrong is back again.\n",
    "\n",
    "While you may have hardcoded the answers before in the easier problem, this time you will write a function to determine whether a number is an Armstrong number or not.\n",
    "\n",
    "Remember, an Armstrong Number is where a number is equal to the sum of the digits to the power of the length of the original number. For example\n",
    "```\n",
    "Number is: 153\n",
    "1*1*1 + 5*5*5 + 3*3*3 = 153\n",
    "Therefore, 153 is an Armstrong number\n",
    "```\n",
    "However\n",
    "```\n",
    "Number is: 1894\n",
    "1*1*1*1 + 8*8*8*8 + 9*9*9*9 + 4*4*4*4 = 10,914\n",
    "1       + 4096    + 6561    + 256     = 10,914\n",
    "Therefore, 1894 is NOT an Armstrong number\n",
    "```"
   ]
  },
  {
   "cell_type": "code",
   "execution_count": 59,
   "metadata": {},
   "outputs": [
    {
     "name": "stdout",
     "output_type": "stream",
     "text": [
      "Number 153: True\n",
      "Number 154: False\n"
     ]
    }
   ],
   "source": [
    "def checkk(x):\n",
    "    b=0\n",
    "    while x>0:\n",
    "        b+=1\n",
    "        x = x // 10\n",
    "    return b\n",
    "def check(x):\n",
    "    q=x\n",
    "    ans=0\n",
    "    y=checkk(x)\n",
    "    while x>0:\n",
    "        n=x%10\n",
    "        x //=10\n",
    "        a= n**y;\n",
    "        ans+=a;\n",
    "    return ans\n",
    "\n",
    "def Armstrong(number):\n",
    "    aa=check(number)\n",
    "    if aa==number:\n",
    "        return True\n",
    "    else:\n",
    "        return False;\n",
    "    \n",
    "print(\"Number 153:\", Armstrong(153))\n",
    "print(\"Number 154:\", Armstrong(154))"
   ]
  },
  {
   "cell_type": "markdown",
   "metadata": {},
   "source": [
    "With your working Armstrong solution above, provide every Armstrong number between 10 and 10000:"
   ]
  },
  {
   "cell_type": "code",
   "execution_count": 68,
   "metadata": {},
   "outputs": [
    {
     "name": "stdout",
     "output_type": "stream",
     "text": [
      "153\n",
      "370\n",
      "371\n",
      "407\n",
      "1634\n",
      "8208\n",
      "9474\n"
     ]
    }
   ],
   "source": [
    "# YOUR CODE HERE\n",
    "ranged = range(10,10001)\n",
    "for x in ranged:\n",
    "    n = Armstrong(x)\n",
    "    if n:\n",
    "        print(x)"
   ]
  },
  {
   "cell_type": "markdown",
   "metadata": {},
   "source": [
    "#### 3.4 Time to leave the nest\n",
    "Let's see how far you can get to solve this problem of intermediate difficulty. This exercise is only for students who have solved the above two exercises, and not a quick fix\n",
    "\n",
    "Python endorses the idea of a **nested list**, i.e. **a list that contains other lists**. These **\"inner\" lists** can themselves contain lists, and so on to an (in theory) arbitrary depth.\n",
    "\n",
    "For example: \n",
    "\n",
    "`[1, 2, [1, 5, 3], [1, -1, 1, [1, 2], 5], [1, 3]]` \n",
    "\n",
    "is a nested list which goes **three levels** deep.\n",
    "\n",
    "Your job is to complete a function called **search_list** that takes as input a `target` integer and a possibly nested `list`, and searches through the list (and any nested lists) for the target. The function should return `True`, if the target integer is present in the list or sublists at any depth, and `False` otherwise.\n",
    "\n",
    "**HINT**: There are a few different ways to implement this function. One is using **[recursion](https://en.wikipedia.org/wiki/Recursion_(computer_science))**"
   ]
  },
  {
   "cell_type": "code",
   "execution_count": 15,
   "metadata": {},
   "outputs": [],
   "source": [
    "def search_list(target, list_to_search):\n",
    "    # Do Stuff\n",
    "    for i in list_to_search:\n",
    "        if isinstance(i,list):\n",
    "            if search_list(target,i):\n",
    "                return True\n",
    "        elif i==target:\n",
    "                return True\n",
    "    return False"
   ]
  },
  {
   "cell_type": "markdown",
   "metadata": {},
   "source": [
    "Run the below code cell to test your function:"
   ]
  },
  {
   "cell_type": "code",
   "execution_count": 17,
   "metadata": {},
   "outputs": [
    {
     "name": "stdout",
     "output_type": "stream",
     "text": [
      "Congratulations! Your code works! :)\n"
     ]
    }
   ],
   "source": [
    "test_list_1 = [1, 3, 1, [2, 4], 6, 7]\n",
    "test_list_2 = [[], 1, [-1, 3, [5], [[[[[7]]]], [6]], 8, 9]]\n",
    "\n",
    "if search_list(7, test_list_2) and search_list(4, test_list_1) and search_list(6, test_list_2):\n",
    "    print(\"Congratulations! Your code works! :)\")\n",
    "else:\n",
    "    print(\"Not quite! Please try again!\")"
   ]
  },
  {
   "cell_type": "markdown",
   "metadata": {},
   "source": [
    "****\n",
    "## Resouces\n",
    "\n",
    "The following should be useful for you going forward. Good luck!\n",
    "- [Python Cheatsheet](./helpManuals/python_beginners.pdf)\n",
    "- [Git Cheatsheet](./helpManuals/atlassian-git-cheatsheet.pdf)\n",
    "- [Jupyter Cheatsheet](./helpManuals/JupyterLab-Cheatsheet.pdf)\n",
    "- [Additional Python Exercises](https://www.w3resource.com/python-exercises/)"
   ]
  }
 ],
 "metadata": {
  "kernelspec": {
   "display_name": "Python 3 (ipykernel)",
   "language": "python",
   "name": "python3"
  },
  "language_info": {
   "codemirror_mode": {
    "name": "ipython",
    "version": 3
   },
   "file_extension": ".py",
   "mimetype": "text/x-python",
   "name": "python",
   "nbconvert_exporter": "python",
   "pygments_lexer": "ipython3",
   "version": "3.9.13"
  }
 },
 "nbformat": 4,
 "nbformat_minor": 4
}
