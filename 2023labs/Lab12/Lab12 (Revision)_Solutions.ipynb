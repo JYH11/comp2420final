{
 "cells": [
  {
   "cell_type": "markdown",
   "metadata": {},
   "source": [
    "<h1 align='center'> COMP2420/COMP6420 - Introduction to Data Management, <br/>Analysis and Security</h1>\n",
    "\n",
    "<h1 align='center'>Lab 12 - Revision</h1>\n",
    "\n",
    "\n",
    "*****\n"
   ]
  },
  {
   "cell_type": "markdown",
   "metadata": {},
   "source": [
    "## Aim\n",
    "\n",
    "Our aim in this lab is the following:\n",
    "- Revise the semester's worth of content and become familiar with content that may be available on the exam"
   ]
  },
  {
   "cell_type": "markdown",
   "metadata": {},
   "source": [
    "## Learning Outcomes\n",
    "- L01: Demonstrate a conceptual understanding of database systems and architecture, data models and declarative query languages\n",
    "- L02: Define, query and manipulate a relational database\n",
    "- L03: Demonstrate basic knowledge and understanding of descriptive and predictive data analysis methods, optimization and search, and knowledge representation.\n",
    "- L04: Formulate and extract descriptive and predictive statistics from data\n",
    "- L05: Analyse and interpret results from descriptive and predictive data analysis\n",
    "- L06: Apply their knowledge to a given problem domain\n",
    "- L07: Identify potential pitfalls, and social and ethical implications of data science\n",
    "- L08: Explain key security concepts and the use of cryptographic techniques, digital signatures and PKI in security"
   ]
  },
  {
   "cell_type": "markdown",
   "metadata": {},
   "source": [
    "## Preparation\n",
    "\n",
    "\n",
    "Before starting this lab, we suggest you do the following:\n",
    "- Watch all previous lectures for this semester.\n",
    "- Complete all previous labs for this semester, including extensions tasks."
   ]
  },
  {
   "cell_type": "markdown",
   "metadata": {},
   "source": [
    "## Introduction:\n",
    "Congratulations, you have made it to the end of labs for COMP2420. This final lab is a revision lab for you to complete in your own time, modeled after the final exam from 2019 (the questions are different, don't worry). You should use this to study up for the exam and ask your tutor questions while you have the opportunity to, for this lab and any outstanding queries from the previous weeks. "
   ]
  },
  {
   "cell_type": "code",
   "execution_count": 2,
   "metadata": {},
   "outputs": [],
   "source": [
    "# Important Imports for the question/s\n",
    "import pandas as pd\n",
    "import numpy as np\n",
    "import seaborn as sns\n",
    "import matplotlib.pyplot as plt\n",
    "from sklearn.model_selection import train_test_split\n",
    "from sklearn.neighbors import KNeighborsClassifier\n",
    "from sklearn.tree import DecisionTreeClassifier\n",
    "from sklearn.linear_model import LinearRegression\n",
    "from sklearn.cluster import KMeans, MeanShift\n",
    "import sklearn.metrics as skm\n",
    "plt.style.use('seaborn-notebook')\n",
    "## inline figures\n",
    "%matplotlib inline\n",
    "\n",
    "import sqlite3\n",
    "from sqlite3 import Error\n",
    "\n",
    "# Getting rid of warnings\n",
    "import warnings\n",
    "warnings.filterwarnings(\"ignore\")"
   ]
  },
  {
   "cell_type": "code",
   "execution_count": 3,
   "metadata": {},
   "outputs": [],
   "source": [
    "# Add imports as necessary. You are only allowed to use what is in the standard Anaconda installation in the exam.\n",
    "import itertools\n",
    "from sklearn.metrics import accuracy_score,f1_score\n",
    "from sklearn.decomposition import PCA                   \n",
    "from sklearn.preprocessing import LabelEncoder"
   ]
  },
  {
   "cell_type": "markdown",
   "metadata": {},
   "source": [
    "***"
   ]
  },
  {
   "cell_type": "markdown",
   "metadata": {},
   "source": [
    "## Question 1: Data Analysis"
   ]
  },
  {
   "cell_type": "markdown",
   "metadata": {},
   "source": [
    "### Q1.1 - Appropiate Graphs"
   ]
  },
  {
   "cell_type": "markdown",
   "metadata": {},
   "source": [
    "For each of the following scenarios, determine which plot type is most appropriate to reveal the distribution of and/or the relationships between the variable(s) referred to in each sub question. \n",
    "\n",
    "Select (with justification) only one plot type from the ones listed below. \n",
    "\n",
    "* histogram  \n",
    "* pie chart  \n",
    "* bar plot  \n",
    "* line plot  \n",
    "* side-by-side boxplots  \n",
    "* scatter plot  \n",
    "* stacked bar plot   "
   ]
  },
  {
   "cell_type": "markdown",
   "metadata": {},
   "source": [
    "1. Sale price and number of bedrooms (assume integer) for houses sold in Canberra in 2010. "
   ]
  },
  {
   "cell_type": "raw",
   "metadata": {},
   "source": [
    "We are looking at the relationship between sale price and number of bedrooms. Therefore we use Bar, with x as the number of bedrooms and the y as the sale price."
   ]
  },
  {
   "cell_type": "markdown",
   "metadata": {},
   "source": [
    "2. Sale price and date of sale for houses sold in Canberra between 2000 and 2017."
   ]
  },
  {
   "cell_type": "raw",
   "metadata": {},
   "source": [
    "We are seeing a trend here, so line chart would be suitable."
   ]
  },
  {
   "cell_type": "markdown",
   "metadata": {},
   "source": [
    "3. Time taken by ANU employees in minutes to reach university for year 2017."
   ]
  },
  {
   "cell_type": "raw",
   "metadata": {},
   "source": [
    "This is distribution of the data, hence use histogram."
   ]
  },
  {
   "cell_type": "markdown",
   "metadata": {},
   "source": [
    "4. Country of nationality for students admitted to ANU in 2016, assuming you can combine countries with less than 100 students together."
   ]
  },
  {
   "cell_type": "raw",
   "metadata": {},
   "source": [
    "Bar plot would be suitable to compare the students in each nationality."
   ]
  },
  {
   "cell_type": "markdown",
   "metadata": {},
   "source": [
    "5. The percentage of female students admitted to ANU each year from 1950 to 2017."
   ]
  },
  {
   "cell_type": "raw",
   "metadata": {},
   "source": [
    "This is looking at the trend, given time series, hence line chart would be suitable."
   ]
  },
  {
   "cell_type": "markdown",
   "metadata": {},
   "source": [
    "### Q1.2 - Visualisations"
   ]
  },
  {
   "cell_type": "markdown",
   "metadata": {},
   "source": [
    "The data set `./data/Economist_pensions.csv` is a collection of the percentage of GDP that various OECD countries spent on pension benefits, and the proportion of their population aged 65 and over, also as a percentage. Countries have different set ages for when their people become entitled to claim pension benefits. The proportion of GDP figures represent the GDP expenditure on all pension claims that is allowed by their pension law.\n",
    "\n",
    "Using the dataset, perform the following tasks:"
   ]
  },
  {
   "cell_type": "markdown",
   "metadata": {},
   "source": [
    "1. Load the DataFrame. Provide the mean and mode of the government spending on pension benefits as a percentage of the countries GDP."
   ]
  },
  {
   "cell_type": "code",
   "execution_count": 4,
   "metadata": {},
   "outputs": [
    {
     "name": "stdout",
     "output_type": "stream",
     "text": [
      "Mean 8.515714285714287\n",
      "Mode 0     7.0\n",
      "1    11.0\n",
      "dtype: float64\n",
      "AxesSubplot(0.125,0.125;0.775x0.755)\n"
     ]
    },
    {
     "data": {
      "image/png": "[encoded data removed]",
      "text/plain": [
       "<Figure size 432x288 with 1 Axes>"
      ]
     },
     "metadata": {
      "needs_background": "light"
     },
     "output_type": "display_data"
    }
   ],
   "source": [
    "pension_data=pd.read_csv('./data/Economist_pensions.csv')\n",
    "new_pension = pension_data.drop(pension_data.index[35:38])\n",
    "print(\"Mean\",new_pension.iloc[:,2].mean())\n",
    "print(\"Mode\",new_pension.iloc[:,2].round(0).mode()) # rounding the values before finding the modes... why?\n",
    "print(new_pension.iloc[:,2].hist(bins=20)) # as you can see here we have two modes."
   ]
  },
  {
   "cell_type": "markdown",
   "metadata": {},
   "source": [
    "2. Using a Scatter Plot, visualise the relationship between the percentage of a country's population over the age of 65 and the government spending on pension benefits as a percentage of the GDP.\n",
    "3. Building upon your previous graph, highlight the data points for the following countries and regenerate your graph below the original one. The countries are: Mexico, Turkey, Brazil, Poland, France, Italy, Greece, Japan, United States of America & South Korea.\n",
    "4. Which visual attribute (in the scatterplot function) from matplotlib is more appropriate for highlighting the previous countries: Colour or Alpha? Justify your answer using an appropriate example.\n",
    "5. Define the country with the highest ratio of pension benefits as a % of GDP to the % of 65+ fraction of population. Use a distinctive visual feature to highlight it, separately (but in addition to) the other previous highlighted countries."
   ]
  },
  {
   "cell_type": "code",
   "execution_count": 5,
   "metadata": {},
   "outputs": [
    {
     "data": {
      "image/png": "[encoded data removed]",
      "text/plain": [
       "<Figure size 432x288 with 1 Axes>"
      ]
     },
     "metadata": {
      "needs_background": "light"
     },
     "output_type": "display_data"
    }
   ],
   "source": [
    "#Question 2\n",
    "# sns.scatterplot(x=pension_data.iloc[:,2],y=pension_data.iloc[:,1])\n",
    "# plt.title(\"Relationship between % of country > 65 and government spending on pension benefits\",y=1.2)\n",
    "\n",
    "\n",
    "#Question 3\n",
    "countries=['Mexico', 'Turkey', 'Brazil', 'Poland', 'France', 'Italy', 'Greece', 'Japan', 'United States', 'South Korea']\n",
    "highlight=np.where(pension_data['Country'].isin(countries) , 'Highlighted', 'Normal') #use for loop if want a specific colour for each\n",
    "# sns.scatterplot(x=pension_data.iloc[:,2],y=pension_data.iloc[:,1], hue=highlight)\n",
    "# plt.title(\"Relationship between % of country > 65 and government spending on pension benefits\",y=1.2)\n",
    "\n",
    "#Question 5\n",
    "ratios=pension_data.iloc[:,2]/pension_data.iloc[:,1]\n",
    "maxid=ratios.idxmax()\n",
    "highlight[maxid]='Max Ratio'\n",
    "ax=sns.scatterplot(x=pension_data.iloc[:,1],y=pension_data.iloc[:,2], hue=highlight)\n",
    "plt.title(\"Relationship between % of country > 65 and government spending on pension benefits\",y=1.2)\n",
    "\n",
    "plt.show()\n",
    "\n"
   ]
  },
  {
   "cell_type": "code",
   "execution_count": 14,
   "metadata": {},
   "outputs": [
    {
     "data": {
      "image/png": "[encoded data removed]",
      "text/plain": [
       "<Figure size 432x288 with 1 Axes>"
      ]
     },
     "metadata": {
      "needs_background": "light"
     },
     "output_type": "display_data"
    }
   ],
   "source": [
    "# ALternate plotting method...\n",
    "#Q1.2 \n",
    "#we can use the column names to pick the x and y axis, but too long column names :(\n",
    "#plt.scatter(new_pension['Population aged 65 years and over, as % of total'], new_pension['Government spending on pension benefits, % of GDP '])\n",
    "#plt.title(\"Relationship between % of country > 65 and government spending on pension benefits\",y=1.2)\n",
    "\n",
    "#Q1.5\n",
    "#first, finding the country with the higest ratio to plot separately\n",
    "pension_data['ratio'] = pension_data.iloc[:,2]/pension_data.iloc[:,1]\n",
    "higest_country = pension_data.sort_values(by='ratio', ascending=False)[0:1]['Country'].values[0]\n",
    "\n",
    "country_list = ['Mexico', 'Turkey', 'Brazil', 'Poland', 'France', 'Italy', 'Greece', 'Japan', 'United States', 'South Korea']\n",
    "\n",
    "#plot these countries in a different colour\n",
    "filtered_data = pension_data[pension_data['Country'].isin(country_list)]\n",
    "plt.scatter(x=filtered_data.iloc[:,1],y=filtered_data.iloc[:,2], alpha=0.5, color='r', label='focused countries')\n",
    "\n",
    "#all the other countries in another color\n",
    "other_data = pension_data[~pension_data['Country'].isin(country_list)]\n",
    "plt.scatter(x=other_data.iloc[:,1],y=other_data.iloc[:,2], alpha=0.5, color='g', label='other countries')\n",
    "\n",
    "#show Brazil in another color\n",
    "higest_ratio = pension_data[pension_data['Country']==higest_country]\n",
    "plt.scatter(x=higest_ratio.iloc[:,1],y=higest_ratio.iloc[:,2], alpha=0.5, color='b', label=higest_country)\n",
    "\n",
    "plt.xlabel(pension_data.columns[1])\n",
    "plt.ylabel(pension_data.columns[2])\n",
    "plt.title(\"Relationship between % aged population and government spending on pension benefits\", y=1.2)\n",
    "plt.legend();"
   ]
  },
  {
   "cell_type": "code",
   "execution_count": 5,
   "metadata": {},
   "outputs": [
    {
     "data": {
      "image/png": "[encoded data removed]",
      "text/plain": [
       "<Figure size 1080x360 with 2 Axes>"
      ]
     },
     "metadata": {
      "needs_background": "light"
     },
     "output_type": "display_data"
    }
   ],
   "source": [
    "#Question 4:Using Matplotlib to plot scatterplots for comparison\n",
    "fig = plt.figure(figsize=(15,5))\n",
    " \n",
    "#Colour\n",
    "ax1 = fig.add_subplot(121)\n",
    "highlight_c=np.where(pension_data['Country'].isin(countries) ,\"orange\",\"blue\") #use for loop if want a specific colour for each\n",
    "ax1=plt.scatter(x=pension_data.iloc[:,1],y=pension_data.iloc[:,2], c=highlight_c)\n",
    "\n",
    "#Alpha\n",
    "ax2 = fig.add_subplot(122)\n",
    "for i in range(pension_data.shape[0]):\n",
    "    if (pension_data.iloc[:,0][i] in (countries)):\n",
    "        a = 0.5\n",
    "    else: a=1\n",
    "    plt.scatter(x=pension_data.iloc[:,1][i],y=pension_data.iloc[:,2][i], alpha=a, c=\"blue\")"
   ]
  },
  {
   "cell_type": "markdown",
   "metadata": {},
   "source": [
    "Alpha changes the transparency, which is not standing out in the plot with a white background. Hence changing colour is better."
   ]
  },
  {
   "cell_type": "markdown",
   "metadata": {},
   "source": [
    "***"
   ]
  },
  {
   "cell_type": "markdown",
   "metadata": {},
   "source": [
    "## Question 2: Machine Learning"
   ]
  },
  {
   "cell_type": "markdown",
   "metadata": {},
   "source": [
    "### Q2.1 - Togepi's Theory Questions\n",
    "Answer the following theoretical questions regarding machine learning. Ideally, you should not need to do external research to answer them, but if you're stuck you can either refer to your tutor or look through lectures and/or online resources."
   ]
  },
  {
   "cell_type": "markdown",
   "metadata": {},
   "source": [
    "1. If your regression line perfectly fits all the points, what is the value of R<sup>2</sup> score? "
   ]
  },
  {
   "cell_type": "raw",
   "metadata": {},
   "source": [
    "It should be 1 as it fits all the points."
   ]
  },
  {
   "cell_type": "markdown",
   "metadata": {},
   "source": [
    "2.  If your regression equation looks like $\\hat{y}$ = &beta;<sub>0</sub> + &beta;<sub>1</sub>$x$ + &beta;<sub>2</sub>$x^2$ + &beta;<sub>3</sub>$x^3$, is this still a linear regression model? Explain your reasoning"
   ]
  },
  {
   "cell_type": "raw",
   "metadata": {},
   "source": [
    "It is still a linear model. x^2 and x^3 can be replaced with x_2 and x_3, which returns a linear model equation. "
   ]
  },
  {
   "cell_type": "markdown",
   "metadata": {},
   "source": [
    "3. What does the statement “independent and identically distributed” (or i.i.d.) define in Machine Learning? Why is it important?"
   ]
  },
  {
   "cell_type": "raw",
   "metadata": {},
   "source": [
    "Independent means the data collected are all independent to one another, identically distributed means the data are collected from the same probability distribution. This is important because this assumption helps us to assume all data is drawn from overall distribution for consistency. "
   ]
  },
  {
   "cell_type": "markdown",
   "metadata": {},
   "source": [
    "4. Explain the difference between **Flat** and **Hierarchical** clustering"
   ]
  },
  {
   "cell_type": "raw",
   "metadata": {},
   "source": [
    "Hierarchical means data is subset of the other points, and often organise in one hierarchical tree. While Flat means you find the nearest points and there's no overlapping cluster."
   ]
  },
  {
   "cell_type": "markdown",
   "metadata": {},
   "source": [
    "5. What is a loss function? Give an example of a loss function and how it is used in a Machine Learning Algorithm"
   ]
  },
  {
   "cell_type": "raw",
   "metadata": {},
   "source": [
    "A loss function is a function that calculates the cost of predicting wrong label for an item. An example is mean squared error, used during regression to indicate how the model is fitted to the data."
   ]
  },
  {
   "cell_type": "markdown",
   "metadata": {},
   "source": [
    "6. How does the Minimum Sum of Squares (also known as Least Squares or Ordinary Least Squares) optimise a Linear Regression line of fit? Does it require multiple passes on the data or is it a single calculation? Provide a technical explanation of how it works."
   ]
  },
  {
   "cell_type": "raw",
   "metadata": {},
   "source": [
    "With smaller sum of squared residuals, the better the model fits to the data. Therefore it only occurs once as there is only a single calculation. \n",
    "\n",
    "For each data point, the observed value minus the predicted value and the remaining value is squared. Finally sum the calulations to get the sum of squares."
   ]
  },
  {
   "cell_type": "markdown",
   "metadata": {},
   "source": [
    "$\\sum (y_{i}-\\hat{y_{i}})^2$"
   ]
  },
  {
   "cell_type": "markdown",
   "metadata": {},
   "source": [
    "### Q2.2 - Cubone's Classifications "
   ]
  },
  {
   "cell_type": "code",
   "execution_count": 17,
   "metadata": {},
   "outputs": [
    {
     "data": {
      "text/html": [
       "<div>\n",
       "<style scoped>\n",
       "    .dataframe tbody tr th:only-of-type {\n",
       "        vertical-align: middle;\n",
       "    }\n",
       "\n",
       "    .dataframe tbody tr th {\n",
       "        vertical-align: top;\n",
       "    }\n",
       "\n",
       "    .dataframe thead th {\n",
       "        text-align: right;\n",
       "    }\n",
       "</style>\n",
       "<table border=\"1\" class=\"dataframe\">\n",
       "  <thead>\n",
       "    <tr style=\"text-align: right;\">\n",
       "      <th></th>\n",
       "      <th>Name</th>\n",
       "      <th>Type 1</th>\n",
       "      <th>Type 2</th>\n",
       "      <th>Total</th>\n",
       "      <th>HP</th>\n",
       "      <th>Attack</th>\n",
       "      <th>Defense</th>\n",
       "      <th>Sp. Atk</th>\n",
       "      <th>Sp. Def</th>\n",
       "      <th>Speed</th>\n",
       "      <th>Generation</th>\n",
       "      <th>Legendary</th>\n",
       "    </tr>\n",
       "    <tr>\n",
       "      <th>#</th>\n",
       "      <th></th>\n",
       "      <th></th>\n",
       "      <th></th>\n",
       "      <th></th>\n",
       "      <th></th>\n",
       "      <th></th>\n",
       "      <th></th>\n",
       "      <th></th>\n",
       "      <th></th>\n",
       "      <th></th>\n",
       "      <th></th>\n",
       "      <th></th>\n",
       "    </tr>\n",
       "  </thead>\n",
       "  <tbody>\n",
       "    <tr>\n",
       "      <th>1</th>\n",
       "      <td>Bulbasaur</td>\n",
       "      <td>Grass</td>\n",
       "      <td>Poison</td>\n",
       "      <td>318</td>\n",
       "      <td>45</td>\n",
       "      <td>49</td>\n",
       "      <td>49</td>\n",
       "      <td>65</td>\n",
       "      <td>65</td>\n",
       "      <td>45</td>\n",
       "      <td>1</td>\n",
       "      <td>False</td>\n",
       "    </tr>\n",
       "    <tr>\n",
       "      <th>2</th>\n",
       "      <td>Ivysaur</td>\n",
       "      <td>Grass</td>\n",
       "      <td>Poison</td>\n",
       "      <td>405</td>\n",
       "      <td>60</td>\n",
       "      <td>62</td>\n",
       "      <td>63</td>\n",
       "      <td>80</td>\n",
       "      <td>80</td>\n",
       "      <td>60</td>\n",
       "      <td>1</td>\n",
       "      <td>False</td>\n",
       "    </tr>\n",
       "    <tr>\n",
       "      <th>3</th>\n",
       "      <td>Venusaur</td>\n",
       "      <td>Grass</td>\n",
       "      <td>Poison</td>\n",
       "      <td>525</td>\n",
       "      <td>80</td>\n",
       "      <td>82</td>\n",
       "      <td>83</td>\n",
       "      <td>100</td>\n",
       "      <td>100</td>\n",
       "      <td>80</td>\n",
       "      <td>1</td>\n",
       "      <td>False</td>\n",
       "    </tr>\n",
       "    <tr>\n",
       "      <th>3</th>\n",
       "      <td>VenusaurMega Venusaur</td>\n",
       "      <td>Grass</td>\n",
       "      <td>Poison</td>\n",
       "      <td>625</td>\n",
       "      <td>80</td>\n",
       "      <td>100</td>\n",
       "      <td>123</td>\n",
       "      <td>122</td>\n",
       "      <td>120</td>\n",
       "      <td>80</td>\n",
       "      <td>1</td>\n",
       "      <td>False</td>\n",
       "    </tr>\n",
       "    <tr>\n",
       "      <th>4</th>\n",
       "      <td>Charmander</td>\n",
       "      <td>Fire</td>\n",
       "      <td>NaN</td>\n",
       "      <td>309</td>\n",
       "      <td>39</td>\n",
       "      <td>52</td>\n",
       "      <td>43</td>\n",
       "      <td>60</td>\n",
       "      <td>50</td>\n",
       "      <td>65</td>\n",
       "      <td>1</td>\n",
       "      <td>False</td>\n",
       "    </tr>\n",
       "  </tbody>\n",
       "</table>\n",
       "</div>"
      ],
      "text/plain": [
       "                    Name Type 1  Type 2  Total  HP  Attack  Defense  Sp. Atk  \\\n",
       "#                                                                              \n",
       "1              Bulbasaur  Grass  Poison    318  45      49       49       65   \n",
       "2                Ivysaur  Grass  Poison    405  60      62       63       80   \n",
       "3               Venusaur  Grass  Poison    525  80      82       83      100   \n",
       "3  VenusaurMega Venusaur  Grass  Poison    625  80     100      123      122   \n",
       "4             Charmander   Fire     NaN    309  39      52       43       60   \n",
       "\n",
       "   Sp. Def  Speed  Generation  Legendary  \n",
       "#                                         \n",
       "1       65     45           1      False  \n",
       "2       80     60           1      False  \n",
       "3      100     80           1      False  \n",
       "3      120     80           1      False  \n",
       "4       50     65           1      False  "
      ]
     },
     "execution_count": 17,
     "metadata": {},
     "output_type": "execute_result"
    }
   ],
   "source": [
    "poke_data = pd.read_csv(\"./data/pokemon.csv\", index_col=0)\n",
    "poke_data.head()"
   ]
  },
  {
   "cell_type": "markdown",
   "metadata": {},
   "source": [
    "Using the Pokemon dataset, you will be implementing the Decision Tree and KNN classifers using `sklearn` to predict the `Legendary` status of a pokemon. Perform the following tasks:"
   ]
  },
  {
   "cell_type": "markdown",
   "metadata": {},
   "source": [
    "1. Complete the following function such that it will return the best combination of 2 columns to use to predict the Legendary status of a pokemon for a KNN classifier when `n_neighbours = 10` . You should check every pair of numerical columns and return the best pair (with the names as a list) based on accuracy.\n",
    "\n",
    "Note: You should only use numerical columns."
   ]
  },
  {
   "cell_type": "code",
   "execution_count": 20,
   "metadata": {},
   "outputs": [],
   "source": [
    "def pairChecker(data):\n",
    "    \"\"\"\n",
    "    Input/s: Dataframe of every column in the dataset\n",
    "    Expected Output/s: The names of the best performing pair of models based on accuracy of KNN classifier as a list.\n",
    "    \n",
    "    Expected steps: Determine the pairs of columns that can be used, for each pair implement a KNN classifier and\n",
    "                    check the accuracy score. Return the column names of the pair with the best accuracy score as a list.\n",
    "    \"\"\"\n",
    "    column_names=list(poke_data.columns[3:-1]) # remove name, type1, type2 and the taget variable\n",
    "    \n",
    "    # we can use the combinations function from itertools to get the column pairs\n",
    "    # but in the following, we are using nested loops to go through the column pairs\n",
    "    # combination_list=list(itertools.combinations(column_names,2))\n",
    "    \n",
    "    high_score = -1\n",
    "    best_features = []\n",
    "    for i in range(len(column_names) - 1):\n",
    "        for j in range(i+1, len(column_names)):\n",
    "            \n",
    "            features_to_test = [column_names[i],column_names[j]]\n",
    "            iter_df=poke_data[features_to_test]\n",
    "            iter_df['Legendary']=poke_data['Legendary']\n",
    "\n",
    "            train,test=train_test_split(iter_df,test_size=0.2)\n",
    "\n",
    "            knn=KNeighborsClassifier(n_neighbors=10)\n",
    "            iter_model=knn.fit(train.iloc[:,:-1],train.iloc[:,-1])\n",
    "            test_score=iter_model.score(test.iloc[:,:-1],test.iloc[:,-1])\n",
    "\n",
    "            if test_score>high_score:\n",
    "                high_score = test_score\n",
    "                best_features =  features_to_test\n",
    "                \n",
    "    return best_features"
   ]
  },
  {
   "cell_type": "code",
   "execution_count": 24,
   "metadata": {},
   "outputs": [
    {
     "name": "stdout",
     "output_type": "stream",
     "text": [
      "Your best pair was:  ['Total', 'Sp. Def']\n",
      "Output is correct type\n"
     ]
    }
   ],
   "source": [
    "# Tester block\n",
    "print(\"Your best pair was: \", pairChecker(poke_data))\n",
    "if isinstance(pairChecker(poke_data), list):\n",
    "    print(\"Output is correct type\")\n",
    "else:\n",
    "    print(\"Output is not returned as a list of the column names\")"
   ]
  },
  {
   "cell_type": "markdown",
   "metadata": {},
   "source": [
    "2. Using the best pair you found above, implement a KNN classifier with 10 neighbours and a DecisionTreeClassifier and provide the prediction accuracy score and F1 score for each model."
   ]
  },
  {
   "cell_type": "code",
   "execution_count": 26,
   "metadata": {},
   "outputs": [
    {
     "name": "stdout",
     "output_type": "stream",
     "text": [
      "KNN\n",
      "Accuracy score:  0.95\n",
      "F1 score:  0.7333333333333334\n",
      "\n",
      "DecisionTree\n",
      "Accuracy score:  0.95\n",
      "F1 score:  0.7499999999999999\n",
      "\n"
     ]
    }
   ],
   "source": [
    "X=poke_data[pairChecker(poke_data)]\n",
    "y=poke_data['Legendary']\n",
    "\n",
    "train_x,test_x,train_y,test_y=train_test_split(X,y,test_size=0.2)\n",
    "\n",
    "#KNN\n",
    "knn_model=KNeighborsClassifier(n_neighbors=10)\n",
    "knn_model.fit(train_x,train_y)\n",
    "pred=knn_model.predict(test_x)\n",
    "print(\"KNN\")\n",
    "print(\"Accuracy score: \",accuracy_score(test_y,pred))\n",
    "print(\"F1 score: \",f1_score(test_y,pred))\n",
    "print()\n",
    "\n",
    "#DecisionTree\n",
    "dt_model = DecisionTreeClassifier()\n",
    "dt_model.fit(train_x,train_y)\n",
    "pred=dt_model.predict(test_x)\n",
    "print(\"DecisionTree\")\n",
    "print(\"Accuracy score: \",accuracy_score(test_y,pred))\n",
    "print(\"F1 score: \",f1_score(test_y,pred))\n",
    "print()"
   ]
  },
  {
   "cell_type": "markdown",
   "metadata": {},
   "source": [
    "3. What do the above metrics tell you about the performance of your models? Discuss how the metrics show that the models classify differently. Which would you rather use and why?"
   ]
  },
  {
   "cell_type": "raw",
   "metadata": {},
   "source": [
    "The metrics tells me about the accuracy of predicting the labels in each model. From the score, we can see that ... is performing better. The metrics also shows that the model is classifying differently given the different scores.\n",
    "\n",
    "By exploring the data, I would say there ar eimbalanced class as there is more 'False' than 'True' in the Legendary column. Therefore I would use the F1-score, which prioritises False Negative and False Positive."
   ]
  },
  {
   "cell_type": "markdown",
   "metadata": {},
   "source": [
    "### Q2.3 - Charmander's Clustering"
   ]
  },
  {
   "cell_type": "markdown",
   "metadata": {},
   "source": [
    "1. Using the Pokemon dataset, implement the `KMeans` clustering algorithm with `k=5` and `k=3` using `sklearn` or equivalent packages. Provide graphical representations of your clustering outputs."
   ]
  },
  {
   "cell_type": "code",
   "execution_count": 27,
   "metadata": {},
   "outputs": [
    {
     "data": {
      "image/png": "[encoded data removed]",
      "text/plain": [
       "<Figure size 1080x360 with 2 Axes>"
      ]
     },
     "metadata": {
      "needs_background": "light"
     },
     "output_type": "display_data"
    }
   ],
   "source": [
    "#If we are using numerical data\n",
    "fig = plt.figure(figsize=(15,5))\n",
    "colors=[\"red\",\"blue\",\"green\",\"purple\",\"orange\"]\n",
    "\n",
    "pca = PCA(n_components=2)\n",
    "poke_reduced=pd.DataFrame(pca.fit_transform(poke_data.iloc[:,3:-1])) \n",
    "\n",
    "#Five cluster\n",
    "km5_model = KMeans(n_clusters=5)\n",
    "km5_model.fit(poke_reduced)\n",
    "\n",
    "ax1 = fig.add_subplot(121)\n",
    "for i in range(np.max(km5_model.labels_)+1):\n",
    "    plt.scatter(poke_reduced[km5_model.labels_==i].iloc[:,0], poke_reduced[km5_model.labels_==i].iloc[:,1], label=i, c=colors[i], alpha=0.5)\n",
    "plt.scatter(km5_model.cluster_centers_[:,0], km5_model.cluster_centers_[:,1], label='Cluster Centers', c=\"black\", s=200)\n",
    "plt.title(\"K-Means 5 Cluster of Pokemon\",size=20)\n",
    "plt.xlabel(\"Principle Component 1\", size=16)\n",
    "plt.ylabel(\"Principle Component 2\", size=16)\n",
    "plt.legend()\n",
    "\n",
    "#Three cluster\n",
    "km3_model = KMeans(n_clusters=3)\n",
    "km3_model.fit(poke_reduced)\n",
    "\n",
    "ax2=fig.add_subplot(122)\n",
    "for i in range(np.max(km3_model.labels_)+1):\n",
    "    plt.scatter(poke_reduced[km3_model.labels_==i].iloc[:,0], poke_reduced[km3_model.labels_==i].iloc[:,1], label=i, c=colors[i], alpha=0.5)\n",
    "plt.scatter(km3_model.cluster_centers_[:,0], km3_model.cluster_centers_[:,1], label='Cluster Centers', c=\"black\", s=200)\n",
    "plt.title(\"K-Means 3 Cluster of Pokemon\",size=20)\n",
    "plt.xlabel(\"Principle Component 1\", size=16)\n",
    "plt.ylabel(\"Principle Component 2\", size=16)\n",
    "plt.legend()\n",
    "plt.show()"
   ]
  },
  {
   "cell_type": "markdown",
   "metadata": {},
   "source": [
    "2. Which k value is better for your clustering (or is neither appropriate)? Explain how different k values could be more (or less) appropriate."
   ]
  },
  {
   "cell_type": "raw",
   "metadata": {},
   "source": [
    "It is hard to hard to determine the value of k here. A better way is to use the elbow method to find the best k. https://en.wikipedia.org/wiki/Elbow_method_(clustering)"
   ]
  },
  {
   "cell_type": "code",
   "execution_count": 28,
   "metadata": {},
   "outputs": [
    {
     "data": {
      "text/html": [
       "<div>\n",
       "<style scoped>\n",
       "    .dataframe tbody tr th:only-of-type {\n",
       "        vertical-align: middle;\n",
       "    }\n",
       "\n",
       "    .dataframe tbody tr th {\n",
       "        vertical-align: top;\n",
       "    }\n",
       "\n",
       "    .dataframe thead th {\n",
       "        text-align: right;\n",
       "    }\n",
       "</style>\n",
       "<table border=\"1\" class=\"dataframe\">\n",
       "  <thead>\n",
       "    <tr style=\"text-align: right;\">\n",
       "      <th></th>\n",
       "      <th>Cluster</th>\n",
       "      <th>Size</th>\n",
       "      <th>Mean Total</th>\n",
       "    </tr>\n",
       "  </thead>\n",
       "  <tbody>\n",
       "    <tr>\n",
       "      <th>0</th>\n",
       "      <td>0</td>\n",
       "      <td>289</td>\n",
       "      <td>304.19</td>\n",
       "    </tr>\n",
       "    <tr>\n",
       "      <th>1</th>\n",
       "      <td>1</td>\n",
       "      <td>123</td>\n",
       "      <td>622.57</td>\n",
       "    </tr>\n",
       "    <tr>\n",
       "      <th>2</th>\n",
       "      <td>2</td>\n",
       "      <td>388</td>\n",
       "      <td>473.18</td>\n",
       "    </tr>\n",
       "  </tbody>\n",
       "</table>\n",
       "</div>"
      ],
      "text/plain": [
       "   Cluster  Size  Mean Total\n",
       "0        0   289      304.19\n",
       "1        1   123      622.57\n",
       "2        2   388      473.18"
      ]
     },
     "execution_count": 28,
     "metadata": {},
     "output_type": "execute_result"
    }
   ],
   "source": [
    "# Three clsuter\n",
    "k = np.max(km3_model.labels_)+1\n",
    "df_clusters = [poke_data[km3_model.labels_==i] for i in range(k)]\n",
    "\n",
    "clus_dict = { \n",
    "    'Cluster' : list(range(k)),\n",
    "    'Size' :    [len(df_clusters[i]) for i in range(k)],\n",
    "    'Mean Total' :  [round(df_clusters[i]['Total'].mean(), 2) for i in range(k)],\n",
    "}\n",
    "df_cluster_stats = pd.DataFrame(clus_dict)\n",
    "df_cluster_stats"
   ]
  },
  {
   "cell_type": "code",
   "execution_count": 29,
   "metadata": {},
   "outputs": [
    {
     "data": {
      "text/html": [
       "<div>\n",
       "<style scoped>\n",
       "    .dataframe tbody tr th:only-of-type {\n",
       "        vertical-align: middle;\n",
       "    }\n",
       "\n",
       "    .dataframe tbody tr th {\n",
       "        vertical-align: top;\n",
       "    }\n",
       "\n",
       "    .dataframe thead th {\n",
       "        text-align: right;\n",
       "    }\n",
       "</style>\n",
       "<table border=\"1\" class=\"dataframe\">\n",
       "  <thead>\n",
       "    <tr style=\"text-align: right;\">\n",
       "      <th></th>\n",
       "      <th>Cluster</th>\n",
       "      <th>Size</th>\n",
       "      <th>Mean Total</th>\n",
       "    </tr>\n",
       "  </thead>\n",
       "  <tbody>\n",
       "    <tr>\n",
       "      <th>0</th>\n",
       "      <td>0</td>\n",
       "      <td>153</td>\n",
       "      <td>418.39</td>\n",
       "    </tr>\n",
       "    <tr>\n",
       "      <th>1</th>\n",
       "      <td>1</td>\n",
       "      <td>197</td>\n",
       "      <td>321.32</td>\n",
       "    </tr>\n",
       "    <tr>\n",
       "      <th>2</th>\n",
       "      <td>2</td>\n",
       "      <td>118</td>\n",
       "      <td>625.46</td>\n",
       "    </tr>\n",
       "    <tr>\n",
       "      <th>3</th>\n",
       "      <td>3</td>\n",
       "      <td>257</td>\n",
       "      <td>501.24</td>\n",
       "    </tr>\n",
       "    <tr>\n",
       "      <th>4</th>\n",
       "      <td>4</td>\n",
       "      <td>75</td>\n",
       "      <td>241.95</td>\n",
       "    </tr>\n",
       "  </tbody>\n",
       "</table>\n",
       "</div>"
      ],
      "text/plain": [
       "   Cluster  Size  Mean Total\n",
       "0        0   153      418.39\n",
       "1        1   197      321.32\n",
       "2        2   118      625.46\n",
       "3        3   257      501.24\n",
       "4        4    75      241.95"
      ]
     },
     "execution_count": 29,
     "metadata": {},
     "output_type": "execute_result"
    }
   ],
   "source": [
    "#Five Cluster\n",
    "k = np.max(km5_model.labels_)+1\n",
    "df_clusters = [poke_data[km5_model.labels_==i] for i in range(k)]\n",
    "\n",
    "clus_dict = { \n",
    "    'Cluster' : list(range(k)),\n",
    "    'Size' :    [len(df_clusters[i]) for i in range(k)],\n",
    "    'Mean Total' :  [round(df_clusters[i]['Total'].mean(), 2) for i in range(k)],\n",
    "}\n",
    "df_cluster_stats = pd.DataFrame(clus_dict)\n",
    "df_cluster_stats"
   ]
  },
  {
   "cell_type": "markdown",
   "metadata": {},
   "source": [
    "3. Explain the limitations of KMeans and give examples of how and when it would be unsuitable."
   ]
  },
  {
   "cell_type": "raw",
   "metadata": {},
   "source": [
    "KMeans is relatively simple to implement and generalizes to different clusters. However, a limitation is tht we have to choose k manually and the outcome is dependent on the inital values of the cluster centers."
   ]
  },
  {
   "cell_type": "markdown",
   "metadata": {},
   "source": [
    "***"
   ]
  },
  {
   "cell_type": "markdown",
   "metadata": {},
   "source": [
    "## Q3: Databases and Relational Algebra "
   ]
  },
  {
   "cell_type": "markdown",
   "metadata": {},
   "source": [
    "### Q3.1 Short Answers\n",
    "Answer the following theoretical questions regarding databases and relational algebra. Again, you should not need to do external research to answer them, but if you're stuck you can either refer to your tutor or look through lectures and/or online resources."
   ]
  },
  {
   "cell_type": "markdown",
   "metadata": {},
   "source": [
    "1. What is the difference between the flat file and hierarchical database models? Provide an example of each."
   ]
  },
  {
   "cell_type": "raw",
   "metadata": {},
   "source": [
    "Flat file is like an excel sheet, where the data is written in simple table format. Whereas Hierarchical is where the data is organised into a tree-like structure, an example is IBM Information Management System (IMS)."
   ]
  },
  {
   "cell_type": "markdown",
   "metadata": {},
   "source": [
    "2. What are the typical layers in a 2-tier Architecture model? How can an Architecture be extended to n-layers?"
   ]
  },
  {
   "cell_type": "raw",
   "metadata": {},
   "source": [
    "In 2 tier, we divide to client as 1, client server and DBMS as another. In more layers,we can divide server into different sections/layer and DBMS as well."
   ]
  },
  {
   "cell_type": "markdown",
   "metadata": {},
   "source": [
    "3. What is the difference between a Data-definition and Data-manipulation language?"
   ]
  },
  {
   "cell_type": "raw",
   "metadata": {},
   "source": [
    "Data definition is sepcifying the database structure, while data manipulation is the access/modification of the data from the storage."
   ]
  },
  {
   "cell_type": "markdown",
   "metadata": {},
   "source": [
    "4. What are the features of a 2NF normalised database?"
   ]
  },
  {
   "cell_type": "raw",
   "metadata": {},
   "source": [
    "Table is in 1NF and no dependency attributes"
   ]
  },
  {
   "cell_type": "markdown",
   "metadata": {},
   "source": [
    "5. What is the difference between a *well-formed* and a *valid* XML document? Why would you want to check if an XML document is *valid*?"
   ]
  },
  {
   "cell_type": "raw",
   "metadata": {},
   "source": [
    "well-formed satisfy syntax and valid satisfy underlying model. It is important to check if an XML document is valid because they might have missing value for certain field and that field might be compulsory."
   ]
  },
  {
   "cell_type": "markdown",
   "metadata": {},
   "source": [
    "### 3.2 SQL\n",
    "\n",
    "The following SQL commands were used to create the tables in the \"Supplier-Parts-Jobs\" database (`spj.db`):"
   ]
  },
  {
   "cell_type": "raw",
   "metadata": {},
   "source": [
    "CREATE TABLE suppliers (\n",
    "    s_id   TEXT PRIMARY KEY,\n",
    "    name   TEXT NOT NULL,\n",
    "    status TEXT NOT NULL,\n",
    "    city   TEXT NOT NULL\n",
    ");\n",
    "\n",
    "CREATE TABLE parts (\n",
    "    p_id   TEXT    PRIMARY KEY,\n",
    "    name   TEXT    NOT NULL,\n",
    "    colour TEXT    NOT NULL,\n",
    "    weight INTEGER NOT NULL,\n",
    "    city   TEXT    NOT NULL\n",
    ");\n",
    "\n",
    "CREATE TABLE supplier_inventory (\n",
    "    s_id     TEXT,\n",
    "    p_id     TEXT,\n",
    "    quantity INTEGER NOT NULL,\n",
    "    PRIMARY KEY (s_id, p_id),\n",
    "    FOREIGN KEY (s_id) REFERENCES suppliers (s_id),\n",
    "    FOREIGN KEY (p_id) REFERENCES parts (p_id)\n",
    ");\n",
    "\n",
    "CREATE TABLE jobs (\n",
    "    j_id TEXT PRIMARY KEY,\n",
    "    name TEXT NOT NULL,\n",
    "    city TEXT NOT NULL\n",
    ");\n",
    "\n",
    "CREATE TABLE requests (\n",
    "    s_id TEXT,\n",
    "    p_id TEXT,\n",
    "    j_id TEXT,\n",
    "    quantity INTEGER NOT NULL,\n",
    "    PRIMARY KEY (s_id, p_id, j_id)\n",
    "    FOREIGN KEY (s_id) REFERENCES suppliers (s_id),\n",
    "    FOREIGN KEY (p_id) REFERENCES parts (p_id),\n",
    "    FOREIGN KEY (j_id) REFERENCES jobs (j_id)\n",
    ");"
   ]
  },
  {
   "cell_type": "markdown",
   "metadata": {},
   "source": [
    "You will need to do further exploration to understand the data. If you make any assumptions on what the data means, state these assumptions clearly.\n",
    "\n",
    "Please answer the following questions. Provide both the answer, and the SQL you used to achieve the answer."
   ]
  },
  {
   "cell_type": "code",
   "execution_count": 30,
   "metadata": {},
   "outputs": [
    {
     "name": "stdout",
     "output_type": "stream",
     "text": [
      "Connection established!\n"
     ]
    }
   ],
   "source": [
    "def create_connection(db_file):\n",
    "    \"\"\" Connect to the specified SQLite database, if not exist, create a new one (in memory);\n",
    "    :db_file: location of db to connect to\n",
    "    :return: Connection object or None\n",
    "    \"\"\"\n",
    "    conn = None\n",
    "    try:\n",
    "        conn = sqlite3.connect(db_file)\n",
    "        print(\"Connection established!\")\n",
    "    except Error as e:\n",
    "        print(\"Error Connecting to Database\")\n",
    "        raise(e)\n",
    "    return conn\n",
    "\n",
    "dfloc_spj = \"./data/spj.db\"\n",
    "conn = create_connection(dfloc_spj) \n",
    "cur = conn.cursor()"
   ]
  },
  {
   "cell_type": "markdown",
   "metadata": {},
   "source": [
    "1. Find the names of all suppliers providing parts for the Console job."
   ]
  },
  {
   "cell_type": "code",
   "execution_count": 31,
   "metadata": {},
   "outputs": [
    {
     "data": {
      "text/html": [
       "<div>\n",
       "<style scoped>\n",
       "    .dataframe tbody tr th:only-of-type {\n",
       "        vertical-align: middle;\n",
       "    }\n",
       "\n",
       "    .dataframe tbody tr th {\n",
       "        vertical-align: top;\n",
       "    }\n",
       "\n",
       "    .dataframe thead th {\n",
       "        text-align: right;\n",
       "    }\n",
       "</style>\n",
       "<table border=\"1\" class=\"dataframe\">\n",
       "  <thead>\n",
       "    <tr style=\"text-align: right;\">\n",
       "      <th></th>\n",
       "      <th>name</th>\n",
       "    </tr>\n",
       "  </thead>\n",
       "  <tbody>\n",
       "    <tr>\n",
       "      <th>0</th>\n",
       "      <td>Smith</td>\n",
       "    </tr>\n",
       "    <tr>\n",
       "      <th>1</th>\n",
       "      <td>Jones</td>\n",
       "    </tr>\n",
       "    <tr>\n",
       "      <th>2</th>\n",
       "      <td>Adams</td>\n",
       "    </tr>\n",
       "  </tbody>\n",
       "</table>\n",
       "</div>"
      ],
      "text/plain": [
       "    name\n",
       "0  Smith\n",
       "1  Jones\n",
       "2  Adams"
      ]
     },
     "execution_count": 31,
     "metadata": {},
     "output_type": "execute_result"
    }
   ],
   "source": [
    "query = \"SELECT name FROM suppliers WHERE s_id IN \\\n",
    "            (SELECT s_id FROM requests WHERE j_id IN \\\n",
    "            (SELECT j_id FROM jobs WHERE name='Console'));\"\n",
    "            \n",
    "df = pd.read_sql_query(query, conn)\n",
    "df"
   ]
  },
  {
   "cell_type": "markdown",
   "metadata": {},
   "source": [
    "2. Which Part/s weigh the most?"
   ]
  },
  {
   "cell_type": "code",
   "execution_count": 32,
   "metadata": {},
   "outputs": [
    {
     "data": {
      "text/html": [
       "<div>\n",
       "<style scoped>\n",
       "    .dataframe tbody tr th:only-of-type {\n",
       "        vertical-align: middle;\n",
       "    }\n",
       "\n",
       "    .dataframe tbody tr th {\n",
       "        vertical-align: top;\n",
       "    }\n",
       "\n",
       "    .dataframe thead th {\n",
       "        text-align: right;\n",
       "    }\n",
       "</style>\n",
       "<table border=\"1\" class=\"dataframe\">\n",
       "  <thead>\n",
       "    <tr style=\"text-align: right;\">\n",
       "      <th></th>\n",
       "      <th>p_id</th>\n",
       "      <th>name</th>\n",
       "      <th>weight</th>\n",
       "    </tr>\n",
       "  </thead>\n",
       "  <tbody>\n",
       "    <tr>\n",
       "      <th>0</th>\n",
       "      <td>P6</td>\n",
       "      <td>Cog</td>\n",
       "      <td>19</td>\n",
       "    </tr>\n",
       "  </tbody>\n",
       "</table>\n",
       "</div>"
      ],
      "text/plain": [
       "  p_id name  weight\n",
       "0   P6  Cog      19"
      ]
     },
     "execution_count": 32,
     "metadata": {},
     "output_type": "execute_result"
    }
   ],
   "source": [
    "query = \"SELECT p_id, name,weight FROM parts ORDER BY weight DESC LIMIT 1;\"\n",
    "            \n",
    "df = pd.read_sql_query(query, conn)\n",
    "df"
   ]
  },
  {
   "cell_type": "markdown",
   "metadata": {},
   "source": [
    "3. Which part is most stocked by suppliers?"
   ]
  },
  {
   "cell_type": "code",
   "execution_count": 33,
   "metadata": {},
   "outputs": [
    {
     "data": {
      "text/html": [
       "<div>\n",
       "<style scoped>\n",
       "    .dataframe tbody tr th:only-of-type {\n",
       "        vertical-align: middle;\n",
       "    }\n",
       "\n",
       "    .dataframe tbody tr th {\n",
       "        vertical-align: top;\n",
       "    }\n",
       "\n",
       "    .dataframe thead th {\n",
       "        text-align: right;\n",
       "    }\n",
       "</style>\n",
       "<table border=\"1\" class=\"dataframe\">\n",
       "  <thead>\n",
       "    <tr style=\"text-align: right;\">\n",
       "      <th></th>\n",
       "      <th>p_id</th>\n",
       "      <th>MAX(sum)</th>\n",
       "    </tr>\n",
       "  </thead>\n",
       "  <tbody>\n",
       "    <tr>\n",
       "      <th>0</th>\n",
       "      <td>P3</td>\n",
       "      <td>6400</td>\n",
       "    </tr>\n",
       "  </tbody>\n",
       "</table>\n",
       "</div>"
      ],
      "text/plain": [
       "  p_id  MAX(sum)\n",
       "0   P3      6400"
      ]
     },
     "execution_count": 33,
     "metadata": {},
     "output_type": "execute_result"
    }
   ],
   "source": [
    "query = \"SELECT p_id, MAX(sum) FROM \\\n",
    "            (SELECT p_id, SUM(quantity) AS sum FROM supplier_inventory GROUP BY p_id);\"\n",
    "            \n",
    "df = pd.read_sql_query(query, conn)\n",
    "df"
   ]
  },
  {
   "cell_type": "markdown",
   "metadata": {},
   "source": [
    "4.  Find the s_id and names of suppliers supplying parts to jobs where the city of the supplier, the part, and the job are all different to each other."
   ]
  },
  {
   "cell_type": "code",
   "execution_count": 34,
   "metadata": {},
   "outputs": [
    {
     "data": {
      "text/html": [
       "<div>\n",
       "<style scoped>\n",
       "    .dataframe tbody tr th:only-of-type {\n",
       "        vertical-align: middle;\n",
       "    }\n",
       "\n",
       "    .dataframe tbody tr th {\n",
       "        vertical-align: top;\n",
       "    }\n",
       "\n",
       "    .dataframe thead th {\n",
       "        text-align: right;\n",
       "    }\n",
       "</style>\n",
       "<table border=\"1\" class=\"dataframe\">\n",
       "  <thead>\n",
       "    <tr style=\"text-align: right;\">\n",
       "      <th></th>\n",
       "      <th>s_id</th>\n",
       "      <th>name</th>\n",
       "    </tr>\n",
       "  </thead>\n",
       "  <tbody>\n",
       "    <tr>\n",
       "      <th>0</th>\n",
       "      <td>S2</td>\n",
       "      <td>Jones</td>\n",
       "    </tr>\n",
       "    <tr>\n",
       "      <th>1</th>\n",
       "      <td>S3</td>\n",
       "      <td>Blake</td>\n",
       "    </tr>\n",
       "    <tr>\n",
       "      <th>2</th>\n",
       "      <td>S5</td>\n",
       "      <td>Adams</td>\n",
       "    </tr>\n",
       "  </tbody>\n",
       "</table>\n",
       "</div>"
      ],
      "text/plain": [
       "  s_id   name\n",
       "0   S2  Jones\n",
       "1   S3  Blake\n",
       "2   S5  Adams"
      ]
     },
     "execution_count": 34,
     "metadata": {},
     "output_type": "execute_result"
    }
   ],
   "source": [
    "query = \"SELECT DISTINCT ss.s_id,ss.name FROM requests AS req INNER JOIN\\\n",
    "            suppliers AS ss INNER JOIN\\\n",
    "            parts AS ps INNER JOIN\\\n",
    "            jobs AS js \\\n",
    "            ON req.s_id=ss.s_id AND req.p_id=ps.p_id AND req.j_id=js.j_id\\\n",
    "            WHERE ss.city!=ps.city AND ps.city!=js.city AND js.city!=ss.city;\"\n",
    "            \n",
    "df = pd.read_sql_query(query, conn)\n",
    "df"
   ]
  },
  {
   "cell_type": "markdown",
   "metadata": {},
   "source": [
    "5. Find all (suppliers, parts) where the supplier doesn't have enough parts to fill their requests."
   ]
  },
  {
   "cell_type": "code",
   "execution_count": 35,
   "metadata": {},
   "outputs": [
    {
     "data": {
      "text/html": [
       "<div>\n",
       "<style scoped>\n",
       "    .dataframe tbody tr th:only-of-type {\n",
       "        vertical-align: middle;\n",
       "    }\n",
       "\n",
       "    .dataframe tbody tr th {\n",
       "        vertical-align: top;\n",
       "    }\n",
       "\n",
       "    .dataframe thead th {\n",
       "        text-align: right;\n",
       "    }\n",
       "</style>\n",
       "<table border=\"1\" class=\"dataframe\">\n",
       "  <thead>\n",
       "    <tr style=\"text-align: right;\">\n",
       "      <th></th>\n",
       "      <th>s_id</th>\n",
       "      <th>p_id</th>\n",
       "    </tr>\n",
       "  </thead>\n",
       "  <tbody>\n",
       "    <tr>\n",
       "      <th>0</th>\n",
       "      <td>S1</td>\n",
       "      <td>P1</td>\n",
       "    </tr>\n",
       "    <tr>\n",
       "      <th>1</th>\n",
       "      <td>S4</td>\n",
       "      <td>P6</td>\n",
       "    </tr>\n",
       "    <tr>\n",
       "      <th>2</th>\n",
       "      <td>S5</td>\n",
       "      <td>P2</td>\n",
       "    </tr>\n",
       "  </tbody>\n",
       "</table>\n",
       "</div>"
      ],
      "text/plain": [
       "  s_id p_id\n",
       "0   S1   P1\n",
       "1   S4   P6\n",
       "2   S5   P2"
      ]
     },
     "execution_count": 35,
     "metadata": {},
     "output_type": "execute_result"
    }
   ],
   "source": [
    "query=\"SELECT s_id,p_id FROM supplier_inventory AS si NATURAL JOIN\\\n",
    "        (SELECT s_id,p_id,SUM(quantity) AS sum FROM requests GROUP BY s_id,p_id) AS req\\\n",
    "        WHERE si.quantity<req.sum;\"\n",
    "# query = \"SELECT * FROM supplier_inventory AS si INNER JOIN requests AS req\\\n",
    "#             ON si.s_id=req.s_id AND si.p_id=req.p_id\\\n",
    "#             WHERE si.quantity<req.quantity\"\n",
    "            \n",
    "df = pd.read_sql_query(query, conn)\n",
    "df"
   ]
  },
  {
   "cell_type": "markdown",
   "metadata": {},
   "source": [
    "***"
   ]
  },
  {
   "cell_type": "markdown",
   "metadata": {},
   "source": [
    "## Q4: Security\n",
    "Answer the following questions regarding security. You should not need to do external research to answer them, but if you're stuck you can either refer to your tutor or look through lectures and/or online resources."
   ]
  },
  {
   "cell_type": "markdown",
   "metadata": {},
   "source": [
    "### 4.1: Security Multiple Choice"
   ]
  },
  {
   "cell_type": "markdown",
   "metadata": {},
   "source": [
    "1. A *fabrication* attack is an attack on:\n",
    "\n",
    "    1. Availability\n",
    "    2. Confidentiality\n",
    "    3. Authenticity\n",
    "    4. Integrity"
   ]
  },
  {
   "cell_type": "raw",
   "metadata": {},
   "source": [
    "C,D"
   ]
  },
  {
   "cell_type": "markdown",
   "metadata": {},
   "source": [
    "2. An RSA public key is given by (e,n) = (3,33). Suppose we want to encrypt the number 7 using this key. Then, the encrypted number is:\n",
    "\n",
    "    1. 7\n",
    "    2. 21\n",
    "    3. 13\n",
    "    4. 23"
   ]
  },
  {
   "cell_type": "raw",
   "metadata": {},
   "source": [
    "C"
   ]
  },
  {
   "cell_type": "markdown",
   "metadata": {},
   "source": [
    "3. Which technology is considered to be able to break current public-key encryption algorithms in the future? Select the most appropriate answer.\n",
    "\n",
    "    1. Probabilistic Computation\n",
    "    2. Neuron Networks\n",
    "    3. Quantum Computing\n",
    "    4. AI"
   ]
  },
  {
   "cell_type": "raw",
   "metadata": {},
   "source": [
    "C"
   ]
  },
  {
   "cell_type": "markdown",
   "metadata": {},
   "source": [
    "4. Which of the following encryption algorithms is considered unbreakable? Select one or more.\n",
    "\n",
    "   - RSA\n",
    "   - El-Gamal\n",
    "   - One-Time Pad\n",
    "   - DES\n",
    "   - AES"
   ]
  },
  {
   "cell_type": "raw",
   "metadata": {},
   "source": [
    "C"
   ]
  },
  {
   "cell_type": "markdown",
   "metadata": {},
   "source": [
    "5. In creating a digital signature, the sender encrypts the document with (select one):\n",
    "\n",
    "    - The sender's public key\n",
    "    - The receiver's public key\n",
    "    - The sender's private key\n",
    "    - The receiver's private key\n",
    "    "
   ]
  },
  {
   "cell_type": "raw",
   "metadata": {},
   "source": [
    "C"
   ]
  },
  {
   "cell_type": "markdown",
   "metadata": {},
   "source": [
    "### 4.2: Security Short Answers"
   ]
  },
  {
   "cell_type": "markdown",
   "metadata": {},
   "source": [
    "1. A good hash function needs to be *collision resistant*. What does this mean? Why is this  important?"
   ]
  },
  {
   "cell_type": "raw",
   "metadata": {},
   "source": [
    "It means it is hard to get the same hash for different message. This is important as we want a distinctive number to represent our different messages.\n",
    "If message is not the same, hash not the same, then know if message is modified."
   ]
  },
  {
   "cell_type": "markdown",
   "metadata": {},
   "source": [
    "2. What are the three key principles of the information security triad? Briefly describe each one of these three principles."
   ]
  },
  {
   "cell_type": "raw",
   "metadata": {},
   "source": [
    "Confidentiality, Integrity and Avalability\n",
    "It is only accessed to those people with the correct security clearance and integrity means data cannot be modfied by other user. Lastly the information is available to the correct person."
   ]
  },
  {
   "cell_type": "markdown",
   "metadata": {},
   "source": [
    "3. Bob wants to send a signed, confidential message to Alice. Discuss how he could go about doing this using cryptographic techniques. What are the pros and cons of your suggested approach?"
   ]
  },
  {
   "cell_type": "raw",
   "metadata": {},
   "source": [
    "He gets his own private key and sign the message, and then Alice uses the public key certificated and registered in a trusted third party (TTP) to get the message. The pro is the security of it but the con is the key might not be updated and they are not using the same a trusted third party (TTP)."
   ]
  },
  {
   "cell_type": "markdown",
   "metadata": {},
   "source": [
    "****\n",
    "## Q5: Ethics\n",
    "Answer the following questions on ethics. You may need to refer to the lectures or external resources for the first question, but you should not do research for the second question. Feel free to speak to your tutor to discuss your responses."
   ]
  },
  {
   "cell_type": "markdown",
   "metadata": {},
   "source": [
    "1. Describe a `PET` and how they can be used to mitigate a number of ethical risks that have been brought up over the course of the semester."
   ]
  },
  {
   "cell_type": "raw",
   "metadata": {},
   "source": [
    "PET(Privacy enhancing Technologies) has been mainly be used by online users to protect the privacy of their personal data. An example is Pseudonymization, where the identifiers are replaced by pseudonyms, so the data would be less identifiable when running data analysis. This could have helped the Apple's credit card issue we talked about in Lab7, general collective of data eg via chatbot.  "
   ]
  },
  {
   "cell_type": "markdown",
   "metadata": {},
   "source": [
    "2. Discuss why it is important to consider ethical implications when creating a machine learning model to predict the amount of credit someone can receive on a credit card."
   ]
  },
  {
   "cell_type": "raw",
   "metadata": {},
   "source": [
    "Take for example the Apple's credit card discussed before. If we do not consider ethical implications, and not check the data, the model could have been using implied data to identify certain people and find unintended pattern in predicting the credit one should receive. "
   ]
  },
  {
   "cell_type": "markdown",
   "metadata": {},
   "source": [
    "****\n",
    "If you're unsure about any of your answers - for this lab or any previous labs - discuss with your tutor. Otherwise, congratulations on completing all the labs for COMP2420! "
   ]
  }
 ],
 "metadata": {
  "kernelspec": {
   "display_name": "Python 3 (ipykernel)",
   "language": "python",
   "name": "python3"
  },
  "language_info": {
   "codemirror_mode": {
    "name": "ipython",
    "version": 3
   },
   "file_extension": ".py",
   "mimetype": "text/x-python",
   "name": "python",
   "nbconvert_exporter": "python",
   "pygments_lexer": "ipython3",
   "version": "3.8.16"
  }
 },
 "nbformat": 4,
 "nbformat_minor": 4
}
