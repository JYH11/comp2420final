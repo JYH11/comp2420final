{
 "cells": [
  {
   "cell_type": "markdown",
   "metadata": {},
   "source": [
    "<h1 align='center'> COMP2420/COMP6420 - Introduction to Data Management, Analysis and Security</h1>\n",
    "\n",
    "<h2 align='center'> Lab 07 - Introduction to SQL</h2>\n",
    "\n",
    "*****"
   ]
  },
  {
   "cell_type": "markdown",
   "metadata": {},
   "source": [
    "## Learning Outcomes\n",
    "- L01: Demonstrate a conceptual understanding of database systems and architecture, data models and declarative query languages\n",
    "- L02: Define, query and manipulate a relational database\n",
    "- L06: Apply their knowledge to a given problem domain\n",
    "***"
   ]
  },
  {
   "cell_type": "markdown",
   "metadata": {},
   "source": [
    "## Preparation\n",
    "\n",
    "Before starting this lab, we suggest you complete the following:\n",
    "- Watch all lectures covering data types, database models, relational model (especially relational algebra) and DML commands\n",
    "\n",
    "\n",
    "The following functions may be useful for this lab:  \n",
    "\n",
    "| DML Commands and clause keywords(Query part)|(We will be using a lot in this lab)              |\n",
    "| ---:                                            | :---                                         |\n",
    "| `SELECT`                                        | Used to retrieve data from the database.     |\n",
    "| `DISTINCT`                                      | For removing duplicate tuples in the query result.     |\n",
    "| `GROUP BY`                                      | Groups tuples for each value combination.     |\n",
    "| `COUNT`, `AVG`, `MIN`, `MAX`, `SUM`              | Total number/average/smallest/biggest/sum of argument values.     |\n",
    "| `HAVING`                                        | Add the condition on the groups.     |\n",
    "| `ORDER BY`                                      | Sort the tuples in a query result.|\n",
    "\n",
    "***"
   ]
  },
  {
   "cell_type": "markdown",
   "metadata": {},
   "source": [
    "## Aim\n",
    "\n",
    "Our aim in this lab is to strengthen understanding of key concepts from lecture including data types, DB models, relational model and DBMS. A SQLite database will be the practical instance used to learn to create a database, query and display entires in relation in a meaningful and informative manner using filters and creating calculated fields. We will then practise drawing inferences from this data.\n",
    "*****"
   ]
  },
  {
   "cell_type": "code",
   "execution_count": 1,
   "metadata": {},
   "outputs": [],
   "source": [
    "# Code Imports\n",
    "import numpy as np\n",
    "import pandas as pd\n",
    "import sqlite3\n",
    "from sqlite3 import Error"
   ]
  },
  {
   "cell_type": "markdown",
   "metadata": {},
   "source": [
    "## Question 1: **Data types and database models**\n",
    "\n",
    "While our previous work in data analysis and machine learning in this course has provided us with a very loose interpretation of data structuring, we won't be able to apply the same rules for defining data going forward. As discussed in the lectures, data can be classified based on it's characteristics to aid in storage, retrevial and other operations. In the case of Databases, you must learn to first crawl before walk, and walk before run. Therefore, we will be starting with determining the classification of data, before moving onto the more code heavy questions."
   ]
  },
  {
   "cell_type": "markdown",
   "metadata": {},
   "source": [
    "### Q1.1: **Data types: warm-up quick classification**\n",
    "\n",
    "Like starting gym work with stretches, let's make our brain start spinning! \n",
    "Please review the lecture slides regarding the characteristics of data, then complete the exercise below as fast as possible. No cheating by looking back at the slides!"
   ]
  },
  {
   "cell_type": "markdown",
   "metadata": {},
   "source": [
    "#### Please indicate which data type each example below belongs to:\n",
    "Your options are: \n",
    "\n",
    "| Option | Identifier |\n",
    "| :----- | :--------  |\n",
    "| Structured | 1 |\n",
    "| Semi-Structured | 2 |\n",
    "| Unstructured | 3 |"
   ]
  },
  {
   "cell_type": "raw",
   "metadata": {},
   "source": [
    "# Enter Your Number in the `type` column\n",
    "\n",
    "| Example               |type          | \n",
    "| --------------------- |------------- | \n",
    "| `Spreadsheets`        | 1.           |          \n",
    "| `Server logs`         | 1.           | \n",
    "| `Tweets`              | 3.           | \n",
    "| `Postgre SQL`         | 1.           | \n",
    "| `titanic.csv dataset` | 2.           | \n",
    "| `JSON documents`      | 2.           | \n",
    "| `Mongodb`             |      2.      |   \n",
    "| `Email`               |      3.      |\n",
    "| `Echo360 recordings`  |      3.      |\n",
    "| `Chiefley catalogues` |      1.      |\n",
    "| `XML documents`       |      2.      |\n",
    "| `ANU homepage content`|      3.      |"
   ]
  },
  {
   "cell_type": "markdown",
   "metadata": {},
   "source": [
    "There will always be the existential question of **\"why?\"**. Check with some of your fellow students and your tutor, and see if there are any inconsistencies. Make your case with your colleagues and see if you can come to a conclusion."
   ]
  },
  {
   "cell_type": "markdown",
   "metadata": {},
   "source": [
    "### Q1.2: **Data types: Existence is reason**\n",
    "Though structured data is organised and the easiest to query and analyse, the other two data types have their own use case. Come up with a scenario where a data analyst would prefer semi-structured data over structured data in his/her daily job. You are more than welcome to discuss this with your neighbours."
   ]
  },
  {
   "cell_type": "raw",
   "metadata": {},
   "source": [
    "### Your answer here\n",
    "\n",
    "Sample answer: Assuming you as a data analyst got a customer from online shopping enterprise demanding you analyse their last seasonal sellings, rather than grant you with carefully constrained permission to view entries in company's database, it is more preferrable for them to hand you with *csv* or *json* files containing all information you need."
   ]
  },
  {
   "cell_type": "markdown",
   "metadata": {},
   "source": [
    "### Q1.3: **The Data Runway: Database models**\n",
    "> Move over Gigi Hadid and Kendall Jenner, data is the new queen of the runway.\n",
    "\n",
    "Modelling a database is one of the key ways of ensuring your DB is fit for purpose and meets your requirements. This can be performed at many stages of the development process for any software development and integration (this is discussed in [COMP3120](https://programsandcourses.anu.edu.au/course/comp3120)), and it is therefore vital to be able to visualise and model the various aspects of your data. \n",
    "\n",
    "We are interested in 3 key points of data modelling, which we want you to discuss here. Your tasks are as follows:\n",
    "- Compare and Contrast the characteristics of a `Conceptual`, `Logical` and `Physical` data model.\n",
    "- Find an image or set of images online that highlight the differences between these items and discuss how these images show the unique characteristics of each model.\n",
    "\n",
    "You are welcome to discuss this with your tutor. "
   ]
  },
  {
   "cell_type": "raw",
   "metadata": {},
   "source": [
    "### Your answer here\n",
    "I'd refer to this piece:\n",
    "- https://www.guru99.com/data-modelling-conceptual-logical.html"
   ]
  },
  {
   "cell_type": "markdown",
   "metadata": {},
   "source": [
    "By this point, you should have some basic idea of data management in the bag. Now we can move onto the underlying logic behind database systems such as SQL."
   ]
  },
  {
   "cell_type": "markdown",
   "metadata": {},
   "source": [
    "*****\n",
    "## Question 2: Relational Algebra: why and how\n",
    "[Relational Algebra](https://www.tutorialspoint.com/dbms/relational_algebra.htm) (RA), first proposed by [Edgar F. Codd](https://en.wikipedia.org/wiki/Edgar_F._Codd), is considered the basis for database query languages. In Question 2, we are going to dicuss why it is important, why we need it, and we'll practice writing relational algebra statements."
   ]
  },
  {
   "cell_type": "markdown",
   "metadata": {},
   "source": [
    "### Q2.1: **SQL not enough?**\n",
    "Before we get stuck into the depths of Relational Algebra (RA), lets discuss the high level ideas behind why we might consider relational algebra to be useful. Write down some notes for the following questions:\n",
    "\n",
    "- What is the difference between procedural and declarative languages?\n",
    "    - Which type does SQL belong to and why?\n",
    "- If we hand over the SQL statement directly to machine, what are some possible problems?\n",
    "    - How can RA address these problem? \n",
    "\n",
    "Discuss with your neighbours and put your ideas down below."
   ]
  },
  {
   "cell_type": "raw",
   "metadata": {},
   "source": [
    "### Your ideas here  \n",
    "\n",
    "Sample answers:  \n",
    "1. The main difference between two programming languages are: In procedural programming, we tell the computer *how* to solve the problem and in declarative programming, we tell the computer only what problem we want solved.\n",
    "2. SQL is a declarative language because the SQL programmer only needs to describe the query in terms of what rows to return.\n",
    "3. We will experience an efficiency bottleneck when implementing, since it is very hard to take a declarative statement and directly optimise it.\n",
    "4. For RA, it’s an algebra, like elementary algebra in math. RA defines a set of all possible relations together with a collection of relational operators for processing, which means optimisation can be easy like turning 2+2+2 into 2*3."
   ]
  },
  {
   "cell_type": "markdown",
   "metadata": {},
   "source": [
    "### Q2.2: **Pencil & eraser ready? Here comes RA exercise**\n",
    "After discussing Q2.1, you should be ready to feel the power of RA. The below exercise is aimed at increasing your confidence with writing RA statements.\n",
    "\n",
    "First consider a database with below schemas:  \n",
    "\n",
    "| relation schema |description             |\n",
    "| ---:                                            | :---                                         |\n",
    "|Person ( name, age, gender )       |   name is a key|\n",
    "|Frequents ( name, pizzeria )       |   (name, pizzeria) is a key|\n",
    "|Eats ( name, pizza )               |   (name, pizza) is a key|\n",
    "|Serves ( pizzeria, pizza, price )  |   (pizzeria, pizza) is a key|\n",
    "\n",
    "Secondly, recall the function items from the lecture slides. While we aren't going to fill in everything for you, the following symbols may be of use:\n",
    "- Π\n",
    "- σ\n",
    "- ρ\n",
    "- ⋈\n",
    "\n",
    "(You will find the meaning behind these symbols in the lecture slides)\n",
    "\n",
    "#### Using these symbols and the database above, answer the following questions:\n",
    "\n",
    "**Note: You may write these down instead of putting them in the notebook. Up to you!**"
   ]
  },
  {
   "attachments": {
    "image.png": {
     "image/png": "[encoded data removed]"
    }
   },
   "cell_type": "markdown",
   "metadata": {},
   "source": [
    "#### 1. Find all pizzerias frequented by at least one person under the age of 18.  \n",
    "![image.png](attachment:image.png)"
   ]
  },
  {
   "cell_type": "raw",
   "metadata": {},
   "source": [
    "# Your answer here"
   ]
  },
  {
   "attachments": {
    "image.png": {
     "image/png": "[encoded data removed]"
    }
   },
   "cell_type": "markdown",
   "metadata": {},
   "source": [
    "#### 2. Find the names of all females who eat either mushroom or pepperoni pizza (or both). \n",
    "![image.png](attachment:image.png)"
   ]
  },
  {
   "cell_type": "raw",
   "metadata": {},
   "source": [
    "# Your answer here"
   ]
  },
  {
   "attachments": {
    "image.png": {
     "image/png": "[encoded data removed]"
    }
   },
   "cell_type": "markdown",
   "metadata": {},
   "source": [
    "#### 3. Find all pizzerias that serve at least one pizza that Amy eats for less than $10.00. \n",
    "![image.png](attachment:image.png)"
   ]
  },
  {
   "cell_type": "raw",
   "metadata": {},
   "source": [
    "# Your answer here"
   ]
  },
  {
   "attachments": {
    "image.png": {
     "image/png": "[encoded data removed]"
    }
   },
   "cell_type": "markdown",
   "metadata": {},
   "source": [
    "#### 4. For each person, find all pizzas the person eats that are not served by any pizzeria the person frequents. List all such person (name) / pizza pairs.\n",
    "![image.png](attachment:image.png)"
   ]
  },
  {
   "cell_type": "raw",
   "metadata": {},
   "source": [
    "# Your answer here"
   ]
  },
  {
   "cell_type": "markdown",
   "metadata": {},
   "source": [
    "******\n",
    "## Question 3: Welcome the SQLite\n",
    "The lecture slides provide a good description of a DBMS\n",
    "> -Database Management System (DBMS) Consists of interrelated data and software for analysing the data\n",
    "\n",
    "There's so much more to say about DBMS. It implements one of the database model, does the heavy job of storing 1s and 0s and provides user convinient interface to do creation, updating, quering etc. Let's put all these buzzes in a context - SQLite!"
   ]
  },
  {
   "cell_type": "markdown",
   "metadata": {},
   "source": [
    "***\n",
    "## Detour: _SQLite_\n",
    "You may be wondering how we are planning on teaching SQL concepts without actually using a _\"real\"_ database. While many DBMS such as [PostgreSQL](https://www.postgresql.org) exist, there is additional overhead of installing items such as this, getting you used to them and getting them to interact with a Jupyter Notebook (or Python script, etc). While other courses (such as [COMP2400](https://programsandcourses.anu.edu.au/course/comp2400)) will use PostgreSQL or other items, we are going to go with the simple option as this is an introductory course. Therefore, enter _SQLite_!\n",
    "\n",
    "### What is _SQLite_ ?\n",
    "> SQLite is a C-language library that implements a [small](https://www.sqlite.org/footprint.html), [fast](https://www.sqlite.org/fasterthanfs.html), [self-contained](https://www.sqlite.org/selfcontained.html), [high-reliability](https://www.sqlite.org/hirely.html), [full-featured](https://www.sqlite.org/fullsql.html), SQL database engine. SQLite is the [most used](https://www.sqlite.org/mostdeployed.html) database engine in the world. SQLite is built into all mobile phones and most computers and comes bundled inside countless other applications that people use every day. ([reference](https://www.sqlite.org/index.html))\n",
    "\n",
    "### Why _SQLite?_\n",
    "The key difference from other DBMS: architecture\n",
    "\n",
    "1. Normally, a DBMS such as MySQL, PostgreSQL, etc., requires a separate server process to operate. The applications that want to access the database server use TCP/IP protocol to send and receive requests. This is called client/server architecture.\n",
    "\n",
    "![image.png](https://www.sqlitetutorial.net/wp-content/uploads/2015/12/RDBMS-Client-Server-Architecture.jpg)\n",
    "\n",
    "2. SQLite does NOT work this way. SQLite does NOT require a server to run. SQLite database is integrated with the application that accesses the database. The applications interact with the SQLite database read and write directly from the **database files stored on disk**.\n",
    "\n",
    "![image.png](https://www.sqlitetutorial.net/wp-content/uploads/2015/12/What-is-SQLite.jpg)  \n",
    "\n",
    "#### Other reasons we choose SQLite\n",
    "\n",
    "1. It's so light-weight that we do NOT need to install or configure anything since we are using its python interface (if you want to access the DB through command line like other DBMS, you need to install the commandline tool)\n",
    "2. PySQLite(*sqlite3* below): It is a python standard lib! We do not need to install any additional libraries!  \n",
    "3. PySQLite(*sqlite3* below): A standardized Python DBI API 2.0 compliant interface (i.e. same API for PSQL, MySQL etc.); \n",
    "****\n",
    "\n",
    "Okay, back to the actual work."
   ]
  },
  {
   "cell_type": "markdown",
   "metadata": {},
   "source": [
    "### **Creating and Playing with a Database**\n",
    "All the tables must reside in a database, even if it is a fake one in SQLite."
   ]
  },
  {
   "cell_type": "markdown",
   "metadata": {},
   "source": [
    "The first step is to connect to the database, below we have provided some [boilerplate code](https://en.wikipedia.org/wiki/Boilerplate_code) to handle the database connection. **Do not modify it**, otherwise things will break. (If the database does not exist, the connection operation will create it for us)\n",
    "\n",
    "If you check the `data` directory after running the below box, you will find the database file `sqliteQ3.db`.  \n",
    "Initially, we also provide you with toy tables with a few entries inside *sqliteQ3.db* to play with. For now, you do **NOT** need to know the details of defining schemas or inserting records. It is the content of the next lab."
   ]
  },
  {
   "cell_type": "code",
   "execution_count": 2,
   "metadata": {},
   "outputs": [
    {
     "name": "stdout",
     "output_type": "stream",
     "text": [
      "Connection established!\n"
     ]
    }
   ],
   "source": [
    "# Our code here, do NOT modify\n",
    "def create_connection(db_file):\n",
    "    \"\"\" Connect to the specified SQLite database, if not exist, create a new one;\n",
    "    :db_file: location of db to connect to\n",
    "    :return: Connection object or None\n",
    "    \"\"\"\n",
    "    conn = None\n",
    "    try:\n",
    "        conn = sqlite3.connect(db_file)\n",
    "        print(\"Connection established!\")\n",
    "    except Error as e:\n",
    "        print(e)\n",
    "    return conn\n",
    "\n",
    "db_file_loc = \"./data/sqliteQ3.db\"\n",
    "conn = create_connection(db_file_loc) # remember to close the connection when everything done"
   ]
  },
  {
   "cell_type": "markdown",
   "metadata": {},
   "source": [
    "#### **How do I extract information out of the database just created?**\n",
    "It's really simple! Since you already have a _Connection_, you can us `pd.read_sql_query` and execute the query you wish. You will have a pandas dataframe as a return.\n",
    "See the below example which query all records in table *tasks*."
   ]
  },
  {
   "cell_type": "code",
   "execution_count": 3,
   "metadata": {},
   "outputs": [
    {
     "data": {
      "text/html": [
       "<div>\n",
       "<style scoped>\n",
       "    .dataframe tbody tr th:only-of-type {\n",
       "        vertical-align: middle;\n",
       "    }\n",
       "\n",
       "    .dataframe tbody tr th {\n",
       "        vertical-align: top;\n",
       "    }\n",
       "\n",
       "    .dataframe thead th {\n",
       "        text-align: right;\n",
       "    }\n",
       "</style>\n",
       "<table border=\"1\" class=\"dataframe\">\n",
       "  <thead>\n",
       "    <tr style=\"text-align: right;\">\n",
       "      <th></th>\n",
       "      <th>name</th>\n",
       "      <th>begin_date</th>\n",
       "      <th>end_date</th>\n",
       "    </tr>\n",
       "    <tr>\n",
       "      <th>id</th>\n",
       "      <th></th>\n",
       "      <th></th>\n",
       "      <th></th>\n",
       "    </tr>\n",
       "  </thead>\n",
       "  <tbody>\n",
       "    <tr>\n",
       "      <th>1</th>\n",
       "      <td>First data analysis job in career</td>\n",
       "      <td>2020-01-01</td>\n",
       "      <td>2020-01-30</td>\n",
       "    </tr>\n",
       "  </tbody>\n",
       "</table>\n",
       "</div>"
      ],
      "text/plain": [
       "                                 name  begin_date    end_date\n",
       "id                                                           \n",
       "1   First data analysis job in career  2020-01-01  2020-01-30"
      ]
     },
     "metadata": {},
     "output_type": "display_data"
    }
   ],
   "source": [
    "# Our code here, do NOT modify\n",
    "query = \"SELECT * FROM projects;\"\n",
    "df_projects = pd.read_sql_query(query, conn)\n",
    "df_projects.set_index('id', inplace=True)\n",
    "display(df_projects)"
   ]
  },
  {
   "cell_type": "markdown",
   "metadata": {},
   "source": [
    "<br> \n",
    "Now it is your turn.\n",
    "\n",
    "#### Display all the entries in table *tasks*\n",
    "Once you have been able to display them, try making them prettier to look at. This will involve looking at the documentation, so have fun!"
   ]
  },
  {
   "cell_type": "code",
   "execution_count": 4,
   "metadata": {},
   "outputs": [
    {
     "data": {
      "text/html": [
       "<div>\n",
       "<style scoped>\n",
       "    .dataframe tbody tr th:only-of-type {\n",
       "        vertical-align: middle;\n",
       "    }\n",
       "\n",
       "    .dataframe tbody tr th {\n",
       "        vertical-align: top;\n",
       "    }\n",
       "\n",
       "    .dataframe thead th {\n",
       "        text-align: right;\n",
       "    }\n",
       "</style>\n",
       "<table border=\"1\" class=\"dataframe\">\n",
       "  <thead>\n",
       "    <tr style=\"text-align: right;\">\n",
       "      <th></th>\n",
       "      <th>name</th>\n",
       "      <th>priority</th>\n",
       "      <th>status_id</th>\n",
       "      <th>project_id</th>\n",
       "      <th>begin_date</th>\n",
       "      <th>end_date</th>\n",
       "    </tr>\n",
       "    <tr>\n",
       "      <th>id</th>\n",
       "      <th></th>\n",
       "      <th></th>\n",
       "      <th></th>\n",
       "      <th></th>\n",
       "      <th></th>\n",
       "      <th></th>\n",
       "    </tr>\n",
       "  </thead>\n",
       "  <tbody>\n",
       "    <tr>\n",
       "      <th>1</th>\n",
       "      <td>Explore the features of dataset and do visuali...</td>\n",
       "      <td>1</td>\n",
       "      <td>1</td>\n",
       "      <td>1</td>\n",
       "      <td>2020-01-01</td>\n",
       "      <td>2020-01-03</td>\n",
       "    </tr>\n",
       "    <tr>\n",
       "      <th>2</th>\n",
       "      <td>Explore dataset deeper by applying fancy unsup...</td>\n",
       "      <td>2</td>\n",
       "      <td>1</td>\n",
       "      <td>1</td>\n",
       "      <td>2020-01-03</td>\n",
       "      <td>2020`-01-06</td>\n",
       "    </tr>\n",
       "  </tbody>\n",
       "</table>\n",
       "</div>"
      ],
      "text/plain": [
       "                                                 name  priority  status_id  \\\n",
       "id                                                                           \n",
       "1   Explore the features of dataset and do visuali...         1          1   \n",
       "2   Explore dataset deeper by applying fancy unsup...         2          1   \n",
       "\n",
       "    project_id  begin_date     end_date  \n",
       "id                                       \n",
       "1            1  2020-01-01   2020-01-03  \n",
       "2            1  2020-01-03  2020`-01-06  "
      ]
     },
     "metadata": {},
     "output_type": "display_data"
    }
   ],
   "source": [
    "# Your code here\n",
    "query = \"SELECT * FROM tasks;\"\n",
    "df_tasks = pd.read_sql_query(query, conn)\n",
    "df_tasks.set_index('id', inplace=True)\n",
    "display(df_tasks)\n",
    "#conn.close() #close connection"
   ]
  },
  {
   "cell_type": "markdown",
   "metadata": {},
   "source": [
    "*****"
   ]
  },
  {
   "cell_type": "markdown",
   "metadata": {},
   "source": [
    "## Question 4: SQLite and ... the Premier League\n",
    "Data scientists don't only play with example databases! They are  good at extracting whatever they want from a real-life (or real-life-like) database. Since the aim of this course is to get you to the point of being a data scientist, let's see what you can get out of from the fragmentated Premier League match statistics.  \n",
    "\n",
    "**Note:** This Database is in the `data` directory in the `premier.db` file."
   ]
  },
  {
   "cell_type": "markdown",
   "metadata": {},
   "source": [
    "For your convinence, the columns of relation  are here: \n",
    "\n",
    "| relation    | schema |  \n",
    "| ---:        | :---   |  \n",
    "| `team`        | name, city|  \n",
    "| `player`      | player_id, name, position, height, weight, team |  \n",
    "| `game`        | game_id, home_team, away_team, homescore, awayscore|  \n",
    "| `game_stats`  | player_id, game_id, goals, assists, passes |  "
   ]
  },
  {
   "cell_type": "markdown",
   "metadata": {},
   "source": [
    "You can use the following command to find the names of the tables in the database."
   ]
  },
  {
   "cell_type": "code",
   "execution_count": 5,
   "metadata": {},
   "outputs": [
    {
     "data": {
      "text/html": [
       "<div>\n",
       "<style scoped>\n",
       "    .dataframe tbody tr th:only-of-type {\n",
       "        vertical-align: middle;\n",
       "    }\n",
       "\n",
       "    .dataframe tbody tr th {\n",
       "        vertical-align: top;\n",
       "    }\n",
       "\n",
       "    .dataframe thead th {\n",
       "        text-align: right;\n",
       "    }\n",
       "</style>\n",
       "<table border=\"1\" class=\"dataframe\">\n",
       "  <thead>\n",
       "    <tr style=\"text-align: right;\">\n",
       "      <th></th>\n",
       "      <th>name</th>\n",
       "      <th>sql</th>\n",
       "    </tr>\n",
       "  </thead>\n",
       "  <tbody>\n",
       "    <tr>\n",
       "      <th>0</th>\n",
       "      <td>projects</td>\n",
       "      <td>CREATE TABLE projects (\\n                     ...</td>\n",
       "    </tr>\n",
       "    <tr>\n",
       "      <th>1</th>\n",
       "      <td>tasks</td>\n",
       "      <td>CREATE TABLE tasks (\\n                        ...</td>\n",
       "    </tr>\n",
       "  </tbody>\n",
       "</table>\n",
       "</div>"
      ],
      "text/plain": [
       "       name                                                sql\n",
       "0  projects  CREATE TABLE projects (\\n                     ...\n",
       "1     tasks  CREATE TABLE tasks (\\n                        ..."
      ]
     },
     "metadata": {},
     "output_type": "display_data"
    }
   ],
   "source": [
    "# do NOT modify\n",
    "\n",
    "query = \"SELECT name, sql FROM sqlite_master WHERE type='table';\"\n",
    "df_result = pd.read_sql_query(query, conn)\n",
    "display(df_result)"
   ]
  },
  {
   "cell_type": "markdown",
   "metadata": {},
   "source": [
    "### Q4.1: **How's every table like?**\n",
    "\n",
    "By answering the below questions by quering the database, you can get a rough idea of what is in the *Premier League* database."
   ]
  },
  {
   "cell_type": "code",
   "execution_count": 6,
   "metadata": {},
   "outputs": [
    {
     "name": "stdout",
     "output_type": "stream",
     "text": [
      "Connection established!\n"
     ]
    }
   ],
   "source": [
    "# Don't forget to create a connection to the database\n",
    "# Your Code here\n",
    "conn =  create_connection(\"./data/premier.db\") # connect to the sqliteQ4.db"
   ]
  },
  {
   "cell_type": "markdown",
   "metadata": {
    "tags": []
   },
   "source": [
    "#### Q4.1.1: **What're the names of all the teams from London?**"
   ]
  },
  {
   "cell_type": "code",
   "execution_count": 8,
   "metadata": {},
   "outputs": [
    {
     "data": {
      "text/html": [
       "<div>\n",
       "<style scoped>\n",
       "    .dataframe tbody tr th:only-of-type {\n",
       "        vertical-align: middle;\n",
       "    }\n",
       "\n",
       "    .dataframe tbody tr th {\n",
       "        vertical-align: top;\n",
       "    }\n",
       "\n",
       "    .dataframe thead th {\n",
       "        text-align: right;\n",
       "    }\n",
       "</style>\n",
       "<table border=\"1\" class=\"dataframe\">\n",
       "  <thead>\n",
       "    <tr style=\"text-align: right;\">\n",
       "      <th></th>\n",
       "      <th>name</th>\n",
       "    </tr>\n",
       "  </thead>\n",
       "  <tbody>\n",
       "    <tr>\n",
       "      <th>0</th>\n",
       "      <td>Arsenal</td>\n",
       "    </tr>\n",
       "    <tr>\n",
       "      <th>1</th>\n",
       "      <td>Chelsea</td>\n",
       "    </tr>\n",
       "    <tr>\n",
       "      <th>2</th>\n",
       "      <td>Tottenham Hotspurs</td>\n",
       "    </tr>\n",
       "  </tbody>\n",
       "</table>\n",
       "</div>"
      ],
      "text/plain": [
       "                 name\n",
       "0             Arsenal\n",
       "1             Chelsea\n",
       "2  Tottenham Hotspurs"
      ]
     },
     "metadata": {},
     "output_type": "display_data"
    }
   ],
   "source": [
    "# Your Code Here\n",
    "query = 'SELECT name FROM team WHERE city=\"London\";'\n",
    "df_result = pd.read_sql_query(query, conn)\n",
    "display(df_result)"
   ]
  },
  {
   "cell_type": "markdown",
   "metadata": {},
   "source": [
    "#### Q4.1.2: **For the tallest player in the database, what is their height?**"
   ]
  },
  {
   "cell_type": "code",
   "execution_count": 9,
   "metadata": {},
   "outputs": [
    {
     "data": {
      "text/html": [
       "<div>\n",
       "<style scoped>\n",
       "    .dataframe tbody tr th:only-of-type {\n",
       "        vertical-align: middle;\n",
       "    }\n",
       "\n",
       "    .dataframe tbody tr th {\n",
       "        vertical-align: top;\n",
       "    }\n",
       "\n",
       "    .dataframe thead th {\n",
       "        text-align: right;\n",
       "    }\n",
       "</style>\n",
       "<table border=\"1\" class=\"dataframe\">\n",
       "  <thead>\n",
       "    <tr style=\"text-align: right;\">\n",
       "      <th></th>\n",
       "      <th>MAX(height)</th>\n",
       "    </tr>\n",
       "  </thead>\n",
       "  <tbody>\n",
       "    <tr>\n",
       "      <th>0</th>\n",
       "      <td>191</td>\n",
       "    </tr>\n",
       "  </tbody>\n",
       "</table>\n",
       "</div>"
      ],
      "text/plain": [
       "   MAX(height)\n",
       "0          191"
      ]
     },
     "metadata": {},
     "output_type": "display_data"
    }
   ],
   "source": [
    "# Your Code Here\n",
    "query = 'SELECT MAX(height) FROM player;'\n",
    "df_result = pd.read_sql_query(query, conn)\n",
    "display(df_result)"
   ]
  },
  {
   "cell_type": "markdown",
   "metadata": {},
   "source": [
    "#### Q4.1.3: **What's the *homescore* and *awayscore* for the only recorded *Liverpool* (home) VS *Chelsea* (away) game?**"
   ]
  },
  {
   "cell_type": "code",
   "execution_count": 10,
   "metadata": {},
   "outputs": [
    {
     "data": {
      "text/html": [
       "<div>\n",
       "<style scoped>\n",
       "    .dataframe tbody tr th:only-of-type {\n",
       "        vertical-align: middle;\n",
       "    }\n",
       "\n",
       "    .dataframe tbody tr th {\n",
       "        vertical-align: top;\n",
       "    }\n",
       "\n",
       "    .dataframe thead th {\n",
       "        text-align: right;\n",
       "    }\n",
       "</style>\n",
       "<table border=\"1\" class=\"dataframe\">\n",
       "  <thead>\n",
       "    <tr style=\"text-align: right;\">\n",
       "      <th></th>\n",
       "      <th>homescore</th>\n",
       "      <th>awayscore</th>\n",
       "    </tr>\n",
       "  </thead>\n",
       "  <tbody>\n",
       "    <tr>\n",
       "      <th>0</th>\n",
       "      <td>2</td>\n",
       "      <td>1</td>\n",
       "    </tr>\n",
       "  </tbody>\n",
       "</table>\n",
       "</div>"
      ],
      "text/plain": [
       "   homescore  awayscore\n",
       "0          2          1"
      ]
     },
     "metadata": {},
     "output_type": "display_data"
    }
   ],
   "source": [
    "# Your Code Here\n",
    "query = 'SELECT homescore, awayscore FROM game where home_team=\"Liverpool\" and away_team=\"Chelsea\";'\n",
    "df_result = pd.read_sql_query(query, conn)\n",
    "display(df_result)"
   ]
  },
  {
   "cell_type": "markdown",
   "metadata": {},
   "source": [
    "#### Q4.1.4: **For all the players that their performance is recorded in *game_stats*, what is the average goal per game for them (list their player_id and the average)?**"
   ]
  },
  {
   "cell_type": "code",
   "execution_count": 11,
   "metadata": {},
   "outputs": [
    {
     "data": {
      "text/html": [
       "<div>\n",
       "<style scoped>\n",
       "    .dataframe tbody tr th:only-of-type {\n",
       "        vertical-align: middle;\n",
       "    }\n",
       "\n",
       "    .dataframe tbody tr th {\n",
       "        vertical-align: top;\n",
       "    }\n",
       "\n",
       "    .dataframe thead th {\n",
       "        text-align: right;\n",
       "    }\n",
       "</style>\n",
       "<table border=\"1\" class=\"dataframe\">\n",
       "  <thead>\n",
       "    <tr style=\"text-align: right;\">\n",
       "      <th></th>\n",
       "      <th>player_id</th>\n",
       "      <th>AVG(goals)</th>\n",
       "    </tr>\n",
       "  </thead>\n",
       "  <tbody>\n",
       "    <tr>\n",
       "      <th>0</th>\n",
       "      <td>1</td>\n",
       "      <td>1.0</td>\n",
       "    </tr>\n",
       "    <tr>\n",
       "      <th>1</th>\n",
       "      <td>2</td>\n",
       "      <td>1.2</td>\n",
       "    </tr>\n",
       "    <tr>\n",
       "      <th>2</th>\n",
       "      <td>3</td>\n",
       "      <td>0.0</td>\n",
       "    </tr>\n",
       "    <tr>\n",
       "      <th>3</th>\n",
       "      <td>4</td>\n",
       "      <td>2.0</td>\n",
       "    </tr>\n",
       "    <tr>\n",
       "      <th>4</th>\n",
       "      <td>5</td>\n",
       "      <td>1.0</td>\n",
       "    </tr>\n",
       "  </tbody>\n",
       "</table>\n",
       "</div>"
      ],
      "text/plain": [
       "   player_id  AVG(goals)\n",
       "0          1         1.0\n",
       "1          2         1.2\n",
       "2          3         0.0\n",
       "3          4         2.0\n",
       "4          5         1.0"
      ]
     },
     "metadata": {},
     "output_type": "display_data"
    }
   ],
   "source": [
    "# Your Code here\n",
    "\n",
    "query = 'SELECT player_id, AVG(goals) FROM game_stats GROUP BY player_id;'\n",
    "df_result = pd.read_sql_query(query, conn)\n",
    "display(df_result)"
   ]
  },
  {
   "cell_type": "markdown",
   "metadata": {},
   "source": [
    "### Q4.2: **What if we want information from 2 (or more) tables?**\n",
    "As will be discussed in next week's lecture, it is a bad design to include too many fields within one table. The following question requires to connect 2 tables in the database. (That's not that hard, we have the *join* operation, don't we?)  \n",
    "\n",
    "#### **Question**: Who is our least strong (assuming only weight matters) player from London? List his weight only.  \n",
    "If you cannot complete this task by single SQL, try multiple first."
   ]
  },
  {
   "cell_type": "code",
   "execution_count": 13,
   "metadata": {},
   "outputs": [
    {
     "data": {
      "text/html": [
       "<div>\n",
       "<style scoped>\n",
       "    .dataframe tbody tr th:only-of-type {\n",
       "        vertical-align: middle;\n",
       "    }\n",
       "\n",
       "    .dataframe tbody tr th {\n",
       "        vertical-align: top;\n",
       "    }\n",
       "\n",
       "    .dataframe thead th {\n",
       "        text-align: right;\n",
       "    }\n",
       "</style>\n",
       "<table border=\"1\" class=\"dataframe\">\n",
       "  <thead>\n",
       "    <tr style=\"text-align: right;\">\n",
       "      <th></th>\n",
       "      <th>MIN(weight)</th>\n",
       "    </tr>\n",
       "  </thead>\n",
       "  <tbody>\n",
       "    <tr>\n",
       "      <th>0</th>\n",
       "      <td>73</td>\n",
       "    </tr>\n",
       "  </tbody>\n",
       "</table>\n",
       "</div>"
      ],
      "text/plain": [
       "   MIN(weight)\n",
       "0           73"
      ]
     },
     "metadata": {},
     "output_type": "display_data"
    }
   ],
   "source": [
    "# Your Code here\n",
    "\n",
    "query = 'SELECT MIN(weight) FROM team JOIN player ON team.name = player.team WHERE city = \"London\";'\n",
    "df_result = pd.read_sql_query(query, conn)\n",
    "display(df_result)"
   ]
  },
  {
   "cell_type": "markdown",
   "metadata": {},
   "source": [
    "That is it from us! Nice work on making it this far, and have a go at the extensions if you have time.\n",
    "*****"
   ]
  },
  {
   "cell_type": "markdown",
   "metadata": {},
   "source": [
    "## Extensions"
   ]
  },
  {
   "cell_type": "markdown",
   "metadata": {},
   "source": [
    "### **Converting between RA and SQL statement**\n",
    "To get a deeper understanding of SQL and RA, you can try converting RA into SQL statement(or vice versa). Have a go at your answers to Question 2, feel free to post on Piazza whenever you encounter any difficulty. \n",
    "Here is a good video demonstrating converting one example SQL into RA(advanced topic query tree is involved, which goes beyond course scope): https://www.coursera.org/lecture/data-manipulation/from-sql-to-ra-FR0Ke."
   ]
  },
  {
   "cell_type": "raw",
   "metadata": {},
   "source": [
    "# Your Work here"
   ]
  },
  {
   "cell_type": "markdown",
   "metadata": {},
   "source": [
    "*****\n",
    "## Resources\n",
    "\n",
    "- [w3 schools SQL keyword references](https://www.w3schools.com/sql/sql_ref_keywords.asp)\n",
    "- [w3 schools SQL tutorial](https://www.w3schools.com/sql/default.asp)\n",
    "- [SQLite python doc](https://docs.python.org/3.7/library/sqlite3.html)\n",
    "- [SQLite Tutorial](https://www.sqlitetutorial.net/)"
   ]
  },
  {
   "cell_type": "code",
   "execution_count": null,
   "metadata": {},
   "outputs": [],
   "source": []
  }
 ],
 "metadata": {
  "kernelspec": {
   "display_name": "Python 3 (ipykernel)",
   "language": "python",
   "name": "python3"
  },
  "language_info": {
   "codemirror_mode": {
    "name": "ipython",
    "version": 3
   },
   "file_extension": ".py",
   "mimetype": "text/x-python",
   "name": "python",
   "nbconvert_exporter": "python",
   "pygments_lexer": "ipython3",
   "version": "3.8.13"
  }
 },
 "nbformat": 4,
 "nbformat_minor": 4
}
