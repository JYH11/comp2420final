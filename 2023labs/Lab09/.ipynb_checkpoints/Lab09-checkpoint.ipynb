{
 "cells": [
  {
   "cell_type": "markdown",
   "metadata": {},
   "source": [
    "<h1 align='center'> COMP2420/COMP6420 - Introduction to Data Management, Analysis and Security</h1>\n",
    "\n",
    "<h2 align='center'> Lab 9 - Security I</h2>\n",
    "\n",
    "*****"
   ]
  },
  {
   "cell_type": "markdown",
   "metadata": {},
   "source": [
    "## Aim\n",
    "\n",
    "Our aims in this lab are:\n",
    "1. Become exposed to various symmetric key cryptography approaches including: Ceasar Cipher, One-Time Pad and DES.\n",
    "2. Understand the RSA asymmetric key cryptography approach and its potential weaknesses.\n",
    "3. Model a key exchange method. In this instance, the Diffie-Hellman algorithm."
   ]
  },
  {
   "cell_type": "markdown",
   "metadata": {},
   "source": [
    "## Learning Outcomes\n",
    "- L10: Explain key security concepts and the use of cryptographic techniques, digital signatures and PKI in security"
   ]
  },
  {
   "cell_type": "markdown",
   "metadata": {},
   "source": [
    "## Preparation\n",
    "\n",
    "Before starting this lab, we suggest you complete the following:\n",
    "- Watch the Security Lectures from this course\n",
    "- Make sure you're familar with the following ideas\n",
    "    - [Symmetric Key Cryptography](https://www.hypr.com/symmetric-key-cryptography/)\n",
    "    - [Asymmetric (Public) Key Cryptography](https://searchsecurity.techtarget.com/definition/asymmetric-cryptography)\n",
    "\n",
    "\n",
    "The following functions/documentation may be useful for this lab:\n",
    "\n",
    "| Function                     | Description |\n",
    "| ---------------------------: | :---------- |\n",
    "| [class definitions](https://docs.python.org/3.7/tutorial/classes.html) | General documentation for class implementations. This is the next evolution above using functions and methods, etc |\n",
    "\n",
    "***"
   ]
  },
  {
   "cell_type": "code",
   "execution_count": 1,
   "metadata": {},
   "outputs": [],
   "source": [
    "# Code Imports\n",
    "import numpy as np\n",
    "import pandas as pd\n",
    "import random"
   ]
  },
  {
   "cell_type": "markdown",
   "metadata": {},
   "source": [
    "## Topic 1 - **Secret (Symmetric) Key Cryptography**\n",
    "In the first topic, you will be working with symmetric key cryptography methods. A number of these algorithms are well known, such as AES, DES. While this is covered in detail in the lectures, the following graphic should be a good reminder of how symmetric key cryptography works.\n",
    "\n",
    "<img src=\"./img/symmEnc.png\" alt=\"Symm Example\" style=\"width: 400px;\"/>\n",
    "\n",
    "<sub>Source: [Symmetric vs Asymmetric](https://www.ssl2buy.com/wiki/symmetric-vs-asymmetric-encryption-what-are-differences)</sub>\n",
    "\n",
    "Within Symmetric Key Cryptography, there are two major types of [ciphers](https://en.wikipedia.org/wiki/Cipher) that are used: Stream Ciphers and Block Ciphers. For a quick introduction to both, read the [following article](https://www.jscape.com/blog/stream-cipher-vs-block-cipher). The following should jog your memory otherwise:\n",
    "\n",
    "<img src=\"./img/blockandstream.png\" alt=\"blockandstream Example\" style=\"width: 400px;\"/>\n",
    "\n",
    "If you don't understand the above image, you should read the above article and ask your tutor.\n",
    "\n",
    "Lets get started!"
   ]
  },
  {
   "cell_type": "markdown",
   "metadata": {},
   "source": [
    "## Question 1: **Stream Cipher**\n",
    "\n",
    "In Question 1, you will be dealing with some stream ciphers examples. The word 'stream' indicates that characters are processed individually during encryption/decryption stage. In this qustion the inputs will be a string containing <b>ONLY</b> lower-case letters. We have created below the conversion functions for your convenience. For example, a string 'apple' may be converted to a list of numbers [0,15,15,11,4] according to the alphabetical order of the letters."
   ]
  },
  {
   "cell_type": "code",
   "execution_count": 2,
   "metadata": {},
   "outputs": [],
   "source": [
    "# string and number conversion functions\n",
    "def to_number(message):\n",
    "    \"\"\"Convert a string to a list of numbers\"\"\"\n",
    "    return [ord(char) - 97 for char in message]\n",
    "\n",
    "def to_string(nums):\n",
    "    \"\"\"Convert a list of numbers to a string\"\"\"\n",
    "    return ''.join([chr(num +97) for num in nums])\n"
   ]
  },
  {
   "cell_type": "markdown",
   "metadata": {},
   "source": [
    "### Q1.1: **Ceasar Cipher**\n",
    "\n",
    "Let's start with something simple. Ceasar Cipher is the most simple and well know encryption method in the cryptography world, and you implemented this in an early lab. To encrypt a given message, Ceasar Cipher simply applies a fixed shifts on all letters in the message. In the next code block, we want you to implement this simple encryption method in a class format. This is designed to introduce you to python classes, and familarise yourself with the Ceaser Cipher system. You need to complete the `encrypt()` and `decrypt()` functions. Suppose your message is `attackatdawn` and your selected key is `c`, your encrypted message should be `cvvcemcvfcyp`, which is derived by shifting each letter in the original message by 2<sup>*</sup> letters forward.\n",
    "\n",
    "<sup>*</sup> c is ordered as 2 in the alphabet"
   ]
  },
  {
   "cell_type": "code",
   "execution_count": 3,
   "metadata": {},
   "outputs": [],
   "source": [
    "# Code here\n",
    "class CeasarCipher:\n",
    "    def __init__(self, key):\n",
    "        self.key = key\n",
    "    \n",
    "    def set_key(self, key):\n",
    "        self.key = key\n",
    "        \n",
    "    def encrypt(self, message):\n",
    "        \"\"\"Encrypt the message with the given key.\"\"\"\n",
    "        assert message.isalpha(), 'Message can only contain letters.'\n",
    "        # TODO: encrypt the given message with key and return the encrypted message as a string.\n",
    "        \n",
    "\n",
    "    def decrypt(self, message):\n",
    "        \"\"\"Decrypt the message with the given key\"\"\"\n",
    "        assert message.isalpha(), 'Message can only contain lowletters.'\n",
    "        # TODO: decrypt the given message with key and return the decrypted message as a string."
   ]
  },
  {
   "cell_type": "markdown",
   "metadata": {},
   "source": [
    "Once finished, run the below code block to see your results!"
   ]
  },
  {
   "cell_type": "code",
   "execution_count": 4,
   "metadata": {},
   "outputs": [
    {
     "name": "stdout",
     "output_type": "stream",
     "text": [
      "None\n"
     ]
    },
    {
     "ename": "AttributeError",
     "evalue": "'NoneType' object has no attribute 'isalpha'",
     "output_type": "error",
     "traceback": [
      "\u001b[0;31m---------------------------------------------------------------------------\u001b[0m",
      "\u001b[0;31mAttributeError\u001b[0m                            Traceback (most recent call last)",
      "Input \u001b[0;32mIn [4]\u001b[0m, in \u001b[0;36m<cell line: 6>\u001b[0;34m()\u001b[0m\n\u001b[1;32m      4\u001b[0m ceasar_cipher \u001b[38;5;241m=\u001b[39m CeasarCipher(key)\n\u001b[1;32m      5\u001b[0m \u001b[38;5;28mprint\u001b[39m (ceasar_cipher\u001b[38;5;241m.\u001b[39mencrypt(message))\n\u001b[0;32m----> 6\u001b[0m \u001b[38;5;28;01massert\u001b[39;00m message \u001b[38;5;241m==\u001b[39m \u001b[43mceasar_cipher\u001b[49m\u001b[38;5;241;43m.\u001b[39;49m\u001b[43mdecrypt\u001b[49m\u001b[43m(\u001b[49m\u001b[43mceasar_cipher\u001b[49m\u001b[38;5;241;43m.\u001b[39;49m\u001b[43mencrypt\u001b[49m\u001b[43m(\u001b[49m\u001b[43mmessage\u001b[49m\u001b[43m)\u001b[49m\u001b[43m)\u001b[49m\n",
      "Input \u001b[0;32mIn [3]\u001b[0m, in \u001b[0;36mCeasarCipher.decrypt\u001b[0;34m(self, message)\u001b[0m\n\u001b[1;32m     15\u001b[0m \u001b[38;5;28;01mdef\u001b[39;00m \u001b[38;5;21mdecrypt\u001b[39m(\u001b[38;5;28mself\u001b[39m, message):\n\u001b[1;32m     16\u001b[0m     \u001b[38;5;124;03m\"\"\"Decrypt the message with the given key\"\"\"\u001b[39;00m\n\u001b[0;32m---> 17\u001b[0m     \u001b[38;5;28;01massert\u001b[39;00m \u001b[43mmessage\u001b[49m\u001b[38;5;241;43m.\u001b[39;49m\u001b[43misalpha\u001b[49m(), \u001b[38;5;124m'\u001b[39m\u001b[38;5;124mMessage can only contain lowletters.\u001b[39m\u001b[38;5;124m'\u001b[39m\n",
      "\u001b[0;31mAttributeError\u001b[0m: 'NoneType' object has no attribute 'isalpha'"
     ]
    }
   ],
   "source": [
    "# Test cases\n",
    "message = 'attackatdawn'\n",
    "key = 'c'\n",
    "ceasar_cipher = CeasarCipher(key)\n",
    "print (ceasar_cipher.encrypt(message))\n",
    "assert message == ceasar_cipher.decrypt(ceasar_cipher.encrypt(message))"
   ]
  },
  {
   "cell_type": "markdown",
   "metadata": {},
   "source": [
    "### Q1.2: **One-Time Pad**\n",
    "[One-time Pad](https://www.cryptomuseum.com/crypto/otp/index.htm) is believed to be the safest encryption method available. A one-time pad is uncrackable ([Terms and Conditions apply](https://medium.com/@canuteson/cracking-a-one-time-pad-a716a804d5bd)<sup>*</sup>). In the one-time pad encryption method , we need a key that is as long as the original message and each character in the original message is encrypted according to the character at the same position of the key. For example, for the same message 'attackatdawn' and given key 'sdifbsnoqwef', the first letter 'a' becomes 's' ('a' + 's' -> 's'), the second letter 't' becomes 'w' ('t' + 'd' -> 'w'), and so on. Similar to Question 1.1, complete encrypt() and decrypt() methods for our OneTimePad class.\n",
    "\n",
    "<sup>*</sup> Talk to your tutor further about this if you are interested. Long story short, only use it once. (hence \"One-Time\")"
   ]
  },
  {
   "cell_type": "code",
   "execution_count": null,
   "metadata": {},
   "outputs": [],
   "source": [
    "# More code here\n",
    "class OneTimePad:\n",
    "    def __init__(self, key):\n",
    "        self.key = key\n",
    "    \n",
    "    def set_key(self, key):\n",
    "        self.key = key\n",
    "        \n",
    "    def encrypt(self, message):\n",
    "        \"\"\"Encrypt the message with the given key\"\"\"\n",
    "        assert message.isalpha(), 'Message can only contain letters.' \n",
    "        # TODO: encrypt the given message with key and return the encrypted message as a string.\n",
    "\n",
    "\n",
    "    def decrypt(self, message):\n",
    "        \"\"\"Decrypt the message with the given key\"\"\"\n",
    "        assert message.isalpha(), 'Message can only contain lowletters.'\n",
    "        # TODO: decrypt the given message with key and return the decrypted message as a string.\n",
    "        \n"
   ]
  },
  {
   "cell_type": "markdown",
   "metadata": {},
   "source": [
    "Once finished, run the below code block to see your results!"
   ]
  },
  {
   "cell_type": "code",
   "execution_count": null,
   "metadata": {},
   "outputs": [],
   "source": [
    "\n",
    "message = 'attackatdawn'\n",
    "key = 'sdifbsnoqwef'\n",
    "one_time_pad = OneTimePad(key)\n",
    "print (one_time_pad.encrypt(message))\n",
    "assert message == one_time_pad.decrypt(one_time_pad.encrypt(message))"
   ]
  },
  {
   "cell_type": "markdown",
   "metadata": {},
   "source": [
    "*****\n",
    "## Topic 2 - Asymmetric Key Cryptography \n",
    "In the second topic, you will be working with an asymmetric (public) key cryptography method. RSA, TLS/SSL, and homomorphic encrpytion (such as [Microsoft's SEAL](https://github.com/microsoft/SEAL)) protocols make use of public key cryptography architecture. Once again, this is covered in detail in the lectures, however the following graphic should be a good reminder of how asymmetric key cryptography works.\n",
    "\n",
    "<img src=\"./img/asymmEnc.png\" alt=\"Asymm Example\" style=\"width: 400px;\"/>\n",
    "\n",
    "<sub>Source: [Symmetric vs Asymmetric](https://www.ssl2buy.com/wiki/symmetric-vs-asymmetric-encryption-what-are-differences)</sub>\n",
    "\n",
    "While multiple methods as mentioned above, we will only be focusing on RSA in this lab to showcase how the public-key/private-key system works.\n",
    "\n",
    "Lets get started!"
   ]
  },
  {
   "cell_type": "markdown",
   "metadata": {},
   "source": [
    "## Question 2: **Public (Asymmetric) Key Cryptography -  RSA**\n",
    "In this question, you will be implementing a simplified RSA algorithm. RSA has been available for over 25 years, to varying key lengths. The algorithm is designed such that varying keys can be used, and larger keys generally mean larger security (as the factorisation becomes more computationally intensive). For many years, RSA Laboratories ran a competition to determine whether people can factorise (read: break) the RSA algorithm at varying key lengths. Although the competition is now withdrawn, many loyal researchers still continue to determine new and faster ways to break the algorithm. Most recently, [RSA-240 (a 795-bit key) was broken](https://www.johndcook.com/blog/2019/12/03/new-rsa-factoring/). At this stage, while RSA-1024 is currently considered the most popular, RSA-2048 or RSA-4096 are considered safe (for now). \n",
    "\n",
    "Side note: When people discuss quantum computing breaking encryption, they are referring to RSA. [Further Reading](https://www.technologyreview.com/s/613596/how-a-quantum-computer-could-break-2048-bit-rsa-encryption-in-8-hours/).\n",
    "\n",
    "*****"
   ]
  },
  {
   "cell_type": "markdown",
   "metadata": {},
   "source": [
    "### Q2.1: **Implementing RSA**\n",
    "Recall the foundations of RSA algorithm:\n",
    "1. Choose two large prime numbers `p` and `q`, compute `N = p * q`. Any message to be encrypted cannot be longer than `N`.\n",
    "2. Calculate `r = (p-1)(q-1)`\n",
    "3. Choose a random number `e`, such that `e < N` and `e` does not share any common factors with `r`.\n",
    "4. Cauculate number `d`, such that `e*d mod(r) = 1`. `d` is guaranteed to exist.\n",
    "5. Generate `public key = (N,e)` and `private key (N,d)`\n",
    "6. Encryption: `c = m^e mod N`, where `m` is the original message and `c` is the encrypted message.\n",
    "7. Decryption: `m = c^d mod N`, where `m` is the decrypted message and `c` is the encrypted message.\n",
    "\n",
    "In this question, complete the generate_key_pair(), encrypt() and decrypt() functions to implement the simple RSA algorithm. \n",
    "\n",
    "Hint: You can use the provided are_relatively_prime() function to determine if two numbers share common factors."
   ]
  },
  {
   "cell_type": "code",
   "execution_count": null,
   "metadata": {},
   "outputs": [],
   "source": [
    "\n",
    "def are_relatively_prime(a, b):\n",
    "    \"\"\"Return ``True`` if ``a`` and ``b`` are two relatively prime numbers.\n",
    "\n",
    "    Two numbers are relatively prime if they share no common factors,\n",
    "    i.e. there is no integer (except 1) that divides both.\n",
    "    \"\"\"\n",
    "    for n in range(2, min(a, b) + 1):\n",
    "        if a % n == b % n == 0:\n",
    "            return False\n",
    "    return True\n",
    "\n",
    "def generate_key_pair(p,q):\n",
    "    \n",
    "    # TODO: Calculate N = p*q and r = (p-1)(q-1)\n",
    " \n",
    "    \n",
    "    # TODO: choose a random number e such that e < N and e and r share no common factors.\n",
    "\n",
    "            \n",
    "    # TODO:calculate number d, such that ed mod (r) = 1\n",
    " \n",
    "    \n",
    "    # return public key and private key pairs.\n",
    "    public_key = (N,e)\n",
    "    private_key = (N,d)\n",
    "    return public_key, private_key\n",
    "\n",
    "def encrypt(public_key, message):\n",
    "    # TODO: encrypt the given message with the public key \n",
    "    \n",
    "\n",
    "def decrypt(private_key, message):\n",
    "    # TODO: retrieve the original message from the encryoted message with your private key \n"
   ]
  },
  {
   "cell_type": "markdown",
   "metadata": {},
   "source": [
    "Once finished, run the below code block to see your results!"
   ]
  },
  {
   "cell_type": "code",
   "execution_count": null,
   "metadata": {},
   "outputs": [],
   "source": [
    "# test cases\n",
    "p = 5\n",
    "q = 11\n",
    "msg = random.randint(1,p*q)\n",
    "public_key, private_key = generate_key_pair(5,11)\n",
    "print ('public key is {}, private key is {}'.format(public_key, private_key) )\n",
    "print ('message: {}'.format(msg))\n",
    "print ('encrypted message: {}'.format(encrypt(public_key,msg)))\n",
    "print ('decrypted message: {}'.format(decrypt(private_key,encrypt(public_key,msg) )))"
   ]
  },
  {
   "cell_type": "markdown",
   "metadata": {},
   "source": [
    "### Q2.2: **Cracking RSA**\n",
    "Back to what we discussed in the topic piece before.\n",
    "\n",
    "Is RSA 100% safe? The answer is obviously not. However, do you know how to crack the algorithm even if you know its crackable? Let's move the first step towards being a cryptography pro. The problem can be described as follow:\n",
    "\n",
    "Given the public key pair (N,e) and the encrypted message c, can you find the original message m?\n",
    "\n",
    "To solve this problem, we still need to work from the fundamental math. \n",
    "- We know that large number `N` is the product of two primes. \n",
    "- If you can factorize `N`, that means you can get `p` and `q` such that `p*q = N`\n",
    "- you can also know `r` since `r = (p-1)(q-1)`. \n",
    "- With the same equation we used to calculate `d` in our RSA implementation, that is, `e*d mod(r) = 1`, we can retrieve `d` and form the `private key pair(N, d)`. \n",
    "- The last and easist step will be decrypt the message `c` with our fresh private key.  \n",
    "\n",
    "To verify our plan, implement crack_rsa() in the below code block. \n",
    "\n",
    "Hint: Feel free to use provided factorization() function for finding the factors of a number!"
   ]
  },
  {
   "cell_type": "code",
   "execution_count": null,
   "metadata": {},
   "outputs": [],
   "source": [
    "def factorization(num):\n",
    "    print ('factorizing given number...')\n",
    "    factor = []\n",
    "    while num > 1:\n",
    "        for i in range(num - 1):\n",
    "            k = i + 2\n",
    "            if num % k == 0:\n",
    "                factor.append(k)\n",
    "                num = int(num / k)\n",
    "                break\n",
    "    return factor\n",
    "\n",
    "\n",
    "def crack_rsa(encrypted_message, public_key):\n",
    "    # TODO: find the factors of the given prime number N.\n",
    "    factors = factorization(public_key[0])\n",
    "    \n",
    "    # TODO: calculate r with the result of factorization\n",
    "\n",
    "    # TODO: calculate d with e*d mod(r) = 1\n",
    "\n",
    "    # TODO:decrypt the given message with private key pair (N, d)\n",
    "    \n",
    "    return decrypted_message\n",
    "    \n",
    "        "
   ]
  },
  {
   "cell_type": "markdown",
   "metadata": {},
   "source": [
    "Once finished, run the below code block to see your results!"
   ]
  },
  {
   "cell_type": "code",
   "execution_count": null,
   "metadata": {},
   "outputs": [],
   "source": [
    "# test cases\n",
    "def get_primes(start, stop):\n",
    "    \"\"\"Return a list of prime numbers in ``range(start, stop)``.\"\"\"\n",
    "    if start >= stop:\n",
    "        return []\n",
    "\n",
    "    primes = [2]\n",
    "\n",
    "    for n in range(3, stop + 1, 2):\n",
    "        for p in primes:\n",
    "            if n % p == 0:\n",
    "                break\n",
    "        else:\n",
    "            primes.append(n)\n",
    "\n",
    "    while primes and primes[0] < start:\n",
    "        del primes[0]\n",
    "\n",
    "    return primes\n",
    "\n",
    "primes_candidates = get_primes(100,999)\n",
    "p = random.choice(primes_candidates)\n",
    "q = random.choice(primes_candidates)\n",
    "public_key, private_key = generate_key_pair(p,q)\n",
    "message = random.randint(0,100)\n",
    "encrypted = encrypt(public_key,message)\n",
    "print ('You know: encrypted message = {}, public key = {}, can you get the original message?'.format(encrypted, public_key))\n",
    "\n",
    "decrypted_message = crack_rsa(encrypted, public_key)\n",
    "\n",
    "if decrypted_message == message:\n",
    "    print ('You found the original message {} !!!'.format(message))\n",
    "else:\n",
    "    print ('You never gonna know what I said!' )"
   ]
  },
  {
   "cell_type": "markdown",
   "metadata": {},
   "source": [
    "*****\n",
    "## Topic 3 - Key Exchanges\n",
    "To finish off, we will be looking at the Diffie-Hellman Key Exchange as an example of Key Exchange algorithms. Recall a key exchange algorithm is required to securely communicate a secret key between two parties. This is used in Symmetric Key Cryptography, as the same key is required to encrypt and decrypt data. With Asymmetric Key Cryptography now so popular, key exchanges are now less common due to smaller uses of symmetric keys, although they are still used in some cases. \n",
    "\n",
    "So how do you transfer a key? Rather than posting a USB with the key, or transmitting the key over an unencrypted connection, you need a way to determine a secure connection to then transmit information. That is how the Diffie-Hellman Key Exchange became so popular.\n",
    "\n",
    "Enough history, lets implement it."
   ]
  },
  {
   "cell_type": "markdown",
   "metadata": {},
   "source": [
    "## Question 3: **Diffie-Hellman Key Exchange**\n",
    "Your task here is to complete the below code in the class to allow a person to interact in a key exchange. Recall the key exchange method: \n",
    "\n",
    "![Diffee-Hellman Example](./img/diffieHellman.png)\n",
    "\n",
    "Complete the class and example to enact the key exchange."
   ]
  },
  {
   "cell_type": "code",
   "execution_count": null,
   "metadata": {},
   "outputs": [],
   "source": [
    "\n",
    "class Person:\n",
    "    def __init__(self,p,g):\n",
    "        self.p = p\n",
    "        self.g = g\n",
    "        self.my_secrete_number = random.randint(1,10)\n",
    "        self.others_secrete_number = 0\n",
    "        \n",
    "    def tell(self, person):\n",
    "        person.others_secrete_number = self.compute_number_to_share()\n",
    "    \n",
    "    def compute_number_to_share(self):\n",
    "        # TODO: calculate the number to share, as defined by A in the above image\n",
    "        return \n",
    "    \n",
    "    def get_common_key(self):\n",
    "        # TODO: calculate the value K as defined in the above image\n",
    "        return\n",
    "         "
   ]
  },
  {
   "cell_type": "code",
   "execution_count": null,
   "metadata": {},
   "outputs": [],
   "source": [
    "prime_number = 23\n",
    "generator = 11\n",
    "\n",
    "Alice = Person(prime_number,generator)\n",
    "Bob = Person(prime_number,generator)\n",
    "\n",
    "Alice.tell(Bob)\n",
    "Bob.tell(Alice)\n",
    "\n",
    "print(\"Alice's key is: {}\".format(Alice.get_common_key()))\n",
    "print(\"Bob's key is: {}\".format(Bob.get_common_key()))"
   ]
  },
  {
   "cell_type": "markdown",
   "metadata": {},
   "source": [
    "*****\n",
    "\n",
    "## Homework & Extension Questions\n",
    "You've gotten this far, so additional questions for this week. Finish your assignments."
   ]
  },
  {
   "cell_type": "markdown",
   "metadata": {},
   "source": [
    "*****\n",
    "## Resources\n",
    "All the resources you need have been linked in the particular topics, so find the hyperlinks and talk to your tutors."
   ]
  }
 ],
 "metadata": {
  "kernelspec": {
   "display_name": "Python 3 (ipykernel)",
   "language": "python",
   "name": "python3"
  },
  "language_info": {
   "codemirror_mode": {
    "name": "ipython",
    "version": 3
   },
   "file_extension": ".py",
   "mimetype": "text/x-python",
   "name": "python",
   "nbconvert_exporter": "python",
   "pygments_lexer": "ipython3",
   "version": "3.8.13"
  }
 },
 "nbformat": 4,
 "nbformat_minor": 4
}
