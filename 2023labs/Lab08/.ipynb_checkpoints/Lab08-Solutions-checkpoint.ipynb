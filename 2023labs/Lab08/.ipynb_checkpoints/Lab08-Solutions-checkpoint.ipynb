{
 "cells": [
  {
   "cell_type": "markdown",
   "metadata": {},
   "source": [
    "<h1 align='center'> COMP2420/COMP6420 - Introduction to Data Management, Analysis and Security</h1>\n",
    "\n",
    "<h2 align='center'> Lab 08 - Databases</h2>\n",
    "\n",
    "*****"
   ]
  },
  {
   "cell_type": "markdown",
   "metadata": {},
   "source": [
    "## Aim\n",
    "\n",
    "The aim of this lab is to get you familiar with Entity-Relationship Modeling, Normalisation and some more advanced SQL.\n",
    "\n",
    "*****"
   ]
  },
  {
   "cell_type": "markdown",
   "metadata": {},
   "source": [
    "## Learning Outcomes\n",
    "- L01: Demonstrate a conceptual understanding of database systems and architecture, data models and declarative query languages\n",
    "- L02: Define, query and manipulate a relational database\n",
    "- L06: Apply their knowledge to a given problem domain\n",
    "***"
   ]
  },
  {
   "cell_type": "markdown",
   "metadata": {},
   "source": [
    "## Preparation\n",
    "\n",
    "Before starting this lab, we suggest you complete the following:\n",
    "- Watch the lectures covering ER Modeling and Normalisation\n",
    "- Finish Lab08\n",
    "\n",
    "*****"
   ]
  },
  {
   "cell_type": "markdown",
   "metadata": {},
   "source": [
    "## Question 1: **ER Modeling**\n",
    "\n",
    "The following question is designed to get you into the swing of Entity Relationship modeling.\n",
    "\n",
    "### Detour: Basics of ER Modeling\n",
    "Before getting stuck into modeling, we are going to begin with some quick definitions.\n",
    "\n",
    "#### Definitions\n",
    "- Entity\n",
    "    - An _Entity_ is anything that can be represented uniquely.\n",
    "    - An _Entity_ has a set of _Attributes_.\n",
    "    - An _Entity_ can be uniquely identified be some subset of its _Attributes_.\n",
    "\n",
    "\n",
    "- Attribute\n",
    "    - An _Attribute_ has a name and a domain.\n",
    "    - Each _Attribute_ has a corresponding value.\n",
    "\n",
    "\n",
    "- Entity-Set\n",
    "    - An _Entity-Set_ is a named collection of _like_ _Entities_ with the same attributes.\n",
    "\n",
    "\n",
    "- Relationship\n",
    "    - A _Relationship_ is an association between one (or more) _Entities_.\n",
    "    - A _Relationship_ can have _Attributes_.\n",
    "    \n",
    "\n",
    "\n",
    "Note that this is a small definition list, enough for you to have reference material to go back to the lecture slides. Onwards we go!\n",
    "***"
   ]
  },
  {
   "cell_type": "markdown",
   "metadata": {},
   "source": [
    "### Q1.1: Building Blocks\n",
    "Before we go about developing an entire ER diagram, lets start with the basics. The following questions are designed to get you familiar with an _Entity_, _Attribute_ and _Relationship_ look like. \n",
    "\n",
    "For the following piece, you will be individually defining the _Entities_, _Attributes_ and _Relationships_ that may exist. Note that while we are giving a fully fleshed out scenario, we will only be focusing on small parts of it.\n",
    "\n",
    "\n",
    "> The video rental company has several branches throughout the USA. The data held on each branch is the branch address made up of street, city, state, and zip code, and the telephone number. Each branch is given a branch number, which is unique throughout the company. Each branch is allocated staff, which includes a Manager. The Manager is responsible for the day-to-day running of a given branch. The data held on a member of staff is their name, position, and salary. Each member of staff is given a staff number, which is unique throughout the company. Each branch has a stock of videos. The data held on a video is the catalog number, video number, title, category, daily rental, cost, status, and the names of the main actors, and the director. The catalog number uniquely identifies each video. However, in most cases, there are several copies of each video at a branch, and the individual copies are identified using the video number. A video is given a category such as Action, Adult, Children, Drama, Horror, or Sci-Fi. The status indicates whether a specific copy of a video is available for rent."
   ]
  },
  {
   "cell_type": "markdown",
   "metadata": {},
   "source": [
    "#### Q1.1.1: Exciting Entities\n",
    "Lets starting with finding the _Entities_ in the scenario above.\n",
    "\n",
    "Based on the quote:\n",
    "> The video rental company has several branches throughout the USA.\n",
    "\n",
    "We can tell a **Branch** would be an entity, as it:\n",
    "- can be represented uniquely\n",
    "- has a set of _Attributes_\n",
    "\n",
    "What are two of the other entities in the full example above?"
   ]
  },
  {
   "cell_type": "raw",
   "metadata": {},
   "source": [
    "Staff, Video"
   ]
  },
  {
   "cell_type": "markdown",
   "metadata": {},
   "source": [
    "#### Q1.1.2: Angelic Attributes\n",
    "With Entities out of the way, we can look at the _Attributes_ an _Entity_ may have.\n",
    "\n",
    "This scenario defines the attributes quite easily, as you can see in the below quote:\n",
    "> The data held on a member of staff is his or her name, position, and salary.\n",
    "\n",
    "From the above, we can tell for the **Staff Member** entity, there are the following attributes:\n",
    "- Name\n",
    "- Position\n",
    "- Salary \n",
    "\n",
    "While not explicitly defined, we can deduce the domain of each attribute above as _Name_ and _Position_ would be a text value, and _Salary_ would be a bounded numerical value (between, say, `$5,000` and `$30,000`. We can also assume that each attribute would have a value in a corresponding database.\n",
    "\n",
    "\n",
    "What are the attributes for the **Branch** Entity?"
   ]
  },
  {
   "cell_type": "raw",
   "metadata": {},
   "source": [
    "branch address (made up of street, city, state, and zip code), telephone number, branch number"
   ]
  },
  {
   "cell_type": "markdown",
   "metadata": {},
   "source": [
    "#### Q1.1.3: Relative Relationships\n",
    "<sub>While a joke about computer scientists and relationships could be made here, we will refrain from doing so.</sub>\n",
    "\n",
    "Based on the quote:\n",
    "> Each branch is allocated staff, which includes a Manager.\n",
    "\n",
    "We can tell a relationship would exist between the **Staff Member** and **Branch** entities.\n",
    "\n",
    "Questions:\n",
    "- Are there any attributes assigned to this relationship? (i.e. How would you define a Manager?)\n",
    "- What is the mapping between each Entity?\n",
    "- State another relationship in the above scenario."
   ]
  },
  {
   "cell_type": "raw",
   "metadata": {},
   "source": [
    "1. You could assign isManager, to denote whether the staff member is a manager or not.\n",
    "2. Many to many. Staff could work in multiple stores, and multiple staff work in a store.\n",
    "3. Videos to Branch. Many to one."
   ]
  },
  {
   "cell_type": "markdown",
   "metadata": {},
   "source": [
    "With that out of the way, we can now give you a real scenario to work on.\n",
    "\n",
    "### Q1.2: More Modeling\n",
    "Now that you can appropriately define the various features of an entity relationship model, and how it relates to a real life scenario, you can do the real thing. Given the below scenario, design an ER model.\n",
    "\n",
    "> AusPost prides itself on having up-to-date information on the processing and current location of each\n",
    "shipped item. To do this, AusPost relies on a company-wide information system. Shipped items are\n",
    "the heart of the AusPost product tracking information system. Shipped items can be characterized\n",
    "by item number (unique), weight, dimensions, insurance amount, destination, and final delivery\n",
    "date. Shipped items are received into the AusPost system at a single retail center. Retail centers are\n",
    "characterized by their type, uniqueID, and address. Shipped items make their way to their\n",
    "destination via one or more standard AusPost transportation events (i.e., flights, truck deliveries).\n",
    "These transportation events are characterized by a unique scheduleNumber, a type (e.g, flight,\n",
    "truck), and a deliveryRoute.\n",
    "\n",
    "**Note:** It would be best to draw your answer on paper, or use a graphing tool such as [draw.io](https://draw.io/).\n",
    "\n",
    "<br>"
   ]
  },
  {
   "cell_type": "markdown",
   "metadata": {},
   "source": [
    "#### Solution\n",
    "Sample solution\n",
    "\n",
    "![samplesol](./ERsol.png)"
   ]
  },
  {
   "cell_type": "markdown",
   "metadata": {},
   "source": [
    "*****\n",
    "## Question 2: **Normalisation**\n",
    "As you would have seen in the lectures, there is a range of issues that can occur when you don't design your database effectively. Therefore, we are going to discuss some of the pitfalls of bad databases and how you can alter a database to be more resilient to anomalies."
   ]
  },
  {
   "cell_type": "markdown",
   "metadata": {},
   "source": [
    "### Q2.1: Anomalous Anomalies\n",
    "Lets start with the obvious question:\n",
    "> Why are badly designed databases bad?\n",
    "\n",
    "While this seems logical, we have formal definitions for the types of issues that can occur, as defined in the lecture slides.\n",
    "\n",
    "\n",
    "#### Q2.1.1: Destructive Databases\n",
    "Taking the above scenario of a rental store electronic database, consider the following database.\n",
    "\n",
    "| Video Catalog Number | Video Number  | Title    | Category | Customer Name | Rented |\n",
    "| :------------------: | :-----------: | :------: | :------- | :------------ | :----- |\n",
    "| 123                  | 1             | Frozen 2 | Action   | John Smith    | True   |\n",
    "| 123                  | 2             | Frozen 2 | Action   | Brooke Brooke | True   |\n",
    "| 999                  | 7             | Frozen 3 | Adult    | Nicole Brown  | True   |\n",
    "\n",
    "What anomalies exist in this database? Describe the anomalies and how they could be fixed."
   ]
  },
  {
   "cell_type": "raw",
   "metadata": {},
   "source": [
    "Insert, Update & Delete anomalies exist in this database.\n",
    "\n",
    "#### Insert \n",
    "Can't add videos without it being rented. Can't add customers without them renting a video. \n",
    "Can't add a video without there being stock of a video. \n",
    "Customer names may not be unique.\n",
    "\n",
    "#### Update\n",
    "If we only update one of the Frozen2 entries to have a different Category, it will be\n",
    "inconsistent with no warning\n",
    "\n",
    "#### Delete\n",
    "If we delete all the customers, we lose all the movies, and vice versa."
   ]
  },
  {
   "cell_type": "markdown",
   "metadata": {},
   "source": [
    "#### Q2.1.2: Ridiculous Redundancy\n",
    "In addition to the data anomalies above, there is a large amount of redundancy in this database setup. What is the redundancy and how could it be mitigated?"
   ]
  },
  {
   "cell_type": "raw",
   "metadata": {},
   "source": [
    "Duplicate entries for video catalog number, title and category. Although not shown, there also could be a redundency of Customer Name.\n",
    "\n",
    "Seperate the tables and use normalisation. Assign each customer a customer ID, and each video a Video ID (or treat primary key of video catalog number & video number)"
   ]
  },
  {
   "cell_type": "markdown",
   "metadata": {},
   "source": [
    "### Q2.2: Notorious Normalisation\n",
    "With the knowledge of _why_ we need to normalise, we can talk about what normalisation looks like.\n",
    "\n",
    "#### Q2.2.1: Not always Normal\n",
    "Despite the issues with the database in Q2.1.1, it is still in 1NF (first normal form). Explain how."
   ]
  },
  {
   "cell_type": "raw",
   "metadata": {},
   "source": [
    "Entries are atomic."
   ]
  },
  {
   "cell_type": "markdown",
   "metadata": {},
   "source": [
    "#### Q2.2.2: Not enough Normal\n",
    "(Spoiler for Q2.1) ... We know that there is issues with deletion of data in the above database. How could we split the database such that it is in 2NF (Second Normal Form) and removes deletion anomalies?"
   ]
  },
  {
   "cell_type": "raw",
   "metadata": {},
   "source": [
    "Perform actions suggested in Q2.1.2"
   ]
  },
  {
   "cell_type": "markdown",
   "metadata": {},
   "source": [
    "If you want to explore Normalisation more, we'd suggest you take [COMP2400: Relational Databases](https://programsandcourses.anu.edu.au/course/comp2400). For now, lets move onto some more advanced SQL work."
   ]
  },
  {
   "cell_type": "markdown",
   "metadata": {},
   "source": [
    "******\n",
    "## Question 3: **SQL. The Sequel**\n",
    "Last week we covered SQL as a data manipulation language. This week, we will be looking at the database design side of SQL.\n",
    "\n",
    "Recall from the lecture slides the ability to create and remove tables. Based on this and your knowledge of ER models, in this exercise we will be converting an ER model into an SQL schema.\n",
    "\n",
    "### Q3.1: Serious SQL \n",
    "\n",
    "Based on the below diagram, convert the ER model into a set of SQL databases. Think about the normalisation and anomaly issues we discussed above in your creation. Discuss your results with your tutor. \n",
    "\n",
    "![Ex3](./img/Ex3.png)"
   ]
  },
  {
   "cell_type": "markdown",
   "metadata": {},
   "source": [
    "#### Solution.\n",
    "Non-SQL solution\n",
    "\n",
    "![SQLsol](./SQLsol.png)"
   ]
  },
  {
   "cell_type": "markdown",
   "metadata": {},
   "source": [
    "SQL Solution\n",
    "\n",
    "Notice that they are in a very specific order, so constraints are automatically satisfied (otherwise foreign key sets will be mad)\n",
    "\n",
    "```sql\n",
    "CREATE TABLE lot (\n",
    "  lot_number VARCHAR(15) NOT NULL,\n",
    "  create_date DATE,\n",
    "  cost_of_materials FLOAT,\n",
    "  PRIMARY KEY (lot_number)\n",
    ");\n",
    "\n",
    "CREATE TABLE raw_materials (\n",
    "  material_id VARCHAR(15) NOT NULL,\n",
    "  type VARCHAR(15),\n",
    "  unit_cost FLOAT,\n",
    "  PRIMARY KEY (material_id)\n",
    ");\n",
    "\n",
    "CREATE TABLE production_units (\n",
    "  serial_no VARCHAR(15) NOT NULL,\n",
    "  exact_weight FLOAT,\n",
    "  product_type VARCHAR(15),\n",
    "  product_desc VARCHAR(50),\n",
    "  quality_test BOOLEAN,\n",
    "  lot_number VARCHAR(15) NOT NULL,\n",
    "  PRIMARY KEY (serial_no),\n",
    "  FOREIGN KEY (lot_number) REFERENCES lot\n",
    ");\n",
    "\n",
    "CREATE TABLE raw_materials_usage (\n",
    "  lot_number VARCHAR(15) NOT NULL,\n",
    "  material_id VARCHAR(15) NOT NULL,\n",
    "  units INT,\n",
    "  FOREIGN KEY (lot_number) REFERENCES lot,\n",
    "  FOREIGN KEY (material_id) REFERENCES raw_materials,\n",
    "  PRIMARY KEY (lot_number, material_id)\n",
    ");\n",
    "```"
   ]
  },
  {
   "cell_type": "markdown",
   "metadata": {},
   "source": [
    "****\n",
    "## Extensions\n",
    "- You have an assignment to work on, so we'd suggest working on that in the extra time you have."
   ]
  }
 ],
 "metadata": {
  "kernelspec": {
   "display_name": "Python 3 (ipykernel)",
   "language": "python",
   "name": "python3"
  },
  "language_info": {
   "codemirror_mode": {
    "name": "ipython",
    "version": 3
   },
   "file_extension": ".py",
   "mimetype": "text/x-python",
   "name": "python",
   "nbconvert_exporter": "python",
   "pygments_lexer": "ipython3",
   "version": "3.8.13"
  }
 },
 "nbformat": 4,
 "nbformat_minor": 4
}
