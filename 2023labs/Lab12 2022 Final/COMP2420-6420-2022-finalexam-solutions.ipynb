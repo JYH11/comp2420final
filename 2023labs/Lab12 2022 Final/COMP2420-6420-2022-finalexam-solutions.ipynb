{
 "cells": [
  {
   "cell_type": "markdown",
   "metadata": {},
   "source": [
    "<h1 align='center'> COMP2420/COMP6420 - Introduction to Data Management, <br/>Analysis and Security</h1>\n",
    "\n",
    "<h1 align='center'>Final Exam - Semester 1, 2022</h1>\n",
    "\n",
    "\n",
    "*****\n"
   ]
  },
  {
   "cell_type": "markdown",
   "metadata": {},
   "source": [
    "### Please insert your name and student number in this cell, run the cell (which should be in markdown mode).\n",
    "### Next: Save, add, commit and PUSH asap. \n",
    "### Then: Check through a browser that you can see the edits made to this cell\n",
    "\n",
    "Name:\n",
    "\n",
    "Student ID: "
   ]
  },
  {
   "cell_type": "markdown",
   "metadata": {},
   "source": [
    "## Instructions\n",
    "\n",
    "|**Maximum Marks**         |**100 for COMP2420 and 125 for COMP6420 students**\n",
    "|--------------------------|--------\n",
    "|  **Weightage**           |  **50%** of the Total Course Grade\n",
    "|  **Duration**            |  **15 min** Reading + **180 min** Typing\n",
    "|  **Permitted Material**  |  **Open Book**\n",
    "\n",
    "### General Instructions\n",
    "* Before the exam starts, insert your name and student ID in the cell above.  Save the notebook, add, commit and Push your repo immediately to test that this process works and also to minimise issues with Pushing at the end of the exam.\n",
    "* Check through a browser that your test COMMIT and PUSH worked by checking that your name and student ID appear in the cell in the browser (the cell should be in markdown mode so that you can see it in the browser).\n",
    "* Remember to start recording your self-invigilation video and to show your student ID (or licence/passport) in the video at the beginning.\n",
    "* Save, Commit and PUSH your changes frequently, so that you do not lose your work. It is recommended that you do this after attempting each question at least.\n",
    "* Your final PUSH needs to be *before* the deadline and includes your exam notebook AND your Statement of Originality to be valid.\n",
    "* Do **not** change the names of the directories or the name of any of the files.\n",
    "\n",
    "### Code Instructions\n",
    "* You can import any additional Python modules you may need for your analysis in the first code block. **DO NOT** install any modules other than those present in the Anaconda distribution. \n",
    "* For all coding questions please write your code after the comment `YOUR CODE HERE`.\n",
    "* In the process of testing your code, you can insert more cells or use print statements for debugging, but when submitting your file remember to remove these cells and calls respectively.\n",
    "* You will be marked on **correctness** and **readability** of your code, if your marker can't understand your code your marks may be deducted. \n",
    "\n",
    "### Written Answer Questions\n",
    "* You will be marked on the **correctness**, **depth** and **clarity** of your written answers. If your marker cannot understand your answer, marks may be deducted.\n",
    "* Reference your sources where appropriate to avoid plagiarism.\n",
    "* Avoid long-winded answers and give precise answers. Answers should be clear and legible."
   ]
  },
  {
   "cell_type": "code",
   "execution_count": 1,
   "metadata": {},
   "outputs": [],
   "source": [
    "# Important Imports for the question/s\n",
    "import pandas as pd\n",
    "import numpy as np\n",
    "import seaborn as sns\n",
    "import matplotlib.pyplot as plt\n",
    "from sklearn.model_selection import train_test_split\n",
    "from sklearn.tree import DecisionTreeClassifier, plot_tree\n",
    "from sklearn.cluster import KMeans\n",
    "from sklearn.decomposition import PCA\n",
    "from sklearn.metrics import confusion_matrix, plot_confusion_matrix\n",
    "from sklearn.preprocessing import LabelEncoder\n",
    "from scipy import stats\n",
    "import sqlite3\n",
    "from sqlite3 import Error\n",
    "plt.style.use('seaborn-notebook')\n",
    "## inline figures\n",
    "%matplotlib inline\n",
    "\n",
    "# Getting rid of warnings\n",
    "import warnings\n",
    "warnings.filterwarnings(\"ignore\")"
   ]
  },
  {
   "cell_type": "code",
   "execution_count": null,
   "metadata": {},
   "outputs": [],
   "source": [
    "# Add imports as necessary. \n",
    "# You are only allowed to use what is in the standard Anaconda installation\n"
   ]
  },
  {
   "cell_type": "markdown",
   "metadata": {},
   "source": [
    "## Question 1: Security \n",
    "## _[20 marks for COMP2420, 25 marks for COMP6420]_ (LO7,LO8)\n",
    "The following questions will cover the topic of Security covered in the lectures and labs. Please provide your written answers in the raw text boxes provided. _Any_ external information you use **must be referenced**. Provide references in the raw textbox and statement of originality."
   ]
  },
  {
   "cell_type": "markdown",
   "metadata": {},
   "source": [
    "### Q1.1: Information Security and Diffie-Hellman (DH) Key Exchange\n",
    "\n",
    "Which aspect of the Information Security Triad does the Diffie-Hellman (DH) key exchange help to preserve? Explain how this preservation is achieved using the DH key exchange.\n",
    "\n",
    "Note: we are looking here for an logical explanation of how the DH helps preserve your nominated aspect of the Information Security Triad, **not** for a detailed listing of the steps of the DH algorithm.\n",
    "<span style= 'float: right;'><b>[3 marks]</b></span>"
   ]
  },
  {
   "cell_type": "raw",
   "metadata": {},
   "source": [
    "# YOUR ANSWER HERE\n",
    "*difficulty with sharing a secret key\n",
    "*DH is about securely exchanging private key over a public channel, thus ensuring that only the sender and receiver have access to the plaintext message.\n",
    "*DH uses modulo arithmetic and counts on the derivation of the private key being a hard problem if the size of p is large.  thus, without knowing the secret random numbers of the sender and receiver, it is difficult to derive the secret key and therefore helps preserve confidentiality.\n"
   ]
  },
  {
   "cell_type": "markdown",
   "metadata": {},
   "source": [
    "### Q1.2: DH Key Exchange in Action\n",
    "\n",
    "Alice and Bob decides to use the DH key exchange to help in securing their exchange of information as illustrated in the diagram below.\n",
    "\n",
    "![DH key exchange diagram'](./image/DH_key_exchange_diagram.png)\n",
    "\n",
    "Given the following information (also depicted in the diagram):\n",
    "\n",
    "p=31 (a prime number) and g=13 (a generator or primitive root of p).  Alice chooses a secret random number a=12.  Bob chooses a secret random number b=7.\n",
    "\n",
    "### Q1.2.1) What is the number A that Alice sends to Bob?\n",
    "### Q1.2.2) What is the number B that Bob sends to Alice?\n",
    "### Q1.2.3) What is the common secret key K?\n",
    "\n",
    "**Please explain how you obtained values for A, B and K.**\n",
    "\n",
    "Note: you can use the code cell below to perform and show the required calculations to find A, B and K.  However, you don't have to use Python to do the calculations but you should still show and explain how you do the calculations in the text box.  Just providing values for A, B and K without providing an explanation will result in no marks being awarded for this question.\n",
    "<span style= 'float: right;'><b>[5 marks]</b></span>"
   ]
  },
  {
   "cell_type": "code",
   "execution_count": 8,
   "metadata": {},
   "outputs": [
    {
     "name": "stdout",
     "output_type": "stream",
     "text": [
      "The number A that Alice sends to Bob is 8\n",
      "The number B that Bob sends to Alice is 22\n",
      "The common secret key as calculated by Alice is 2\n",
      "Checking the common secret key as calculated by Bob to be 2\n"
     ]
    }
   ],
   "source": [
    "#code cell for calculations\n",
    "p=31; g=13; a=12; b=7;\n",
    "A=pow(g,a)%p;\n",
    "B=pow(g,b)%p\n",
    "print(f'The number A that Alice sends to Bob is {A}')\n",
    "print(f'The number B that Bob sends to Alice is {B}')\n",
    "print(f'The common secret key as calculated by Alice is {pow(B,a)%p}')\n",
    "print(f'Checking the common secret key as calculated by Bob to be {pow(A,b)%p}')\n"
   ]
  },
  {
   "cell_type": "raw",
   "metadata": {},
   "source": [
    "# YOUR ANSWER HERE\n",
    "Q1.2.1)\n",
    "The number A that Alice sends to Bob is 8\n"
   ]
  },
  {
   "cell_type": "raw",
   "metadata": {},
   "source": [
    "# YOUR ANSWER HERE\n",
    "Q1.2.2)\n",
    "The number B that Bob sends to Alice is 22\n"
   ]
  },
  {
   "cell_type": "raw",
   "metadata": {},
   "source": [
    "# YOUR ANSWER HERE\n",
    "Q1.2.3)\n",
    "The common secret key is 2\n"
   ]
  },
  {
   "cell_type": "markdown",
   "metadata": {},
   "source": [
    "### Q1.3: What could go wrong?\n",
    "The DH key exchange protocol allowed Alice and Bob to securely exchange secret key, or so they thought.  What particular form of attack is the DH key exchange susceptible to?  Briefly explain how the attack works and what can be done to mitigate against it.\n",
    "<span style= 'float: right;'><b>[3 marks]</b></span>"
   ]
  },
  {
   "cell_type": "raw",
   "metadata": {},
   "source": [
    "# YOUR ANSWER HERE\n",
    "DH is susceptible to man-in-the-middle attack. \n",
    "It involves a person Trudie in the middle, Trudie pretends to be Bob to Alice, and Alice to Bob. Trudie establishes a common key with A and/or B and begins to communicate with each. Alice and Bob each think they are communicating with each other.  Trudie hence gets all the confidential information being shared between Alice and Bob and is able to manipulate those (breach of CIA). Trudie could also just sit in the middle and listen to the exchange, still resulting in a breach of confidentiality.\n",
    "\n",
    "Mitigation measure(s) \n",
    "use a method where A and B can authenticate each other, i.e.e check each other's identity.e.g. use a public key certificate.This involves a TTP who can provide assurance of A and B's identity.\n"
   ]
  },
  {
   "cell_type": "markdown",
   "metadata": {},
   "source": [
    "### Q1.4: Checking that Alice agreed to the terms of a contract\n",
    "Alice and Bob negotiated a contract for deliverables that Alice needs to agree formally to provide.  They choose to get Alice to sign the contract digitally.  Let’s say that the contract is encapsulated in a message `m` given by the number `34` (`m=34`).  This message needs to be signed by Alice and sent to Bob.  They agree to use RSA as a method of authentication where `p=3, q=11, e=7 and d=3`.\n",
    "\n",
    "#### Q1.4.1) What is Alice’s private key and public key?\n",
    "\n",
    "#### Q1.4.2) Given the message `m=34`, what is the signed message `s` that is sent to Bob? (Explain how this was obtained.)\n",
    "Note: We don't require you to hash the message `m`.\n",
    "\n",
    "#### Q1.4.3) Demonstrate how Bob would go about verifying the signed message? (Please explain the steps).\n",
    "<span style= 'float: right;'><b>[5 marks]</b></span>\n"
   ]
  },
  {
   "cell_type": "code",
   "execution_count": 18,
   "metadata": {},
   "outputs": [
    {
     "name": "stdout",
     "output_type": "stream",
     "text": [
      "Alice's private key is (3,33)\n",
      "Alice's public key is (7,33)\n",
      "The signed message sent to Bob is given by s = s1 + s2 where s1=9 and s2=28\n",
      "Alternatively, we can consider the signed message sent to Bob is given by s=1, noting that this is not quite going to work out\n",
      "The verified message m' is given by m' = m1' + m2' where m1'=15 and m2'=19 giving m'=34\n"
     ]
    }
   ],
   "source": [
    "##code cell to help with calculations if needed\n",
    "##students don't need to use this cell but they do need to show the workings of their answers\n",
    "p=3; q=11; e=7; d=3; m=34;\n",
    "n=p*q;\n",
    "\n",
    "print(f'Alice\\'s private key is ({d},{n})')\n",
    "print(f'Alice\\'s public key is ({e},{n})')\n",
    "\n",
    "## m is larger than n, this means that we need to chop m into smaller blocks\n",
    "##say m = m1 + m2 where m1=15 and m2=19 ### these can be any numbers less than m that add up to m\n",
    "m1=15; m2=19;\n",
    "\n",
    "##computing signed message s - NOTE THAT THIS NEEDS THE PRIVATE KEY FOR SIGNING\n",
    "##s1 = m1^d mod n  AND s2=m2^d mod n\n",
    "s1= pow(m1,d)%n\n",
    "s2= pow(m2,d)%n\n",
    "\n",
    "print(f'The signed message sent to Bob is given by s = s1 + s2 where s1={s1} and s2={s2}')\n",
    "\n",
    "##Alternative we can accept an answer that uses m=34\n",
    "s=pow(m,d)%n\n",
    "\n",
    "print(f'Alternatively, we can consider the signed message sent to Bob is given by s={s}, noting that this is not quite going to work out')\n",
    "\n",
    "##Verifying the signed message\n",
    "m1_dash = pow(s1,e)%n\n",
    "m2_dash = pow(s2,e)%n\n",
    "m_dash = m1_dash + m2_dash\n",
    "print(f'The verified message m\\' is given by m\\' = m1\\' + m2\\' where m1\\'={m1_dash} and m2\\'={m2_dash} giving m\\'={m_dash}')\n"
   ]
  },
  {
   "cell_type": "markdown",
   "metadata": {},
   "source": [
    "### Q1.5: Is it really Alice who signed?\n",
    "How can Alice and Bob go about making sure that Alice’s public key can be trusted to belong to her? Discuss in terms of components of existing infrastructure that Bob and Alice can use.\n",
    "\n",
    "<span style= 'float: right;'><b>[4 marks]</b></span>"
   ]
  },
  {
   "cell_type": "raw",
   "metadata": {},
   "source": [
    "# YOUR ANSWER HERE\n",
    "## we are looking for an understanding of PKI infrastructure here.\n",
    "the following should be mentioned in some form:\n",
    "-public key certificate\n",
    "-Trusted Third party (TTP)\n",
    "-Certificate Authority (issues the certificates)\n",
    "-Registration Authority (who verifies the certificates)\n"
   ]
  },
  {
   "cell_type": "markdown",
   "metadata": {},
   "source": [
    "### Q1.6: **(COMP6420 ONLY)** Vulnerabilities\n",
    "Discuss possible security vulnerabilities with Alice and Bob’s plan above and make suggestions on steps they could take to improve their plan.\n",
    "<span style= 'float: right;'><b>[5 marks]</b></span>"
   ]
  },
  {
   "cell_type": "raw",
   "metadata": {},
   "source": [
    "# YOUR ANSWER HERE\n",
    "The RSA signing and verification addresses authentication but not confidentiality - any steps to address confidentiality e.g. use encryption/decryption in addition\n",
    "any form attacks that could happen and mitigation strategies\n"
   ]
  },
  {
   "cell_type": "markdown",
   "metadata": {},
   "source": [
    "****\n",
    "## Q2 - Ethics \n",
    "## _[10 Marks for COMP2420, 15 marks for COMP6420]_ (LO6,LO7)\n",
    "The following questions will cover topics of ethics in data science covered in the lectures and labs. Please provide your written answers in the raw text boxes provided. _Any_ external information you use **must be referenced**. Provide references in the raw textbox and statement of originality."
   ]
  },
  {
   "cell_type": "markdown",
   "metadata": {},
   "source": [
    "Consider the following case study:\n",
    "\n",
    ">In a recent study ([Gichoya et al, 2022](https://www.thelancet.com/journals/landig/article/PIIS2589-7500(22)00063-2/fulltext)), researchers found that standard Artificial Intelligence (AI) deep learning models can be trained to predict patients' racial identity from medical images and show high performance.  This high performance was obtained across multiple image modalities (i.e. different types of medical images like x-rays (area under the receiver operating characteristics curve (AUC) range 0·91–0·99), CT  chest imaging (area under the receiver operating characteristics curve (AUC) range 0·87-0.96) and mammography (area under the receiver operating characteristics curve (AUC) 0.81)).  \n",
    "\n",
    ">The performance of the prediction model does not seem to rely on obvious confounders.  I.e., other factors that could have an association to race/racial identity, such as body-mass index, disease distribution and breast density, did not help explain the results obtained.  The research also showed that the deep learning models used performed well over all anatomical regions and frequency spectrums of the images, leading the authors to suggest that \"the efforts to control this behaviour when it is undesirable will be challenging and demand further study.\"  \n",
    "\n",
    ">At this stage, the researchers cannot explain how the AI models can predict racial identity from medical images.  The authors cautioned that the results from their study \"emphasise that the ability of AI deep learning models to predict self-reported race is itself not the issue of importance. However, the finding that AI can accurately predict self-reported race, even from corrupted, cropped, and noised medical images, often when clinical experts cannot, creates an enormous risk for all model deployments in medical imaging.\"  \n",
    "\n",
    "\n",
    "\n",
    "#### Q2.1: Ethics of using AI in the medical field\n",
    "\n",
    "Identify and discuss potential social and ethical implications (if any) of the findings described in the given case study.  Please explain your reasoning clearly (including in the case you don't believe there are any social and ethical implications).\n",
    "<span style= 'float: right;'><b>[2 marks]</b></span>"
   ]
  },
  {
   "cell_type": "raw",
   "metadata": {},
   "source": [
    "# YOUR ANSWER HERE\n"
   ]
  },
  {
   "cell_type": "markdown",
   "metadata": {},
   "source": [
    "#### Q2.2: Explainable AI\n",
    "Given that human experts cannot themselves identify the racial identity of patients from medical images and the AI prediction model developers cannot explain how their models can, should models with such capability be used in healthcare? Please explain why or why not?\n",
    "<span style= 'float: right;'><b>[2 marks]</b></span>"
   ]
  },
  {
   "cell_type": "raw",
   "metadata": {},
   "source": [
    "# YOUR ANSWER HERE\n"
   ]
  },
  {
   "cell_type": "markdown",
   "metadata": {},
   "source": [
    "#### Q2.3: Decision-Making\n",
    "Increasingly, AI prediction models are being used in healthcare (and many other sectors) to help in making important decisions that have significant impact on people's lives.  Discuss a number of considerations that must be taken into account in interpreting results obtained from such models. \n",
    "\n",
    "Note: You may consider factors that influence the performance of AI prediction models.\n",
    "\n",
    "<span style= 'float: right;'><b>[3 marks]</b></span>"
   ]
  },
  {
   "cell_type": "raw",
   "metadata": {},
   "source": [
    "# YOUR ANSWER HERE\n"
   ]
  },
  {
   "cell_type": "markdown",
   "metadata": {},
   "source": [
    "#### Q2.4: Solution?\n",
    "As a data scientist, how would you approach designing prediction algorithms that are ethical in the context of medical applications? Please outline the design considerations you would make and state any assumptions.\n",
    "\n",
    "Note: You may want to consider different possible outcomes where racial identity could matter or not matter in making a medical diagnosis and/or providing patient care. For example, in [work by computer scientist Emma Pierson at Cornell](https://news.mit.edu/2022/artificial-intelligence-predicts-patients-race-from-medical-images-0520), it was shown that \"algorithms that learn from patients' pain experiences can find new sources of knee pain in X-rays that disproportionately affect Black patients — and are disproportionately missed by radiologists\".\n",
    "\n",
    "You may also want to consider that a good AI prediction model should be able to provide reliable diagnosis outcomes for any patient.\n",
    "\n",
    "Also remember that \"a good data scientist needs to understand the ethical issues surrounding the data they obtain/use, the algorithms they employ, and its impact on people\".  ([OpenDS4All](https://github.com/odpi/OpenDS4All))\n",
    "\n",
    "\n",
    "<span style= 'float: right;'><b>[3 marks]</b></span>"
   ]
  },
  {
   "cell_type": "raw",
   "metadata": {},
   "source": [
    "# YOUR ANSWER HERE\n"
   ]
  },
  {
   "cell_type": "markdown",
   "metadata": {},
   "source": [
    "#### Q2.5 **(COMP6420 ONLY)** Consequences\n",
    "Examine potential consequences that could arise if data scientists aim to remove the ability of the AI systems in the medical field to recognise racial identity versus the case where they did not try to remove this ability.  What do you think is the way to go (removing or not removing the ability to recognise racial identity)? Please provide justifications for your answer.\n",
    "<span style= 'float: right;'><b>[5 marks]</b></span>"
   ]
  },
  {
   "cell_type": "raw",
   "metadata": {},
   "source": [
    "# YOUR ANSWER HERE\n"
   ]
  },
  {
   "cell_type": "markdown",
   "metadata": {},
   "source": [
    "****\n",
    "## Question 3: Databases & SQL \n",
    "## _[20 marks for COMP2420, 25 marks for COMP6420]_ (LO1, LO2, LO3)\n",
    "The following questions will cover the topics of Databases & SQL covered in the\n",
    "lectures and labs. Please provide your written answers in the raw text boxes\n",
    "provided, and code answers in the code boxes provided.\n",
    "_Any_ external information you use **must be referenced**. Provide references\n",
    "in the raw textbox or code box as appropriate, and statement of originality."
   ]
  },
  {
   "cell_type": "markdown",
   "metadata": {},
   "source": [
    "### Q3.1: Structured Sanity\n",
    "\n",
    "Consider the following scenario:\n",
    "\n",
    "> Assume that you have taken a research position at Geoscience Australia. Your first task is to collect satellite, and ocean data for your research on the extent on coastal erosion in Australia and its effects on people, the built environment and infrastructure.\n",
    "\n",
    "How structured is the data that you are looking to collect? Discuss what data might be present in this process and how it could be structured, if at all. **Clearly state all assumptions.**\n",
    "<span style= 'float: right;'><b>[3 marks]</b></span>"
   ]
  },
  {
   "cell_type": "raw",
   "metadata": {},
   "source": [
    "# YOUR ANSWER HERE\n"
   ]
  },
  {
   "cell_type": "markdown",
   "metadata": {},
   "source": [
    "### Q3.2: Music database\n",
    "\n",
    "The following question is designed to test your SQL skills. You have been provided a database from a music store.  \n",
    "Your database looks as follows:\n",
    "\n",
    "![Music Database ER Diagram](image/q3_database_ER.png)\n",
    "\n",
    "You will be required to run a number of queries over this database to help gather some insights. You should provide the query, and the output in an appropriate format. You may use the Pandas SQL<>DataFrame functionality, or regular SQLite3 cursor functionality. \n",
    "\n",
    "The final answer to each sub-question should be obtained by executing one SQL statement **only**.  No further processing on the result to get the final answer.  Answer can be formatted as raw printed output or a Pandas DataFrame."
   ]
  },
  {
   "cell_type": "code",
   "execution_count": 6,
   "metadata": {},
   "outputs": [
    {
     "name": "stdout",
     "output_type": "stream",
     "text": [
      "Connection established!\n"
     ]
    }
   ],
   "source": [
    "# PLEASE KEEP THIS CODE.\n",
    "# OTHERWISE, YOU WILL NOT BE ABLE TO READ THE DATABASE\n",
    "def create_connection(db_file):\n",
    "    \"\"\" Connect to the specified SQLite database, if not exist, create a new one (in memory);\n",
    "    :db_file: location of db to connect to\n",
    "    :return: Connection object or None\n",
    "    \"\"\"\n",
    "    conn = None\n",
    "    try:\n",
    "        conn = sqlite3.connect(db_file)\n",
    "        print(\"Connection established!\")\n",
    "    except Error as e:\n",
    "        print(\"Error Connecting to Database\")\n",
    "        raise(e)\n",
    "    return conn\n",
    "\n",
    "dbfile_nw = \"./data/q3.db\"\n",
    "conn = create_connection(dbfile_nw) \n",
    "conn.text_factory = lambda b: b.decode(errors = 'ignore')\n",
    "cur = conn.cursor()\n",
    "# remember to close the connection when everything is done"
   ]
  },
  {
   "cell_type": "markdown",
   "metadata": {},
   "source": [
    "#### Q3.2.1: Customer Last Names\n",
    "Count the numbers of customers whose `LastName` begins with `S`.\n",
    "<span style= 'float: right;'><b>[3 marks]</b></span>"
   ]
  },
  {
   "cell_type": "code",
   "execution_count": 7,
   "metadata": {},
   "outputs": [
    {
     "data": {
      "text/html": [
       "<div>\n",
       "<style scoped>\n",
       "    .dataframe tbody tr th:only-of-type {\n",
       "        vertical-align: middle;\n",
       "    }\n",
       "\n",
       "    .dataframe tbody tr th {\n",
       "        vertical-align: top;\n",
       "    }\n",
       "\n",
       "    .dataframe thead th {\n",
       "        text-align: right;\n",
       "    }\n",
       "</style>\n",
       "<table border=\"1\" class=\"dataframe\">\n",
       "  <thead>\n",
       "    <tr style=\"text-align: right;\">\n",
       "      <th></th>\n",
       "      <th>COUNT(*)</th>\n",
       "    </tr>\n",
       "  </thead>\n",
       "  <tbody>\n",
       "    <tr>\n",
       "      <th>0</th>\n",
       "      <td>8</td>\n",
       "    </tr>\n",
       "  </tbody>\n",
       "</table>\n",
       "</div>"
      ],
      "text/plain": [
       "   COUNT(*)\n",
       "0         8"
      ]
     },
     "execution_count": 7,
     "metadata": {},
     "output_type": "execute_result"
    }
   ],
   "source": [
    "# YOUR CODE HERE\n",
    "df_tracks = pd.read_sql_query(\"SELECT COUNT(*) from customers WHERE lastname LIKE 'S%';\", conn)\n",
    "df_tracks\n"
   ]
  },
  {
   "cell_type": "markdown",
   "metadata": {
    "tags": []
   },
   "source": [
    "#### Q3.2.2: Albums by Artists\n",
    "List all the Album titles for the Artist named `AC/DC`.\n",
    "<span style= 'float: right;'><b>[3 marks]</b></span>"
   ]
  },
  {
   "cell_type": "code",
   "execution_count": 8,
   "metadata": {},
   "outputs": [
    {
     "data": {
      "text/html": [
       "<div>\n",
       "<style scoped>\n",
       "    .dataframe tbody tr th:only-of-type {\n",
       "        vertical-align: middle;\n",
       "    }\n",
       "\n",
       "    .dataframe tbody tr th {\n",
       "        vertical-align: top;\n",
       "    }\n",
       "\n",
       "    .dataframe thead th {\n",
       "        text-align: right;\n",
       "    }\n",
       "</style>\n",
       "<table border=\"1\" class=\"dataframe\">\n",
       "  <thead>\n",
       "    <tr style=\"text-align: right;\">\n",
       "      <th></th>\n",
       "      <th>Title</th>\n",
       "    </tr>\n",
       "  </thead>\n",
       "  <tbody>\n",
       "    <tr>\n",
       "      <th>0</th>\n",
       "      <td>For Those About To Rock We Salute You</td>\n",
       "    </tr>\n",
       "    <tr>\n",
       "      <th>1</th>\n",
       "      <td>Let There Be Rock</td>\n",
       "    </tr>\n",
       "  </tbody>\n",
       "</table>\n",
       "</div>"
      ],
      "text/plain": [
       "                                   Title\n",
       "0  For Those About To Rock We Salute You\n",
       "1                      Let There Be Rock"
      ]
     },
     "execution_count": 8,
     "metadata": {},
     "output_type": "execute_result"
    }
   ],
   "source": [
    "# YOUR CODE HERE\n",
    "cust_query = \"\"\"SELECT albums.Title\n",
    "                from artists, albums\n",
    "                WHERE artists.Name = \"AC/DC\"\n",
    "                    AND artists.ArtistId = albums.ArtistId\"\"\"\n",
    "df_cust = pd.read_sql_query(cust_query, conn)\n",
    "df_cust"
   ]
  },
  {
   "cell_type": "markdown",
   "metadata": {},
   "source": [
    "#### Q3.2.3: Album sizes\n",
    "What are the albums that take up more than `1e+10` bytes of space? Order these albums in asending order according to space taken.\n",
    "<span style= 'float: right;'><b>[4 marks]</b></span>"
   ]
  },
  {
   "cell_type": "code",
   "execution_count": 9,
   "metadata": {},
   "outputs": [
    {
     "data": {
      "text/html": [
       "<div>\n",
       "<style scoped>\n",
       "    .dataframe tbody tr th:only-of-type {\n",
       "        vertical-align: middle;\n",
       "    }\n",
       "\n",
       "    .dataframe tbody tr th {\n",
       "        vertical-align: top;\n",
       "    }\n",
       "\n",
       "    .dataframe thead th {\n",
       "        text-align: right;\n",
       "    }\n",
       "</style>\n",
       "<table border=\"1\" class=\"dataframe\">\n",
       "  <thead>\n",
       "    <tr style=\"text-align: right;\">\n",
       "      <th></th>\n",
       "      <th>Title</th>\n",
       "      <th>SUM(tracks.Bytes)</th>\n",
       "    </tr>\n",
       "  </thead>\n",
       "  <tbody>\n",
       "    <tr>\n",
       "      <th>0</th>\n",
       "      <td>Battlestar Galactica, Season 3</td>\n",
       "      <td>10059916535</td>\n",
       "    </tr>\n",
       "    <tr>\n",
       "      <th>1</th>\n",
       "      <td>Heroes, Season 1</td>\n",
       "      <td>11781321607</td>\n",
       "    </tr>\n",
       "    <tr>\n",
       "      <th>2</th>\n",
       "      <td>Lost, Season 2</td>\n",
       "      <td>12344960921</td>\n",
       "    </tr>\n",
       "    <tr>\n",
       "      <th>3</th>\n",
       "      <td>Battlestar Galactica (Classic), Season 1</td>\n",
       "      <td>12872621850</td>\n",
       "    </tr>\n",
       "    <tr>\n",
       "      <th>4</th>\n",
       "      <td>Lost, Season 3</td>\n",
       "      <td>13917603291</td>\n",
       "    </tr>\n",
       "  </tbody>\n",
       "</table>\n",
       "</div>"
      ],
      "text/plain": [
       "                                      Title  SUM(tracks.Bytes)\n",
       "0            Battlestar Galactica, Season 3        10059916535\n",
       "1                          Heroes, Season 1        11781321607\n",
       "2                            Lost, Season 2        12344960921\n",
       "3  Battlestar Galactica (Classic), Season 1        12872621850\n",
       "4                            Lost, Season 3        13917603291"
      ]
     },
     "execution_count": 9,
     "metadata": {},
     "output_type": "execute_result"
    }
   ],
   "source": [
    "# YOUR CODE HERE\n",
    "album_query = \"\"\"SELECT albums.Title, SUM(tracks.Bytes)\n",
    "                from albums, tracks\n",
    "                WHERE \n",
    "                    albums.AlbumId = tracks.AlbumId\n",
    "                GROUP BY albums.Title\n",
    "                HAVING SUM(tracks.Bytes) > 1e+10\n",
    "                ORDER BY SUM(tracks.Bytes);\"\"\"\n",
    "df_album = pd.read_sql_query(album_query, conn)\n",
    "df_album"
   ]
  },
  {
   "cell_type": "markdown",
   "metadata": {},
   "source": [
    "#### Q3.2.4: Most versatile artist\n",
    "Find the name of the artist who has tracks covering the most number of distinct `genres`.\n",
    "\n",
    "Note: We are looking for the artist whose work appears across the most number of genres.\n",
    "<span style= 'float: right;'><b>[5 marks]</b></span>"
   ]
  },
  {
   "cell_type": "code",
   "execution_count": 11,
   "metadata": {},
   "outputs": [
    {
     "data": {
      "text/html": [
       "<div>\n",
       "<style scoped>\n",
       "    .dataframe tbody tr th:only-of-type {\n",
       "        vertical-align: middle;\n",
       "    }\n",
       "\n",
       "    .dataframe tbody tr th {\n",
       "        vertical-align: top;\n",
       "    }\n",
       "\n",
       "    .dataframe thead th {\n",
       "        text-align: right;\n",
       "    }\n",
       "</style>\n",
       "<table border=\"1\" class=\"dataframe\">\n",
       "  <thead>\n",
       "    <tr style=\"text-align: right;\">\n",
       "      <th></th>\n",
       "      <th>Name</th>\n",
       "      <th>COUNT(DISTINCT genres.name)</th>\n",
       "    </tr>\n",
       "  </thead>\n",
       "  <tbody>\n",
       "    <tr>\n",
       "      <th>0</th>\n",
       "      <td>Iron Maiden</td>\n",
       "      <td>4</td>\n",
       "    </tr>\n",
       "  </tbody>\n",
       "</table>\n",
       "</div>"
      ],
      "text/plain": [
       "          Name  COUNT(DISTINCT genres.name)\n",
       "0  Iron Maiden                            4"
      ]
     },
     "execution_count": 11,
     "metadata": {},
     "output_type": "execute_result"
    }
   ],
   "source": [
    "# YOUR CODE HERE\n",
    "artists_query = \"\"\"SELECT artists.name, COUNT(DISTINCT genres.name) \n",
    "                FROM artists, albums, tracks, genres\n",
    "                WHERE artists.ArtistId = albums.ArtistId\n",
    "                    AND albums.AlbumId = tracks.AlbumId\n",
    "                    AND tracks.GenreId = genres.GenreId\n",
    "                GROUP BY artists.ArtistId \n",
    "                ORDER BY COUNT(DISTINCT genres.name) DESC\n",
    "                LIMIT 1;\"\"\"\n",
    "df_artists = pd.read_sql_query(artists_query, conn)\n",
    "df_artists.head(10)"
   ]
  },
  {
   "cell_type": "markdown",
   "metadata": {},
   "source": [
    "### Q3.3: Reflecting on the Music database schema"
   ]
  },
  {
   "cell_type": "markdown",
   "metadata": {},
   "source": [
    "#### Q3.3.1 Based on the database schema, comment on the relationship between genres and tracks in this schema and any potential improvements you would make to this design. Justify your answer.\n",
    "<span style= 'float: right;'><b>[2 marks]</b></span>"
   ]
  },
  {
   "cell_type": "raw",
   "metadata": {},
   "source": [
    "# YOUR ANSWER HERE\n",
    "redundancy in the way multiple genres are handled, can implement a many to many relationship to handle it better"
   ]
  },
  {
   "cell_type": "markdown",
   "metadata": {},
   "source": [
    "#### Q3.3.2 **(COMP6420 ONLY)** Assume you are trying insert details into the database about a track and its artist but the track is not associated with an album. Can this situation be handled using the given database? If not, what changes would you make to the schema to allow it? Justify your answer.\n",
    "\n",
    "<span style= 'float: right;'><b>[5 marks]</b></span>"
   ]
  },
  {
   "cell_type": "raw",
   "metadata": {},
   "source": [
    "# YOUR ANSWER HERE\n",
    "A track can exists without an artist in this schema. Also a track can be associated with one artist only\n",
    "\n",
    "by updating the mappings to include many to many mappings and updating the optionality/participation condition"
   ]
  },
  {
   "cell_type": "markdown",
   "metadata": {
    "tags": []
   },
   "source": [
    "****\n",
    "## Question 4: Data Analysis \n",
    "## _[20 marks for COMP2420, 25 marks for COMP6420]_ (LO3,LO4,LO5,LO6)\n",
    "The following questions will cover the topic of Data Analysis covered in the\n",
    "lectures and labs. Please provide your written answers in the raw text boxes\n",
    "provided, and code answers in the code boxes provided.\n",
    "_Any_ external information you use **must be referenced**. Provide references\n",
    "in the raw textbox or code box as appropriate, and statement of originality.\n",
    "\n",
    "The `data/Q4Q5.csv` file captures the details of how CO2 emissions by a vehicle can vary with the different features. The dataset has been taken from Canada Government official open data website. This contains data over a period of 7 years. There are total 7385 rows and 12 columns.\n",
    "\n",
    "A full description of the dataset is as follows:\n",
    "\n",
    "| **Name**          | **Description**                                                         |\n",
    "| ----------------- | ----------------------------------------------------------------------- |\n",
    "|UniqueID| unique identifer for each of the record in the dataset|\n",
    "|Vehicle Class | TWO-SEATER, COMPACT ,MID-SIZE, FULL-SIZE, SUV, PICKUP TRUCK|\n",
    "|Engine Size(L)| the size of the engine |\n",
    "|Cylinders| number of cylinders |\n",
    "|Transmission | A = automatic, M = manual|\n",
    "|Number of Gear |3 - 10 = Number of gears|\n",
    "|Fuel type | X = regular gasoline|\n",
    "||Z = premium gasoline|\n",
    "||D = diesel|\n",
    "||E = ethanol (E85)|\n",
    "||N = natural gas|\n",
    "|Fuel consumption|Fuel Consumption City (L/100 km) = City fuel consumption|\n",
    "||Fuel Consumption Hwy (L/100 km) = Highway fuel consumption|\n",
    "||Fuel Consumption Comb (L/100 km) =  the combined fuel consumption (55% city, 45% hwy) |\n",
    "||Fuel Consumption Comb (mpg) = fuel consumption miles per imperial gallon|\n",
    "|CO2 Emissions(g/km) | the tailpipe emissions of carbon dioxide (in grams per kilometre) for combined city and highway driving |"
   ]
  },
  {
   "cell_type": "markdown",
   "metadata": {},
   "source": [
    "### Q4.1: Importing the Data\n",
    "\n",
    "Import the dataset to a variable `q4q5_df`. Report the number of missing values for each attributes and display the first 5 rows of the dataset along with the column headers.\n",
    "\n",
    "<span style= 'float: right;'><b>[2 marks]</b></span>"
   ]
  },
  {
   "cell_type": "code",
   "execution_count": 13,
   "metadata": {},
   "outputs": [],
   "source": [
    "# YOUR CODE HERE\n",
    "\n",
    "q3q4_df = pd.read_csv('./data/Q4Q5.csv')\n"
   ]
  },
  {
   "cell_type": "code",
   "execution_count": 15,
   "metadata": {},
   "outputs": [
    {
     "data": {
      "text/plain": [
       "UniqueID                              0\n",
       "Vehicle Class                       497\n",
       "Engine Size(L)                        0\n",
       "Cylinders                             0\n",
       "Transmission                          0\n",
       "Number of Gear                      295\n",
       "Fuel Type                             0\n",
       "Fuel Consumption City (L/100 km)      0\n",
       "Fuel Consumption Hwy (L/100 km)       0\n",
       "Fuel Consumption Comb (L/100 km)      0\n",
       "Fuel Consumption Comb (mpg)           0\n",
       "CO2 Emissions(g/km)                   0\n",
       "dtype: int64"
      ]
     },
     "execution_count": 15,
     "metadata": {},
     "output_type": "execute_result"
    }
   ],
   "source": [
    "q3q4_df.isna().sum()"
   ]
  },
  {
   "cell_type": "code",
   "execution_count": 16,
   "metadata": {},
   "outputs": [
    {
     "data": {
      "text/html": [
       "<div>\n",
       "<style scoped>\n",
       "    .dataframe tbody tr th:only-of-type {\n",
       "        vertical-align: middle;\n",
       "    }\n",
       "\n",
       "    .dataframe tbody tr th {\n",
       "        vertical-align: top;\n",
       "    }\n",
       "\n",
       "    .dataframe thead th {\n",
       "        text-align: right;\n",
       "    }\n",
       "</style>\n",
       "<table border=\"1\" class=\"dataframe\">\n",
       "  <thead>\n",
       "    <tr style=\"text-align: right;\">\n",
       "      <th></th>\n",
       "      <th>UniqueID</th>\n",
       "      <th>Vehicle Class</th>\n",
       "      <th>Engine Size(L)</th>\n",
       "      <th>Cylinders</th>\n",
       "      <th>Transmission</th>\n",
       "      <th>Number of Gear</th>\n",
       "      <th>Fuel Type</th>\n",
       "      <th>Fuel Consumption City (L/100 km)</th>\n",
       "      <th>Fuel Consumption Hwy (L/100 km)</th>\n",
       "      <th>Fuel Consumption Comb (L/100 km)</th>\n",
       "      <th>Fuel Consumption Comb (mpg)</th>\n",
       "      <th>CO2 Emissions(g/km)</th>\n",
       "    </tr>\n",
       "  </thead>\n",
       "  <tbody>\n",
       "    <tr>\n",
       "      <th>0</th>\n",
       "      <td>4431257050385092718</td>\n",
       "      <td>COMPACT</td>\n",
       "      <td>2.0</td>\n",
       "      <td>4</td>\n",
       "      <td>A</td>\n",
       "      <td>5.0</td>\n",
       "      <td>Z</td>\n",
       "      <td>9.9</td>\n",
       "      <td>6.7</td>\n",
       "      <td>8.5</td>\n",
       "      <td>33</td>\n",
       "      <td>196</td>\n",
       "    </tr>\n",
       "    <tr>\n",
       "      <th>1</th>\n",
       "      <td>7272501878989789175</td>\n",
       "      <td>COMPACT</td>\n",
       "      <td>2.4</td>\n",
       "      <td>4</td>\n",
       "      <td>M</td>\n",
       "      <td>6.0</td>\n",
       "      <td>Z</td>\n",
       "      <td>11.2</td>\n",
       "      <td>7.7</td>\n",
       "      <td>9.6</td>\n",
       "      <td>29</td>\n",
       "      <td>221</td>\n",
       "    </tr>\n",
       "    <tr>\n",
       "      <th>2</th>\n",
       "      <td>871771505959663499</td>\n",
       "      <td>COMPACT</td>\n",
       "      <td>1.5</td>\n",
       "      <td>4</td>\n",
       "      <td>A</td>\n",
       "      <td>7.0</td>\n",
       "      <td>Z</td>\n",
       "      <td>6.0</td>\n",
       "      <td>5.8</td>\n",
       "      <td>5.9</td>\n",
       "      <td>48</td>\n",
       "      <td>136</td>\n",
       "    </tr>\n",
       "    <tr>\n",
       "      <th>3</th>\n",
       "      <td>6497200756518372995</td>\n",
       "      <td>SUV</td>\n",
       "      <td>3.5</td>\n",
       "      <td>6</td>\n",
       "      <td>A</td>\n",
       "      <td>6.0</td>\n",
       "      <td>Z</td>\n",
       "      <td>12.7</td>\n",
       "      <td>9.1</td>\n",
       "      <td>11.1</td>\n",
       "      <td>25</td>\n",
       "      <td>255</td>\n",
       "    </tr>\n",
       "    <tr>\n",
       "      <th>4</th>\n",
       "      <td>7315936316372124351</td>\n",
       "      <td>SUV</td>\n",
       "      <td>3.5</td>\n",
       "      <td>6</td>\n",
       "      <td>A</td>\n",
       "      <td>6.0</td>\n",
       "      <td>Z</td>\n",
       "      <td>12.1</td>\n",
       "      <td>8.7</td>\n",
       "      <td>10.6</td>\n",
       "      <td>27</td>\n",
       "      <td>244</td>\n",
       "    </tr>\n",
       "  </tbody>\n",
       "</table>\n",
       "</div>"
      ],
      "text/plain": [
       "              UniqueID Vehicle Class  Engine Size(L)  Cylinders Transmission  \\\n",
       "0  4431257050385092718       COMPACT             2.0          4            A   \n",
       "1  7272501878989789175       COMPACT             2.4          4            M   \n",
       "2   871771505959663499       COMPACT             1.5          4            A   \n",
       "3  6497200756518372995           SUV             3.5          6            A   \n",
       "4  7315936316372124351           SUV             3.5          6            A   \n",
       "\n",
       "   Number of Gear Fuel Type  Fuel Consumption City (L/100 km)  \\\n",
       "0             5.0         Z                               9.9   \n",
       "1             6.0         Z                              11.2   \n",
       "2             7.0         Z                               6.0   \n",
       "3             6.0         Z                              12.7   \n",
       "4             6.0         Z                              12.1   \n",
       "\n",
       "   Fuel Consumption Hwy (L/100 km)  Fuel Consumption Comb (L/100 km)  \\\n",
       "0                              6.7                               8.5   \n",
       "1                              7.7                               9.6   \n",
       "2                              5.8                               5.9   \n",
       "3                              9.1                              11.1   \n",
       "4                              8.7                              10.6   \n",
       "\n",
       "   Fuel Consumption Comb (mpg)  CO2 Emissions(g/km)  \n",
       "0                           33                  196  \n",
       "1                           29                  221  \n",
       "2                           48                  136  \n",
       "3                           25                  255  \n",
       "4                           27                  244  "
      ]
     },
     "metadata": {},
     "output_type": "display_data"
    }
   ],
   "source": [
    "display(q3q4_df.head())"
   ]
  },
  {
   "cell_type": "markdown",
   "metadata": {},
   "source": [
    "### Q4.2: Better fuel better efficiency\n",
    "\n",
    "There are five different fuel types available in the dataset. Your tasks are as follows:\n",
    "\n",
    " - Use a visualisation to compare the distribution of `Fuel Consumption Comb (L/100 km)` of different `Transmission` for each of the `Fuel Type`. Please justify why you picked the visualisation.\n",
    " - Provide a written response of your findings including any interesting patterns in the visualisation.\n",
    " \n",
    "<span style= 'float: right;'><b>[5 marks]</b></span>"
   ]
  },
  {
   "cell_type": "code",
   "execution_count": 17,
   "metadata": {},
   "outputs": [
    {
     "data": {
      "image/png": "[encoded data removed]",
      "text/plain": [
       "<Figure size 432.625x360 with 1 Axes>"
      ]
     },
     "metadata": {
      "needs_background": "light"
     },
     "output_type": "display_data"
    }
   ],
   "source": [
    "# YOUR CODE HERE\n",
    "sns.catplot(x = 'Fuel Type', y = 'Fuel Consumption Comb (L/100 km)', \n",
    "            data = q3q4_df, kind = 'violin', hue = 'Transmission', split = True)\n",
    "plt.title('Fuel Consumption Comb by different Fuel Type and Transmission')\n",
    "plt.show()"
   ]
  },
  {
   "cell_type": "raw",
   "metadata": {},
   "source": [
    "# YOUR ANSWER HERE\n",
    "\n",
    "- E has the highest consumption, following by Z, X and D.\n",
    "- D has two modes.\n",
    "- E has the largest variance.\n",
    "- Overall, M cars consumes less fuel than their A counterparts, but except for Z cars.\n",
    "- N has one value."
   ]
  },
  {
   "cell_type": "markdown",
   "metadata": {},
   "source": [
    "### Q4.3: Which type of cars consume more gasoline? SUV or full-size car?\n",
    "\n",
    "Your friend Cheng is thinking about buying a car for commuting. He would like to get either an SUV or a full-size sedan, and due to the current high petrol price, he wants to get the one with better fuel efficiency. To find out more, he has conducted some research online and found the following statement on a webpage: \n",
    "\n",
    "    Larger vehicles are notorious for guzzling gas. Since SUVs are heavier, even the most fuel-efficient vehicles in this category will get significantly fewer miles per gallon than sedans. On average, the most fuel-efficient SUVs average around 20-25 MPG, while sedans get anywhere from 30 to 40 MPG. The loss of fuel performance also comes with an increase in fuel cost, meaning more frequent stops at the gas station.\n",
    "\n",
    "But he's still not very convinced and has come to you, asking if you can use the provided dataset to help him to find out **if the average Fuel Consumption Comb (mpg) of SUV is statistically significantly lower than that of Full-Size**.\n",
    "\n",
    "You need to state clearly your **null hypothesis**, **alternative hypothesis**, **the conclusion** and also **justify the test you used.**\n",
    " \n",
    "*Hint: A Hypothesis test is an excellent method of comparing group means.*\n",
    "\n",
    "<span style= 'float: right;'><b>[5 marks]</b></span>"
   ]
  },
  {
   "cell_type": "raw",
   "metadata": {},
   "source": [
    "# YOUR HYPOTHESIS HERE\n",
    "H0: the average mpg of SUV is the same as it of the full size cars\n",
    "HA: the average mpg of SUV is lower than it of the full size cars"
   ]
  },
  {
   "cell_type": "code",
   "execution_count": 18,
   "metadata": {},
   "outputs": [
    {
     "name": "stdout",
     "output_type": "stream",
     "text": [
      "0.2667190668956583\n"
     ]
    }
   ],
   "source": [
    "# YOUR CODE HERE\n",
    "suv_standard_fc = q3q4_df[q3q4_df['Vehicle Class'] == 'SUV']['Fuel Consumption Comb (mpg)']\n",
    "full_size_fc = q3q4_df[q3q4_df['Vehicle Class'] == 'FULL-SIZE']['Fuel Consumption Comb (mpg)']\n",
    "\n",
    "t, p = stats.ttest_ind(suv_standard_fc, full_size_fc, alternative='less')\n",
    "print(p)"
   ]
  },
  {
   "cell_type": "raw",
   "metadata": {},
   "source": [
    "# YOUR CONCLUSION HERE\n",
    "The p value is not less than 0.05, hence we fail to reject the null hypothesis and conclude that the average mpg of SUV is not lower than it of the full size cars."
   ]
  },
  {
   "cell_type": "raw",
   "metadata": {},
   "source": [
    "# YOUR JUSTIFICATION HERE\n",
    "two independent population, hence ttest_ind."
   ]
  },
  {
   "cell_type": "markdown",
   "metadata": {},
   "source": [
    "### Q4.4: Engine Size vs Fuel Consumption\n",
    "\n",
    "\n",
    "Your tasks are:\n",
    " - Use a visualisation to compare the relationship between fuel consumption and engine size for different transmissions. Please justify why you picked the visualisation.\n",
    " - Provide a written response on trends and any abnormal findings based on your analysis.\n",
    "\n",
    "<span style= 'float: right;'><b>[5 marks]</b></span>"
   ]
  },
  {
   "cell_type": "code",
   "execution_count": 19,
   "metadata": {},
   "outputs": [
    {
     "data": {
      "image/png": "[encoded data removed]",
      "text/plain": [
       "<Figure size 432x288 with 1 Axes>"
      ]
     },
     "metadata": {
      "needs_background": "light"
     },
     "output_type": "display_data"
    }
   ],
   "source": [
    "# YOUR CODE HERE\n",
    "sns.lineplot(x = 'Engine Size(L)', y=\"Fuel Consumption Comb (L/100 km)\", hue = 'Transmission' , data=q3q4_df)\n",
    "plt.title('Engine Size(L) vs Fuel Consumption Comb (L/100 km)')\n",
    "plt.show()"
   ]
  },
  {
   "cell_type": "raw",
   "metadata": {},
   "source": [
    "# YOUR ANSWER HERE\n",
    "generally increasing, but fuel consumption drops after 6.5 for M cars.\n"
   ]
  },
  {
   "cell_type": "markdown",
   "metadata": {},
   "source": [
    "### Q4.5: Find Cluster and visualise it.\n",
    "\n",
    "#### Q4.5.1 Implement the `KMeans` clustering algorithm with `k = 5` using `sklearn` or equivalent packages. Provide graphical representations of your clustering output and an interpretation of the output.\n",
    " \n",
    "Your tasks are:\n",
    " - Implement the KMeans model with `k=5` using `Fuel Consumption Comb (L/100 km)`, `CO2 Emissions(g/km)`, `Engine Size(L)`, and `Cylinders`. \n",
    " - Provide a visualisation to show your clustering output.\n",
    " - Discuss insights shown by the output on the underlying data.\n",
    "\n",
    "*hint: consider reducing the dimensionality when generating the visualisation*\n",
    "\n",
    "<span style= 'float: right;'><b>[3 marks]</b></span>"
   ]
  },
  {
   "cell_type": "code",
   "execution_count": 20,
   "metadata": {},
   "outputs": [
    {
     "data": {
      "image/png": "[encoded data removed]",
      "text/plain": [
       "<Figure size 432x288 with 1 Axes>"
      ]
     },
     "metadata": {
      "needs_background": "light"
     },
     "output_type": "display_data"
    }
   ],
   "source": [
    "# YOUR CODE HERE\n",
    "\n",
    "pca = PCA(n_components=2)\n",
    "cluter_df = q3q4_df[['Fuel Consumption Comb (L/100 km)', 'CO2 Emissions(g/km)', 'Engine Size(L)', 'Cylinders']]\n",
    "km_model = KMeans(n_clusters=5)\n",
    "reduced_df = pca.fit_transform(cluter_df)\n",
    "km_model.fit(reduced_df)\n",
    "\n",
    "sns.scatterplot(x=reduced_df[:, 0], y=reduced_df[:, 1], hue = map(lambda x : 'Cluster '+str(x), km_model.labels_ + 1))\n",
    "plt.title('KMeans K = 5')\n",
    "plt.show()"
   ]
  },
  {
   "cell_type": "raw",
   "metadata": {},
   "source": [
    "# YOUR ANSWER HERE\n"
   ]
  },
  {
   "cell_type": "markdown",
   "metadata": {},
   "source": [
    "#### Q4.5.2 **(COMP6420 ONLY)** Comment on the suitability of Kmeans in this context and examine its strengths and/or limitations for this problem and generally.\n",
    "<span style= 'float: right;'><b>[5 marks]</b></span>"
   ]
  },
  {
   "cell_type": "raw",
   "metadata": {},
   "source": [
    "# YOUR ANSWER HERE\n",
    "\n",
    "5 obvious clusters but Kmeans is not the algorithm to use here as kmeans decides the cluster only based on distance, not density."
   ]
  },
  {
   "cell_type": "markdown",
   "metadata": {},
   "source": [
    "****\n",
    "## Q5 - Machine Learning \n",
    "## _[30 Marks for COMP2420, 35 marks for COMP6420]_ (LO3,LO4,LO5,LO6)\n",
    "The following questions will cover the topic of Machine Learning covered in the\n",
    "lectures and labs. Please provide your written answers in the raw text boxes\n",
    "provided, and code answers in the code boxes provided.\n",
    "_Any_ external information you use **must be referenced**. Provide references\n",
    "in the raw textbox or code box as appropriate, and statement of originality."
   ]
  },
  {
   "cell_type": "markdown",
   "metadata": {},
   "source": [
    "### Q5.1: Without actually implementing the model, should you use logistic regression or knn to model the below dataset that has 2 features ```x1``` and ```x2```?"
   ]
  },
  {
   "cell_type": "markdown",
   "metadata": {},
   "source": [
    "<img src=\"data/q4_1.jpg\" width=400 height=400 />"
   ]
  },
  {
   "cell_type": "markdown",
   "metadata": {},
   "source": [
    "#### Q5.1.1) what train score should a default knn model get and why?\n",
    "<span style= 'float: right;'><b>[2 marks]</b></span>"
   ]
  },
  {
   "cell_type": "raw",
   "metadata": {},
   "source": [
    "# YOUR ANSWER HERE\n",
    "should get around 100%, or score of 1. as the clusters forms closely"
   ]
  },
  {
   "cell_type": "markdown",
   "metadata": {},
   "source": [
    "#### Q5.1.2) what train score should a default logistic model get and why?\n",
    "<span style= 'float: right;'><b>[2 marks]</b></span>"
   ]
  },
  {
   "cell_type": "raw",
   "metadata": {},
   "source": [
    "# YOUR ANSWER HERE\n",
    "should be around 50%. as by default logistic regression give you a linear model , which in our case the dataset is not linearly classifiable. The best linear seperation can do is 50%"
   ]
  },
  {
   "cell_type": "markdown",
   "metadata": {},
   "source": [
    "### Q5.2: Classification\n",
    "\n",
    "In this section, we will keep using the car dataset in Question 4. **The task is to predict the `Vehicle Class` of a car.**\n",
    "\n",
    "#### Q5.2.1: Preprocessing and splitting the dataset\n",
    "\n",
    "You need to preprocess the dataset first. Things you need to do includes but not limited to:\n",
    "\n",
    "    1) encode categorical variables to appropriate forms.\n",
    "    \n",
    "    2) handle the missing values appropriately if there are any.\n",
    "    \n",
    "    3) drop unwanted features if necessary.\n",
    "\n",
    "    4) split the dataset to train and test sets. You may choose whatever test/train split you wish but be sure to explicitly state what you have chosen.\n",
    "    \n",
    "    5) justify each transformation/modification you performed.\n",
    "\n",
    "<span style= 'float: right;'><b>[8 marks]</b></span>"
   ]
  },
  {
   "cell_type": "code",
   "execution_count": 21,
   "metadata": {},
   "outputs": [],
   "source": [
    "# YOUR CODE HERE\n",
    "\n",
    "from sklearn.preprocessing import LabelEncoder\n",
    "# dropped fuel consumption of city and hwy and mpg, as all three can be calcualted from feul consumption comb\n",
    "q4_df = q3q4_df.drop(['UniqueID', 'Fuel Consumption Hwy (L/100 km)', 'Fuel Consumption City (L/100 km)', 'Fuel Consumption Comb (mpg)'], 1)\n",
    "\n",
    "# impute missing values\n",
    "q4_df['Number of Gear'] = q4_df['Number of Gear'].fillna(q4_df['Number of Gear'].median())\n",
    "\n",
    "# drop records with missing targets\n",
    "q4_df = q4_df.dropna()\n",
    "\n",
    "# double check\n",
    "# q4_df.isna().sum()\n",
    "\n",
    "# convert nominal variables using one-hot\n",
    "one_hot_vc = pd.get_dummies(q4_df[[ 'Fuel Type']])\n",
    "q4_df = q4_df.drop([ 'Fuel Type'], 1)\n",
    "q4_df = pd.concat((q4_df,one_hot_vc),1)\n",
    "\n",
    "# convert binary variable\n",
    "q4_df.loc[:, 'Transmission'] = q4_df.loc[:, 'Transmission'].map({'A':0, 'M':1})\n",
    "\n",
    "# label encoding vehicle class\n",
    "\n",
    "# train test split\n",
    "X = q4_df.drop('Vehicle Class', 1)\n",
    "y = q4_df['Vehicle Class']\n",
    "\n",
    "train_x, test_x, train_y , test_y = train_test_split(X,y,test_size=0.2,random_state=24206420)"
   ]
  },
  {
   "cell_type": "raw",
   "metadata": {},
   "source": [
    "# YOUR ANSWER HERE\n"
   ]
  },
  {
   "cell_type": "markdown",
   "metadata": {},
   "source": [
    "#### Q5.2.2: Fit a Decision Tree Model\n",
    "\n",
    "Now you need to **fit the training data using a decision tree model**.\n",
    "<span style= 'float: right;'><b>[2 marks]</b></span>"
   ]
  },
  {
   "cell_type": "code",
   "execution_count": 22,
   "metadata": {},
   "outputs": [],
   "source": [
    "# YOUR CODE HERE\n",
    "\n",
    "dt = DecisionTreeClassifier(random_state=24206420)\n",
    "dt_model = dt.fit(train_x, train_y)"
   ]
  },
  {
   "cell_type": "markdown",
   "metadata": {},
   "source": [
    "#### Q5.2.3: Plot the top three nodes of the decision tree and answer the following questions:\n",
    "1. For each of the nodes, how many samples are there in the node before split?\n",
    "2. For each of the nodes, what feature and value is the node split on?\n",
    "3. For the **top node only**, using the plot as a reference, do your own calculation to verify the gini or entropy impurity value shown. (refer to [week 5](https://comp.anu.edu.au/courses/comp2420/lectures/campus_only/2022/W5_1_COMP2420_6420_Decision_Trees__PKJ_.pdf) slide 21)\n",
    "\n",
    "<span style= 'float: right;'><b>[6 marks]</b></span>"
   ]
  },
  {
   "cell_type": "code",
   "execution_count": 23,
   "metadata": {},
   "outputs": [
    {
     "data": {
      "image/png": "[encoded data removed]",
      "text/plain": [
       "<Figure size 864x720 with 1 Axes>"
      ]
     },
     "metadata": {
      "needs_background": "light"
     },
     "output_type": "display_data"
    },
    {
     "name": "stdout",
     "output_type": "stream",
     "text": [
      "gini for the first node: 0.7862393733880981\n"
     ]
    }
   ],
   "source": [
    "# YOUR CODE HERE\n",
    "\n",
    "plt.figure(figsize=(12,10))\n",
    "plot_tree(dt_model, max_depth=1, feature_names = train_x.columns)\n",
    "plt.show()\n",
    "\n",
    "# for the first node\n",
    "n = 5510\n",
    "c1 = 1597\n",
    "c2 = 506\n",
    "c3 = 942\n",
    "c4 = 542\n",
    "c5 = 1550\n",
    "c6 = 373\n",
    "\n",
    "print(f'gini for the first node: {c1/n*(1-c1/n)+c2/n*(1-c2/n)+c3/n*(1-c3/n)+c4/n*(1-c4/n)+c5/n*(1-c5/n)+c6/n*(1-c6/n)}')"
   ]
  },
  {
   "cell_type": "raw",
   "metadata": {},
   "source": [
    "# YOUR ANSWER HERE\n",
    "\n",
    "root node:\n",
    "5510 before split\n",
    "split using type_z. if type_z go to the right node, otherwise the left node\n",
    "gini = 0.785\n",
    "\n",
    "left node:\n",
    "3007 before split\n",
    "split using co2 emissions. if emissions <= 200.5 or not.\n",
    "gini = 0.758\n",
    "\n",
    "root node:\n",
    "2503 before split\n",
    "split using Number of Gear, if split Number of Gear <= 7.5 or not.\n",
    "gini = 0.744"
   ]
  },
  {
   "cell_type": "markdown",
   "metadata": {},
   "source": [
    "#### Q5.2.4. Report the overall mean accuracy on the training set and the overall mean accuracy on the testing set.\n",
    "<span style= 'float: right;'><b>[2 marks]</b></span>"
   ]
  },
  {
   "cell_type": "code",
   "execution_count": 24,
   "metadata": {},
   "outputs": [
    {
     "name": "stdout",
     "output_type": "stream",
     "text": [
      "train score:  0.9310344827586207\n",
      "test score:  0.7576197387518142\n"
     ]
    }
   ],
   "source": [
    "# YOUR CODE HERE\n",
    "print(\"train score: \", dt_model.score(train_x, train_y))\n",
    "print(\"test score: \", dt_model.score(test_x, test_y))"
   ]
  },
  {
   "cell_type": "markdown",
   "metadata": {},
   "source": [
    "#### Q5.2.5. Report the accuracy for the target class `MID-SIZE` only using the testing set.\n",
    "<span style= 'float: right;'><b>[3 marks]</b></span>"
   ]
  },
  {
   "cell_type": "code",
   "execution_count": 25,
   "metadata": {},
   "outputs": [
    {
     "name": "stdout",
     "output_type": "stream",
     "text": [
      "[0.83753501 0.72180451 0.53278689 0.83870968 0.8159204  0.70114943]\n"
     ]
    }
   ],
   "source": [
    "# YOUR CODE HERE\n",
    "matrix = confusion_matrix(test_y, dt_model.predict(test_x))\n",
    "print(matrix.diagonal()/matrix.sum(axis=1))\n",
    "\n"
   ]
  },
  {
   "cell_type": "markdown",
   "metadata": {},
   "source": [
    "#### Q5.2.6 Print the confusion matrix, interpret the stengths and weaknesses of the model on the dataset.\n",
    "<span style= 'float: right;'><b>[5 marks]</b></span>"
   ]
  },
  {
   "cell_type": "code",
   "execution_count": 26,
   "metadata": {},
   "outputs": [
    {
     "data": {
      "image/png": "[encoded data removed]",
      "text/plain": [
       "<Figure size 720x720 with 2 Axes>"
      ]
     },
     "metadata": {
      "needs_background": "light"
     },
     "output_type": "display_data"
    }
   ],
   "source": [
    "# YOUR CODE HERE\n",
    "\n",
    "fig, ax = plt.subplots(figsize=(10, 10))\n",
    "out = plot_confusion_matrix(dt_model,test_x, test_y, ax=ax)\n",
    "plt.show()"
   ]
  },
  {
   "cell_type": "raw",
   "metadata": {},
   "source": [
    "# YOUR ANSWER HERE\n",
    "mid-size cars category has the lowest accuracy. the model misclassified many mid-size cars to compact cars, some to suv and full-size cars."
   ]
  },
  {
   "cell_type": "markdown",
   "metadata": {},
   "source": [
    "#### Q5.2.7 **(COMP6420 ONLY)** Is the model overfitting or underfitting? If it is, can you mitigate the issue and achieve better test set performance?\n",
    "<span style= 'float: right;'><b>[5 marks]</b></span>"
   ]
  },
  {
   "cell_type": "raw",
   "metadata": {},
   "source": [
    "# YOUR ANSWER HERE\n",
    "#### 5.2.6 Print the confusion matrix, interpret the stengths and weaknesses of the model on the dataset.\n",
    "The training score (0.9312) and testing score (0.7626) indicate that there is overfitting, however this appears to be difficult to avoid by altering the fit, and may be due to the small dataset size."
   ]
  },
  {
   "cell_type": "markdown",
   "metadata": {},
   "source": [
    "****\n",
    "## IMPORTANT - SUBMISSION CHECKLIST\n",
    "### Please type YES to this submission question to indicate that you are aware of the following and have completed or will complete the relevant associated tasks by their deadlines:\n",
    "\n",
    "(1.1) You have ensured that the answers to the Jupyter notebook have been saved before you do your final COMMIT and PUSH for submission to the gitlab server.  \n",
    "\n",
    "(1.2)Your Jupyter notebook needs to be in an unzipped format with its original naming. do NOT zip up your notebook for submission and do NOT rename it. \n",
    "\n",
    "(2) You have filled in and submitted your Statement of Originality by the deadline of the exam.  A late submission of the Statement of Originality will NOT be accepted and will invalidate your exam submission.\n",
    "\n",
    "(3.1) Your self-invigilation video includes your screen capture showing all open windows you have used on your computer, sound and live web cam showing you clearly.  \n",
    "\n",
    "(3.2) Your self-invigilation video will be submitted on Wattle by the deadline of 05.00pm Tuesday 07 June 2022 (3 days after the exam is taken). No late submission will be accepted and will constitute a breach of examination conditions.  \n",
    "\n",
    "(3.3) If you had issues with recording your self-invigilation video then you need to let us know about this by filling in the relevant form available on Wattle.  In this case, you will very likely be called for an oral examination.\n",
    "\n",
    "\n"
   ]
  },
  {
   "cell_type": "markdown",
   "metadata": {},
   "source": [
    "### Type your acknowledgement of the submission checklist here to make sure your submission is valid"
   ]
  },
  {
   "cell_type": "raw",
   "metadata": {},
   "source": []
  }
 ],
 "metadata": {
  "kernelspec": {
   "display_name": "Python 3 (ipykernel)",
   "language": "python",
   "name": "python3"
  },
  "language_info": {
   "codemirror_mode": {
    "name": "ipython",
    "version": 3
   },
   "file_extension": ".py",
   "mimetype": "text/x-python",
   "name": "python",
   "nbconvert_exporter": "python",
   "pygments_lexer": "ipython3",
   "version": "3.8.16"
  }
 },
 "nbformat": 4,
 "nbformat_minor": 4
}
