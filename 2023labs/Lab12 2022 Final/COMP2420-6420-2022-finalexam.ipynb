{
 "cells": [
  {
   "cell_type": "markdown",
   "metadata": {},
   "source": [
    "<h1 align='center'> COMP2420/COMP6420 - Introduction to Data Management, <br/>Analysis and Security</h1>\n",
    "\n",
    "<h1 align='center'>Final Exam - Semester 1, 2022</h1>\n",
    "\n",
    "\n",
    "*****\n"
   ]
  },
  {
   "cell_type": "markdown",
   "metadata": {},
   "source": [
    "### Please insert your name and student number in this cell, run the cell (which should be in markdown mode).\n",
    "### Next: Save, add, commit and PUSH asap. \n",
    "### Then: Check through a browser that you can see the edits made to this cell\n",
    "\n",
    "Name:\n",
    "\n",
    "Student ID: "
   ]
  },
  {
   "cell_type": "markdown",
   "metadata": {},
   "source": [
    "## Instructions\n",
    "\n",
    "|**Maximum Marks**         |**100 for COMP2420 and 125 for COMP6420 students**\n",
    "|--------------------------|--------\n",
    "|  **Weightage**           |  **50%** of the Total Course Grade\n",
    "|  **Duration**            |  **15 min** Reading + **180 min** Typing\n",
    "|  **Permitted Material**  |  **Open Book**\n",
    "\n",
    "### General Instructions\n",
    "* Before the exam starts, insert your name and student ID in the cell above.  Save the notebook, add, commit and Push your repo immediately to test that this process works and also to minimise issues with Pushing at the end of the exam.\n",
    "* Check through a browser that your test COMMIT and PUSH worked by checking that your name and student ID appear in the cell in the browser (the cell should be in markdown mode so that you can see it in the browser).\n",
    "* Remember to start recording your self-invigilation video and to show your student ID (or licence/passport) in the video at the beginning.\n",
    "* Save, Commit and PUSH your changes frequently, so that you do not lose your work. It is recommended that you do this after attempting each question at least.\n",
    "* Your final PUSH needs to be *before* the deadline and includes your exam notebook AND your Statement of Originality to be valid.\n",
    "* Do **not** change the names of the directories or the name of any of the files.\n",
    "\n",
    "### Code Instructions\n",
    "* You can import any additional Python modules you may need for your analysis in the first code block. **DO NOT** install any modules other than those present in the Anaconda distribution. \n",
    "* For all coding questions please write your code after the comment `YOUR CODE HERE`.\n",
    "* In the process of testing your code, you can insert more cells or use print statements for debugging, but when submitting your file remember to remove these cells and calls respectively.\n",
    "* You will be marked on **correctness** and **readability** of your code, if your marker can't understand your code your marks may be deducted. \n",
    "\n",
    "### Written Answer Questions\n",
    "* You will be marked on the **correctness**, **depth** and **clarity** of your written answers. If your marker cannot understand your answer, marks may be deducted.\n",
    "* Reference your sources where appropriate to avoid plagiarism.\n",
    "* Avoid long-winded answers and give precise answers. Answers should be clear and legible."
   ]
  },
  {
   "cell_type": "code",
   "execution_count": 1,
   "metadata": {},
   "outputs": [
    {
     "ename": "ImportError",
     "evalue": "cannot import name 'plot_confusion_matrix' from 'sklearn.metrics' (C:\\Users\\Andrew Ha\\anaconda3\\envs\\comp2420\\lib\\site-packages\\sklearn\\metrics\\__init__.py)",
     "output_type": "error",
     "traceback": [
      "\u001b[1;31m---------------------------------------------------------------------------\u001b[0m",
      "\u001b[1;31mImportError\u001b[0m                               Traceback (most recent call last)",
      "\u001b[1;32m~\\AppData\\Local\\Temp\\ipykernel_10184\\4053116569.py\u001b[0m in \u001b[0;36m<module>\u001b[1;34m\u001b[0m\n\u001b[0;32m      8\u001b[0m \u001b[1;32mfrom\u001b[0m \u001b[0msklearn\u001b[0m\u001b[1;33m.\u001b[0m\u001b[0mcluster\u001b[0m \u001b[1;32mimport\u001b[0m \u001b[0mKMeans\u001b[0m\u001b[1;33m\u001b[0m\u001b[1;33m\u001b[0m\u001b[0m\n\u001b[0;32m      9\u001b[0m \u001b[1;32mfrom\u001b[0m \u001b[0msklearn\u001b[0m\u001b[1;33m.\u001b[0m\u001b[0mdecomposition\u001b[0m \u001b[1;32mimport\u001b[0m \u001b[0mPCA\u001b[0m\u001b[1;33m\u001b[0m\u001b[1;33m\u001b[0m\u001b[0m\n\u001b[1;32m---> 10\u001b[1;33m \u001b[1;32mfrom\u001b[0m \u001b[0msklearn\u001b[0m\u001b[1;33m.\u001b[0m\u001b[0mmetrics\u001b[0m \u001b[1;32mimport\u001b[0m \u001b[0mconfusion_matrix\u001b[0m\u001b[1;33m,\u001b[0m \u001b[0mplot_confusion_matrix\u001b[0m\u001b[1;33m\u001b[0m\u001b[1;33m\u001b[0m\u001b[0m\n\u001b[0m\u001b[0;32m     11\u001b[0m \u001b[1;32mfrom\u001b[0m \u001b[0msklearn\u001b[0m\u001b[1;33m.\u001b[0m\u001b[0mpreprocessing\u001b[0m \u001b[1;32mimport\u001b[0m \u001b[0mLabelEncoder\u001b[0m\u001b[1;33m\u001b[0m\u001b[1;33m\u001b[0m\u001b[0m\n\u001b[0;32m     12\u001b[0m \u001b[1;32mfrom\u001b[0m \u001b[0mscipy\u001b[0m \u001b[1;32mimport\u001b[0m \u001b[0mstats\u001b[0m\u001b[1;33m\u001b[0m\u001b[1;33m\u001b[0m\u001b[0m\n",
      "\u001b[1;31mImportError\u001b[0m: cannot import name 'plot_confusion_matrix' from 'sklearn.metrics' (C:\\Users\\Andrew Ha\\anaconda3\\envs\\comp2420\\lib\\site-packages\\sklearn\\metrics\\__init__.py)"
     ]
    }
   ],
   "source": [
    "# Important Imports for the question/s\n",
    "import pandas as pd\n",
    "import numpy as np\n",
    "import seaborn as sns\n",
    "import matplotlib.pyplot as plt\n",
    "from sklearn.model_selection import train_test_split\n",
    "from sklearn.tree import DecisionTreeClassifier, plot_tree\n",
    "from sklearn.cluster import KMeans\n",
    "from sklearn.decomposition import PCA\n",
    "from sklearn.metrics import confusion_matrix, plot_confusion_matrix\n",
    "from sklearn.preprocessing import LabelEncoder\n",
    "from scipy import stats\n",
    "import sqlite3\n",
    "from sqlite3 import Error\n",
    "plt.style.use('seaborn-notebook')\n",
    "## inline figures\n",
    "%matplotlib inline\n",
    "\n",
    "# Getting rid of warnings\n",
    "import warnings\n",
    "warnings.filterwarnings(\"ignore\")"
   ]
  },
  {
   "cell_type": "code",
   "execution_count": null,
   "metadata": {},
   "outputs": [],
   "source": [
    "# Add imports as necessary. \n",
    "# You are only allowed to use what is in the standard Anaconda installation\n"
   ]
  },
  {
   "cell_type": "markdown",
   "metadata": {},
   "source": [
    "## Question 1: Security \n",
    "## _[20 marks for COMP2420, 25 marks for COMP6420]_ (LO7,LO8)\n",
    "The following questions will cover the topic of Security covered in the lectures and labs. Please provide your written answers in the raw text boxes provided. _Any_ external information you use **must be referenced**. Provide references in the raw textbox and statement of originality."
   ]
  },
  {
   "cell_type": "markdown",
   "metadata": {},
   "source": [
    "### Q1.1: Information Security and Diffie-Hellman (DH) Key Exchange\n",
    "\n",
    "Which aspect of the Information Security Triad does the Diffie-Hellman (DH) key exchange help to preserve? Explain how this preservation is achieved using the DH key exchange.\n",
    "\n",
    "Note: we are looking here for an logical explanation of how the DH helps preserve your nominated aspect of the Information Security Triad, **not** for a detailed listing of the steps of the DH algorithm.\n",
    "<span style= 'float: right;'><b>[3 marks]</b></span>"
   ]
  },
  {
   "cell_type": "raw",
   "metadata": {},
   "source": [
    "# YOUR ANSWER HERE\n"
   ]
  },
  {
   "cell_type": "markdown",
   "metadata": {
    "tags": []
   },
   "source": [
    "### Q1.2: DH Key Exchange in Action\n",
    "\n",
    "Alice and Bob decides to use the DH key exchange to help in securing their exchange of information as illustrated in the diagram below.\n",
    "\n",
    "![DH key exchange diagram'](image/DH_key_exchange_diagram.png)\n",
    "\n",
    "Given the following information (also depicted in the diagram):\n",
    "\n",
    "p=31 (a prime number) and g=13 (a generator or primitive root of p).  Alice chooses a secret random number a=12.  Bob chooses a secret random number b=7.\n",
    "\n",
    "### Q1.2.1) What is the number A that Alice sends to Bob?\n",
    "### Q1.2.2) What is the number B that Bob sends to Alice?\n",
    "### Q1.2.3) What is the common secret key K?\n",
    "\n",
    "**Please explain how you obtained values for A, B and K.**\n",
    "\n",
    "Note: you can use the code cell below to perform and show the required calculations to find A, B and K.  However, you don't have to use Python to do the calculations but you should still show and explain how you do the calculations in the text box.  Just providing values for A, B and K without providing an explanation will result in no marks being awarded for this question.\n",
    "<span style= 'float: right;'><b>[5 marks]</b></span>"
   ]
  },
  {
   "cell_type": "code",
   "execution_count": 8,
   "metadata": {},
   "outputs": [
    {
     "name": "stdout",
     "output_type": "stream",
     "text": [
      "8 22 2 2\n"
     ]
    }
   ],
   "source": [
    "#code cell for calculations\n",
    "p = 31\n",
    "g = 13\n",
    "a = 12\n",
    "b = 7\n",
    "A = pow(g,a,p)\n",
    "B = pow(g,b,p)\n",
    "K= pow(B,a,p)\n",
    "K2 = pow(A,b,p)\n",
    "print(A,B,K,K2)"
   ]
  },
  {
   "cell_type": "raw",
   "metadata": {},
   "source": [
    "# YOUR ANSWER HERE\n",
    "Q1.2.1)"
   ]
  },
  {
   "cell_type": "raw",
   "metadata": {},
   "source": [
    "# YOUR ANSWER HERE\n",
    "Q1.2.2)"
   ]
  },
  {
   "cell_type": "raw",
   "metadata": {},
   "source": [
    "# YOUR ANSWER HERE\n",
    "Q1.2.3)"
   ]
  },
  {
   "cell_type": "markdown",
   "metadata": {},
   "source": [
    "### Q1.3: What could go wrong?\n",
    "The DH key exchange protocol allowed Alice and Bob to securely exchange secret key, or so they thought.  What particular form of attack is the DH key exchange susceptible to?  Briefly explain how the attack works and what can be done to mitigate against it.\n",
    "<span style= 'float: right;'><b>[3 marks]</b></span>"
   ]
  },
  {
   "cell_type": "raw",
   "metadata": {},
   "source": [
    "# YOUR ANSWER HERE\n"
   ]
  },
  {
   "cell_type": "markdown",
   "metadata": {},
   "source": [
    "### Q1.4: Checking that Alice agreed to the terms of a contract\n",
    "Alice and Bob negotiated a contract for deliverables that Alice needs to agree formally to provide.  They choose to get Alice to sign the contract digitally.  Let’s say that the contract is encapsulated in a message `m` given by the number `34` (`m=34`).  This message needs to be signed by Alice and sent to Bob.  They agree to use RSA as a method of authentication where `p=3, q=11, e=7 and d=3`.\n",
    "\n",
    "#### Q1.4.1) What is Alice’s private key and public key?\n",
    "\n",
    "#### Q1.4.2) Given the message `m=34`, what is the signed message `s` that is sent to Bob? (Explain how this was obtained.)\n",
    "Note: We don't require you to hash the message `m`.\n",
    "\n",
    "#### Q1.4.3) Demonstrate how Bob would go about verifying the signed message? (Please explain the steps).\n",
    "<span style= 'float: right;'><b>[5 marks]</b></span>\n"
   ]
  },
  {
   "cell_type": "code",
   "execution_count": null,
   "metadata": {},
   "outputs": [],
   "source": [
    "##code cell to help with calculations if needed"
   ]
  },
  {
   "cell_type": "raw",
   "metadata": {
    "tags": []
   },
   "source": [
    "# YOUR ANSWER HERE\n"
   ]
  },
  {
   "cell_type": "markdown",
   "metadata": {},
   "source": [
    "### Q1.5: Is it really Alice who signed?\n",
    "How can Alice and Bob go about making sure that Alice’s public key can be trusted to belong to her? Discuss in terms of components of existing infrastructure that Bob and Alice can use.\n",
    "\n",
    "<span style= 'float: right;'><b>[4 marks]</b></span>"
   ]
  },
  {
   "cell_type": "raw",
   "metadata": {},
   "source": [
    "# YOUR ANSWER HERE\n"
   ]
  },
  {
   "cell_type": "markdown",
   "metadata": {},
   "source": [
    "### Q1.6: **(COMP6420 ONLY)** Vulnerabilities\n",
    "Discuss possible security vulnerabilities with Alice and Bob’s plan above and make suggestions on steps they could take to improve their plan.\n",
    "<span style= 'float: right;'><b>[5 marks]</b></span>"
   ]
  },
  {
   "cell_type": "raw",
   "metadata": {},
   "source": [
    "# YOUR ANSWER HERE\n"
   ]
  },
  {
   "cell_type": "markdown",
   "metadata": {
    "tags": []
   },
   "source": [
    "****\n",
    "## Q2 - Ethics \n",
    "## _[10 Marks for COMP2420, 15 marks for COMP6420]_ (LO6,LO7)\n",
    "The following questions will cover topics of ethics in data science covered in the lectures and labs. Please provide your written answers in the raw text boxes provided. _Any_ external information you use **must be referenced**. Provide references in the raw textbox and statement of originality."
   ]
  },
  {
   "cell_type": "markdown",
   "metadata": {},
   "source": [
    "Consider the following case study:\n",
    "\n",
    ">In a recent study ([Gichoya et al, 2022](https://www.thelancet.com/journals/landig/article/PIIS2589-7500(22)00063-2/fulltext)), researchers found that standard Artificial Intelligence (AI) deep learning models can be trained to predict patients' racial identity from medical images and show high performance.  This high performance was obtained across multiple image modalities (i.e. different types of medical images like x-rays (area under the receiver operating characteristics curve (AUC) range 0·91–0·99), CT  chest imaging (area under the receiver operating characteristics curve (AUC) range 0·87-0.96) and mammography (area under the receiver operating characteristics curve (AUC) 0.81)).  \n",
    "\n",
    ">The performance of the prediction model does not seem to rely on obvious confounders.  I.e., other factors that could have an association to race/racial identity, such as body-mass index, disease distribution and breast density, did not help explain the results obtained.  The research also showed that the deep learning models used performed well over all anatomical regions and frequency spectrums of the images, leading the authors to suggest that \"the efforts to control this behaviour when it is undesirable will be challenging and demand further study.\"  \n",
    "\n",
    ">At this stage, the researchers cannot explain how the AI models can predict racial identity from medical images.  The authors cautioned that the results from their study \"emphasise that the ability of AI deep learning models to predict self-reported race is itself not the issue of importance. However, the finding that AI can accurately predict self-reported race, even from corrupted, cropped, and noised medical images, often when clinical experts cannot, creates an enormous risk for all model deployments in medical imaging.\"  \n",
    "\n",
    "\n",
    "\n",
    "#### Q2.1: Ethics of using AI in the medical field\n",
    "\n",
    "Identify and discuss potential social and ethical implications (if any) of the findings described in the given case study.  Please explain your reasoning clearly (including in the case you don't believe there are any social and ethical implications).\n",
    "<span style= 'float: right;'><b>[2 marks]</b></span>"
   ]
  },
  {
   "cell_type": "raw",
   "metadata": {},
   "source": [
    "# YOUR ANSWER HERE\n"
   ]
  },
  {
   "cell_type": "markdown",
   "metadata": {},
   "source": [
    "#### Q2.2: Explainable AI\n",
    "Given that human experts cannot themselves identify the racial identity of patients from medical images and the AI prediction model developers cannot explain how their models can, should models with such capability be used in healthcare? Please explain why or why not?\n",
    "<span style= 'float: right;'><b>[2 marks]</b></span>"
   ]
  },
  {
   "cell_type": "raw",
   "metadata": {},
   "source": [
    "# YOUR ANSWER HERE\n"
   ]
  },
  {
   "cell_type": "markdown",
   "metadata": {},
   "source": [
    "#### Q2.3: Decision-Making\n",
    "Increasingly, AI prediction models are being used in healthcare (and many other sectors) to help in making important decisions that have significant impact on people's lives.  Discuss a number of considerations that must be taken into account in interpreting results obtained from such models. \n",
    "\n",
    "Note: You may consider factors that influence the performance of AI prediction models.\n",
    "\n",
    "<span style= 'float: right;'><b>[3 marks]</b></span>"
   ]
  },
  {
   "cell_type": "raw",
   "metadata": {},
   "source": [
    "# YOUR ANSWER HERE\n"
   ]
  },
  {
   "cell_type": "markdown",
   "metadata": {},
   "source": [
    "#### Q2.4: Solution?\n",
    "As a data scientist, how would you approach designing prediction algorithms that are ethical in the context of medical applications? Please outline the design considerations you would make and state any assumptions.\n",
    "\n",
    "Note: You may want to consider different possible outcomes where racial identity could matter or not matter in making a medical diagnosis and/or providing patient care. For example, in [work by computer scientist Emma Pierson at Cornell](https://news.mit.edu/2022/artificial-intelligence-predicts-patients-race-from-medical-images-0520), it was shown that \"algorithms that learn from patients' pain experiences can find new sources of knee pain in X-rays that disproportionately affect Black patients — and are disproportionately missed by radiologists\".\n",
    "\n",
    "You may also want to consider that a good AI prediction model should be able to provide reliable diagnosis outcomes for any patient.\n",
    "\n",
    "Also remember that \"a good data scientist needs to understand the ethical issues surrounding the data they obtain/use, the algorithms they employ, and its impact on people\".  ([OpenDS4All](https://github.com/odpi/OpenDS4All))\n",
    "\n",
    "\n",
    "<span style= 'float: right;'><b>[3 marks]</b></span>"
   ]
  },
  {
   "cell_type": "raw",
   "metadata": {},
   "source": [
    "# YOUR ANSWER HERE\n"
   ]
  },
  {
   "cell_type": "markdown",
   "metadata": {},
   "source": [
    "#### Q2.5 **(COMP6420 ONLY)** Consequences\n",
    "Examine potential consequences that could arise if data scientists aim to remove the ability of the AI systems in the medical field to recognise racial identity versus the case where they did not try to remove this ability.  What do you think is the way to go (removing or not removing the ability to recognise racial identity)? Please provide justifications for your answer.\n",
    "<span style= 'float: right;'><b>[5 marks]</b></span>"
   ]
  },
  {
   "cell_type": "raw",
   "metadata": {},
   "source": [
    "# YOUR ANSWER HERE\n"
   ]
  },
  {
   "cell_type": "markdown",
   "metadata": {},
   "source": [
    "****\n",
    "## Question 3: Databases & SQL \n",
    "## _[20 marks for COMP2420, 25 marks for COMP6420]_ (LO1, LO2, LO3)\n",
    "The following questions will cover the topics of Databases & SQL covered in the\n",
    "lectures and labs. Please provide your written answers in the raw text boxes\n",
    "provided, and code answers in the code boxes provided.\n",
    "_Any_ external information you use **must be referenced**. Provide references\n",
    "in the raw textbox or code box as appropriate, and statement of originality."
   ]
  },
  {
   "cell_type": "markdown",
   "metadata": {},
   "source": [
    "### Q3.1: Structured Sanity\n",
    "\n",
    "Consider the following scenario:\n",
    "\n",
    "> Assume that you have taken a research position at Geoscience Australia. Your first task is to collect satellite, and ocean data for your research on the extent on coastal erosion in Australia and its effects on people, the built environment and infrastructure.\n",
    "\n",
    "How structured is the data that you are looking to collect? Discuss what data might be present in this process and how it could be structured, if at all. **Clearly state all assumptions.**\n",
    "<span style= 'float: right;'><b>[3 marks]</b></span>"
   ]
  },
  {
   "cell_type": "raw",
   "metadata": {},
   "source": [
    "# YOUR ANSWER HERE\n"
   ]
  },
  {
   "cell_type": "markdown",
   "metadata": {},
   "source": [
    "### Q3.2: Music database\n",
    "\n",
    "The following question is designed to test your SQL skills. You have been provided a database from a music store.  \n",
    "Your database looks as follows:\n",
    "\n",
    "![Music Database ER Diagram](image/q3_database_ER.png)\n",
    "\n",
    "You will be required to run a number of queries over this database to help gather some insights. You should provide the query, and the output in an appropriate format. You may use the Pandas SQL<>DataFrame functionality, or regular SQLite3 cursor functionality. \n",
    "\n",
    "The final answer to each sub-question should be obtained by executing one SQL statement **only**.  No further processing on the result to get the final answer.  Answer can be formatted as raw printed output or a Pandas DataFrame."
   ]
  },
  {
   "cell_type": "code",
   "execution_count": null,
   "metadata": {},
   "outputs": [],
   "source": [
    "# PLEASE KEEP THIS CODE.\n",
    "# OTHERWISE, YOU WILL NOT BE ABLE TO READ THE DATABASE\n",
    "def create_connection(db_file):\n",
    "    \"\"\" Connect to the specified SQLite database, if not exist, create a new one (in memory);\n",
    "    :db_file: location of db to connect to\n",
    "    :return: Connection object or None\n",
    "    \"\"\"\n",
    "    conn = None\n",
    "    try:\n",
    "        conn = sqlite3.connect(db_file)\n",
    "        print(\"Connection established!\")\n",
    "    except Error as e:\n",
    "        print(\"Error Connecting to Database\")\n",
    "        raise(e)\n",
    "    return conn\n",
    "\n",
    "dbfile_nw = \"./data/q3.db\"\n",
    "conn = create_connection(dbfile_nw) \n",
    "conn.text_factory = lambda b: b.decode(errors = 'ignore')\n",
    "cur = conn.cursor()\n",
    "# remember to close the connection when everything is done"
   ]
  },
  {
   "cell_type": "markdown",
   "metadata": {},
   "source": [
    "#### Q3.2.1: Customer Last Names\n",
    "Count the numbers of customers whose `LastName` begins with `S`.\n",
    "<span style= 'float: right;'><b>[3 marks]</b></span>"
   ]
  },
  {
   "cell_type": "code",
   "execution_count": null,
   "metadata": {},
   "outputs": [],
   "source": [
    "# YOUR CODE HERE\n"
   ]
  },
  {
   "cell_type": "markdown",
   "metadata": {
    "tags": []
   },
   "source": [
    "#### Q3.2.2: Albums by Artists\n",
    "List all the Album titles for the Artist named `AC/DC`.\n",
    "<span style= 'float: right;'><b>[3 marks]</b></span>"
   ]
  },
  {
   "cell_type": "code",
   "execution_count": null,
   "metadata": {},
   "outputs": [],
   "source": [
    "# YOUR CODE HERE\n"
   ]
  },
  {
   "cell_type": "markdown",
   "metadata": {},
   "source": [
    "#### Q3.2.3: Album sizes\n",
    "What are the albums that take up more than `1e+10` bytes of space? Order these albums in asending order according to space taken.\n",
    "<span style= 'float: right;'><b>[4 marks]</b></span>"
   ]
  },
  {
   "cell_type": "code",
   "execution_count": null,
   "metadata": {},
   "outputs": [],
   "source": [
    "# YOUR CODE HERE\n"
   ]
  },
  {
   "cell_type": "markdown",
   "metadata": {},
   "source": [
    "#### Q3.2.4: Most versatile artist\n",
    "Find the name of the artist who has tracks covering the most number of distinct `genres`.\n",
    "\n",
    "Note: We are looking for the artist whose work appears across the most number of genres.\n",
    "<span style= 'float: right;'><b>[5 marks]</b></span>"
   ]
  },
  {
   "cell_type": "code",
   "execution_count": null,
   "metadata": {},
   "outputs": [],
   "source": [
    "# YOUR CODE HERE\n"
   ]
  },
  {
   "cell_type": "markdown",
   "metadata": {},
   "source": [
    "### Q3.3: Reflecting on the Music database schema"
   ]
  },
  {
   "cell_type": "markdown",
   "metadata": {},
   "source": [
    "#### Q3.3.1 Based on the database schema, comment on the relationship between genres and tracks in this schema and any potential improvements you would make to this design. Justify your answer.\n",
    "<span style= 'float: right;'><b>[2 marks]</b></span>"
   ]
  },
  {
   "cell_type": "raw",
   "metadata": {},
   "source": [
    "# YOUR ANSWER HERE\n"
   ]
  },
  {
   "cell_type": "markdown",
   "metadata": {},
   "source": [
    "#### Q3.3.2 **(COMP6420 ONLY)** Assume you are trying insert details into the database about a track and its artist but the track is not associated with an album. Can this situation be handled using the given database? If not, what changes would you make to the schema to allow it? Justify your answer.\n",
    "\n",
    "<span style= 'float: right;'><b>[5 marks]</b></span>"
   ]
  },
  {
   "cell_type": "raw",
   "metadata": {},
   "source": [
    "# YOUR ANSWER HERE\n"
   ]
  },
  {
   "cell_type": "markdown",
   "metadata": {
    "tags": []
   },
   "source": [
    "****\n",
    "## Question 4: Data Analysis \n",
    "## _[20 marks for COMP2420, 25 marks for COMP6420]_ (LO3,LO4,LO5,LO6)\n",
    "The following questions will cover the topic of Data Analysis covered in the\n",
    "lectures and labs. Please provide your written answers in the raw text boxes\n",
    "provided, and code answers in the code boxes provided.\n",
    "_Any_ external information you use **must be referenced**. Provide references\n",
    "in the raw textbox or code box as appropriate, and statement of originality.\n",
    "\n",
    "The `data/Q4Q5.csv` file captures the details of how CO2 emissions by a vehicle can vary with the different features. The dataset has been taken from Canada Government official open data website. This contains data over a period of 7 years. There are total 7385 rows and 12 columns.\n",
    "\n",
    "A full description of the dataset is as follows:\n",
    "\n",
    "| **Name**          | **Description**                                                         |\n",
    "| ----------------- | ----------------------------------------------------------------------- |\n",
    "|UniqueID| unique identifer for each of the record in the dataset|\n",
    "|Vehicle Class | TWO-SEATER, COMPACT ,MID-SIZE, FULL-SIZE, SUV, PICKUP TRUCK|\n",
    "|Engine Size(L)| the size of the engine |\n",
    "|Cylinders| number of cylinders |\n",
    "|Transmission | A = automatic, M = manual|\n",
    "|Number of Gear |3 - 10 = Number of gears|\n",
    "|Fuel type | X = regular gasoline|\n",
    "||Z = premium gasoline|\n",
    "||D = diesel|\n",
    "||E = ethanol (E85)|\n",
    "||N = natural gas|\n",
    "|Fuel consumption|Fuel Consumption City (L/100 km) = City fuel consumption|\n",
    "||Fuel Consumption Hwy (L/100 km) = Highway fuel consumption|\n",
    "||Fuel Consumption Comb (L/100 km) =  the combined fuel consumption (55% city, 45% hwy) |\n",
    "||Fuel Consumption Comb (mpg) = fuel consumption miles per imperial gallon|\n",
    "|CO2 Emissions(g/km) | the tailpipe emissions of carbon dioxide (in grams per kilometre) for combined city and highway driving |"
   ]
  },
  {
   "cell_type": "markdown",
   "metadata": {},
   "source": [
    "### Q4.1: Importing the Data\n",
    "\n",
    "Import the dataset to a variable `q4q5_df`. Report the number of missing values for each attributes and display the first 5 rows of the dataset along with the column headers.\n",
    "\n",
    "<span style= 'float: right;'><b>[2 marks]</b></span>"
   ]
  },
  {
   "cell_type": "code",
   "execution_count": null,
   "metadata": {},
   "outputs": [],
   "source": [
    "# YOUR CODE HERE\n",
    "\n"
   ]
  },
  {
   "cell_type": "markdown",
   "metadata": {},
   "source": [
    "### Q4.2: Better fuel better efficiency\n",
    "\n",
    "There are five different fuel types available in the dataset. Your tasks are as follows:\n",
    "\n",
    " - Use a visualisation to compare the distribution of `Fuel Consumption Comb (L/100 km)` of different `Transmission` for each of the `Fuel Type`. Please justify why you picked the visualisation.\n",
    " - Provide a written response of your findings including any interesting patterns in the visualisation.\n",
    " \n",
    "<span style= 'float: right;'><b>[5 marks]</b></span>"
   ]
  },
  {
   "cell_type": "code",
   "execution_count": null,
   "metadata": {},
   "outputs": [],
   "source": [
    "# YOUR CODE HERE\n"
   ]
  },
  {
   "cell_type": "raw",
   "metadata": {},
   "source": [
    "# YOUR ANSWER HERE\n"
   ]
  },
  {
   "cell_type": "markdown",
   "metadata": {},
   "source": [
    "### Q4.3: Which type of cars consume more gasoline? SUV or full-size car?\n",
    "\n",
    "Your friend Cheng is thinking about buying a car for commuting. He would like to get either an SUV or a full-size sedan, and due to the current high petrol price, he wants to get the one with better fuel efficiency. To find out more, he has conducted some research online and found the following statement on a webpage: \n",
    "\n",
    "    Larger vehicles are notorious for guzzling gas. Since SUVs are heavier, even the most fuel-efficient vehicles in this category will get significantly fewer miles per gallon than sedans. On average, the most fuel-efficient SUVs average around 20-25 MPG, while sedans get anywhere from 30 to 40 MPG. The loss of fuel performance also comes with an increase in fuel cost, meaning more frequent stops at the gas station.\n",
    "\n",
    "But he's still not very convinced and has come to you, asking if you can use the provided dataset to help him to find out **if the average Fuel Consumption Comb (mpg) of SUV is statistically significantly lower than that of Full-Size**.\n",
    "\n",
    "You need to state clearly your **null hypothesis**, **alternative hypothesis**, **the conclusion** and also **justify the test you used.**\n",
    " \n",
    "*Hint: A Hypothesis test is an excellent method of comparing group means.*\n",
    "\n",
    "<span style= 'float: right;'><b>[5 marks]</b></span>"
   ]
  },
  {
   "cell_type": "raw",
   "metadata": {},
   "source": [
    "# YOUR HYPOTHESIS HERE\n",
    "H0: \n",
    "HA: "
   ]
  },
  {
   "cell_type": "code",
   "execution_count": null,
   "metadata": {},
   "outputs": [],
   "source": [
    "# YOUR CODE HERE\n"
   ]
  },
  {
   "cell_type": "raw",
   "metadata": {},
   "source": [
    "# YOUR CONCLUSION HERE\n"
   ]
  },
  {
   "cell_type": "raw",
   "metadata": {},
   "source": [
    "# YOUR JUSTIFICATION HERE\n"
   ]
  },
  {
   "cell_type": "markdown",
   "metadata": {},
   "source": [
    "### Q4.4: Engine Size vs Fuel Consumption\n",
    "\n",
    "\n",
    "Your tasks are:\n",
    " - Use a visualisation to compare the relationship between fuel consumption and engine size for different transmissions. Please justify why you picked the visualisation.\n",
    " - Provide a written response on trends and any abnormal findings based on your analysis.\n",
    "\n",
    "<span style= 'float: right;'><b>[5 marks]</b></span>"
   ]
  },
  {
   "cell_type": "code",
   "execution_count": null,
   "metadata": {},
   "outputs": [],
   "source": [
    "# YOUR CODE HERE\n"
   ]
  },
  {
   "cell_type": "raw",
   "metadata": {},
   "source": [
    "# YOUR ANSWER HERE\n"
   ]
  },
  {
   "cell_type": "markdown",
   "metadata": {},
   "source": [
    "### Q4.5: Find Cluster and visualise it.\n",
    "\n",
    "#### Q4.5.1 Implement the `KMeans` clustering algorithm with `k = 5` using `sklearn` or equivalent packages. Provide graphical representations of your clustering output and an interpretation of the output.\n",
    " \n",
    "Your tasks are:\n",
    " - Implement the KMeans model with `k=5` using `Fuel Consumption Comb (L/100 km)`, `CO2 Emissions(g/km)`, `Engine Size(L)`, and `Cylinders`. \n",
    " - Provide a visualisation to show your clustering output.\n",
    " - Discuss insights shown by the output on the underlying data.\n",
    "\n",
    "*hint: consider reducing the dimensionality when generating the visualisation*\n",
    "\n",
    "<span style= 'float: right;'><b>[3 marks]</b></span>"
   ]
  },
  {
   "cell_type": "code",
   "execution_count": null,
   "metadata": {},
   "outputs": [],
   "source": [
    "# YOUR CODE HERE\n",
    "\n"
   ]
  },
  {
   "cell_type": "raw",
   "metadata": {},
   "source": [
    "# YOUR ANSWER HERE\n"
   ]
  },
  {
   "cell_type": "markdown",
   "metadata": {},
   "source": [
    "#### Q4.5.2 **(COMP6420 ONLY)** Comment on the suitability of Kmeans in this context and examine its strengths and/or limitations for this problem and generally.\n",
    "<span style= 'float: right;'><b>[5 marks]</b></span>"
   ]
  },
  {
   "cell_type": "raw",
   "metadata": {},
   "source": [
    "# YOUR ANSWER HERE\n"
   ]
  },
  {
   "cell_type": "markdown",
   "metadata": {},
   "source": [
    "****\n",
    "## Q5 - Machine Learning \n",
    "## _[30 Marks for COMP2420, 35 marks for COMP6420]_ (LO3,LO4,LO5,LO6)\n",
    "The following questions will cover the topic of Machine Learning covered in the\n",
    "lectures and labs. Please provide your written answers in the raw text boxes\n",
    "provided, and code answers in the code boxes provided.\n",
    "_Any_ external information you use **must be referenced**. Provide references\n",
    "in the raw textbox or code box as appropriate, and statement of originality."
   ]
  },
  {
   "cell_type": "markdown",
   "metadata": {},
   "source": [
    "### Q5.1: Without actually implementing the model, should you use logistic regression or knn to model the below dataset that has 2 features ```x1``` and ```x2```?"
   ]
  },
  {
   "cell_type": "markdown",
   "metadata": {},
   "source": [
    "<img src=\"data/q4_1.jpg\" width=400 height=400 />"
   ]
  },
  {
   "cell_type": "markdown",
   "metadata": {},
   "source": [
    "#### Q5.1.1) what train score should a default knn model get and why?\n",
    "<span style= 'float: right;'><b>[2 marks]</b></span>"
   ]
  },
  {
   "cell_type": "raw",
   "metadata": {},
   "source": [
    "# YOUR ANSWER HERE\n"
   ]
  },
  {
   "cell_type": "markdown",
   "metadata": {},
   "source": [
    "#### Q5.1.2) what train score should a default logistic model get and why?\n",
    "<span style= 'float: right;'><b>[2 marks]</b></span>"
   ]
  },
  {
   "cell_type": "raw",
   "metadata": {},
   "source": [
    "# YOUR ANSWER HERE\n"
   ]
  },
  {
   "cell_type": "markdown",
   "metadata": {},
   "source": [
    "### Q5.2: Classification\n",
    "\n",
    "In this section, we will keep using the car dataset in Question 4. **The task is to predict the `Vehicle Class` of a car.**\n",
    "\n",
    "#### Q5.2.1: Preprocessing and splitting the dataset\n",
    "\n",
    "You need to preprocess the dataset first. Things you need to do includes but not limited to:\n",
    "\n",
    "    1) encode categorical variables to appropriate forms.\n",
    "    \n",
    "    2) handle the missing values appropriately if there are any.\n",
    "    \n",
    "    3) drop unwanted features if necessary.\n",
    "\n",
    "    4) split the dataset to train and test sets. You may choose whatever test/train split you wish but be sure to explicitly state what you have chosen.\n",
    "    \n",
    "    5) justify each transformation/modification you performed.\n",
    "\n",
    "<span style= 'float: right;'><b>[8 marks]</b></span>"
   ]
  },
  {
   "cell_type": "code",
   "execution_count": null,
   "metadata": {},
   "outputs": [],
   "source": [
    "# YOUR CODE HERE\n",
    "\n"
   ]
  },
  {
   "cell_type": "raw",
   "metadata": {},
   "source": [
    "# YOUR ANSWER HERE\n"
   ]
  },
  {
   "cell_type": "markdown",
   "metadata": {},
   "source": [
    "#### Q5.2.2: Fit a Decision Tree Model\n",
    "\n",
    "Now you need to **fit the training data using a decision tree model**.\n",
    "<span style= 'float: right;'><b>[2 marks]</b></span>"
   ]
  },
  {
   "cell_type": "code",
   "execution_count": null,
   "metadata": {},
   "outputs": [],
   "source": [
    "# YOUR CODE HERE\n",
    "\n"
   ]
  },
  {
   "cell_type": "markdown",
   "metadata": {},
   "source": [
    "#### Q5.2.3: Plot the top three nodes of the decision tree and answer the following questions:\n",
    "1. For each of the nodes, how many samples are there in the node before split?\n",
    "2. For each of the nodes, what feature and value is the node split on?\n",
    "3. For the **top node only**, using the plot as a reference, do your own calculation to verify the gini or entropy impurity value shown. (refer to [week 5](https://comp.anu.edu.au/courses/comp2420/lectures/campus_only/2022/W5_1_COMP2420_6420_Decision_Trees__PKJ_.pdf) slide 21)\n",
    "\n",
    "<span style= 'float: right;'><b>[6 marks]</b></span>"
   ]
  },
  {
   "cell_type": "code",
   "execution_count": null,
   "metadata": {},
   "outputs": [],
   "source": [
    "# YOUR CODE HERE\n",
    "\n"
   ]
  },
  {
   "cell_type": "raw",
   "metadata": {},
   "source": [
    "# YOUR ANSWER HERE\n"
   ]
  },
  {
   "cell_type": "markdown",
   "metadata": {},
   "source": [
    "#### Q5.2.4. Report the overall mean accuracy on the training set and the overall mean accuracy on the testing set.\n",
    "<span style= 'float: right;'><b>[2 marks]</b></span>"
   ]
  },
  {
   "cell_type": "code",
   "execution_count": null,
   "metadata": {},
   "outputs": [],
   "source": [
    "# YOUR CODE HERE\n"
   ]
  },
  {
   "cell_type": "markdown",
   "metadata": {},
   "source": [
    "#### Q5.2.5. Report the accuracy for the target class `MID-SIZE` only using the testing set.\n",
    "<span style= 'float: right;'><b>[3 marks]</b></span>"
   ]
  },
  {
   "cell_type": "code",
   "execution_count": null,
   "metadata": {},
   "outputs": [],
   "source": [
    "# YOUR CODE HERE\n",
    "\n"
   ]
  },
  {
   "cell_type": "markdown",
   "metadata": {},
   "source": [
    "#### Q5.2.6 Print the confusion matrix, interpret the stengths and weaknesses of the model on the dataset.\n",
    "<span style= 'float: right;'><b>[5 marks]</b></span>"
   ]
  },
  {
   "cell_type": "code",
   "execution_count": null,
   "metadata": {},
   "outputs": [],
   "source": [
    "# YOUR CODE HERE\n",
    "\n"
   ]
  },
  {
   "cell_type": "raw",
   "metadata": {},
   "source": [
    "# YOUR ANSWER HERE\n"
   ]
  },
  {
   "cell_type": "markdown",
   "metadata": {},
   "source": [
    "#### Q5.2.7 **(COMP6420 ONLY)** Is the model overfitting or underfitting? If it is, can you mitigate the issue and achieve better test set performance?\n",
    "<span style= 'float: right;'><b>[5 marks]</b></span>"
   ]
  },
  {
   "cell_type": "raw",
   "metadata": {},
   "source": [
    "# YOUR ANSWER HERE\n"
   ]
  },
  {
   "cell_type": "markdown",
   "metadata": {},
   "source": [
    "****\n",
    "## IMPORTANT - SUBMISSION CHECKLIST\n",
    "### Please type YES to this submission question to indicate that you are aware of the following and have completed or will complete the relevant associated tasks by their deadlines:\n",
    "\n",
    "(1.1) You have ensured that the answers to the Jupyter notebook have been saved before you do your final COMMIT and PUSH for submission to the gitlab server.  \n",
    "\n",
    "(1.2)Your Jupyter notebook needs to be in an unzipped format with its original naming. do NOT zip up your notebook for submission and do NOT rename it. \n",
    "\n",
    "(2) You have filled in and submitted your Statement of Originality by the deadline of the exam.  A late submission of the Statement of Originality will NOT be accepted and will invalidate your exam submission.\n",
    "\n",
    "(3.1) Your self-invigilation video includes your screen capture showing all open windows you have used on your computer, sound and live web cam showing you clearly.  \n",
    "\n",
    "(3.2) Your self-invigilation video will be submitted on Wattle by the deadline of 05.00pm Tuesday 07 June 2022 (3 days after the exam is taken). No late submission will be accepted and will constitute a breach of examination conditions.  \n",
    "\n",
    "(3.3) If you had issues with recording your self-invigilation video then you need to let us know about this by filling in the relevant form available on Wattle.  In this case, you will very likely be called for an oral examination.\n",
    "\n",
    "\n"
   ]
  },
  {
   "cell_type": "markdown",
   "metadata": {},
   "source": [
    "### Type your acknowledgement of the submission checklist here to make sure your submission is valid"
   ]
  },
  {
   "cell_type": "raw",
   "metadata": {},
   "source": []
  }
 ],
 "metadata": {
  "kernelspec": {
   "display_name": "Python 3 (ipykernel)",
   "language": "python",
   "name": "python3"
  },
  "language_info": {
   "codemirror_mode": {
    "name": "ipython",
    "version": 3
   },
   "file_extension": ".py",
   "mimetype": "text/x-python",
   "name": "python",
   "nbconvert_exporter": "python",
   "pygments_lexer": "ipython3",
   "version": "3.8.16"
  }
 },
 "nbformat": 4,
 "nbformat_minor": 4
}
