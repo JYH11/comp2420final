{
 "cells": [
  {
   "cell_type": "markdown",
   "metadata": {},
   "source": [
    "<h1 align='center'> COMP2420/COMP6420 - Introduction to Data Management, Analysis and Security</h1>\n",
    "\n",
    "<h2 align='center'> Lab 04 - Data Analysis: Linear Regression & Prediction </h2>\n",
    "\n",
    "*****"
   ]
  },
  {
   "cell_type": "markdown",
   "metadata": {},
   "source": [
    "## Aim\n",
    "There are three aims in this lab:\n",
    "1. Outline the common terms used in data analysis and machine learning models\n",
    "2. Introduce basic machine learning techniques used for numerical prediction\n",
    "3. Describe the theory and rationales behind these techniques, to enable accurate and well-guided decisions when creating models\n",
    "\n",
    "*****"
   ]
  },
  {
   "cell_type": "markdown",
   "metadata": {},
   "source": [
    "## Learning Outcomes\n",
    "- L03: Demonstrate basic knowledge and understanding of descriptive and predictive data analysis methods, optimization and search, and knowledge representation.\n",
    "- L04: Formulate and extract descriptive and predictive statistics from data\n",
    "- L05: Analyse and interpret results from descriptive and predictive data analysis\n",
    "- L06: Apply their knowledge to a given problem domain and articulate potential data analysis problems\n",
    "\n",
    "***"
   ]
  },
  {
   "cell_type": "markdown",
   "metadata": {},
   "source": [
    "## Preparation\n",
    "<sub> This can include lectures or external videos. Take your pick</sub>\n",
    "\n",
    "\n",
    "Before starting this lab, we suggest you complete the following:\n",
    "- Watch the lectures this week\n",
    "- Ensure you've completed and are familiar with Lab02 and Lab03 in particular\n",
    "\n",
    "\n",
    "The following functions may be useful for this lab:\n",
    "\n",
    "| Function | Description |\n",
    "| ---: |:---|\n",
    "| `lm.fit()` | fits and returns a linear model |\n",
    "| `model.predict()` | predict Y using the linear model with estimated coefficients |\n",
    "| `model.score()` | returns the coefficient of determination ( $R^2$ ) |\n",
    "| `model.intercept_`  | returns estimated intercept |\n",
    "| `model.coef_`  | returns estimated coefficients |\n",
    "| `train_test_split()` | splits your data into training and testing sets |\n",
    "| `pd.get_dummies()` | encode a categorical variable into separate columns (typically use `drop_first=True`) |\n",
    "\n",
    "***"
   ]
  },
  {
   "cell_type": "code",
   "execution_count": 1,
   "metadata": {},
   "outputs": [
    {
     "name": "stderr",
     "output_type": "stream",
     "text": [
      "C:\\Users\\Andrew Ha\\AppData\\Local\\Temp\\ipykernel_15580\\3393790735.py:10: MatplotlibDeprecationWarning: The seaborn styles shipped by Matplotlib are deprecated since 3.6, as they no longer correspond to the styles shipped by seaborn. However, they will remain available as 'seaborn-v0_8-<style>'. Alternatively, directly use the seaborn API instead.\n",
      "  plt.style.use('seaborn')\n"
     ]
    }
   ],
   "source": [
    "# import packages\n",
    "import numpy as np\n",
    "import pandas as pd\n",
    "from sklearn.linear_model import LinearRegression       # linear regression\n",
    "from sklearn.model_selection import train_test_split    # train-test split\n",
    "from sklearn.preprocessing import OneHotEncoder         # nominal variable\n",
    "\n",
    "import matplotlib.pyplot as plt\n",
    "import seaborn as sns\n",
    "plt.style.use('seaborn')"
   ]
  },
  {
   "cell_type": "markdown",
   "metadata": {},
   "source": [
    "### Exercise 1: Predicting Pounds"
   ]
  },
  {
   "cell_type": "markdown",
   "metadata": {},
   "source": [
    "We're going to use a simple dataset for this exercise with 200 records of only two variables: **height** and **weight**. Let's load this dataset from its web link."
   ]
  },
  {
   "cell_type": "code",
   "execution_count": 2,
   "metadata": {},
   "outputs": [
    {
     "data": {
      "text/html": [
       "<div>\n",
       "<style scoped>\n",
       "    .dataframe tbody tr th:only-of-type {\n",
       "        vertical-align: middle;\n",
       "    }\n",
       "\n",
       "    .dataframe tbody tr th {\n",
       "        vertical-align: top;\n",
       "    }\n",
       "\n",
       "    .dataframe thead th {\n",
       "        text-align: right;\n",
       "    }\n",
       "</style>\n",
       "<table border=\"1\" class=\"dataframe\">\n",
       "  <thead>\n",
       "    <tr style=\"text-align: right;\">\n",
       "      <th></th>\n",
       "      <th>Height(Inches)</th>\n",
       "      <th>Weight(Pounds)</th>\n",
       "    </tr>\n",
       "    <tr>\n",
       "      <th>Index</th>\n",
       "      <th></th>\n",
       "      <th></th>\n",
       "    </tr>\n",
       "  </thead>\n",
       "  <tbody>\n",
       "    <tr>\n",
       "      <th>1</th>\n",
       "      <td>65.78</td>\n",
       "      <td>112.99</td>\n",
       "    </tr>\n",
       "    <tr>\n",
       "      <th>2</th>\n",
       "      <td>71.52</td>\n",
       "      <td>136.49</td>\n",
       "    </tr>\n",
       "    <tr>\n",
       "      <th>3</th>\n",
       "      <td>69.40</td>\n",
       "      <td>153.03</td>\n",
       "    </tr>\n",
       "    <tr>\n",
       "      <th>4</th>\n",
       "      <td>68.22</td>\n",
       "      <td>142.34</td>\n",
       "    </tr>\n",
       "    <tr>\n",
       "      <th>5</th>\n",
       "      <td>67.79</td>\n",
       "      <td>144.30</td>\n",
       "    </tr>\n",
       "  </tbody>\n",
       "</table>\n",
       "</div>"
      ],
      "text/plain": [
       "       Height(Inches)  Weight(Pounds)\n",
       "Index                                \n",
       "1               65.78          112.99\n",
       "2               71.52          136.49\n",
       "3               69.40          153.03\n",
       "4               68.22          142.34\n",
       "5               67.79          144.30"
      ]
     },
     "execution_count": 2,
     "metadata": {},
     "output_type": "execute_result"
    }
   ],
   "source": [
    "url = 'http://wiki.stat.ucla.edu/socr/index.php/SOCR_Data_Dinov_020108_HeightsWeights'\n",
    "df_hw = pd.read_html(url, header=0, index_col=0)[1]\n",
    "df_hw.head()"
   ]
  },
  {
   "cell_type": "markdown",
   "metadata": {},
   "source": [
    "#### 1.1 Simple Linear Regression\n",
    "**Simple linear regression** is a method used to understand the relationship between the response variable (`y`) and the predictor (`x`), particularly where there is **only one predictor**. Thinking back to plotting straight lines, this has the form $$ y = \\beta_0 + \\beta_1 x $$\n",
    "(Note that this is similar to $ y = mx + b $, if you've seen that equation before). $\\beta_0$ is the coefficient that denotes the **intercept** (i.e. the value we expect `y` to be when `x`=0), and $\\beta_1$ denotes the **slope with respect to `x`** (i.e. the amount we expect `y` to increase if `x` increases by 1).\n",
    "\n",
    "If you haven't seen this before, it can be confusing. We'll guide you through this exercise to help you understand it. Given the dataset above, we want to see if there's a relationship between height and weight - and, most importantly, we want to understand this relationship as much as possible. We'll use Scikit-learn (`sklearn`)'s Linear Regression package to do it for us. Please check the formal documentation for Linear Regression module provided by (`sklearn`) <a href=\"https://scikit-learn.org/stable/modules/generated/sklearn.linear_model.LinearRegression.html\"> here</a>.\n",
    "\n",
    "First, let's **assign the columns** to `x` and `y`. Remember, we want to predict the weight (response) using the height (predictor)."
   ]
  },
  {
   "cell_type": "code",
   "execution_count": 3,
   "metadata": {},
   "outputs": [],
   "source": [
    "# assign the predictor to x\n",
    "x = df_hw[\"Height(Inches)\"]\n",
    "\n",
    "# assign the response to y\n",
    "y = df_hw[\"Weight(Pounds)\"]"
   ]
  },
  {
   "cell_type": "markdown",
   "metadata": {},
   "source": [
    "Now let's call the `LinearRegression` module (make sure you run the imports code block at the start)."
   ]
  },
  {
   "cell_type": "code",
   "execution_count": 4,
   "metadata": {},
   "outputs": [
    {
     "name": "stdout",
     "output_type": "stream",
     "text": [
      "The intercept of this model is: -106.02770644878132\n",
      "The slope coefficient of this model is: 3.432676129271629\n",
      "\n",
      "Thus the equation is: Weight = -106.03 + 3.43 * Height\n"
     ]
    }
   ],
   "source": [
    "# create a LinearRegression instance\n",
    "lr = LinearRegression()\n",
    "\n",
    "# fit the data using linear regression\n",
    "# the reshaping is because the function expects more columns in x\n",
    "model = lr.fit(np.array(x).reshape(-1,1),y)\n",
    "\n",
    "# now let's see the coefficients\n",
    "print(\"The intercept of this model is:\", model.intercept_)\n",
    "print(\"The slope coefficient of this model is:\", model.coef_[0])\n",
    "print(\"\")\n",
    "print(\"Thus the equation is: Weight =\", model.intercept_.round(2), \"+\", model.coef_[0].round(2), \"* Height\")"
   ]
  },
  {
   "cell_type": "markdown",
   "metadata": {},
   "source": [
    "We can see the relationship as an equation now! It's interesting that the intercept is -106.03 (which indicates that when Height is very small then Weight is negative, which would be impossible), but that's just because our data has a very limited range.\n",
    "\n",
    "As great as an equation is, it'd be better if we could understand it visually. Let's plot the points and add the regression line."
   ]
  },
  {
   "cell_type": "code",
   "execution_count": 5,
   "metadata": {},
   "outputs": [
    {
     "data": {
      "image/png": "[encoded data removed]",
      "text/plain": [
       "<Figure size 800x550 with 1 Axes>"
      ]
     },
     "metadata": {},
     "output_type": "display_data"
    }
   ],
   "source": [
    "fig = plt.figure()\n",
    "ax = fig.add_subplot(111)\n",
    "\n",
    "# scatter the points\n",
    "plt.scatter(x,y)\n",
    "\n",
    "# add the regression line\n",
    "b0 = model.intercept_\n",
    "b1 = model.coef_[0]\n",
    "x_range = [x.min(), x.max()]                      # get the bounds for x\n",
    "y_range = [b0+b1*x_range[0], b0+b1*x_range[1]]    # get the bounds for y\n",
    "plt.plot(x_range, y_range, c=\"red\")\n",
    "\n",
    "# add some labels and titles\n",
    "ax.set_xlabel(\"Height (Inches)\")\n",
    "ax.set_ylabel(\"Weight (Pounds)\")\n",
    "ax.set_title(\"Model of Weight vs Height\")\n",
    "\n",
    "plt.show()"
   ]
  },
  {
   "cell_type": "markdown",
   "metadata": {},
   "source": [
    "How's that? We can see a clear relationship between height and weight, and we also know the exact equation of the relationship. Now let's see how accurately it fit the data."
   ]
  },
  {
   "cell_type": "code",
   "execution_count": 6,
   "metadata": {},
   "outputs": [
    {
     "data": {
      "text/plain": [
       "0.31009833265482645"
      ]
     },
     "execution_count": 6,
     "metadata": {},
     "output_type": "execute_result"
    }
   ],
   "source": [
    "model.score(np.array(df_hw[\"Height(Inches)\"]).reshape(-1,1), df_hw[\"Weight(Pounds)\"])"
   ]
  },
  {
   "cell_type": "markdown",
   "metadata": {},
   "source": [
    "The output of that function is the $ R^2 $, or **R-squared** score. It ranges from 0 to 1 (although some very bad models can have negative scores), and the higher the score the better. The score penalises predictions that are far away from the actual value (where the vertical distance between the prediction and the actual point is called the **residual**).\n",
    "\n",
    "The score above isn't great, because there's so much variation - that is, for the same height, there are many different weights. Because of this, keep in mind that the $R^2$ score is **relative**, and changes depending on the data you're working with.\n",
    "\n",
    "Suppose you know someone who's **70 inches** (178cm) tall, but you don't know their weight (and you'd guess they have an \"average\" build). Using the equation we found, estimate their weight."
   ]
  },
  {
   "cell_type": "code",
   "execution_count": 7,
   "metadata": {},
   "outputs": [
    {
     "name": "stdout",
     "output_type": "stream",
     "text": [
      "is 134.07 pounds\n"
     ]
    },
    {
     "data": {
      "text/plain": [
       "array([134.2596226])"
      ]
     },
     "execution_count": 7,
     "metadata": {},
     "output_type": "execute_result"
    }
   ],
   "source": [
    "# TODO: your answer here\n",
    "print(f'is {np.round(-106.03 + 3.43 *70, 2)} pounds')\n",
    "model.predict([[70]])"
   ]
  },
  {
   "cell_type": "markdown",
   "metadata": {},
   "source": [
    "Now suppose you know a toddler who's **30 inches** (76cm) tall. Using the equation again, estimate their weight."
   ]
  },
  {
   "cell_type": "code",
   "execution_count": 8,
   "metadata": {},
   "outputs": [
    {
     "name": "stdout",
     "output_type": "stream",
     "text": [
      "is -3.13 pounds\n"
     ]
    },
    {
     "data": {
      "text/plain": [
       "array([-3.04742257])"
      ]
     },
     "execution_count": 8,
     "metadata": {},
     "output_type": "execute_result"
    }
   ],
   "source": [
    "# TODO: your answer here\n",
    "print(f'is {np.round(-106.03 + 3.43 *30,2)} pounds')\n",
    "model.predict([[30]])"
   ]
  },
  {
   "cell_type": "markdown",
   "metadata": {},
   "source": [
    "Did you get a weird answer? *Hint: you should have.* How come? If you're not sure why, discuss with your classmates or tutor."
   ]
  },
  {
   "cell_type": "markdown",
   "metadata": {},
   "source": [
    "Weird answer is because this data is only fit to people who are between 63 and 74 inches tall - predicting for values well outside this range would be assuming that the data follows the same linear trend overall (which is certainly not true for weight vs height)."
   ]
  },
  {
   "cell_type": "markdown",
   "metadata": {},
   "source": [
    "### Exercise 2: Huts, Homes & Houses\n",
    "Let's look at a sample of a <a href=\"https://www.kaggle.com/c/house-prices-advanced-regression-techniques/data\">dataset from Kaggle</a> on the sale price of a house based on a variety of other metrics. We'll try to **predict the sale price** using regression techniques.\n",
    "\n",
    "Here are the descriptions of the columns. We won't necessarily be using all of them (although you'll have a chance to pick and choose in the extension section of this lab), but it's useful to know what you're working with.\n",
    "\n",
    "| Name           | Description |\n",
    "| ---:           | :---        |\n",
    "| `LotArea`      | size of lot in square feet |\n",
    "| `OverallQual`  | rating of the overall material and finish of the house (higher is better) |\n",
    "| `OverallCond`  | rating of the current condition of the house (higher is better) |\n",
    "| `YearBuilt`    | original construction date |\n",
    "| `YearRemodAdd` | date that the last remodelling was done (=`YearBuilt` if no remodelling)\n",
    "| `GrLivArea`    | above-ground living area in square feet |\n",
    "| `FullBath`     | number of above-ground, full-sized bathrooms |\n",
    "| `BedroomAbvGr` | number of above-ground bedrooms |\n",
    "| `KitchenAbvGr` | number of above-ground kitchens |\n",
    "| `GarageArea`   | size of garage in square feet |\n",
    "| `YrSold`       | year that the lot was sold |\n",
    "| `LotShape`     | general shape of property<br>(`Reg`=Regular, `IR1`=Slightly irregular, `IR2`=Moderately irregular, `IR3`=Very irregular)\n",
    "| `LotConfig`    | configuration of lot<br>(`Inside`, `Corner`, `CulDSac`=Cul-de-sac lot, `FR2`=Frontage on 2 sides, `FR3`=Frontage on 3 sides)\n",
    "| `SalePrice`    | property's sale price in dollars |\n",
    "\n",
    "Let's import and have a look at our data."
   ]
  },
  {
   "cell_type": "code",
   "execution_count": 9,
   "metadata": {},
   "outputs": [
    {
     "name": "stdout",
     "output_type": "stream",
     "text": [
      "Index(['LotArea', 'OverallQual', 'OverallCond', 'YearBuilt', 'YearRemodAdd',\n",
      "       'GrLivArea', 'FullBath', 'BedroomAbvGr', 'KitchenAbvGr', 'GarageArea',\n",
      "       'YrSold', 'LotShape', 'LotConfig', 'SalePrice'],\n",
      "      dtype='object')\n"
     ]
    },
    {
     "data": {
      "text/html": [
       "<div>\n",
       "<style scoped>\n",
       "    .dataframe tbody tr th:only-of-type {\n",
       "        vertical-align: middle;\n",
       "    }\n",
       "\n",
       "    .dataframe tbody tr th {\n",
       "        vertical-align: top;\n",
       "    }\n",
       "\n",
       "    .dataframe thead th {\n",
       "        text-align: right;\n",
       "    }\n",
       "</style>\n",
       "<table border=\"1\" class=\"dataframe\">\n",
       "  <thead>\n",
       "    <tr style=\"text-align: right;\">\n",
       "      <th></th>\n",
       "      <th>LotArea</th>\n",
       "      <th>OverallQual</th>\n",
       "      <th>OverallCond</th>\n",
       "      <th>YearBuilt</th>\n",
       "      <th>YearRemodAdd</th>\n",
       "      <th>GrLivArea</th>\n",
       "      <th>FullBath</th>\n",
       "      <th>BedroomAbvGr</th>\n",
       "      <th>KitchenAbvGr</th>\n",
       "      <th>GarageArea</th>\n",
       "      <th>YrSold</th>\n",
       "      <th>SalePrice</th>\n",
       "    </tr>\n",
       "  </thead>\n",
       "  <tbody>\n",
       "    <tr>\n",
       "      <th>count</th>\n",
       "      <td>1460.000000</td>\n",
       "      <td>1460.000000</td>\n",
       "      <td>1460.000000</td>\n",
       "      <td>1460.000000</td>\n",
       "      <td>1460.000000</td>\n",
       "      <td>1460.000000</td>\n",
       "      <td>1460.000000</td>\n",
       "      <td>1460.000000</td>\n",
       "      <td>1460.000000</td>\n",
       "      <td>1460.000000</td>\n",
       "      <td>1460.000000</td>\n",
       "      <td>1460.000000</td>\n",
       "    </tr>\n",
       "    <tr>\n",
       "      <th>mean</th>\n",
       "      <td>10516.828082</td>\n",
       "      <td>6.099315</td>\n",
       "      <td>5.575342</td>\n",
       "      <td>1971.267808</td>\n",
       "      <td>1984.865753</td>\n",
       "      <td>1515.463699</td>\n",
       "      <td>1.565068</td>\n",
       "      <td>2.866438</td>\n",
       "      <td>1.046575</td>\n",
       "      <td>472.980137</td>\n",
       "      <td>2007.815753</td>\n",
       "      <td>180921.195890</td>\n",
       "    </tr>\n",
       "    <tr>\n",
       "      <th>std</th>\n",
       "      <td>9981.264932</td>\n",
       "      <td>1.382997</td>\n",
       "      <td>1.112799</td>\n",
       "      <td>30.202904</td>\n",
       "      <td>20.645407</td>\n",
       "      <td>525.480383</td>\n",
       "      <td>0.550916</td>\n",
       "      <td>0.815778</td>\n",
       "      <td>0.220338</td>\n",
       "      <td>213.804841</td>\n",
       "      <td>1.328095</td>\n",
       "      <td>79442.502883</td>\n",
       "    </tr>\n",
       "    <tr>\n",
       "      <th>min</th>\n",
       "      <td>1300.000000</td>\n",
       "      <td>1.000000</td>\n",
       "      <td>1.000000</td>\n",
       "      <td>1872.000000</td>\n",
       "      <td>1950.000000</td>\n",
       "      <td>334.000000</td>\n",
       "      <td>0.000000</td>\n",
       "      <td>0.000000</td>\n",
       "      <td>0.000000</td>\n",
       "      <td>0.000000</td>\n",
       "      <td>2006.000000</td>\n",
       "      <td>34900.000000</td>\n",
       "    </tr>\n",
       "    <tr>\n",
       "      <th>25%</th>\n",
       "      <td>7553.500000</td>\n",
       "      <td>5.000000</td>\n",
       "      <td>5.000000</td>\n",
       "      <td>1954.000000</td>\n",
       "      <td>1967.000000</td>\n",
       "      <td>1129.500000</td>\n",
       "      <td>1.000000</td>\n",
       "      <td>2.000000</td>\n",
       "      <td>1.000000</td>\n",
       "      <td>334.500000</td>\n",
       "      <td>2007.000000</td>\n",
       "      <td>129975.000000</td>\n",
       "    </tr>\n",
       "    <tr>\n",
       "      <th>50%</th>\n",
       "      <td>9478.500000</td>\n",
       "      <td>6.000000</td>\n",
       "      <td>5.000000</td>\n",
       "      <td>1973.000000</td>\n",
       "      <td>1994.000000</td>\n",
       "      <td>1464.000000</td>\n",
       "      <td>2.000000</td>\n",
       "      <td>3.000000</td>\n",
       "      <td>1.000000</td>\n",
       "      <td>480.000000</td>\n",
       "      <td>2008.000000</td>\n",
       "      <td>163000.000000</td>\n",
       "    </tr>\n",
       "    <tr>\n",
       "      <th>75%</th>\n",
       "      <td>11601.500000</td>\n",
       "      <td>7.000000</td>\n",
       "      <td>6.000000</td>\n",
       "      <td>2000.000000</td>\n",
       "      <td>2004.000000</td>\n",
       "      <td>1776.750000</td>\n",
       "      <td>2.000000</td>\n",
       "      <td>3.000000</td>\n",
       "      <td>1.000000</td>\n",
       "      <td>576.000000</td>\n",
       "      <td>2009.000000</td>\n",
       "      <td>214000.000000</td>\n",
       "    </tr>\n",
       "    <tr>\n",
       "      <th>max</th>\n",
       "      <td>215245.000000</td>\n",
       "      <td>10.000000</td>\n",
       "      <td>9.000000</td>\n",
       "      <td>2010.000000</td>\n",
       "      <td>2010.000000</td>\n",
       "      <td>5642.000000</td>\n",
       "      <td>3.000000</td>\n",
       "      <td>8.000000</td>\n",
       "      <td>3.000000</td>\n",
       "      <td>1418.000000</td>\n",
       "      <td>2010.000000</td>\n",
       "      <td>755000.000000</td>\n",
       "    </tr>\n",
       "  </tbody>\n",
       "</table>\n",
       "</div>"
      ],
      "text/plain": [
       "             LotArea  OverallQual  OverallCond    YearBuilt  YearRemodAdd  \\\n",
       "count    1460.000000  1460.000000  1460.000000  1460.000000   1460.000000   \n",
       "mean    10516.828082     6.099315     5.575342  1971.267808   1984.865753   \n",
       "std      9981.264932     1.382997     1.112799    30.202904     20.645407   \n",
       "min      1300.000000     1.000000     1.000000  1872.000000   1950.000000   \n",
       "25%      7553.500000     5.000000     5.000000  1954.000000   1967.000000   \n",
       "50%      9478.500000     6.000000     5.000000  1973.000000   1994.000000   \n",
       "75%     11601.500000     7.000000     6.000000  2000.000000   2004.000000   \n",
       "max    215245.000000    10.000000     9.000000  2010.000000   2010.000000   \n",
       "\n",
       "         GrLivArea     FullBath  BedroomAbvGr  KitchenAbvGr   GarageArea  \\\n",
       "count  1460.000000  1460.000000   1460.000000   1460.000000  1460.000000   \n",
       "mean   1515.463699     1.565068      2.866438      1.046575   472.980137   \n",
       "std     525.480383     0.550916      0.815778      0.220338   213.804841   \n",
       "min     334.000000     0.000000      0.000000      0.000000     0.000000   \n",
       "25%    1129.500000     1.000000      2.000000      1.000000   334.500000   \n",
       "50%    1464.000000     2.000000      3.000000      1.000000   480.000000   \n",
       "75%    1776.750000     2.000000      3.000000      1.000000   576.000000   \n",
       "max    5642.000000     3.000000      8.000000      3.000000  1418.000000   \n",
       "\n",
       "            YrSold      SalePrice  \n",
       "count  1460.000000    1460.000000  \n",
       "mean   2007.815753  180921.195890  \n",
       "std       1.328095   79442.502883  \n",
       "min    2006.000000   34900.000000  \n",
       "25%    2007.000000  129975.000000  \n",
       "50%    2008.000000  163000.000000  \n",
       "75%    2009.000000  214000.000000  \n",
       "max    2010.000000  755000.000000  "
      ]
     },
     "execution_count": 9,
     "metadata": {},
     "output_type": "execute_result"
    }
   ],
   "source": [
    "# import data\n",
    "houses = pd.read_csv(\"./data/houses_sub.csv\", index_col=0)\n",
    "\n",
    "# always nice to look at columns and summary info\n",
    "print(houses.columns)\n",
    "houses.describe()\n",
    "\n",
    "# notice that LotShape and LotConfig do not show in the describe() table\n",
    "# this is because they are categorical variables, not numerical"
   ]
  },
  {
   "cell_type": "markdown",
   "metadata": {},
   "source": [
    "#### 2.1 Understanding the experiment and data\n",
    "\n",
    "Before diving into the data, we should understand the nature of the data - not only because it will help you perform better analysis and reach more accurate conclusions, but also for reasons that will become clear during the Ethics section of this course. Answer the discussion questions below.\n",
    "\n",
    "An **independent variable** (also called a predictor, explanatory variable, feature, or simply `X`) is an element that we use to predict the **dependent variable** (response, explained variable, target, or simply `Y`) - these terms are used interchangably with their synonyms so be prepared to see any of these in future lectures, labs and assessment.\n",
    "\n",
    "**Identify the response** for this dataset. To make things interesting, also **guess which predictors would be best for predicting the response**."
   ]
  },
  {
   "cell_type": "markdown",
   "metadata": {},
   "source": [
    "### TODO: your answer here\n",
    "Response: SalePrice\n",
    "Best predictors: LotArea, YearBuilt, BedroomAbvGr (no correct answer here)"
   ]
  },
  {
   "cell_type": "markdown",
   "metadata": {},
   "source": [
    "To help you understand the data, plot a **histogram of the sales price**. Then plot a **side-by-side boxplot of price based on the year the house was built**. To reduce the number of boxplots, group all houses before 1920 in one category, houses in 1921-1950 in another category, and then group by decades after that (1951-1960, 1961-1970, ...) - or if you're feeling adventurous, you can choose another grouping. What do you notice?"
   ]
  },
  {
   "cell_type": "code",
   "execution_count": 10,
   "metadata": {},
   "outputs": [
    {
     "name": "stderr",
     "output_type": "stream",
     "text": [
      "C:\\Users\\Andrew Ha\\AppData\\Local\\Temp\\ipykernel_15580\\2099435406.py:1: FutureWarning: The default value of numeric_only in DataFrame.corr is deprecated. In a future version, it will default to False. Select only valid columns or specify the value of numeric_only to silence this warning.\n",
      "  sns.heatmap(houses.corr())\n"
     ]
    },
    {
     "data": {
      "text/plain": [
       "<AxesSubplot: >"
      ]
     },
     "execution_count": 10,
     "metadata": {},
     "output_type": "execute_result"
    },
    {
     "data": {
      "image/png": "[encoded data removed]",
      "text/plain": [
       "<Figure size 800x550 with 2 Axes>"
      ]
     },
     "metadata": {},
     "output_type": "display_data"
    }
   ],
   "source": [
    "sns.heatmap(houses.corr())"
   ]
  },
  {
   "cell_type": "code",
   "execution_count": 11,
   "metadata": {},
   "outputs": [
    {
     "data": {
      "text/html": [
       "<div>\n",
       "<style scoped>\n",
       "    .dataframe tbody tr th:only-of-type {\n",
       "        vertical-align: middle;\n",
       "    }\n",
       "\n",
       "    .dataframe tbody tr th {\n",
       "        vertical-align: top;\n",
       "    }\n",
       "\n",
       "    .dataframe thead th {\n",
       "        text-align: right;\n",
       "    }\n",
       "</style>\n",
       "<table border=\"1\" class=\"dataframe\">\n",
       "  <thead>\n",
       "    <tr style=\"text-align: right;\">\n",
       "      <th></th>\n",
       "      <th>LotArea</th>\n",
       "      <th>OverallQual</th>\n",
       "      <th>OverallCond</th>\n",
       "      <th>YearBuilt</th>\n",
       "      <th>YearRemodAdd</th>\n",
       "      <th>GrLivArea</th>\n",
       "      <th>FullBath</th>\n",
       "      <th>BedroomAbvGr</th>\n",
       "      <th>KitchenAbvGr</th>\n",
       "      <th>GarageArea</th>\n",
       "      <th>YrSold</th>\n",
       "      <th>LotShape</th>\n",
       "      <th>LotConfig</th>\n",
       "      <th>SalePrice</th>\n",
       "    </tr>\n",
       "  </thead>\n",
       "  <tbody>\n",
       "    <tr>\n",
       "      <th>8</th>\n",
       "      <td>6120</td>\n",
       "      <td>7</td>\n",
       "      <td>5</td>\n",
       "      <td>1931</td>\n",
       "      <td>1950</td>\n",
       "      <td>1774</td>\n",
       "      <td>2</td>\n",
       "      <td>2</td>\n",
       "      <td>2</td>\n",
       "      <td>468</td>\n",
       "      <td>2008</td>\n",
       "      <td>Reg</td>\n",
       "      <td>Inside</td>\n",
       "      <td>129900</td>\n",
       "    </tr>\n",
       "    <tr>\n",
       "      <th>9</th>\n",
       "      <td>7420</td>\n",
       "      <td>5</td>\n",
       "      <td>6</td>\n",
       "      <td>1939</td>\n",
       "      <td>1950</td>\n",
       "      <td>1077</td>\n",
       "      <td>1</td>\n",
       "      <td>2</td>\n",
       "      <td>2</td>\n",
       "      <td>205</td>\n",
       "      <td>2008</td>\n",
       "      <td>Reg</td>\n",
       "      <td>Corner</td>\n",
       "      <td>118000</td>\n",
       "    </tr>\n",
       "    <tr>\n",
       "      <th>15</th>\n",
       "      <td>6120</td>\n",
       "      <td>7</td>\n",
       "      <td>8</td>\n",
       "      <td>1929</td>\n",
       "      <td>2001</td>\n",
       "      <td>854</td>\n",
       "      <td>1</td>\n",
       "      <td>2</td>\n",
       "      <td>1</td>\n",
       "      <td>576</td>\n",
       "      <td>2007</td>\n",
       "      <td>Reg</td>\n",
       "      <td>Corner</td>\n",
       "      <td>132000</td>\n",
       "    </tr>\n",
       "    <tr>\n",
       "      <th>21</th>\n",
       "      <td>7449</td>\n",
       "      <td>7</td>\n",
       "      <td>7</td>\n",
       "      <td>1930</td>\n",
       "      <td>1950</td>\n",
       "      <td>1108</td>\n",
       "      <td>1</td>\n",
       "      <td>3</td>\n",
       "      <td>1</td>\n",
       "      <td>280</td>\n",
       "      <td>2007</td>\n",
       "      <td>Reg</td>\n",
       "      <td>Inside</td>\n",
       "      <td>139400</td>\n",
       "    </tr>\n",
       "    <tr>\n",
       "      <th>29</th>\n",
       "      <td>6324</td>\n",
       "      <td>4</td>\n",
       "      <td>6</td>\n",
       "      <td>1927</td>\n",
       "      <td>1950</td>\n",
       "      <td>520</td>\n",
       "      <td>1</td>\n",
       "      <td>1</td>\n",
       "      <td>1</td>\n",
       "      <td>240</td>\n",
       "      <td>2008</td>\n",
       "      <td>IR1</td>\n",
       "      <td>Inside</td>\n",
       "      <td>68500</td>\n",
       "    </tr>\n",
       "    <tr>\n",
       "      <th>...</th>\n",
       "      <td>...</td>\n",
       "      <td>...</td>\n",
       "      <td>...</td>\n",
       "      <td>...</td>\n",
       "      <td>...</td>\n",
       "      <td>...</td>\n",
       "      <td>...</td>\n",
       "      <td>...</td>\n",
       "      <td>...</td>\n",
       "      <td>...</td>\n",
       "      <td>...</td>\n",
       "      <td>...</td>\n",
       "      <td>...</td>\n",
       "      <td>...</td>\n",
       "    </tr>\n",
       "    <tr>\n",
       "      <th>1427</th>\n",
       "      <td>10930</td>\n",
       "      <td>5</td>\n",
       "      <td>6</td>\n",
       "      <td>1945</td>\n",
       "      <td>1950</td>\n",
       "      <td>1558</td>\n",
       "      <td>1</td>\n",
       "      <td>3</td>\n",
       "      <td>1</td>\n",
       "      <td>288</td>\n",
       "      <td>2008</td>\n",
       "      <td>Reg</td>\n",
       "      <td>Inside</td>\n",
       "      <td>140000</td>\n",
       "    </tr>\n",
       "    <tr>\n",
       "      <th>1428</th>\n",
       "      <td>7200</td>\n",
       "      <td>5</td>\n",
       "      <td>7</td>\n",
       "      <td>1940</td>\n",
       "      <td>1992</td>\n",
       "      <td>804</td>\n",
       "      <td>1</td>\n",
       "      <td>2</td>\n",
       "      <td>1</td>\n",
       "      <td>240</td>\n",
       "      <td>2010</td>\n",
       "      <td>Reg</td>\n",
       "      <td>Corner</td>\n",
       "      <td>119000</td>\n",
       "    </tr>\n",
       "    <tr>\n",
       "      <th>1432</th>\n",
       "      <td>10800</td>\n",
       "      <td>4</td>\n",
       "      <td>6</td>\n",
       "      <td>1927</td>\n",
       "      <td>2007</td>\n",
       "      <td>968</td>\n",
       "      <td>2</td>\n",
       "      <td>4</td>\n",
       "      <td>1</td>\n",
       "      <td>216</td>\n",
       "      <td>2007</td>\n",
       "      <td>Reg</td>\n",
       "      <td>Inside</td>\n",
       "      <td>64500</td>\n",
       "    </tr>\n",
       "    <tr>\n",
       "      <th>1440</th>\n",
       "      <td>11526</td>\n",
       "      <td>6</td>\n",
       "      <td>7</td>\n",
       "      <td>1922</td>\n",
       "      <td>1994</td>\n",
       "      <td>2555</td>\n",
       "      <td>2</td>\n",
       "      <td>3</td>\n",
       "      <td>1</td>\n",
       "      <td>672</td>\n",
       "      <td>2008</td>\n",
       "      <td>IR1</td>\n",
       "      <td>Inside</td>\n",
       "      <td>191000</td>\n",
       "    </tr>\n",
       "    <tr>\n",
       "      <th>1457</th>\n",
       "      <td>9042</td>\n",
       "      <td>7</td>\n",
       "      <td>9</td>\n",
       "      <td>1941</td>\n",
       "      <td>2006</td>\n",
       "      <td>2340</td>\n",
       "      <td>2</td>\n",
       "      <td>4</td>\n",
       "      <td>1</td>\n",
       "      <td>252</td>\n",
       "      <td>2010</td>\n",
       "      <td>Reg</td>\n",
       "      <td>Inside</td>\n",
       "      <td>266500</td>\n",
       "    </tr>\n",
       "  </tbody>\n",
       "</table>\n",
       "<p>200 rows × 14 columns</p>\n",
       "</div>"
      ],
      "text/plain": [
       "      LotArea  OverallQual  OverallCond  YearBuilt  YearRemodAdd  GrLivArea  \\\n",
       "8        6120            7            5       1931          1950       1774   \n",
       "9        7420            5            6       1939          1950       1077   \n",
       "15       6120            7            8       1929          2001        854   \n",
       "21       7449            7            7       1930          1950       1108   \n",
       "29       6324            4            6       1927          1950        520   \n",
       "...       ...          ...          ...        ...           ...        ...   \n",
       "1427    10930            5            6       1945          1950       1558   \n",
       "1428     7200            5            7       1940          1992        804   \n",
       "1432    10800            4            6       1927          2007        968   \n",
       "1440    11526            6            7       1922          1994       2555   \n",
       "1457     9042            7            9       1941          2006       2340   \n",
       "\n",
       "      FullBath  BedroomAbvGr  KitchenAbvGr  GarageArea  YrSold LotShape  \\\n",
       "8            2             2             2         468    2008      Reg   \n",
       "9            1             2             2         205    2008      Reg   \n",
       "15           1             2             1         576    2007      Reg   \n",
       "21           1             3             1         280    2007      Reg   \n",
       "29           1             1             1         240    2008      IR1   \n",
       "...        ...           ...           ...         ...     ...      ...   \n",
       "1427         1             3             1         288    2008      Reg   \n",
       "1428         1             2             1         240    2010      Reg   \n",
       "1432         2             4             1         216    2007      Reg   \n",
       "1440         2             3             1         672    2008      IR1   \n",
       "1457         2             4             1         252    2010      Reg   \n",
       "\n",
       "     LotConfig  SalePrice  \n",
       "8       Inside     129900  \n",
       "9       Corner     118000  \n",
       "15      Corner     132000  \n",
       "21      Inside     139400  \n",
       "29      Inside      68500  \n",
       "...        ...        ...  \n",
       "1427    Inside     140000  \n",
       "1428    Corner     119000  \n",
       "1432    Inside      64500  \n",
       "1440    Inside     191000  \n",
       "1457    Inside     266500  \n",
       "\n",
       "[200 rows x 14 columns]"
      ]
     },
     "execution_count": 11,
     "metadata": {},
     "output_type": "execute_result"
    }
   ],
   "source": [
    "houses[(houses['YearBuilt'] >1920) & (houses['YearBuilt'] <1950)]"
   ]
  },
  {
   "cell_type": "code",
   "execution_count": 18,
   "metadata": {},
   "outputs": [],
   "source": [
    "def year_to_cat(year):\n",
    "    if year <= 1871:\n",
    "        return \"<=1871\"\n",
    "    elif 1871 < year <= 1920:\n",
    "        return \"1871 ~ 1920\"\n",
    "    elif 1920 < year <= 1950:\n",
    "        return \"1920 ~ 1950\"\n",
    "    elif 1950 < year <= 1970:\n",
    "        return \"1950 ~ 1970\"\n",
    "    elif 1970 < year <= 1990:\n",
    "        return \"1970 ~ 1990\"\n",
    "    else:\n",
    "        return \"> 1990\""
   ]
  },
  {
   "cell_type": "code",
   "execution_count": 47,
   "metadata": {},
   "outputs": [
    {
     "data": {
      "image/png": "[encoded data removed]",
      "text/plain": [
       "<Figure size 1600x800 with 3 Axes>"
      ]
     },
     "metadata": {},
     "output_type": "display_data"
    }
   ],
   "source": [
    "# TODO: your answer here\n",
    "fig = plt.figure(figsize=(16,8))\n",
    "\n",
    "x = houses[\"SalePrice\"]\n",
    "# create a LinearRegression instance\n",
    "lr = LinearRegression()\n",
    "\n",
    "# fit the data using linear regression\n",
    "# the reshaping is because the function expects more columns in x\n",
    "#histogram\n",
    "ax1 = fig.add_subplot(221)\n",
    "\n",
    "n, bins, patches = plt.hist(x, color = \"purple\") \n",
    "\n",
    "# side-by-side boxplot\n",
    "ax2 = fig.add_subplot(222)\n",
    "yr = houses[\"YearBuilt\"]\n",
    "yr_gup = [np.min(yr), 1920, 1950, 1970, 1990, 2000, 2010]\n",
    "box = [houses[\"SalePrice\"]      [yr>yr_gup[i]]       [yr<=yr_gup[i+1]]       for i,_ in enumerate(yr_grp[:-1])  ]\n",
    "plt.boxplot(box)\n",
    "ax2.set_xticklabels(yr_grp[:-1])\n",
    "\n",
    "ax3 = fig.add_subplot(212)\n",
    "houses['year_cat'] = houses[\"YearBuilt\"].apply(year_to_cat)\n",
    "sns.boxplot(data=houses, x='year_cat', y='SalePrice')\n",
    "\n",
    "plt.show()"
   ]
  },
  {
   "cell_type": "markdown",
   "metadata": {},
   "source": [
    "We encourage you to do some more exploratory data analysis. If you haven't already done so, you should use the Pandas `unique()` function for the categorical variables (check the formal documentation to learn about it: https://pandas.pydata.org/docs/reference/api/pandas.unique.html)."
   ]
  },
  {
   "cell_type": "code",
   "execution_count": null,
   "metadata": {},
   "outputs": [],
   "source": [
    "# TODO: your answer here (if needed)\n"
   ]
  },
  {
   "cell_type": "markdown",
   "metadata": {},
   "source": [
    "#### 2.2 Simple linear regression - your turn"
   ]
  },
  {
   "cell_type": "markdown",
   "metadata": {},
   "source": [
    "We've done simple linear regression (SLR) already, but now we want you to do it by yourself. You can use the example we gave above as a template if you wish.\n",
    "\n",
    "Create a **simple linear regression model** of **sale price** based on **lot area**. Report the coefficients (intercept and slope) of your model and interpret what they mean."
   ]
  },
  {
   "cell_type": "code",
   "execution_count": 48,
   "metadata": {},
   "outputs": [
    {
     "name": "stdout",
     "output_type": "stream",
     "text": [
      "The intercept of this model is: 158836.1518968766\n",
      "The slope coefficient of this model is: 2.0999719517076745\n",
      "\n",
      "Thus the equation is: SalePrice = 158836.15 + 2.1 * LotArea\n"
     ]
    }
   ],
   "source": [
    "x = houses[\"LotArea\"]\n",
    "y = houses[\"SalePrice\"]\n",
    "\n",
    "# create a LinearRegression instance\n",
    "lr = LinearRegression()\n",
    "\n",
    "# fit the data using linear regression\n",
    "# the reshaping is because the function expects more columns in x\n",
    "model = lr.fit(np.array(x).reshape(-1,1),y)\n",
    "\n",
    "# now let's see the coefficients\n",
    "print(\"The intercept of this model is:\", model.intercept_)\n",
    "print(\"The slope coefficient of this model is:\", model.coef_[0])\n",
    "print(\"\")\n",
    "print(\"Thus the equation is: SalePrice =\", model.intercept_.round(2), \"+\", model.coef_[0].round(2), \"* LotArea\")"
   ]
  },
  {
   "cell_type": "code",
   "execution_count": 49,
   "metadata": {},
   "outputs": [
    {
     "data": {
      "text/plain": [
       "array([[ 8450,  2003],\n",
       "       [ 9600,  1976],\n",
       "       [11250,  2001],\n",
       "       ...,\n",
       "       [ 9042,  1941],\n",
       "       [ 9717,  1950],\n",
       "       [ 9937,  1965]], dtype=int64)"
      ]
     },
     "execution_count": 49,
     "metadata": {},
     "output_type": "execute_result"
    }
   ],
   "source": [
    "# we need to use reshape only using single values\n",
    "np.array(x).reshape(-1,1)\n",
    "# if we use more than +2 values will automatilcy make arrays\n",
    "x1 = houses[['LotArea', 'YearBuilt']]\n",
    "np.array(x1)"
   ]
  },
  {
   "cell_type": "markdown",
   "metadata": {},
   "source": [
    "For every incremental increase in square feet of lot area, the sales price increases by $2.10 on average. The intercept also indicates a lower bound on the mean price of a house, regardless of lot area."
   ]
  },
  {
   "cell_type": "code",
   "execution_count": 50,
   "metadata": {},
   "outputs": [
    {
     "data": {
      "image/png": "[encoded data removed]",
      "text/plain": [
       "<Figure size 800x550 with 1 Axes>"
      ]
     },
     "metadata": {},
     "output_type": "display_data"
    }
   ],
   "source": [
    "fig = plt.figure()\n",
    "ax = fig.add_subplot(111)\n",
    "\n",
    "# scatter the points\n",
    "plt.scatter(x,y)\n",
    "\n",
    "# add the regression line\n",
    "b0 = model.intercept_\n",
    "b1 = model.coef_[0]\n",
    "x_range = [x.min(), x.max()]                      # get the bounds for x\n",
    "y_range = [b0+b1*x_range[0], b0+b1*x_range[1]]    # get the bounds for y\n",
    "plt.plot(x_range, y_range, c=\"red\")\n",
    "\n",
    "# add some labels and titles\n",
    "ax.set_xlabel(\"Lot Area\")\n",
    "ax.set_ylabel(\"Price\")\n",
    "ax.set_title(\"Model of Weight vs Height\")\n",
    "\n",
    "plt.show()"
   ]
  },
  {
   "cell_type": "markdown",
   "metadata": {},
   "source": [
    "You want to sell your home, which has a lot area of 36,000 square feet. Based only on your model above, what do you expect your house will sell for? First use the equation directly, then let sklearn's `model.predict()` function estimate it for you. *Hint: you should get the same answer.*"
   ]
  },
  {
   "cell_type": "code",
   "execution_count": 51,
   "metadata": {},
   "outputs": [
    {
     "name": "stdout",
     "output_type": "stream",
     "text": [
      "price is 234436.15\n"
     ]
    },
    {
     "data": {
      "text/plain": [
       "array([234435.14215835])"
      ]
     },
     "execution_count": 51,
     "metadata": {},
     "output_type": "execute_result"
    }
   ],
   "source": [
    "# TODO: your answer here\n",
    "print(f'price is {158836.15 + 2.1 * 36000}')\n",
    "model.predict([[36000]])"
   ]
  },
  {
   "cell_type": "markdown",
   "metadata": {},
   "source": [
    "#### 2.3 Not So Simple Anymore\n",
    "\n",
    "Now that you know how to create an SLR model, can you extend it to a Multiple Linear Regression (MLR) model? This time, assign a list of variables to `x` (still only one column for `y`), and the output of `model.coef_` will have slope coefficients in the same order as the variables in `x`.\n",
    "\n",
    "Create a **multiple linear regression model** with **sales price** dependent on **lot area** and **year built**. Report the coefficients and compare this to the first model."
   ]
  },
  {
   "cell_type": "code",
   "execution_count": 57,
   "metadata": {},
   "outputs": [
    {
     "name": "stdout",
     "output_type": "stream",
     "text": [
      "The intercept of this model is: -2532856.0245703217\n",
      "The slope coefficient of this model is: 2.04117214860142\n",
      "\n",
      "Thus the equation is: SalePrice = -2532856.02 + 2.04 * LotArea\n",
      "intercept is -2532856.0245703217\n",
      "coefficients are [   2.04117215 1365.77615312]\n"
     ]
    }
   ],
   "source": [
    "# TODO: your answer here\n",
    "x = houses[['LotArea', 'YearBuilt']]\n",
    "y = houses[\"SalePrice\"]\n",
    "# create a LinearRegression instance\n",
    "lr = LinearRegression()\n",
    "\n",
    "model = lr.fit(x,y)\n",
    "\n",
    "# now let's see the coefficients\n",
    "print(\"The intercept of this model is:\", model.intercept_)\n",
    "print(\"The slope coefficient of this model is:\", model.coef_[0])\n",
    "print(\"\")\n",
    "print(\"Thus the equation is: SalePrice =\", model.intercept_.round(2), \"+\", model.coef_[0].round(2), \"* LotArea\")\n",
    "# fit the data using linear regression\n",
    "# the reshaping is because the function expects more columns in x\n",
    "model = lr.fit(x,y)\n",
    "print(f'intercept is {model.intercept_}\\ncoefficients are {model.coef_}')"
   ]
  },
  {
   "cell_type": "markdown",
   "metadata": {},
   "source": [
    "LotArea coefficient is similar but not the same (slight codependence). Also, the intercept has changed drastically."
   ]
  },
  {
   "cell_type": "markdown",
   "metadata": {},
   "source": [
    "You might have noticed that the coefficient for `LotArea` is different to your SLR model. This is because the coefficients are dependent on the existence of other variables in the model. As you add or remove or swap variables, these coefficients will change - especially if the variables are **codependent** (i.e. not independent; a change in one variable is likely to cause a change in the other). Because of this, it can be harder to interpret each coefficient, and to do so would require \"holding all other variables constant\" (which is unrealistic)."
   ]
  },
  {
   "cell_type": "markdown",
   "metadata": {},
   "source": [
    "#### 2.4 Evaluate Your Model on a Test Set\n",
    "\n",
    "Before, we asked you to estimate your house price by using a SLR and a MLR, and you have seen - but how do you know how accurate that estimates are?\n",
    "\n",
    "Let's introduce the concept of a **train-test split**. The name gives it away: you split your data into a **training set** and a **testing set** (usually 80% or 90% training); **build your model** using only the training set, and **test your model** using the testing set.\n",
    "\n",
    "As an analogy, imagine your model is a student. Of course, you want to teach your student how to solve problems, but you also want to test its performance at some point. If you show the student the test (and the solutions) before you test them, that defeats the purpose - you're not gauging their performance, only their ability to memorise the solutions. That's why you hide the test while they learn, and then *Pop Quiz!* test their abilities.\n",
    "\n",
    "Let's use the same dataset, but this time we'll split it into two sets, with 80% of the datapoints for training and the other 20% for testing. You can do this using Scikit-learn's `train_test_split()` function."
   ]
  },
  {
   "cell_type": "code",
   "execution_count": 58,
   "metadata": {},
   "outputs": [
    {
     "data": {
      "text/plain": [
       "((1168, 15), (292, 15))"
      ]
     },
     "execution_count": 58,
     "metadata": {},
     "output_type": "execute_result"
    }
   ],
   "source": [
    "# train-test split\n",
    "train, test = train_test_split(houses, test_size=0.2)\n",
    "# why we split into test and training data? \n",
    "# \n",
    "# make sure you've split it correctly\n",
    "train.shape, test.shape"
   ]
  },
  {
   "cell_type": "markdown",
   "metadata": {},
   "source": [
    "Now train the same SLR model (**sales price** dependent on **lot area**) and MLR model (**sales price** dependent on **lot area** and **year built**) on the train split."
   ]
  },
  {
   "cell_type": "code",
   "execution_count": 59,
   "metadata": {},
   "outputs": [],
   "source": [
    "# TODO: train model\n",
    "x_train_SLR = np.array(train['LotArea']).reshape(-1,1)\n",
    "x_train_MLR = np.array(train[['LotArea', 'YearBuilt']])\n",
    "\n",
    "lr_SLR = LinearRegression()\n",
    "lr_MLR = LinearRegression()\n",
    "model_SLR = lr_SLR.fit(x_train_SLR, train['SalePrice'])\n",
    "model_MLR = lr_MLR.fit(x_train_MLR, train['SalePrice'])"
   ]
  },
  {
   "cell_type": "markdown",
   "metadata": {},
   "source": [
    "Then, using the `score()` function, test the models' performance on the testing data (`test`). You will (likely, depending on the split of the data) notice that the **the MLR testing score is higher than the SLR testing score**. Why would this be the case?"
   ]
  },
  {
   "cell_type": "code",
   "execution_count": 60,
   "metadata": {},
   "outputs": [
    {
     "name": "stdout",
     "output_type": "stream",
     "text": [
      "SLR score = 0.04325917147201597\n",
      "MLR score = 0.3111090433766537\n"
     ]
    }
   ],
   "source": [
    "# TODO: check the test score and training score of your model\n",
    "x_test_SLR = np.array(test['LotArea']).reshape(-1,1)\n",
    "x_test_MLR = np.array(test[['LotArea', 'YearBuilt']])\n",
    "\n",
    "y_test = test['SalePrice'] # ground truth\n",
    "\n",
    "print(f'SLR score = {model_SLR.score(x_test_SLR, y_test)}\\nMLR score = {model_MLR.score(x_test_MLR, y_test)}')"
   ]
  },
  {
   "cell_type": "markdown",
   "metadata": {},
   "source": [
    "### Exercise 3: Playing With Variables\n",
    "Sometimes your variables are useful as predictors, but not quite in the form you have them. You may need to apply some changes to the variable - particularly by **transforming** the variable by taking its square or **recoding** an ordinal variable to have a numerical value."
   ]
  },
  {
   "cell_type": "markdown",
   "metadata": {},
   "source": [
    "#### 3.1 Believe In A Higher Power\n",
    "The relationship between a predictor and the target may not be linear, but instead have a upwards-curving relationship. For example, if we try to predict the volume of a tree trunk (which is usually cylindrical) with its radius and height, we would get a more accurate prediction by using squared radius.\n",
    "\n",
    "To illustrate this, plot the relationship between `SalePrice` and `OverallQual` in a scatterplot. Include a line showing the relationship of the means of `SalePrice` for each level of `OverallQual`."
   ]
  },
  {
   "cell_type": "code",
   "execution_count": 61,
   "metadata": {},
   "outputs": [
    {
     "data": {
      "text/plain": [
       "<AxesSubplot: xlabel='OverallQual', ylabel='SalePrice'>"
      ]
     },
     "execution_count": 61,
     "metadata": {},
     "output_type": "execute_result"
    },
    {
     "data": {
      "image/png": "[encoded data removed]",
      "text/plain": [
       "<Figure size 800x550 with 1 Axes>"
      ]
     },
     "metadata": {},
     "output_type": "display_data"
    }
   ],
   "source": [
    "# TODO: plot SalePrice against OverallQual\n",
    "sns.scatterplot(data=houses, x='OverallQual', y='SalePrice')"
   ]
  },
  {
   "cell_type": "markdown",
   "metadata": {},
   "source": [
    "You'll notice that this has a slightly curved relationship. To take advantage of this, split the data into training and testing sets, and create two models:\n",
    " - a **simple linear regression** model \n",
    " - a **multiple linear regression** model\n",
    "\n",
    "Remember, you can use `np.square()` on a Pandas Series object to take the square of the column. **Find the testing score** for each model and compare them. Which one gets the higher score?"
   ]
  },
  {
   "cell_type": "code",
   "execution_count": 64,
   "metadata": {},
   "outputs": [],
   "source": [
    "# TODO: split data, create and compare the two models\n",
    "# train-test split\n",
    "train, test = train_test_split(houses, test_size=0.2)\n",
    "\n",
    "x_train_SLR = np.array(train['OverallQual']).reshape(-1,1)\n",
    "x_train_MLR = np.array([train['OverallQual'], train['OverallQual']**2]).T\n",
    "y_train = train['SalePrice']\n",
    "\n",
    "lr_SLR = LinearRegression()\n",
    "lr_MLR = LinearRegression()\n",
    "model_SLR = lr_SLR.fit(x_train_SLR, y_train)\n",
    "model_MLR = lr_MLR.fit(x_train_MLR, y_train)"
   ]
  },
  {
   "cell_type": "code",
   "execution_count": 65,
   "metadata": {},
   "outputs": [
    {
     "name": "stdout",
     "output_type": "stream",
     "text": [
      "SLR score = 0.5935934685219799\n",
      "MLR score = 0.5979734515956595\n"
     ]
    }
   ],
   "source": [
    "x_test_SLR = np.array(test['OverallQual']).reshape(-1,1)\n",
    "x_test_MLR = np.array([test['OverallQual'], test['OverallQual'] **2]).T\n",
    "\n",
    "y_test = test['SalePrice'] # ground truth\n",
    "\n",
    "print(f'SLR score = {model_SLR.score(x_test_SLR, y_test)}\\nMLR score = {model_MLR.score(x_test_MLR, y_test)}')"
   ]
  },
  {
   "cell_type": "markdown",
   "metadata": {},
   "source": [
    "Generally, if we include the squared variable ($\\text{OverallQual}^2$), then we should also include the original variable ($\\text{OverallQual}$). Thinking back to the foreshapef a parabola, this is to account for shifts in the curve in the `x`-direction."
   ]
  },
  {
   "cell_type": "markdown",
   "metadata": {},
   "source": [
    "#### 3.2 Categorical Variables\n",
    "Sometimes we deal with categorical variables, which can be difficult to use for predicting. After all, using the form $Y = \\beta_0 + \\beta_1 X_1$ doesn't work if $X_1$ isn't a numerical variable. So what can we do?\n",
    "\n",
    "We have two scenarios:\n",
    "- The variable is a **nominal** variable (such as Gender, Occupation or Suburb), where there is no ordering between the values. In this case, we'll use a **One-Hot Encoder**, where we create `K-1` new columns where each of these columns (2, ..., `K`) represent a value that the variable can take. Then, each of these columns can be either 0 or 1. Note that `k=1` is dropped because it's redundant (if all other columns are 0, then the first must be 1).\n",
    "- The variable is an **ordinal** variable (such as Rating, Shirt Size or in certain cases Weekday), where there is a natural ordering. This can simply be encoded into a single column based on this ordering - we'll explore this more in the next section.\n",
    "\n",
    "Let's first look at a nominal variable, `LotConfig`. To start, create a side-by-side boxplot with `SalePrice` against each of the values of `LotConfig`."
   ]
  },
  {
   "cell_type": "code",
   "execution_count": 66,
   "metadata": {},
   "outputs": [
    {
     "data": {
      "text/plain": [
       "<AxesSubplot: xlabel='LotConfig', ylabel='SalePrice'>"
      ]
     },
     "execution_count": 66,
     "metadata": {},
     "output_type": "execute_result"
    },
    {
     "data": {
      "image/png": "[encoded data removed]",
      "text/plain": [
       "<Figure size 800x550 with 1 Axes>"
      ]
     },
     "metadata": {},
     "output_type": "display_data"
    }
   ],
   "source": [
    "# TODO: side-by-side boxplot for each unique value of LotConfig\n",
    "sns.boxplot(data=houses, x=houses['LotConfig'], y= houses['SalePrice'])"
   ]
  },
  {
   "cell_type": "markdown",
   "metadata": {},
   "source": [
    "Because this is a new concept, we'll do the code for you. Go through it and understand what each line does."
   ]
  },
  {
   "cell_type": "code",
   "execution_count": 67,
   "metadata": {},
   "outputs": [
    {
     "name": "stdout",
     "output_type": "stream",
     "text": [
      "Intercept is 181623\n",
      "Coefficient for Corner is 0 (because we dropped the first dummy level)\n",
      "Coefficient for CulDSac is 42231\n",
      "Coefficient for FR2 is -3688\n",
      "Coefficient for FR3 is 26851\n",
      "Coefficient for Inside is -4685\n"
     ]
    }
   ],
   "source": [
    "# we'll do the encoding for you today\n",
    "X = houses[\"LotConfig\"]\n",
    "enc_X = pd.get_dummies(X, drop_first=True)             # create K-1 new columns, ignore the first level\n",
    "dropped_level = np.sort(houses[\"LotConfig\"].unique())[0]\n",
    "\n",
    "# fitting the regression\n",
    "y = houses[\"SalePrice\"]\n",
    "lr = LinearRegression()\n",
    "model = lr.fit(enc_X, y)                               # same as before, using an encoded variable\n",
    "\n",
    "# outputting the results\n",
    "categories = enc_X.columns\n",
    "print(\"Intercept is\", int(model.intercept_))\n",
    "print(\"Coefficient for\", dropped_level, \"is 0 (because we dropped the first dummy level)\")\n",
    "for i, coef in enumerate(model.coef_):\n",
    "    print(\"Coefficient for\", categories[i], \"is\", int(coef))"
   ]
  },
  {
   "cell_type": "code",
   "execution_count": 68,
   "metadata": {},
   "outputs": [
    {
     "data": {
      "text/plain": [
       "0       Inside\n",
       "1          FR2\n",
       "2       Inside\n",
       "3       Corner\n",
       "4          FR2\n",
       "         ...  \n",
       "1455    Inside\n",
       "1456    Inside\n",
       "1457    Inside\n",
       "1458    Inside\n",
       "1459    Inside\n",
       "Name: LotConfig, Length: 1460, dtype: object"
      ]
     },
     "execution_count": 68,
     "metadata": {},
     "output_type": "execute_result"
    }
   ],
   "source": [
    "houses['LotConfig']"
   ]
  },
  {
   "cell_type": "code",
   "execution_count": null,
   "metadata": {},
   "outputs": [],
   "source": [
    "enc_X"
   ]
  },
  {
   "cell_type": "markdown",
   "metadata": {},
   "source": [
    "Suppose $I_k$ is an **indicator variable** for category $k$ (for simplicity we'll use 1-indexed coding, eg. for $k$=2, category is `CulDSac`). \n",
    "\n",
    "Using the output above, what are the values of each $\\beta$? Then interpret the meaning of each $\\beta$.\n",
    "*Hint: think about what the value of $I_k$ would be, and what that means for the corresponding $\\beta_k$.*"
   ]
  },
  {
   "cell_type": "markdown",
   "metadata": {},
   "source": [
    "### TODO: identify value for each beta\n"
   ]
  },
  {
   "cell_type": "markdown",
   "metadata": {},
   "source": [
    "sex\n",
    "female,\n",
    "male,\n",
    "female,\n",
    "bi"
   ]
  },
  {
   "cell_type": "code",
   "execution_count": null,
   "metadata": {},
   "outputs": [],
   "source": [
    "female, male, vi\n",
    "1, 0,0 \n",
    "0, 1,0\n",
    "1, 0,0\n",
    "0, 0,1"
   ]
  },
  {
   "cell_type": "code",
   "execution_count": null,
   "metadata": {},
   "outputs": [],
   "source": [
    "pd.get_dummies()"
   ]
  },
  {
   "cell_type": "markdown",
   "metadata": {},
   "source": [
    "Suppose you only know that a house has frontage on two sides of the property (that is, it belongs to category `FR2`). Using the model, **what would the predicted sales price be**? First use the equation directly, then use the `model.predict()` function to calculate it for you."
   ]
  },
  {
   "cell_type": "markdown",
   "metadata": {},
   "source": [
    "### TODO: calculate sales price estimate for category FR2\n"
   ]
  },
  {
   "cell_type": "code",
   "execution_count": 69,
   "metadata": {},
   "outputs": [
    {
     "name": "stderr",
     "output_type": "stream",
     "text": [
      "C:\\Users\\Andrew Ha\\anaconda3\\envs\\comp2420\\lib\\site-packages\\sklearn\\base.py:420: UserWarning: X does not have valid feature names, but LinearRegression was fitted with feature names\n",
      "  warnings.warn(\n"
     ]
    },
    {
     "data": {
      "text/plain": [
       "array([177934.57446809])"
      ]
     },
     "execution_count": 69,
     "metadata": {},
     "output_type": "execute_result"
    }
   ],
   "source": [
    "# TODO: use model.predict()\n",
    "model.predict([[0,1,0,0]])"
   ]
  },
  {
   "cell_type": "markdown",
   "metadata": {},
   "source": [
    "Of course, we're using very little information here - you can't reliably estimate the sales price of a house purely on its lot configuration. In future assessment, be prepared to use an **encoding of a nominal variable along with numerical variables** to create a model. This is similar to what you've done for multiple linear regression, but you should keep in mind that the encoded variable (`enc_X` here) actually has $K$ columns, rather than a single column."
   ]
  },
  {
   "cell_type": "markdown",
   "metadata": {},
   "source": [
    "#### 3.3 Recoding an Ordinal Variable\n",
    "What if we have an ordering in our variable? Of course, we can ignore this ordering and treat it like we would a nominal variable, but then we would lose the information that we have - and it's also unnecessary work for us.\n",
    "\n",
    "For this course, we'll recode an ordinal variable as consecutive integers, usually with the lowest value in the order as `0` or `1` (depending on whether the lowest value is similar to a null value). Here, we'll use `LotShape` for our recoding.\n",
    "\n",
    "Previously, we've given you clear directions on what you can do to understand a variable. Now, we'll let you do it yourself."
   ]
  },
  {
   "cell_type": "code",
   "execution_count": 70,
   "metadata": {},
   "outputs": [
    {
     "data": {
      "text/plain": [
       "<AxesSubplot: xlabel='LotShape', ylabel='SalePrice'>"
      ]
     },
     "execution_count": 70,
     "metadata": {},
     "output_type": "execute_result"
    },
    {
     "data": {
      "image/png": "[encoded data removed]",
      "text/plain": [
       "<Figure size 800x550 with 1 Axes>"
      ]
     },
     "metadata": {},
     "output_type": "display_data"
    }
   ],
   "source": [
    "# TODO: explore the variable with relation to SalePrice\n",
    "sns.boxplot(data=houses , x='LotShape', y='SalePrice')"
   ]
  },
  {
   "cell_type": "markdown",
   "metadata": {},
   "source": [
    "Now **recode** the variable with respect to the irregularity of the lot shape, with `Reg`=0, `IR1`=1, `IR2`=2 and `IR3`=3."
   ]
  },
  {
   "cell_type": "code",
   "execution_count": 71,
   "metadata": {},
   "outputs": [
    {
     "data": {
      "text/plain": [
       "(array([0, 0, 1, ..., 0, 0, 0], dtype=int64),\n",
       " Index(['Reg', 'IR1', 'IR2', 'IR3'], dtype='object'))"
      ]
     },
     "execution_count": 71,
     "metadata": {},
     "output_type": "execute_result"
    }
   ],
   "source": [
    "actorize(houses['LotShape'])pd.f"
   ]
  },
  {
   "cell_type": "code",
   "execution_count": 72,
   "metadata": {},
   "outputs": [
    {
     "data": {
      "text/plain": [
       "0    925\n",
       "1    484\n",
       "2     41\n",
       "3     10\n",
       "Name: LotShape_encoded, dtype: int64"
      ]
     },
     "execution_count": 72,
     "metadata": {},
     "output_type": "execute_result"
    }
   ],
   "source": [
    "# TODO: recode LotShape to be numeric\n",
    "# we can use factorize to do this easily\n",
    "houses['LotShape_encoded'] =pd.factorize(houses['LotShape'])[0]\n",
    "houses['LotShape_encoded'].value_counts()"
   ]
  },
  {
   "cell_type": "markdown",
   "metadata": {},
   "source": [
    "Now that it's a numerical variable, we just need to fit a model. Fit a **simple linear regression** with `SalePrice` as the target and the recoding of `LotShape` as the predictor."
   ]
  },
  {
   "cell_type": "code",
   "execution_count": 73,
   "metadata": {},
   "outputs": [
    {
     "name": "stdout",
     "output_type": "stream",
     "text": [
      "train score: 0.07583969859437623\n",
      "test score: 0.056012309553018835\n"
     ]
    }
   ],
   "source": [
    "# TODO: fit regression model\n",
    "train, test = train_test_split(houses, test_size=0.2)\n",
    "\n",
    "x_train = np.array(train['LotShape_encoded']).reshape(-1,1)\n",
    "y_train = train['SalePrice']\n",
    "\n",
    "x_test = np.array(test['LotShape_encoded']).reshape(-1,1)\n",
    "y_test = test['SalePrice']\n",
    "\n",
    "lr = LinearRegression()\n",
    "model = lr.fit(x_train, y_train)\n",
    "print(f'train score: {model.score(x_train,y_train)}\\ntest score: {model.score(x_test,y_test)}')"
   ]
  },
  {
   "cell_type": "markdown",
   "metadata": {},
   "source": [
    "(This is actually a very inaccurate model - an R^2 of less than 0.1 is almost as useless as a model that predicts purely on the mean. But this is simply because LotShape is not a great predictor for SalePrice)"
   ]
  },
  {
   "cell_type": "markdown",
   "metadata": {},
   "source": [
    "#### 3.4 Time to combine everything together.\n",
    "While we've covered all the topics, we haven't actually put it all together yet. In this section, we would like you to **create a train-test split**, **encode `LotConfig` using the one-hot encoder**, **recode `LotShape` as a numerical variable**, **fit a MLR model using at least 4 columns, plus `LotShape` and `LotConfig`**, and **report the test score** of the model.\n",
    "\n",
    "This question likely requires concatenation, slicing and dropping of Pandas DataFrames, so make sure you're familiar with those topics as well. We've set a random seed so that you can compare answers with classmates and the solutions once they're released.\n",
    "\n",
    "We expect this question will be **very difficult**, but if you're able to complete it successfully then we believe you've mastered both Lab02 and Lab04 (this lab)."
   ]
  },
  {
   "cell_type": "code",
   "execution_count": 76,
   "metadata": {},
   "outputs": [],
   "source": [
    "# re-import data so we start fresh\n",
    "houses = pd.read_csv(\"data/houses_sub.csv\")"
   ]
  },
  {
   "cell_type": "code",
   "execution_count": 78,
   "metadata": {},
   "outputs": [
    {
     "data": {
      "text/html": [
       "<div>\n",
       "<style scoped>\n",
       "    .dataframe tbody tr th:only-of-type {\n",
       "        vertical-align: middle;\n",
       "    }\n",
       "\n",
       "    .dataframe tbody tr th {\n",
       "        vertical-align: top;\n",
       "    }\n",
       "\n",
       "    .dataframe thead th {\n",
       "        text-align: right;\n",
       "    }\n",
       "</style>\n",
       "<table border=\"1\" class=\"dataframe\">\n",
       "  <thead>\n",
       "    <tr style=\"text-align: right;\">\n",
       "      <th></th>\n",
       "      <th>Unnamed: 0</th>\n",
       "      <th>LotArea</th>\n",
       "      <th>OverallQual</th>\n",
       "      <th>OverallCond</th>\n",
       "      <th>YearBuilt</th>\n",
       "      <th>YearRemodAdd</th>\n",
       "      <th>GrLivArea</th>\n",
       "      <th>FullBath</th>\n",
       "      <th>BedroomAbvGr</th>\n",
       "      <th>KitchenAbvGr</th>\n",
       "      <th>GarageArea</th>\n",
       "      <th>YrSold</th>\n",
       "      <th>LotShape</th>\n",
       "      <th>LotConfig</th>\n",
       "      <th>SalePrice</th>\n",
       "      <th>CulDSac</th>\n",
       "      <th>FR2</th>\n",
       "      <th>FR3</th>\n",
       "      <th>Inside</th>\n",
       "      <th>0</th>\n",
       "    </tr>\n",
       "  </thead>\n",
       "  <tbody>\n",
       "    <tr>\n",
       "      <th>0</th>\n",
       "      <td>0</td>\n",
       "      <td>8450</td>\n",
       "      <td>7</td>\n",
       "      <td>5</td>\n",
       "      <td>2003</td>\n",
       "      <td>2003</td>\n",
       "      <td>1710</td>\n",
       "      <td>2</td>\n",
       "      <td>3</td>\n",
       "      <td>1</td>\n",
       "      <td>548</td>\n",
       "      <td>2008</td>\n",
       "      <td>Reg</td>\n",
       "      <td>Inside</td>\n",
       "      <td>208500</td>\n",
       "      <td>0</td>\n",
       "      <td>0</td>\n",
       "      <td>0</td>\n",
       "      <td>1</td>\n",
       "      <td>0</td>\n",
       "    </tr>\n",
       "    <tr>\n",
       "      <th>1</th>\n",
       "      <td>1</td>\n",
       "      <td>9600</td>\n",
       "      <td>6</td>\n",
       "      <td>8</td>\n",
       "      <td>1976</td>\n",
       "      <td>1976</td>\n",
       "      <td>1262</td>\n",
       "      <td>2</td>\n",
       "      <td>3</td>\n",
       "      <td>1</td>\n",
       "      <td>460</td>\n",
       "      <td>2007</td>\n",
       "      <td>Reg</td>\n",
       "      <td>FR2</td>\n",
       "      <td>181500</td>\n",
       "      <td>0</td>\n",
       "      <td>1</td>\n",
       "      <td>0</td>\n",
       "      <td>0</td>\n",
       "      <td>0</td>\n",
       "    </tr>\n",
       "    <tr>\n",
       "      <th>2</th>\n",
       "      <td>2</td>\n",
       "      <td>11250</td>\n",
       "      <td>7</td>\n",
       "      <td>5</td>\n",
       "      <td>2001</td>\n",
       "      <td>2002</td>\n",
       "      <td>1786</td>\n",
       "      <td>2</td>\n",
       "      <td>3</td>\n",
       "      <td>1</td>\n",
       "      <td>608</td>\n",
       "      <td>2008</td>\n",
       "      <td>IR1</td>\n",
       "      <td>Inside</td>\n",
       "      <td>223500</td>\n",
       "      <td>0</td>\n",
       "      <td>0</td>\n",
       "      <td>0</td>\n",
       "      <td>1</td>\n",
       "      <td>1</td>\n",
       "    </tr>\n",
       "    <tr>\n",
       "      <th>3</th>\n",
       "      <td>3</td>\n",
       "      <td>9550</td>\n",
       "      <td>7</td>\n",
       "      <td>5</td>\n",
       "      <td>1915</td>\n",
       "      <td>1970</td>\n",
       "      <td>1717</td>\n",
       "      <td>1</td>\n",
       "      <td>3</td>\n",
       "      <td>1</td>\n",
       "      <td>642</td>\n",
       "      <td>2006</td>\n",
       "      <td>IR1</td>\n",
       "      <td>Corner</td>\n",
       "      <td>140000</td>\n",
       "      <td>0</td>\n",
       "      <td>0</td>\n",
       "      <td>0</td>\n",
       "      <td>0</td>\n",
       "      <td>1</td>\n",
       "    </tr>\n",
       "    <tr>\n",
       "      <th>4</th>\n",
       "      <td>4</td>\n",
       "      <td>14260</td>\n",
       "      <td>8</td>\n",
       "      <td>5</td>\n",
       "      <td>2000</td>\n",
       "      <td>2000</td>\n",
       "      <td>2198</td>\n",
       "      <td>2</td>\n",
       "      <td>4</td>\n",
       "      <td>1</td>\n",
       "      <td>836</td>\n",
       "      <td>2008</td>\n",
       "      <td>IR1</td>\n",
       "      <td>FR2</td>\n",
       "      <td>250000</td>\n",
       "      <td>0</td>\n",
       "      <td>1</td>\n",
       "      <td>0</td>\n",
       "      <td>0</td>\n",
       "      <td>1</td>\n",
       "    </tr>\n",
       "    <tr>\n",
       "      <th>...</th>\n",
       "      <td>...</td>\n",
       "      <td>...</td>\n",
       "      <td>...</td>\n",
       "      <td>...</td>\n",
       "      <td>...</td>\n",
       "      <td>...</td>\n",
       "      <td>...</td>\n",
       "      <td>...</td>\n",
       "      <td>...</td>\n",
       "      <td>...</td>\n",
       "      <td>...</td>\n",
       "      <td>...</td>\n",
       "      <td>...</td>\n",
       "      <td>...</td>\n",
       "      <td>...</td>\n",
       "      <td>...</td>\n",
       "      <td>...</td>\n",
       "      <td>...</td>\n",
       "      <td>...</td>\n",
       "      <td>...</td>\n",
       "    </tr>\n",
       "    <tr>\n",
       "      <th>1455</th>\n",
       "      <td>1455</td>\n",
       "      <td>7917</td>\n",
       "      <td>6</td>\n",
       "      <td>5</td>\n",
       "      <td>1999</td>\n",
       "      <td>2000</td>\n",
       "      <td>1647</td>\n",
       "      <td>2</td>\n",
       "      <td>3</td>\n",
       "      <td>1</td>\n",
       "      <td>460</td>\n",
       "      <td>2007</td>\n",
       "      <td>Reg</td>\n",
       "      <td>Inside</td>\n",
       "      <td>175000</td>\n",
       "      <td>0</td>\n",
       "      <td>0</td>\n",
       "      <td>0</td>\n",
       "      <td>1</td>\n",
       "      <td>0</td>\n",
       "    </tr>\n",
       "    <tr>\n",
       "      <th>1456</th>\n",
       "      <td>1456</td>\n",
       "      <td>13175</td>\n",
       "      <td>6</td>\n",
       "      <td>6</td>\n",
       "      <td>1978</td>\n",
       "      <td>1988</td>\n",
       "      <td>2073</td>\n",
       "      <td>2</td>\n",
       "      <td>3</td>\n",
       "      <td>1</td>\n",
       "      <td>500</td>\n",
       "      <td>2010</td>\n",
       "      <td>Reg</td>\n",
       "      <td>Inside</td>\n",
       "      <td>210000</td>\n",
       "      <td>0</td>\n",
       "      <td>0</td>\n",
       "      <td>0</td>\n",
       "      <td>1</td>\n",
       "      <td>0</td>\n",
       "    </tr>\n",
       "    <tr>\n",
       "      <th>1457</th>\n",
       "      <td>1457</td>\n",
       "      <td>9042</td>\n",
       "      <td>7</td>\n",
       "      <td>9</td>\n",
       "      <td>1941</td>\n",
       "      <td>2006</td>\n",
       "      <td>2340</td>\n",
       "      <td>2</td>\n",
       "      <td>4</td>\n",
       "      <td>1</td>\n",
       "      <td>252</td>\n",
       "      <td>2010</td>\n",
       "      <td>Reg</td>\n",
       "      <td>Inside</td>\n",
       "      <td>266500</td>\n",
       "      <td>0</td>\n",
       "      <td>0</td>\n",
       "      <td>0</td>\n",
       "      <td>1</td>\n",
       "      <td>0</td>\n",
       "    </tr>\n",
       "    <tr>\n",
       "      <th>1458</th>\n",
       "      <td>1458</td>\n",
       "      <td>9717</td>\n",
       "      <td>5</td>\n",
       "      <td>6</td>\n",
       "      <td>1950</td>\n",
       "      <td>1996</td>\n",
       "      <td>1078</td>\n",
       "      <td>1</td>\n",
       "      <td>2</td>\n",
       "      <td>1</td>\n",
       "      <td>240</td>\n",
       "      <td>2010</td>\n",
       "      <td>Reg</td>\n",
       "      <td>Inside</td>\n",
       "      <td>142125</td>\n",
       "      <td>0</td>\n",
       "      <td>0</td>\n",
       "      <td>0</td>\n",
       "      <td>1</td>\n",
       "      <td>0</td>\n",
       "    </tr>\n",
       "    <tr>\n",
       "      <th>1459</th>\n",
       "      <td>1459</td>\n",
       "      <td>9937</td>\n",
       "      <td>5</td>\n",
       "      <td>6</td>\n",
       "      <td>1965</td>\n",
       "      <td>1965</td>\n",
       "      <td>1256</td>\n",
       "      <td>1</td>\n",
       "      <td>3</td>\n",
       "      <td>1</td>\n",
       "      <td>276</td>\n",
       "      <td>2008</td>\n",
       "      <td>Reg</td>\n",
       "      <td>Inside</td>\n",
       "      <td>147500</td>\n",
       "      <td>0</td>\n",
       "      <td>0</td>\n",
       "      <td>0</td>\n",
       "      <td>1</td>\n",
       "      <td>0</td>\n",
       "    </tr>\n",
       "  </tbody>\n",
       "</table>\n",
       "<p>1460 rows × 20 columns</p>\n",
       "</div>"
      ],
      "text/plain": [
       "      Unnamed: 0  LotArea  OverallQual  OverallCond  YearBuilt  YearRemodAdd  \\\n",
       "0              0     8450            7            5       2003          2003   \n",
       "1              1     9600            6            8       1976          1976   \n",
       "2              2    11250            7            5       2001          2002   \n",
       "3              3     9550            7            5       1915          1970   \n",
       "4              4    14260            8            5       2000          2000   \n",
       "...          ...      ...          ...          ...        ...           ...   \n",
       "1455        1455     7917            6            5       1999          2000   \n",
       "1456        1456    13175            6            6       1978          1988   \n",
       "1457        1457     9042            7            9       1941          2006   \n",
       "1458        1458     9717            5            6       1950          1996   \n",
       "1459        1459     9937            5            6       1965          1965   \n",
       "\n",
       "      GrLivArea  FullBath  BedroomAbvGr  KitchenAbvGr  GarageArea  YrSold  \\\n",
       "0          1710         2             3             1         548    2008   \n",
       "1          1262         2             3             1         460    2007   \n",
       "2          1786         2             3             1         608    2008   \n",
       "3          1717         1             3             1         642    2006   \n",
       "4          2198         2             4             1         836    2008   \n",
       "...         ...       ...           ...           ...         ...     ...   \n",
       "1455       1647         2             3             1         460    2007   \n",
       "1456       2073         2             3             1         500    2010   \n",
       "1457       2340         2             4             1         252    2010   \n",
       "1458       1078         1             2             1         240    2010   \n",
       "1459       1256         1             3             1         276    2008   \n",
       "\n",
       "     LotShape LotConfig  SalePrice  CulDSac  FR2  FR3  Inside  0  \n",
       "0         Reg    Inside     208500        0    0    0       1  0  \n",
       "1         Reg       FR2     181500        0    1    0       0  0  \n",
       "2         IR1    Inside     223500        0    0    0       1  1  \n",
       "3         IR1    Corner     140000        0    0    0       0  1  \n",
       "4         IR1       FR2     250000        0    1    0       0  1  \n",
       "...       ...       ...        ...      ...  ...  ...     ... ..  \n",
       "1455      Reg    Inside     175000        0    0    0       1  0  \n",
       "1456      Reg    Inside     210000        0    0    0       1  0  \n",
       "1457      Reg    Inside     266500        0    0    0       1  0  \n",
       "1458      Reg    Inside     142125        0    0    0       1  0  \n",
       "1459      Reg    Inside     147500        0    0    0       1  0  \n",
       "\n",
       "[1460 rows x 20 columns]"
      ]
     },
     "execution_count": 78,
     "metadata": {},
     "output_type": "execute_result"
    }
   ],
   "source": [
    "np.random.seed(2420)\n",
    "# TODO: \n",
    "lotconfig = pd.get_dummies(houses['LotConfig'], drop_first=True)\n",
    "lotshape = pd.Series(pd.factorize(houses['LotShape'])[0])\n",
    "houses2 = houses.copy()\n",
    "houses2.drop(['LotConfig', 'LotShape'], axis =1)\n",
    "houses2 = pd.concat([houses2, lotconfig, lotshape], axis = 1)\n",
    "# lotconfig = 4column lotshape = 1column we need to add 4 columns and make midl\n",
    "#train, test = train_test_split(houses2,\n",
    "houses2\n"
   ]
  },
  {
   "cell_type": "markdown",
   "metadata": {},
   "source": [
    "Congratulations, that's everything you need to know about regression! To summarise, we've covered:\n",
    "- train/test split, to ensure our model is accurate and reliable\n",
    "- simple linear regression (SLR), with one predictor \n",
    "- multiple linear regression (MLR), with more than one predictor \n",
    "- squared transformations of variables \n",
    "- categorical variables as predictors:\n",
    "    - nominal (unordered) variables\n",
    "    - ordinal (ordered) variables, with sensible recoding to numerical values\n",
    "- build a model with numerical, nominal, and ordinal variables\n",
    "    \n",
    "While we've covered a few different topics, we certainly haven't explored all the uses of regression; there are many STAT courses that focus solely on regression analysis, but we don't have the time to cover all that content here. If you're interested in learning more, we suggest that you do some research to expand your horizons!"
   ]
  },
  {
   "cell_type": "markdown",
   "metadata": {},
   "source": [
    "*****"
   ]
  },
  {
   "cell_type": "markdown",
   "metadata": {},
   "source": [
    "## Homework & Extension Questions: Overfitting \n",
    "In Q3.1 we see that when we add a higher order term to the model, the test performance of the model increases - but what if we keep adding higher order term? Will the test performance keep improving?\n",
    "\n",
    "Let's try to explore the relationship between test performance and order of **LotArea**.\n",
    "(**hint:** *polynomial features:https://scikit-learn.org/stable/modules/generated/sklearn.preprocessing.PolynomialFeatures.html*)\n",
    "\n",
    "what you need to do:\n",
    "- apply z-score normalisation to **LotArea** to aviod the value become too large (https://scikit-learn.org/stable/modules/generated/sklearn.preprocessing.StandardScaler.html)\n",
    "- record the train and test performances of the models starting from the SLR model (**SalePrice**=$b_0+b_1 * LotArea$) to the model with **LotArea** to the **power of 5** (**SalePrice**=$b_0+b_1 *LotArea+ ... + b_5 * LotArea^5$)\n",
    "- plot the train and test performances vs the number of order\n",
    "- explain what you see in the plot, is it expected?\n",
    "- explain which order you should use and why"
   ]
  },
  {
   "cell_type": "code",
   "execution_count": null,
   "metadata": {},
   "outputs": [],
   "source": [
    "from sklearn.preprocessing import PolynomialFeatures, StandardScaler"
   ]
  },
  {
   "cell_type": "code",
   "execution_count": null,
   "metadata": {},
   "outputs": [],
   "source": [
    "# TODO: \n"
   ]
  },
  {
   "cell_type": "markdown",
   "metadata": {},
   "source": [
    "TODO: Your explanation\n"
   ]
  },
  {
   "cell_type": "markdown",
   "metadata": {},
   "source": [
    "*****"
   ]
  }
 ],
 "metadata": {
  "kernelspec": {
   "display_name": "Python 3 (ipykernel)",
   "language": "python",
   "name": "python3"
  },
  "language_info": {
   "codemirror_mode": {
    "name": "ipython",
    "version": 3
   },
   "file_extension": ".py",
   "mimetype": "text/x-python",
   "name": "python",
   "nbconvert_exporter": "python",
   "pygments_lexer": "ipython3",
   "version": "3.8.16"
  }
 },
 "nbformat": 4,
 "nbformat_minor": 4
}
